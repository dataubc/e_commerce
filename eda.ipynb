{
 "cells": [
  {
   "cell_type": "code",
   "execution_count": 187,
   "metadata": {},
   "outputs": [],
   "source": [
    "import pandas as pd\n",
    "import matplotlib.pyplot as plt\n",
    "import seaborn as sns\n",
    "import numpy as np\n",
    "import altair as alt\n"
   ]
  },
  {
   "cell_type": "code",
   "execution_count": 258,
   "metadata": {},
   "outputs": [],
   "source": [
    "# reading the data\n",
    "data=pd.read_excel('data/Online Retail 2.xlsx',parse_dates=['InvoiceDate'])"
   ]
  },
  {
   "cell_type": "code",
   "execution_count": 5,
   "metadata": {},
   "outputs": [
    {
     "data": {
      "text/html": [
       "<div>\n",
       "<style scoped>\n",
       "    .dataframe tbody tr th:only-of-type {\n",
       "        vertical-align: middle;\n",
       "    }\n",
       "\n",
       "    .dataframe tbody tr th {\n",
       "        vertical-align: top;\n",
       "    }\n",
       "\n",
       "    .dataframe thead th {\n",
       "        text-align: right;\n",
       "    }\n",
       "</style>\n",
       "<table border=\"1\" class=\"dataframe\">\n",
       "  <thead>\n",
       "    <tr style=\"text-align: right;\">\n",
       "      <th></th>\n",
       "      <th>InvoiceNo</th>\n",
       "      <th>StockCode</th>\n",
       "      <th>Description</th>\n",
       "      <th>Quantity</th>\n",
       "      <th>InvoiceDate</th>\n",
       "      <th>UnitPrice</th>\n",
       "      <th>CustomerID</th>\n",
       "      <th>Country</th>\n",
       "    </tr>\n",
       "  </thead>\n",
       "  <tbody>\n",
       "    <tr>\n",
       "      <th>0</th>\n",
       "      <td>536365</td>\n",
       "      <td>85123A</td>\n",
       "      <td>WHITE HANGING HEART T-LIGHT HOLDER</td>\n",
       "      <td>6</td>\n",
       "      <td>2010-12-01 08:26:00</td>\n",
       "      <td>2.55</td>\n",
       "      <td>17850.0</td>\n",
       "      <td>United Kingdom</td>\n",
       "    </tr>\n",
       "    <tr>\n",
       "      <th>1</th>\n",
       "      <td>536365</td>\n",
       "      <td>71053</td>\n",
       "      <td>WHITE METAL LANTERN</td>\n",
       "      <td>6</td>\n",
       "      <td>2010-12-01 08:26:00</td>\n",
       "      <td>3.39</td>\n",
       "      <td>17850.0</td>\n",
       "      <td>United Kingdom</td>\n",
       "    </tr>\n",
       "    <tr>\n",
       "      <th>2</th>\n",
       "      <td>536365</td>\n",
       "      <td>84406B</td>\n",
       "      <td>CREAM CUPID HEARTS COAT HANGER</td>\n",
       "      <td>8</td>\n",
       "      <td>2010-12-01 08:26:00</td>\n",
       "      <td>2.75</td>\n",
       "      <td>17850.0</td>\n",
       "      <td>United Kingdom</td>\n",
       "    </tr>\n",
       "    <tr>\n",
       "      <th>3</th>\n",
       "      <td>536365</td>\n",
       "      <td>84029G</td>\n",
       "      <td>KNITTED UNION FLAG HOT WATER BOTTLE</td>\n",
       "      <td>6</td>\n",
       "      <td>2010-12-01 08:26:00</td>\n",
       "      <td>3.39</td>\n",
       "      <td>17850.0</td>\n",
       "      <td>United Kingdom</td>\n",
       "    </tr>\n",
       "    <tr>\n",
       "      <th>4</th>\n",
       "      <td>536365</td>\n",
       "      <td>84029E</td>\n",
       "      <td>RED WOOLLY HOTTIE WHITE HEART.</td>\n",
       "      <td>6</td>\n",
       "      <td>2010-12-01 08:26:00</td>\n",
       "      <td>3.39</td>\n",
       "      <td>17850.0</td>\n",
       "      <td>United Kingdom</td>\n",
       "    </tr>\n",
       "  </tbody>\n",
       "</table>\n",
       "</div>"
      ],
      "text/plain": [
       "  InvoiceNo StockCode                          Description  Quantity  \\\n",
       "0    536365    85123A   WHITE HANGING HEART T-LIGHT HOLDER         6   \n",
       "1    536365     71053                  WHITE METAL LANTERN         6   \n",
       "2    536365    84406B       CREAM CUPID HEARTS COAT HANGER         8   \n",
       "3    536365    84029G  KNITTED UNION FLAG HOT WATER BOTTLE         6   \n",
       "4    536365    84029E       RED WOOLLY HOTTIE WHITE HEART.         6   \n",
       "\n",
       "          InvoiceDate  UnitPrice  CustomerID         Country  \n",
       "0 2010-12-01 08:26:00       2.55     17850.0  United Kingdom  \n",
       "1 2010-12-01 08:26:00       3.39     17850.0  United Kingdom  \n",
       "2 2010-12-01 08:26:00       2.75     17850.0  United Kingdom  \n",
       "3 2010-12-01 08:26:00       3.39     17850.0  United Kingdom  \n",
       "4 2010-12-01 08:26:00       3.39     17850.0  United Kingdom  "
      ]
     },
     "execution_count": 5,
     "metadata": {},
     "output_type": "execute_result"
    }
   ],
   "source": [
    "data.head()"
   ]
  },
  {
   "cell_type": "code",
   "execution_count": 16,
   "metadata": {},
   "outputs": [
    {
     "name": "stdout",
     "output_type": "stream",
     "text": [
      "Dataset has 541909 rows and 8 columns. Columns are : ['InvoiceNo', 'StockCode', 'Description', 'Quantity', 'InvoiceDate', 'UnitPrice', 'CustomerID', 'Country']\n"
     ]
    }
   ],
   "source": [
    "print('Dataset has',data.shape[0],'rows and',data.shape[1],'columns. Columns are :',list(data.columns))\n",
    "print('Dataset has',data.shape[0],'rows and',data.shape[1],'columns. Columns are :',list(data.columns))"
   ]
  },
  {
   "cell_type": "code",
   "execution_count": 28,
   "metadata": {},
   "outputs": [
    {
     "name": "stdout",
     "output_type": "stream",
     "text": [
      "Total number of customers is 4373 from 38 countries. Total number of products is 4070\n"
     ]
    }
   ],
   "source": [
    "print('Total number of customers is',len(data.CustomerID.unique()),'from',len(data.Country.unique()),'countries. Total number of products is',len(data.StockCode.unique()))"
   ]
  },
  {
   "cell_type": "code",
   "execution_count": 98,
   "metadata": {},
   "outputs": [
    {
     "data": {
      "text/html": [
       "<div>\n",
       "<style scoped>\n",
       "    .dataframe tbody tr th:only-of-type {\n",
       "        vertical-align: middle;\n",
       "    }\n",
       "\n",
       "    .dataframe tbody tr th {\n",
       "        vertical-align: top;\n",
       "    }\n",
       "\n",
       "    .dataframe thead th {\n",
       "        text-align: right;\n",
       "    }\n",
       "</style>\n",
       "<table border=\"1\" class=\"dataframe\">\n",
       "  <thead>\n",
       "    <tr style=\"text-align: right;\">\n",
       "      <th></th>\n",
       "      <th>Quantity</th>\n",
       "      <th>UnitPrice</th>\n",
       "      <th>CustomerID</th>\n",
       "    </tr>\n",
       "  </thead>\n",
       "  <tbody>\n",
       "    <tr>\n",
       "      <th>count</th>\n",
       "      <td>541909.000000</td>\n",
       "      <td>541909.000000</td>\n",
       "      <td>406829.000000</td>\n",
       "    </tr>\n",
       "    <tr>\n",
       "      <th>mean</th>\n",
       "      <td>9.552250</td>\n",
       "      <td>4.611114</td>\n",
       "      <td>15287.690570</td>\n",
       "    </tr>\n",
       "    <tr>\n",
       "      <th>std</th>\n",
       "      <td>218.081158</td>\n",
       "      <td>96.759853</td>\n",
       "      <td>1713.600303</td>\n",
       "    </tr>\n",
       "    <tr>\n",
       "      <th>min</th>\n",
       "      <td>-80995.000000</td>\n",
       "      <td>-11062.060000</td>\n",
       "      <td>12346.000000</td>\n",
       "    </tr>\n",
       "    <tr>\n",
       "      <th>25%</th>\n",
       "      <td>1.000000</td>\n",
       "      <td>1.250000</td>\n",
       "      <td>13953.000000</td>\n",
       "    </tr>\n",
       "    <tr>\n",
       "      <th>50%</th>\n",
       "      <td>3.000000</td>\n",
       "      <td>2.080000</td>\n",
       "      <td>15152.000000</td>\n",
       "    </tr>\n",
       "    <tr>\n",
       "      <th>75%</th>\n",
       "      <td>10.000000</td>\n",
       "      <td>4.130000</td>\n",
       "      <td>16791.000000</td>\n",
       "    </tr>\n",
       "    <tr>\n",
       "      <th>max</th>\n",
       "      <td>80995.000000</td>\n",
       "      <td>38970.000000</td>\n",
       "      <td>18287.000000</td>\n",
       "    </tr>\n",
       "  </tbody>\n",
       "</table>\n",
       "</div>"
      ],
      "text/plain": [
       "            Quantity      UnitPrice     CustomerID\n",
       "count  541909.000000  541909.000000  406829.000000\n",
       "mean        9.552250       4.611114   15287.690570\n",
       "std       218.081158      96.759853    1713.600303\n",
       "min    -80995.000000  -11062.060000   12346.000000\n",
       "25%         1.000000       1.250000   13953.000000\n",
       "50%         3.000000       2.080000   15152.000000\n",
       "75%        10.000000       4.130000   16791.000000\n",
       "max     80995.000000   38970.000000   18287.000000"
      ]
     },
     "execution_count": 98,
     "metadata": {},
     "output_type": "execute_result"
    }
   ],
   "source": [
    "data.describe()"
   ]
  },
  {
   "cell_type": "code",
   "execution_count": 104,
   "metadata": {},
   "outputs": [
    {
     "data": {
      "text/plain": [
       "InvoiceNo           0\n",
       "StockCode           0\n",
       "Description      1454\n",
       "Quantity            0\n",
       "InvoiceDate         0\n",
       "UnitPrice           0\n",
       "CustomerID     135080\n",
       "Country             0\n",
       "dtype: int64"
      ]
     },
     "execution_count": 104,
     "metadata": {},
     "output_type": "execute_result"
    }
   ],
   "source": [
    "data.isna().sum()"
   ]
  },
  {
   "cell_type": "code",
   "execution_count": 105,
   "metadata": {},
   "outputs": [],
   "source": [
    "data=data.dropna()"
   ]
  },
  {
   "cell_type": "code",
   "execution_count": 224,
   "metadata": {},
   "outputs": [
    {
     "data": {
      "text/html": [
       "<div>\n",
       "<style scoped>\n",
       "    .dataframe tbody tr th:only-of-type {\n",
       "        vertical-align: middle;\n",
       "    }\n",
       "\n",
       "    .dataframe tbody tr th {\n",
       "        vertical-align: top;\n",
       "    }\n",
       "\n",
       "    .dataframe thead th {\n",
       "        text-align: right;\n",
       "    }\n",
       "</style>\n",
       "<table border=\"1\" class=\"dataframe\">\n",
       "  <thead>\n",
       "    <tr style=\"text-align: right;\">\n",
       "      <th></th>\n",
       "      <th>Quantity</th>\n",
       "      <th>UnitPrice</th>\n",
       "      <th>CustomerID</th>\n",
       "    </tr>\n",
       "  </thead>\n",
       "  <tbody>\n",
       "    <tr>\n",
       "      <th>count</th>\n",
       "      <td>397884.000000</td>\n",
       "      <td>397884.000000</td>\n",
       "      <td>397884.000000</td>\n",
       "    </tr>\n",
       "    <tr>\n",
       "      <th>mean</th>\n",
       "      <td>12.988238</td>\n",
       "      <td>3.116488</td>\n",
       "      <td>15294.423453</td>\n",
       "    </tr>\n",
       "    <tr>\n",
       "      <th>std</th>\n",
       "      <td>179.331775</td>\n",
       "      <td>22.097877</td>\n",
       "      <td>1713.141560</td>\n",
       "    </tr>\n",
       "    <tr>\n",
       "      <th>min</th>\n",
       "      <td>1.000000</td>\n",
       "      <td>0.001000</td>\n",
       "      <td>12346.000000</td>\n",
       "    </tr>\n",
       "    <tr>\n",
       "      <th>25%</th>\n",
       "      <td>2.000000</td>\n",
       "      <td>1.250000</td>\n",
       "      <td>13969.000000</td>\n",
       "    </tr>\n",
       "    <tr>\n",
       "      <th>50%</th>\n",
       "      <td>6.000000</td>\n",
       "      <td>1.950000</td>\n",
       "      <td>15159.000000</td>\n",
       "    </tr>\n",
       "    <tr>\n",
       "      <th>75%</th>\n",
       "      <td>12.000000</td>\n",
       "      <td>3.750000</td>\n",
       "      <td>16795.000000</td>\n",
       "    </tr>\n",
       "    <tr>\n",
       "      <th>max</th>\n",
       "      <td>80995.000000</td>\n",
       "      <td>8142.750000</td>\n",
       "      <td>18287.000000</td>\n",
       "    </tr>\n",
       "  </tbody>\n",
       "</table>\n",
       "</div>"
      ],
      "text/plain": [
       "            Quantity      UnitPrice     CustomerID\n",
       "count  397884.000000  397884.000000  397884.000000\n",
       "mean       12.988238       3.116488   15294.423453\n",
       "std       179.331775      22.097877    1713.141560\n",
       "min         1.000000       0.001000   12346.000000\n",
       "25%         2.000000       1.250000   13969.000000\n",
       "50%         6.000000       1.950000   15159.000000\n",
       "75%        12.000000       3.750000   16795.000000\n",
       "max     80995.000000    8142.750000   18287.000000"
      ]
     },
     "execution_count": 224,
     "metadata": {},
     "output_type": "execute_result"
    }
   ],
   "source": [
    "data=data[(data.Quantity>0) & (data.UnitPrice>0)]\n",
    "data.describe()"
   ]
  },
  {
   "cell_type": "markdown",
   "metadata": {},
   "source": [
    "# Most sold items"
   ]
  },
  {
   "cell_type": "code",
   "execution_count": 239,
   "metadata": {},
   "outputs": [
    {
     "data": {
      "text/html": [
       "<div>\n",
       "<style scoped>\n",
       "    .dataframe tbody tr th:only-of-type {\n",
       "        vertical-align: middle;\n",
       "    }\n",
       "\n",
       "    .dataframe tbody tr th {\n",
       "        vertical-align: top;\n",
       "    }\n",
       "\n",
       "    .dataframe thead th {\n",
       "        text-align: right;\n",
       "    }\n",
       "</style>\n",
       "<table border=\"1\" class=\"dataframe\">\n",
       "  <thead>\n",
       "    <tr style=\"text-align: right;\">\n",
       "      <th></th>\n",
       "      <th>StockCode</th>\n",
       "      <th>Quantity</th>\n",
       "    </tr>\n",
       "  </thead>\n",
       "  <tbody>\n",
       "    <tr>\n",
       "      <th>2329</th>\n",
       "      <td>23843</td>\n",
       "      <td>80995</td>\n",
       "    </tr>\n",
       "    <tr>\n",
       "      <th>1927</th>\n",
       "      <td>23166</td>\n",
       "      <td>77916</td>\n",
       "    </tr>\n",
       "    <tr>\n",
       "      <th>2499</th>\n",
       "      <td>84077</td>\n",
       "      <td>54415</td>\n",
       "    </tr>\n",
       "    <tr>\n",
       "      <th>1018</th>\n",
       "      <td>22197</td>\n",
       "      <td>49183</td>\n",
       "    </tr>\n",
       "    <tr>\n",
       "      <th>3343</th>\n",
       "      <td>85099B</td>\n",
       "      <td>46181</td>\n",
       "    </tr>\n",
       "  </tbody>\n",
       "</table>\n",
       "</div>"
      ],
      "text/plain": [
       "     StockCode  Quantity\n",
       "2329     23843     80995\n",
       "1927     23166     77916\n",
       "2499     84077     54415\n",
       "1018     22197     49183\n",
       "3343    85099B     46181"
      ]
     },
     "execution_count": 239,
     "metadata": {},
     "output_type": "execute_result"
    }
   ],
   "source": [
    "most_common_dsc= data.groupby('StockCode').agg({'Quantity':'sum'}).reset_index().sort_values('Quantity',ascending=False).head(5)\n",
    "most_common_dsc"
   ]
  },
  {
   "cell_type": "code",
   "execution_count": 240,
   "metadata": {},
   "outputs": [],
   "source": [
    "first=most_common_dsc.StockCode.iloc[0]\n",
    "second=most_common_dsc.StockCode.iloc[1]\n",
    "third=most_common_dsc.StockCode.iloc[2]"
   ]
  },
  {
   "cell_type": "code",
   "execution_count": 241,
   "metadata": {},
   "outputs": [],
   "source": [
    "# Let us check the descriptions of these items"
   ]
  },
  {
   "cell_type": "code",
   "execution_count": 242,
   "metadata": {},
   "outputs": [
    {
     "name": "stdout",
     "output_type": "stream",
     "text": [
      "The most sold items is  PAPER CRAFT , LITTLE BIRDIE\n",
      "The second most sold items is  MEDIUM CERAMIC TOP STORAGE JAR\n",
      "The third most sold items is  WORLD WAR 2 GLIDERS ASSTD DESIGNS\n"
     ]
    }
   ],
   "source": [
    "# top items :\n",
    "print('The most sold items is ',list(data[data.StockCode==first].Description.unique())[0])\n",
    "print('The second most sold items is ',list(data[data.StockCode==second].Description.unique())[0])\n",
    "print('The third most sold items is ',list(data[data.StockCode==third].Description.unique())[0])"
   ]
  },
  {
   "cell_type": "markdown",
   "metadata": {},
   "source": [
    "# Most expenisve items"
   ]
  },
  {
   "cell_type": "code",
   "execution_count": 243,
   "metadata": {},
   "outputs": [
    {
     "data": {
      "text/html": [
       "<div>\n",
       "<style scoped>\n",
       "    .dataframe tbody tr th:only-of-type {\n",
       "        vertical-align: middle;\n",
       "    }\n",
       "\n",
       "    .dataframe tbody tr th {\n",
       "        vertical-align: top;\n",
       "    }\n",
       "\n",
       "    .dataframe thead th {\n",
       "        text-align: right;\n",
       "    }\n",
       "</style>\n",
       "<table border=\"1\" class=\"dataframe\">\n",
       "  <thead>\n",
       "    <tr style=\"text-align: right;\">\n",
       "      <th></th>\n",
       "      <th>StockCode</th>\n",
       "      <th>UnitPrice</th>\n",
       "    </tr>\n",
       "  </thead>\n",
       "  <tbody>\n",
       "    <tr>\n",
       "      <th>3664</th>\n",
       "      <td>POST</td>\n",
       "      <td>8142.75</td>\n",
       "    </tr>\n",
       "    <tr>\n",
       "      <th>3662</th>\n",
       "      <td>M</td>\n",
       "      <td>4161.06</td>\n",
       "    </tr>\n",
       "    <tr>\n",
       "      <th>3661</th>\n",
       "      <td>DOT</td>\n",
       "      <td>1599.26</td>\n",
       "    </tr>\n",
       "    <tr>\n",
       "      <th>1292</th>\n",
       "      <td>22502</td>\n",
       "      <td>649.50</td>\n",
       "    </tr>\n",
       "    <tr>\n",
       "      <th>1438</th>\n",
       "      <td>22656</td>\n",
       "      <td>295.00</td>\n",
       "    </tr>\n",
       "  </tbody>\n",
       "</table>\n",
       "</div>"
      ],
      "text/plain": [
       "     StockCode  UnitPrice\n",
       "3664      POST    8142.75\n",
       "3662         M    4161.06\n",
       "3661       DOT    1599.26\n",
       "1292     22502     649.50\n",
       "1438     22656     295.00"
      ]
     },
     "execution_count": 243,
     "metadata": {},
     "output_type": "execute_result"
    }
   ],
   "source": [
    "most_exp_dsc= data.groupby('StockCode').agg({'UnitPrice':'max'}).reset_index().sort_values('UnitPrice',ascending=False).head(5)\n",
    "most_exp_dsc"
   ]
  },
  {
   "cell_type": "code",
   "execution_count": 244,
   "metadata": {},
   "outputs": [],
   "source": [
    "first_exp=most_exp_dsc.StockCode.iloc[0]\n",
    "second_exp=most_exp_dsc.StockCode.iloc[1]\n",
    "third_exp=most_exp_dsc.StockCode.iloc[2]"
   ]
  },
  {
   "cell_type": "code",
   "execution_count": 245,
   "metadata": {},
   "outputs": [
    {
     "name": "stdout",
     "output_type": "stream",
     "text": [
      "The most expensive items is  POSTAGE\n",
      "The second most expensive items is  Manual\n",
      "The third most expensiveitems is  DOTCOM POSTAGE\n"
     ]
    }
   ],
   "source": [
    "# top items :\n",
    "print('The most expensive items is ',list(data[data.StockCode==first_exp].Description.unique())[0])\n",
    "print('The second most expensive items is ',list(data[data.StockCode==second_exp].Description.unique())[0])\n",
    "print('The third most expensiveitems is ',list(data[data.StockCode==third_exp].Description.unique())[0])"
   ]
  },
  {
   "cell_type": "code",
   "execution_count": 246,
   "metadata": {},
   "outputs": [
    {
     "data": {
      "image/png": "[encoded data removed]",
      "text/plain": [
       "<Figure size 432x288 with 1 Axes>"
      ]
     },
     "metadata": {
      "needs_background": "light"
     },
     "output_type": "display_data"
    }
   ],
   "source": [
    "data.StockCode.value_counts(ascending=False)[1:10].plot(title='The count of the top items',kind='bar');"
   ]
  },
  {
   "cell_type": "markdown",
   "metadata": {},
   "source": [
    "# Countries with most the sold quantities"
   ]
  },
  {
   "cell_type": "code",
   "execution_count": 247,
   "metadata": {},
   "outputs": [
    {
     "data": {
      "image/png": "[encoded data removed]",
      "text/plain": [
       "<Figure size 432x288 with 1 Axes>"
      ]
     },
     "metadata": {
      "needs_background": "light"
     },
     "output_type": "display_data"
    }
   ],
   "source": [
    "data.groupby('Country').agg({'Quantity':'sum'}).reset_index().sort_values('Quantity',ascending=False).head(5).set_index(\n",
    "    'Country').plot(title='Countries with most the sold quantities',kind='bar');"
   ]
  },
  {
   "cell_type": "code",
   "execution_count": 255,
   "metadata": {},
   "outputs": [],
   "source": [
    "post_data = data[data.StockCode.isin(['POST','DOT','M'])]"
   ]
  },
  {
   "cell_type": "code",
   "execution_count": 256,
   "metadata": {},
   "outputs": [],
   "source": [
    "chart1 = alt.Chart(post_data, title='How price of the most expensive items is changing over time').mark_line().encode(\n",
    "    x='InvoiceDate:T',\n",
    "    y='UnitPrice:Q',\n",
    "    color='StockCode:N'\n",
    ").properties(\n",
    "    height=500,\n",
    "    width=500\n",
    ")"
   ]
  },
  {
   "cell_type": "code",
   "execution_count": 257,
   "metadata": {},
   "outputs": [
    {
     "data": {
      "application/vnd.vegalite.v3+json": {
       "$schema": "https://vega.github.io/schema/vega-lite/v3.4.0.json",
       "config": {
        "mark": {
         "tooltip": null
        },
        "view": {
         "height": 300,
         "width": 400
        }
       },
       "data": {
        "name": "data-131b25060c41a58ee9aa819d484597fb"
       },
       "datasets": {
        "data-131b25060c41a58ee9aa819d484597fb": [
         {
          "Country": "France",
          "CustomerID": 12583,
          "Description": "POSTAGE",
          "InvoiceDate": "2010-12-01T08:45:00",
          "InvoiceNo": 536370,
          "Quantity": 3,
          "StockCode": "POST",
          "UnitPrice": 18
         },
         {
          "Country": "Netherlands",
          "CustomerID": 12791,
          "Description": "POSTAGE",
          "InvoiceDate": "2010-12-01T11:27:00",
          "InvoiceNo": 536403,
          "Quantity": 1,
          "StockCode": "POST",
          "UnitPrice": 15
         },
         {
          "Country": "Germany",
          "CustomerID": 12662,
          "Description": "POSTAGE",
          "InvoiceDate": "2010-12-01T13:04:00",
          "InvoiceNo": 536527,
          "Quantity": 1,
          "StockCode": "POST",
          "UnitPrice": 18
         },
         {
          "Country": "United Kingdom",
          "CustomerID": 16274,
          "Description": "Manual",
          "InvoiceDate": "2010-12-01T15:35:00",
          "InvoiceNo": 536569,
          "Quantity": 1,
          "StockCode": "M",
          "UnitPrice": 1.25
         },
         {
          "Country": "United Kingdom",
          "CustomerID": 16274,
          "Description": "Manual",
          "InvoiceDate": "2010-12-01T15:35:00",
          "InvoiceNo": 536569,
          "Quantity": 1,
          "StockCode": "M",
          "UnitPrice": 18.95
         },
         {
          "Country": "Germany",
          "CustomerID": 12738,
          "Description": "POSTAGE",
          "InvoiceDate": "2010-12-02T18:27:00",
          "InvoiceNo": 536840,
          "Quantity": 1,
          "StockCode": "POST",
          "UnitPrice": 18
         },
         {
          "Country": "France",
          "CustomerID": 12686,
          "Description": "POSTAGE",
          "InvoiceDate": "2010-12-03T09:51:00",
          "InvoiceNo": 536852,
          "Quantity": 1,
          "StockCode": "POST",
          "UnitPrice": 18
         },
         {
          "Country": "Switzerland",
          "CustomerID": 13520,
          "Description": "POSTAGE",
          "InvoiceDate": "2010-12-03T10:36:00",
          "InvoiceNo": 536858,
          "Quantity": 2,
          "StockCode": "POST",
          "UnitPrice": 40
         },
         {
          "Country": "Germany",
          "CustomerID": 12427,
          "Description": "POSTAGE",
          "InvoiceDate": "2010-12-03T10:44:00",
          "InvoiceNo": 536861,
          "Quantity": 3,
          "StockCode": "POST",
          "UnitPrice": 18
         },
         {
          "Country": "Germany",
          "CustomerID": 12600,
          "Description": "POSTAGE",
          "InvoiceDate": "2010-12-03T12:57:00",
          "InvoiceNo": 536967,
          "Quantity": 1,
          "StockCode": "POST",
          "UnitPrice": 18
         },
         {
          "Country": "France",
          "CustomerID": 12682,
          "Description": "POSTAGE",
          "InvoiceDate": "2010-12-03T13:59:00",
          "InvoiceNo": 536974,
          "Quantity": 2,
          "StockCode": "POST",
          "UnitPrice": 18
         },
         {
          "Country": "United Kingdom",
          "CustomerID": 14723,
          "Description": "Manual",
          "InvoiceDate": "2010-12-03T14:26:00",
          "InvoiceNo": 536981,
          "Quantity": 2,
          "StockCode": "M",
          "UnitPrice": 0.85
         },
         {
          "Country": "Germany",
          "CustomerID": 12712,
          "Description": "POSTAGE",
          "InvoiceDate": "2010-12-03T14:30:00",
          "InvoiceNo": 536983,
          "Quantity": 1,
          "StockCode": "POST",
          "UnitPrice": 18
         },
         {
          "Country": "Portugal",
          "CustomerID": 12793,
          "Description": "POSTAGE",
          "InvoiceDate": "2010-12-03T15:14:00",
          "InvoiceNo": 536990,
          "Quantity": 1,
          "StockCode": "POST",
          "UnitPrice": 28
         },
         {
          "Country": "Italy",
          "CustomerID": 12725,
          "Description": "POSTAGE",
          "InvoiceDate": "2010-12-03T15:45:00",
          "InvoiceNo": 537022,
          "Quantity": 2,
          "StockCode": "POST",
          "UnitPrice": 28
         },
         {
          "Country": "Belgium",
          "CustomerID": 12395,
          "Description": "POSTAGE",
          "InvoiceDate": "2010-12-03T16:35:00",
          "InvoiceNo": 537026,
          "Quantity": 2,
          "StockCode": "POST",
          "UnitPrice": 18
         },
         {
          "Country": "France",
          "CustomerID": 12567,
          "Description": "POSTAGE",
          "InvoiceDate": "2010-12-05T11:57:00",
          "InvoiceNo": 537065,
          "Quantity": 9,
          "StockCode": "POST",
          "UnitPrice": 18
         },
         {
          "Country": "United Kingdom",
          "CustomerID": 17062,
          "Description": "Manual",
          "InvoiceDate": "2010-12-05T11:59:00",
          "InvoiceNo": 537077,
          "Quantity": 12,
          "StockCode": "M",
          "UnitPrice": 0.42
         },
         {
          "Country": "United Kingdom",
          "CustomerID": 16327,
          "Description": "Manual",
          "InvoiceDate": "2010-12-05T12:43:00",
          "InvoiceNo": 537137,
          "Quantity": 36,
          "StockCode": "M",
          "UnitPrice": 0.85
         },
         {
          "Country": "United Kingdom",
          "CustomerID": 12748,
          "Description": "Manual",
          "InvoiceDate": "2010-12-05T12:53:00",
          "InvoiceNo": 537140,
          "Quantity": 1,
          "StockCode": "M",
          "UnitPrice": 0.42
         },
         {
          "Country": "United Kingdom",
          "CustomerID": 12748,
          "Description": "Manual",
          "InvoiceDate": "2010-12-05T12:53:00",
          "InvoiceNo": 537140,
          "Quantity": 1,
          "StockCode": "M",
          "UnitPrice": 0.85
         },
         {
          "Country": "Germany",
          "CustomerID": 12647,
          "Description": "POSTAGE",
          "InvoiceDate": "2010-12-05T14:02:00",
          "InvoiceNo": 537197,
          "Quantity": 3,
          "StockCode": "POST",
          "UnitPrice": 18
         },
         {
          "Country": "Germany",
          "CustomerID": 12647,
          "Description": "POSTAGE",
          "InvoiceDate": "2010-12-05T14:03:00",
          "InvoiceNo": 537198,
          "Quantity": 1,
          "StockCode": "POST",
          "UnitPrice": 18
         },
         {
          "Country": "United Kingdom",
          "CustomerID": 15894,
          "Description": "Manual",
          "InvoiceDate": "2010-12-05T14:06:00",
          "InvoiceNo": 537199,
          "Quantity": 1,
          "StockCode": "M",
          "UnitPrice": 0.65
         },
         {
          "Country": "Germany",
          "CustomerID": 12472,
          "Description": "POSTAGE",
          "InvoiceDate": "2010-12-05T14:19:00",
          "InvoiceNo": 537201,
          "Quantity": 6,
          "StockCode": "POST",
          "UnitPrice": 18
         },
         {
          "Country": "United Kingdom",
          "CustomerID": 15889,
          "Description": "Manual",
          "InvoiceDate": "2010-12-05T15:12:00",
          "InvoiceNo": 537208,
          "Quantity": 4,
          "StockCode": "M",
          "UnitPrice": 0.85
         },
         {
          "Country": "Germany",
          "CustomerID": 12720,
          "Description": "POSTAGE",
          "InvoiceDate": "2010-12-05T15:21:00",
          "InvoiceNo": 537212,
          "Quantity": 4,
          "StockCode": "POST",
          "UnitPrice": 18
         },
         {
          "Country": "United Kingdom",
          "CustomerID": 12748,
          "Description": "Manual",
          "InvoiceDate": "2010-12-05T16:41:00",
          "InvoiceNo": 537225,
          "Quantity": 1,
          "StockCode": "M",
          "UnitPrice": 1
         },
         {
          "Country": "Portugal",
          "CustomerID": 12808,
          "Description": "POSTAGE",
          "InvoiceDate": "2010-12-06T10:27:00",
          "InvoiceNo": 537246,
          "Quantity": 1,
          "StockCode": "POST",
          "UnitPrice": 28
         },
         {
          "Country": "Germany",
          "CustomerID": 12708,
          "Description": "POSTAGE",
          "InvoiceDate": "2010-12-06T10:43:00",
          "InvoiceNo": 537250,
          "Quantity": 1,
          "StockCode": "POST",
          "UnitPrice": 18
         },
         {
          "Country": "United Kingdom",
          "CustomerID": 15882,
          "Description": "Manual",
          "InvoiceDate": "2010-12-06T13:01:00",
          "InvoiceNo": 537377,
          "Quantity": 12,
          "StockCode": "M",
          "UnitPrice": 0.19
         },
         {
          "Country": "United Kingdom",
          "CustomerID": 17068,
          "Description": "Manual",
          "InvoiceDate": "2010-12-06T13:58:00",
          "InvoiceNo": 537392,
          "Quantity": 5,
          "StockCode": "M",
          "UnitPrice": 1.25
         },
         {
          "Country": "United Kingdom",
          "CustomerID": 17223,
          "Description": "Manual",
          "InvoiceDate": "2010-12-06T14:08:00",
          "InvoiceNo": 537396,
          "Quantity": 1,
          "StockCode": "M",
          "UnitPrice": 35
         },
         {
          "Country": "United Kingdom",
          "CustomerID": 17920,
          "Description": "Manual",
          "InvoiceDate": "2010-12-06T16:58:00",
          "InvoiceNo": 537435,
          "Quantity": 2,
          "StockCode": "M",
          "UnitPrice": 5.95
         },
         {
          "Country": "France",
          "CustomerID": 12681,
          "Description": "POSTAGE",
          "InvoiceDate": "2010-12-07T10:08:00",
          "InvoiceNo": 537463,
          "Quantity": 4,
          "StockCode": "POST",
          "UnitPrice": 18
         },
         {
          "Country": "France",
          "CustomerID": 12567,
          "Description": "POSTAGE",
          "InvoiceDate": "2010-12-07T10:36:00",
          "InvoiceNo": 537468,
          "Quantity": 3,
          "StockCode": "POST",
          "UnitPrice": 18
         },
         {
          "Country": "Germany",
          "CustomerID": 12647,
          "Description": "POSTAGE",
          "InvoiceDate": "2010-12-07T12:28:00",
          "InvoiceNo": 537594,
          "Quantity": 5,
          "StockCode": "POST",
          "UnitPrice": 18
         },
         {
          "Country": "Germany",
          "CustomerID": 12709,
          "Description": "POSTAGE",
          "InvoiceDate": "2010-12-08T09:49:00",
          "InvoiceNo": 537673,
          "Quantity": 7,
          "StockCode": "POST",
          "UnitPrice": 18
         },
         {
          "Country": "France",
          "CustomerID": 12441,
          "Description": "POSTAGE",
          "InvoiceDate": "2010-12-08T10:45:00",
          "InvoiceNo": 537693,
          "Quantity": 1,
          "StockCode": "POST",
          "UnitPrice": 18
         },
         {
          "Country": "United Kingdom",
          "CustomerID": 12748,
          "Description": "Manual",
          "InvoiceDate": "2010-12-08T13:08:00",
          "InvoiceNo": 537800,
          "Quantity": 12,
          "StockCode": "M",
          "UnitPrice": 0.19
         },
         {
          "Country": "United Kingdom",
          "CustomerID": 12748,
          "Description": "Manual",
          "InvoiceDate": "2010-12-08T13:17:00",
          "InvoiceNo": 537804,
          "Quantity": 12,
          "StockCode": "M",
          "UnitPrice": 2.95
         },
         {
          "Country": "United Kingdom",
          "CustomerID": 12748,
          "Description": "Manual",
          "InvoiceDate": "2010-12-08T13:17:00",
          "InvoiceNo": 537804,
          "Quantity": 12,
          "StockCode": "M",
          "UnitPrice": 0.19
         },
         {
          "Country": "Portugal",
          "CustomerID": 12766,
          "Description": "POSTAGE",
          "InvoiceDate": "2010-12-08T13:53:00",
          "InvoiceNo": 537818,
          "Quantity": 6,
          "StockCode": "POST",
          "UnitPrice": 28
         },
         {
          "Country": "Germany",
          "CustomerID": 12481,
          "Description": "POSTAGE",
          "InvoiceDate": "2010-12-09T10:13:00",
          "InvoiceNo": 537892,
          "Quantity": 1,
          "StockCode": "POST",
          "UnitPrice": 18
         },
         {
          "Country": "Germany",
          "CustomerID": 12621,
          "Description": "POSTAGE",
          "InvoiceDate": "2010-12-09T10:16:00",
          "InvoiceNo": 537894,
          "Quantity": 2,
          "StockCode": "POST",
          "UnitPrice": 18
         },
         {
          "Country": "France",
          "CustomerID": 12683,
          "Description": "POSTAGE",
          "InvoiceDate": "2010-12-09T10:37:00",
          "InvoiceNo": 537897,
          "Quantity": 1,
          "StockCode": "POST",
          "UnitPrice": 18
         },
         {
          "Country": "Portugal",
          "CustomerID": 12797,
          "Description": "POSTAGE",
          "InvoiceDate": "2010-12-09T10:55:00",
          "InvoiceNo": 537915,
          "Quantity": 1,
          "StockCode": "POST",
          "UnitPrice": 28
         },
         {
          "Country": "France",
          "CustomerID": 12494,
          "Description": "POSTAGE",
          "InvoiceDate": "2010-12-09T11:31:00",
          "InvoiceNo": 537967,
          "Quantity": 1,
          "StockCode": "POST",
          "UnitPrice": 18
         },
         {
          "Country": "Germany",
          "CustomerID": 12712,
          "Description": "POSTAGE",
          "InvoiceDate": "2010-12-09T11:39:00",
          "InvoiceNo": 537995,
          "Quantity": 2,
          "StockCode": "POST",
          "UnitPrice": 18
         },
         {
          "Country": "Denmark",
          "CustomerID": 12429,
          "Description": "POSTAGE",
          "InvoiceDate": "2010-12-09T12:05:00",
          "InvoiceNo": 538003,
          "Quantity": 8,
          "StockCode": "POST",
          "UnitPrice": 18
         },
         {
          "Country": "France",
          "CustomerID": 12683,
          "Description": "POSTAGE",
          "InvoiceDate": "2010-12-09T12:17:00",
          "InvoiceNo": 538008,
          "Quantity": 5,
          "StockCode": "POST",
          "UnitPrice": 18
         },
         {
          "Country": "France",
          "CustomerID": 12682,
          "Description": "POSTAGE",
          "InvoiceDate": "2010-12-09T14:49:00",
          "InvoiceNo": 538093,
          "Quantity": 5,
          "StockCode": "POST",
          "UnitPrice": 18
         },
         {
          "Country": "United Kingdom",
          "CustomerID": 13090,
          "Description": "Manual",
          "InvoiceDate": "2010-12-09T16:11:00",
          "InvoiceNo": 538147,
          "Quantity": 1,
          "StockCode": "M",
          "UnitPrice": 15
         },
         {
          "Country": "Germany",
          "CustomerID": 12471,
          "Description": "POSTAGE",
          "InvoiceDate": "2010-12-10T09:48:00",
          "InvoiceNo": 538175,
          "Quantity": 21,
          "StockCode": "POST",
          "UnitPrice": 18
         },
         {
          "Country": "France",
          "CustomerID": 12731,
          "Description": "POSTAGE",
          "InvoiceDate": "2010-12-10T10:56:00",
          "InvoiceNo": 538196,
          "Quantity": 8,
          "StockCode": "POST",
          "UnitPrice": 18
         },
         {
          "Country": "Portugal",
          "CustomerID": 12785,
          "Description": "POSTAGE",
          "InvoiceDate": "2010-12-10T13:48:00",
          "InvoiceNo": 538311,
          "Quantity": 2,
          "StockCode": "POST",
          "UnitPrice": 28
         },
         {
          "Country": "Spain",
          "CustomerID": 12540,
          "Description": "POSTAGE",
          "InvoiceDate": "2010-12-13T09:39:00",
          "InvoiceNo": 538525,
          "Quantity": 5,
          "StockCode": "POST",
          "UnitPrice": 28
         },
         {
          "Country": "United Kingdom",
          "CustomerID": 15555,
          "Description": "Manual",
          "InvoiceDate": "2010-12-13T12:26:00",
          "InvoiceNo": 538597,
          "Quantity": 1,
          "StockCode": "M",
          "UnitPrice": 1.25
         },
         {
          "Country": "United Kingdom",
          "CustomerID": 15694,
          "Description": "POSTAGE",
          "InvoiceDate": "2010-12-14T09:39:00",
          "InvoiceNo": 538685,
          "Quantity": 1,
          "StockCode": "POST",
          "UnitPrice": 15
         },
         {
          "Country": "United Kingdom",
          "CustomerID": 17894,
          "Description": "Manual",
          "InvoiceDate": "2010-12-14T10:38:00",
          "InvoiceNo": 538707,
          "Quantity": 2,
          "StockCode": "M",
          "UnitPrice": 0.21
         },
         {
          "Country": "United Kingdom",
          "CustomerID": 17194,
          "Description": "Manual",
          "InvoiceDate": "2010-12-14T12:06:00",
          "InvoiceNo": 538807,
          "Quantity": 4,
          "StockCode": "M",
          "UnitPrice": 0.21
         },
         {
          "Country": "United Kingdom",
          "CustomerID": 17194,
          "Description": "Manual",
          "InvoiceDate": "2010-12-14T12:06:00",
          "InvoiceNo": 538807,
          "Quantity": 1,
          "StockCode": "M",
          "UnitPrice": 20
         },
         {
          "Country": "United Kingdom",
          "CustomerID": 17194,
          "Description": "Manual",
          "InvoiceDate": "2010-12-14T12:06:00",
          "InvoiceNo": 538807,
          "Quantity": 1,
          "StockCode": "M",
          "UnitPrice": 5
         },
         {
          "Country": "United Kingdom",
          "CustomerID": 17692,
          "Description": "Manual",
          "InvoiceDate": "2010-12-15T13:37:00",
          "InvoiceNo": 539014,
          "Quantity": 48,
          "StockCode": "M",
          "UnitPrice": 0.32
         },
         {
          "Country": "United Kingdom",
          "CustomerID": 16725,
          "Description": "Manual",
          "InvoiceDate": "2010-12-15T16:38:00",
          "InvoiceNo": 539056,
          "Quantity": 1,
          "StockCode": "M",
          "UnitPrice": 1.45
         },
         {
          "Country": "United Kingdom",
          "CustomerID": 17392,
          "Description": "Manual",
          "InvoiceDate": "2010-12-16T19:04:00",
          "InvoiceNo": 539317,
          "Quantity": 2,
          "StockCode": "M",
          "UnitPrice": 3
         },
         {
          "Country": "Finland",
          "CustomerID": 12348,
          "Description": "POSTAGE",
          "InvoiceDate": "2010-12-16T19:09:00",
          "InvoiceNo": 539318,
          "Quantity": 6,
          "StockCode": "POST",
          "UnitPrice": 40
         },
         {
          "Country": "Germany",
          "CustomerID": 12600,
          "Description": "POSTAGE",
          "InvoiceDate": "2010-12-17T09:24:00",
          "InvoiceNo": 539327,
          "Quantity": 1,
          "StockCode": "POST",
          "UnitPrice": 18
         },
         {
          "Country": "Austria",
          "CustomerID": 12370,
          "Description": "POSTAGE",
          "InvoiceDate": "2010-12-17T09:38:00",
          "InvoiceNo": 539330,
          "Quantity": 3,
          "StockCode": "POST",
          "UnitPrice": 40
         },
         {
          "Country": "Portugal",
          "CustomerID": 12782,
          "Description": "POSTAGE",
          "InvoiceDate": "2010-12-17T11:30:00",
          "InvoiceNo": 539353,
          "Quantity": 3,
          "StockCode": "POST",
          "UnitPrice": 28
         },
         {
          "Country": "Belgium",
          "CustomerID": 12417,
          "Description": "POSTAGE",
          "InvoiceDate": "2010-12-17T11:51:00",
          "InvoiceNo": 539391,
          "Quantity": 2,
          "StockCode": "POST",
          "UnitPrice": 15
         },
         {
          "Country": "Germany",
          "CustomerID": 12471,
          "Description": "POSTAGE",
          "InvoiceDate": "2010-12-17T11:52:00",
          "InvoiceNo": 539395,
          "Quantity": 11,
          "StockCode": "POST",
          "UnitPrice": 18
         },
         {
          "Country": "Germany",
          "CustomerID": 12647,
          "Description": "POSTAGE",
          "InvoiceDate": "2010-12-17T12:21:00",
          "InvoiceNo": 539403,
          "Quantity": 2,
          "StockCode": "POST",
          "UnitPrice": 18
         },
         {
          "Country": "Germany",
          "CustomerID": 12621,
          "Description": "POSTAGE",
          "InvoiceDate": "2010-12-17T12:38:00",
          "InvoiceNo": 539405,
          "Quantity": 6,
          "StockCode": "POST",
          "UnitPrice": 18
         },
         {
          "Country": "France",
          "CustomerID": 12726,
          "Description": "POSTAGE",
          "InvoiceDate": "2010-12-17T12:56:00",
          "InvoiceNo": 539407,
          "Quantity": 1,
          "StockCode": "POST",
          "UnitPrice": 18
         },
         {
          "Country": "Germany",
          "CustomerID": 12720,
          "Description": "POSTAGE",
          "InvoiceDate": "2010-12-17T12:56:00",
          "InvoiceNo": 539408,
          "Quantity": 3,
          "StockCode": "POST",
          "UnitPrice": 18
         },
         {
          "Country": "France",
          "CustomerID": 12691,
          "Description": "POSTAGE",
          "InvoiceDate": "2010-12-17T14:46:00",
          "InvoiceNo": 539435,
          "Quantity": 1,
          "StockCode": "POST",
          "UnitPrice": 18
         },
         {
          "Country": "Germany",
          "CustomerID": 12705,
          "Description": "POSTAGE",
          "InvoiceDate": "2010-12-17T15:58:00",
          "InvoiceNo": 539446,
          "Quantity": 9,
          "StockCode": "POST",
          "UnitPrice": 18
         },
         {
          "Country": "Belgium",
          "CustomerID": 12395,
          "Description": "POSTAGE",
          "InvoiceDate": "2010-12-17T16:00:00",
          "InvoiceNo": 539447,
          "Quantity": 3,
          "StockCode": "POST",
          "UnitPrice": 18
         },
         {
          "Country": "Germany",
          "CustomerID": 12668,
          "Description": "POSTAGE",
          "InvoiceDate": "2010-12-19T12:46:00",
          "InvoiceNo": 539466,
          "Quantity": 4,
          "StockCode": "POST",
          "UnitPrice": 18
         },
         {
          "Country": "Netherlands",
          "CustomerID": 14646,
          "Description": "POSTAGE",
          "InvoiceDate": "2010-12-20T10:09:00",
          "InvoiceNo": 539491,
          "Quantity": 1,
          "StockCode": "POST",
          "UnitPrice": 15
         },
         {
          "Country": "France",
          "CustomerID": 12721,
          "Description": "POSTAGE",
          "InvoiceDate": "2010-12-20T11:38:00",
          "InvoiceNo": 539551,
          "Quantity": 1,
          "StockCode": "POST",
          "UnitPrice": 18
         },
         {
          "Country": "France",
          "CustomerID": 12681,
          "Description": "POSTAGE",
          "InvoiceDate": "2010-12-20T14:10:00",
          "InvoiceNo": 539607,
          "Quantity": 5,
          "StockCode": "POST",
          "UnitPrice": 18
         },
         {
          "Country": "Germany",
          "CustomerID": 12481,
          "Description": "POSTAGE",
          "InvoiceDate": "2010-12-20T15:15:00",
          "InvoiceNo": 539636,
          "Quantity": 6,
          "StockCode": "POST",
          "UnitPrice": 18
         },
         {
          "Country": "Belgium",
          "CustomerID": 12423,
          "Description": "POSTAGE",
          "InvoiceDate": "2010-12-21T10:54:00",
          "InvoiceNo": 539676,
          "Quantity": 3,
          "StockCode": "POST",
          "UnitPrice": 15
         },
         {
          "Country": "France",
          "CustomerID": 12678,
          "Description": "POSTAGE",
          "InvoiceDate": "2010-12-21T14:26:00",
          "InvoiceNo": 539727,
          "Quantity": 1,
          "StockCode": "POST",
          "UnitPrice": 18
         },
         {
          "Country": "Italy",
          "CustomerID": 12515,
          "Description": "POSTAGE",
          "InvoiceDate": "2010-12-21T15:43:00",
          "InvoiceNo": 539752,
          "Quantity": 3,
          "StockCode": "POST",
          "UnitPrice": 35
         },
         {
          "Country": "Belgium",
          "CustomerID": 12383,
          "Description": "POSTAGE",
          "InvoiceDate": "2010-12-22T14:28:00",
          "InvoiceNo": 539840,
          "Quantity": 3,
          "StockCode": "POST",
          "UnitPrice": 15
         },
         {
          "Country": "Germany",
          "CustomerID": 13817,
          "Description": "POSTAGE",
          "InvoiceDate": "2010-12-23T11:46:00",
          "InvoiceNo": 539946,
          "Quantity": 1,
          "StockCode": "POST",
          "UnitPrice": 18
         },
         {
          "Country": "Germany",
          "CustomerID": 12585,
          "Description": "POSTAGE",
          "InvoiceDate": "2010-12-23T12:58:00",
          "InvoiceNo": 539957,
          "Quantity": 6,
          "StockCode": "POST",
          "UnitPrice": 18
         },
         {
          "Country": "United Kingdom",
          "CustomerID": 18116,
          "Description": "Manual",
          "InvoiceDate": "2010-12-23T16:06:00",
          "InvoiceNo": 539988,
          "Quantity": 18,
          "StockCode": "M",
          "UnitPrice": 0.2
         },
         {
          "Country": "United Kingdom",
          "CustomerID": 17841,
          "Description": "Manual",
          "InvoiceDate": "2011-01-04T12:51:00",
          "InvoiceNo": 540021,
          "Quantity": 1,
          "StockCode": "M",
          "UnitPrice": 1.25
         },
         {
          "Country": "Sweden",
          "CustomerID": 12483,
          "Description": "POSTAGE",
          "InvoiceDate": "2011-01-04T14:20:00",
          "InvoiceNo": 540040,
          "Quantity": 5,
          "StockCode": "POST",
          "UnitPrice": 40
         },
         {
          "Country": "United Kingdom",
          "CustomerID": 16814,
          "Description": "Manual",
          "InvoiceDate": "2011-01-04T14:47:00",
          "InvoiceNo": 540073,
          "Quantity": 6,
          "StockCode": "M",
          "UnitPrice": 1.65
         },
         {
          "Country": "France",
          "CustomerID": 12681,
          "Description": "POSTAGE",
          "InvoiceDate": "2011-01-05T12:42:00",
          "InvoiceNo": 540178,
          "Quantity": 3,
          "StockCode": "POST",
          "UnitPrice": 18
         },
         {
          "Country": "France",
          "CustomerID": 12682,
          "Description": "POSTAGE",
          "InvoiceDate": "2011-01-05T14:48:00",
          "InvoiceNo": 540239,
          "Quantity": 4,
          "StockCode": "POST",
          "UnitPrice": 18
         },
         {
          "Country": "United Kingdom",
          "CustomerID": 15046,
          "Description": "Manual",
          "InvoiceDate": "2011-01-05T15:30:00",
          "InvoiceNo": 540242,
          "Quantity": 1,
          "StockCode": "M",
          "UnitPrice": 18.95
         },
         {
          "Country": "United Kingdom",
          "CustomerID": 15719,
          "Description": "Manual",
          "InvoiceDate": "2011-01-06T12:31:00",
          "InvoiceNo": 540278,
          "Quantity": 1,
          "StockCode": "M",
          "UnitPrice": 1.65
         },
         {
          "Country": "France",
          "CustomerID": 12735,
          "Description": "POSTAGE",
          "InvoiceDate": "2011-01-06T14:26:00",
          "InvoiceNo": 540351,
          "Quantity": 2,
          "StockCode": "POST",
          "UnitPrice": 18
         },
         {
          "Country": "France",
          "CustomerID": 12413,
          "Description": "POSTAGE",
          "InvoiceDate": "2011-01-06T16:12:00",
          "InvoiceNo": 540365,
          "Quantity": 3,
          "StockCode": "POST",
          "UnitPrice": 18
         },
         {
          "Country": "Germany",
          "CustomerID": 12530,
          "Description": "POSTAGE",
          "InvoiceDate": "2011-01-07T10:04:00",
          "InvoiceNo": 540410,
          "Quantity": 3,
          "StockCode": "POST",
          "UnitPrice": 18
         },
         {
          "Country": "Germany",
          "CustomerID": 12481,
          "Description": "POSTAGE",
          "InvoiceDate": "2011-01-07T10:32:00",
          "InvoiceNo": 540414,
          "Quantity": 3,
          "StockCode": "POST",
          "UnitPrice": 18
         },
         {
          "Country": "France",
          "CustomerID": 12583,
          "Description": "POSTAGE",
          "InvoiceDate": "2011-01-07T12:07:00",
          "InvoiceNo": 540455,
          "Quantity": 3,
          "StockCode": "POST",
          "UnitPrice": 18
         },
         {
          "Country": "Germany",
          "CustomerID": 12501,
          "Description": "POSTAGE",
          "InvoiceDate": "2011-01-07T12:28:00",
          "InvoiceNo": 540458,
          "Quantity": 8,
          "StockCode": "POST",
          "UnitPrice": 18
         },
         {
          "Country": "France",
          "CustomerID": 12489,
          "Description": "POSTAGE",
          "InvoiceDate": "2011-01-07T13:13:00",
          "InvoiceNo": 540463,
          "Quantity": 2,
          "StockCode": "POST",
          "UnitPrice": 18
         },
         {
          "Country": "Spain",
          "CustomerID": 12484,
          "Description": "POSTAGE",
          "InvoiceDate": "2011-01-07T14:04:00",
          "InvoiceNo": 540469,
          "Quantity": 4,
          "StockCode": "POST",
          "UnitPrice": 28
         },
         {
          "Country": "Germany",
          "CustomerID": 12480,
          "Description": "POSTAGE",
          "InvoiceDate": "2011-01-07T15:27:00",
          "InvoiceNo": 540480,
          "Quantity": 4,
          "StockCode": "POST",
          "UnitPrice": 18
         },
         {
          "Country": "Portugal",
          "CustomerID": 12793,
          "Description": "POSTAGE",
          "InvoiceDate": "2011-01-09T12:12:00",
          "InvoiceNo": 540519,
          "Quantity": 2,
          "StockCode": "POST",
          "UnitPrice": 28
         },
         {
          "Country": "Portugal",
          "CustomerID": 12766,
          "Description": "POSTAGE",
          "InvoiceDate": "2011-01-09T15:56:00",
          "InvoiceNo": 540546,
          "Quantity": 3,
          "StockCode": "POST",
          "UnitPrice": 28
         },
         {
          "Country": "Germany",
          "CustomerID": 12500,
          "Description": "POSTAGE",
          "InvoiceDate": "2011-01-10T09:48:00",
          "InvoiceNo": 540553,
          "Quantity": 1,
          "StockCode": "POST",
          "UnitPrice": 18
         },
         {
          "Country": "Germany",
          "CustomerID": 12524,
          "Description": "POSTAGE",
          "InvoiceDate": "2011-01-10T10:35:00",
          "InvoiceNo": 540562,
          "Quantity": 3,
          "StockCode": "POST",
          "UnitPrice": 18
         },
         {
          "Country": "United Kingdom",
          "CustomerID": 17811,
          "Description": "Manual",
          "InvoiceDate": "2011-01-10T10:58:00",
          "InvoiceNo": 540566,
          "Quantity": 1,
          "StockCode": "M",
          "UnitPrice": 6.7
         },
         {
          "Country": "France",
          "CustomerID": 12681,
          "Description": "POSTAGE",
          "InvoiceDate": "2011-01-10T13:22:00",
          "InvoiceNo": 540642,
          "Quantity": 7,
          "StockCode": "POST",
          "UnitPrice": 18
         },
         {
          "Country": "France",
          "CustomerID": 12736,
          "Description": "POSTAGE",
          "InvoiceDate": "2011-01-11T07:57:00",
          "InvoiceNo": 540688,
          "Quantity": 5,
          "StockCode": "POST",
          "UnitPrice": 18
         },
         {
          "Country": "Germany",
          "CustomerID": 12601,
          "Description": "POSTAGE",
          "InvoiceDate": "2011-01-11T10:38:00",
          "InvoiceNo": 540769,
          "Quantity": 1,
          "StockCode": "POST",
          "UnitPrice": 18
         },
         {
          "Country": "France",
          "CustomerID": 12643,
          "Description": "POSTAGE",
          "InvoiceDate": "2011-01-11T11:48:00",
          "InvoiceNo": 540789,
          "Quantity": 2,
          "StockCode": "POST",
          "UnitPrice": 18
         },
         {
          "Country": "Spain",
          "CustomerID": 12540,
          "Description": "POSTAGE",
          "InvoiceDate": "2011-01-11T12:25:00",
          "InvoiceNo": 540801,
          "Quantity": 6,
          "StockCode": "POST",
          "UnitPrice": 28
         },
         {
          "Country": "France",
          "CustomerID": 12728,
          "Description": "POSTAGE",
          "InvoiceDate": "2011-01-11T13:31:00",
          "InvoiceNo": 540824,
          "Quantity": 2,
          "StockCode": "POST",
          "UnitPrice": 18
         },
         {
          "Country": "France",
          "CustomerID": 12724,
          "Description": "POSTAGE",
          "InvoiceDate": "2011-01-11T15:00:00",
          "InvoiceNo": 540835,
          "Quantity": 1,
          "StockCode": "POST",
          "UnitPrice": 18
         },
         {
          "Country": "United Kingdom",
          "CustomerID": 16791,
          "Description": "Manual",
          "InvoiceDate": "2011-01-11T15:42:00",
          "InvoiceNo": 540839,
          "Quantity": 1,
          "StockCode": "M",
          "UnitPrice": 12.75
         },
         {
          "Country": "Germany",
          "CustomerID": 12712,
          "Description": "POSTAGE",
          "InvoiceDate": "2011-01-12T11:46:00",
          "InvoiceNo": 540900,
          "Quantity": 2,
          "StockCode": "POST",
          "UnitPrice": 18
         },
         {
          "Country": "Belgium",
          "CustomerID": 12383,
          "Description": "POSTAGE",
          "InvoiceDate": "2011-01-12T14:10:00",
          "InvoiceNo": 540971,
          "Quantity": 4,
          "StockCode": "POST",
          "UnitPrice": 15
         },
         {
          "Country": "France",
          "CustomerID": 12437,
          "Description": "POSTAGE",
          "InvoiceDate": "2011-01-12T14:13:00",
          "InvoiceNo": 540972,
          "Quantity": 3,
          "StockCode": "POST",
          "UnitPrice": 18
         },
         {
          "Country": "France",
          "CustomerID": 12652,
          "Description": "POSTAGE",
          "InvoiceDate": "2011-01-12T15:00:00",
          "InvoiceNo": 540976,
          "Quantity": 7,
          "StockCode": "POST",
          "UnitPrice": 18
         },
         {
          "Country": "Germany",
          "CustomerID": 12471,
          "Description": "POSTAGE",
          "InvoiceDate": "2011-01-13T13:21:00",
          "InvoiceNo": 541093,
          "Quantity": 5,
          "StockCode": "POST",
          "UnitPrice": 18
         },
         {
          "Country": "Italy",
          "CustomerID": 12578,
          "Description": "POSTAGE",
          "InvoiceDate": "2011-01-13T15:34:00",
          "InvoiceNo": 541115,
          "Quantity": 7,
          "StockCode": "POST",
          "UnitPrice": 28
         },
         {
          "Country": "France",
          "CustomerID": 12490,
          "Description": "POSTAGE",
          "InvoiceDate": "2011-01-14T09:13:00",
          "InvoiceNo": 541120,
          "Quantity": 5,
          "StockCode": "POST",
          "UnitPrice": 18
         },
         {
          "Country": "Germany",
          "CustomerID": 12708,
          "Description": "POSTAGE",
          "InvoiceDate": "2011-01-14T09:23:00",
          "InvoiceNo": 541122,
          "Quantity": 2,
          "StockCode": "POST",
          "UnitPrice": 18
         },
         {
          "Country": "Germany",
          "CustomerID": 12474,
          "Description": "POSTAGE",
          "InvoiceDate": "2011-01-14T10:06:00",
          "InvoiceNo": 541125,
          "Quantity": 1,
          "StockCode": "POST",
          "UnitPrice": 18
         },
         {
          "Country": "France",
          "CustomerID": 12553,
          "Description": "POSTAGE",
          "InvoiceDate": "2011-01-14T10:42:00",
          "InvoiceNo": 541138,
          "Quantity": 6,
          "StockCode": "POST",
          "UnitPrice": 18
         },
         {
          "Country": "Germany",
          "CustomerID": 12474,
          "Description": "POSTAGE",
          "InvoiceDate": "2011-01-14T14:45:00",
          "InvoiceNo": 541224,
          "Quantity": 1,
          "StockCode": "POST",
          "UnitPrice": 18
         },
         {
          "Country": "United Kingdom",
          "CustomerID": 17609,
          "Description": "Manual",
          "InvoiceDate": "2011-01-16T16:23:00",
          "InvoiceNo": 541265,
          "Quantity": 2,
          "StockCode": "M",
          "UnitPrice": 1.25
         },
         {
          "Country": "Germany",
          "CustomerID": 12626,
          "Description": "POSTAGE",
          "InvoiceDate": "2011-01-17T11:01:00",
          "InvoiceNo": 541269,
          "Quantity": 8,
          "StockCode": "POST",
          "UnitPrice": 18
         },
         {
          "Country": "France",
          "CustomerID": 12683,
          "Description": "POSTAGE",
          "InvoiceDate": "2011-01-17T15:17:00",
          "InvoiceNo": 541405,
          "Quantity": 5,
          "StockCode": "POST",
          "UnitPrice": 18
         },
         {
          "Country": "Portugal",
          "CustomerID": 12356,
          "Description": "POSTAGE",
          "InvoiceDate": "2011-01-18T09:50:00",
          "InvoiceNo": 541430,
          "Quantity": 18,
          "StockCode": "POST",
          "UnitPrice": 18
         },
         {
          "Country": "Germany",
          "CustomerID": 12527,
          "Description": "POSTAGE",
          "InvoiceDate": "2011-01-18T12:05:00",
          "InvoiceNo": 541480,
          "Quantity": 1,
          "StockCode": "POST",
          "UnitPrice": 18
         },
         {
          "Country": "United Kingdom",
          "CustomerID": 18118,
          "Description": "Manual",
          "InvoiceDate": "2011-01-18T13:05:00",
          "InvoiceNo": 541485,
          "Quantity": 12,
          "StockCode": "M",
          "UnitPrice": 0.2
         },
         {
          "Country": "Spain",
          "CustomerID": 12510,
          "Description": "POSTAGE",
          "InvoiceDate": "2011-01-18T14:04:00",
          "InvoiceNo": 541491,
          "Quantity": 3,
          "StockCode": "POST",
          "UnitPrice": 28
         },
         {
          "Country": "Germany",
          "CustomerID": 12665,
          "Description": "POSTAGE",
          "InvoiceDate": "2011-01-19T08:34:00",
          "InvoiceNo": 541517,
          "Quantity": 1,
          "StockCode": "POST",
          "UnitPrice": 18
         },
         {
          "Country": "United Kingdom",
          "CustomerID": 16904,
          "Description": "Manual",
          "InvoiceDate": "2011-01-19T11:38:00",
          "InvoiceNo": 541564,
          "Quantity": 10,
          "StockCode": "M",
          "UnitPrice": 0.38
         },
         {
          "Country": "France",
          "CustomerID": 12681,
          "Description": "POSTAGE",
          "InvoiceDate": "2011-01-19T11:51:00",
          "InvoiceNo": 541567,
          "Quantity": 3,
          "StockCode": "POST",
          "UnitPrice": 18
         },
         {
          "Country": "Switzerland",
          "CustomerID": 13520,
          "Description": "POSTAGE",
          "InvoiceDate": "2011-01-19T12:14:00",
          "InvoiceNo": 541569,
          "Quantity": 3,
          "StockCode": "POST",
          "UnitPrice": 40
         },
         {
          "Country": "France",
          "CustomerID": 12637,
          "Description": "POSTAGE",
          "InvoiceDate": "2011-01-20T10:48:00",
          "InvoiceNo": 541631,
          "Quantity": 6,
          "StockCode": "POST",
          "UnitPrice": 18
         },
         {
          "Country": "United Kingdom",
          "CustomerID": 15529,
          "Description": "Manual",
          "InvoiceDate": "2011-01-20T12:16:00",
          "InvoiceNo": 541658,
          "Quantity": 1,
          "StockCode": "M",
          "UnitPrice": 2.55
         },
         {
          "Country": "Belgium",
          "CustomerID": 12402,
          "Description": "POSTAGE",
          "InvoiceDate": "2011-01-20T13:49:00",
          "InvoiceNo": 541675,
          "Quantity": 2,
          "StockCode": "POST",
          "UnitPrice": 15
         },
         {
          "Country": "Italy",
          "CustomerID": 12594,
          "Description": "POSTAGE",
          "InvoiceDate": "2011-01-21T09:52:00",
          "InvoiceNo": 541703,
          "Quantity": 2,
          "StockCode": "POST",
          "UnitPrice": 28
         },
         {
          "Country": "Finland",
          "CustomerID": 12664,
          "Description": "POSTAGE",
          "InvoiceDate": "2011-01-21T11:42:00",
          "InvoiceNo": 541756,
          "Quantity": 2,
          "StockCode": "POST",
          "UnitPrice": 40
         },
         {
          "Country": "United Kingdom",
          "CustomerID": 16210,
          "Description": "Manual",
          "InvoiceDate": "2011-01-21T14:51:00",
          "InvoiceNo": 541808,
          "Quantity": 1,
          "StockCode": "M",
          "UnitPrice": 10
         },
         {
          "Country": "France",
          "CustomerID": 12727,
          "Description": "POSTAGE",
          "InvoiceDate": "2011-01-23T15:17:00",
          "InvoiceNo": 541857,
          "Quantity": 6,
          "StockCode": "POST",
          "UnitPrice": 18
         },
         {
          "Country": "Germany",
          "CustomerID": 12559,
          "Description": "POSTAGE",
          "InvoiceDate": "2011-01-24T10:12:00",
          "InvoiceNo": 541877,
          "Quantity": 2,
          "StockCode": "POST",
          "UnitPrice": 18
         },
         {
          "Country": "Germany",
          "CustomerID": 12693,
          "Description": "POSTAGE",
          "InvoiceDate": "2011-01-24T12:58:00",
          "InvoiceNo": 541962,
          "Quantity": 2,
          "StockCode": "POST",
          "UnitPrice": 18
         },
         {
          "Country": "Germany",
          "CustomerID": 12625,
          "Description": "POSTAGE",
          "InvoiceDate": "2011-01-24T13:27:00",
          "InvoiceNo": 541965,
          "Quantity": 7,
          "StockCode": "POST",
          "UnitPrice": 18
         },
         {
          "Country": "Spain",
          "CustomerID": 12421,
          "Description": "POSTAGE",
          "InvoiceDate": "2011-01-24T15:09:00",
          "InvoiceNo": 541980,
          "Quantity": 1,
          "StockCode": "POST",
          "UnitPrice": 28
         },
         {
          "Country": "United Kingdom",
          "CustomerID": 15797,
          "Description": "Manual",
          "InvoiceDate": "2011-01-24T15:47:00",
          "InvoiceNo": 541983,
          "Quantity": 1,
          "StockCode": "M",
          "UnitPrice": 15
         },
         {
          "Country": "Belgium",
          "CustomerID": 12417,
          "Description": "POSTAGE",
          "InvoiceDate": "2011-01-25T09:11:00",
          "InvoiceNo": 541991,
          "Quantity": 2,
          "StockCode": "POST",
          "UnitPrice": 15
         },
         {
          "Country": "Finland",
          "CustomerID": 12348,
          "Description": "POSTAGE",
          "InvoiceDate": "2011-01-25T10:42:00",
          "InvoiceNo": 541998,
          "Quantity": 1,
          "StockCode": "POST",
          "UnitPrice": 40
         },
         {
          "Country": "Germany",
          "CustomerID": 13815,
          "Description": "POSTAGE",
          "InvoiceDate": "2011-01-25T12:16:00",
          "InvoiceNo": 542080,
          "Quantity": 5,
          "StockCode": "POST",
          "UnitPrice": 18
         },
         {
          "Country": "Germany",
          "CustomerID": 12609,
          "Description": "POSTAGE",
          "InvoiceDate": "2011-01-25T15:13:00",
          "InvoiceNo": 542128,
          "Quantity": 2,
          "StockCode": "POST",
          "UnitPrice": 18
         },
         {
          "Country": "France",
          "CustomerID": 12691,
          "Description": "POSTAGE",
          "InvoiceDate": "2011-01-25T15:59:00",
          "InvoiceNo": 542132,
          "Quantity": 2,
          "StockCode": "POST",
          "UnitPrice": 18
         },
         {
          "Country": "Portugal",
          "CustomerID": 12782,
          "Description": "POSTAGE",
          "InvoiceDate": "2011-01-26T10:02:00",
          "InvoiceNo": 542147,
          "Quantity": 4,
          "StockCode": "POST",
          "UnitPrice": 28
         },
         {
          "Country": "Germany",
          "CustomerID": 12472,
          "Description": "POSTAGE",
          "InvoiceDate": "2011-01-26T12:27:00",
          "InvoiceNo": 542215,
          "Quantity": 3,
          "StockCode": "POST",
          "UnitPrice": 18
         },
         {
          "Country": "Germany",
          "CustomerID": 12474,
          "Description": "POSTAGE",
          "InvoiceDate": "2011-01-26T13:38:00",
          "InvoiceNo": 542229,
          "Quantity": 1,
          "StockCode": "POST",
          "UnitPrice": 18
         },
         {
          "Country": "Italy",
          "CustomerID": 12591,
          "Description": "POSTAGE",
          "InvoiceDate": "2011-01-26T14:35:00",
          "InvoiceNo": 542238,
          "Quantity": 3,
          "StockCode": "POST",
          "UnitPrice": 28
         },
         {
          "Country": "Germany",
          "CustomerID": 12645,
          "Description": "POSTAGE",
          "InvoiceDate": "2011-01-27T13:08:00",
          "InvoiceNo": 542369,
          "Quantity": 1,
          "StockCode": "POST",
          "UnitPrice": 18
         },
         {
          "Country": "Germany",
          "CustomerID": 12468,
          "Description": "POSTAGE",
          "InvoiceDate": "2011-01-27T13:29:00",
          "InvoiceNo": 542371,
          "Quantity": 2,
          "StockCode": "POST",
          "UnitPrice": 18
         },
         {
          "Country": "Germany",
          "CustomerID": 12626,
          "Description": "POSTAGE",
          "InvoiceDate": "2011-01-27T13:42:00",
          "InvoiceNo": 542375,
          "Quantity": 2,
          "StockCode": "POST",
          "UnitPrice": 18
         },
         {
          "Country": "United Kingdom",
          "CustomerID": 13174,
          "Description": "Manual",
          "InvoiceDate": "2011-01-27T15:36:00",
          "InvoiceNo": 542398,
          "Quantity": 1,
          "StockCode": "M",
          "UnitPrice": 4
         },
         {
          "Country": "France",
          "CustomerID": 12574,
          "Description": "POSTAGE",
          "InvoiceDate": "2011-01-28T09:20:00",
          "InvoiceNo": 542425,
          "Quantity": 2,
          "StockCode": "POST",
          "UnitPrice": 18
         },
         {
          "Country": "France",
          "CustomerID": 12726,
          "Description": "POSTAGE",
          "InvoiceDate": "2011-01-28T10:45:00",
          "InvoiceNo": 542433,
          "Quantity": 2,
          "StockCode": "POST",
          "UnitPrice": 18
         },
         {
          "Country": "France",
          "CustomerID": 12735,
          "Description": "POSTAGE",
          "InvoiceDate": "2011-01-28T13:37:00",
          "InvoiceNo": 542535,
          "Quantity": 3,
          "StockCode": "POST",
          "UnitPrice": 18
         },
         {
          "Country": "Switzerland",
          "CustomerID": 12377,
          "Description": "POSTAGE",
          "InvoiceDate": "2011-01-28T15:45:00",
          "InvoiceNo": 542586,
          "Quantity": 2,
          "StockCode": "POST",
          "UnitPrice": 40
         },
         {
          "Country": "Germany",
          "CustomerID": 12528,
          "Description": "POSTAGE",
          "InvoiceDate": "2011-01-31T09:05:00",
          "InvoiceNo": 542621,
          "Quantity": 3,
          "StockCode": "POST",
          "UnitPrice": 18
         },
         {
          "Country": "Germany",
          "CustomerID": 12720,
          "Description": "POSTAGE",
          "InvoiceDate": "2011-01-31T09:51:00",
          "InvoiceNo": 542626,
          "Quantity": 2,
          "StockCode": "POST",
          "UnitPrice": 18
         },
         {
          "Country": "Germany",
          "CustomerID": 12476,
          "Description": "POSTAGE",
          "InvoiceDate": "2011-01-31T11:46:00",
          "InvoiceNo": 542648,
          "Quantity": 5,
          "StockCode": "POST",
          "UnitPrice": 18
         },
         {
          "Country": "Germany",
          "CustomerID": 12668,
          "Description": "POSTAGE",
          "InvoiceDate": "2011-01-31T13:27:00",
          "InvoiceNo": 542713,
          "Quantity": 7,
          "StockCode": "POST",
          "UnitPrice": 18
         },
         {
          "Country": "United Kingdom",
          "CustomerID": 17580,
          "Description": "Manual",
          "InvoiceDate": "2011-01-31T14:07:00",
          "InvoiceNo": 542717,
          "Quantity": 1,
          "StockCode": "M",
          "UnitPrice": 2.95
         },
         {
          "Country": "Netherlands",
          "CustomerID": 12778,
          "Description": "POSTAGE",
          "InvoiceDate": "2011-01-31T14:35:00",
          "InvoiceNo": 542720,
          "Quantity": 1,
          "StockCode": "POST",
          "UnitPrice": 15
         },
         {
          "Country": "France",
          "CustomerID": 12681,
          "Description": "POSTAGE",
          "InvoiceDate": "2011-01-31T15:36:00",
          "InvoiceNo": 542735,
          "Quantity": 3,
          "StockCode": "POST",
          "UnitPrice": 18
         },
         {
          "Country": "Germany",
          "CustomerID": 12712,
          "Description": "POSTAGE",
          "InvoiceDate": "2011-02-01T10:00:00",
          "InvoiceNo": 542782,
          "Quantity": 2,
          "StockCode": "POST",
          "UnitPrice": 18
         },
         {
          "Country": "Austria",
          "CustomerID": 12373,
          "Description": "POSTAGE",
          "InvoiceDate": "2011-02-01T13:10:00",
          "InvoiceNo": 542887,
          "Quantity": 1,
          "StockCode": "POST",
          "UnitPrice": 40
         },
         {
          "Country": "Netherlands",
          "CustomerID": 12775,
          "Description": "POSTAGE",
          "InvoiceDate": "2011-02-01T13:45:00",
          "InvoiceNo": 542894,
          "Quantity": 2,
          "StockCode": "POST",
          "UnitPrice": 15
         },
         {
          "Country": "France",
          "CustomerID": 12682,
          "Description": "POSTAGE",
          "InvoiceDate": "2011-02-01T14:58:00",
          "InvoiceNo": 542904,
          "Quantity": 3,
          "StockCode": "POST",
          "UnitPrice": 18
         },
         {
          "Country": "Spain",
          "CustomerID": 12540,
          "Description": "POSTAGE",
          "InvoiceDate": "2011-02-01T15:11:00",
          "InvoiceNo": 542905,
          "Quantity": 1,
          "StockCode": "POST",
          "UnitPrice": 28
         },
         {
          "Country": "Sweden",
          "CustomerID": 12676,
          "Description": "POSTAGE",
          "InvoiceDate": "2011-02-01T15:41:00",
          "InvoiceNo": 542911,
          "Quantity": 1,
          "StockCode": "POST",
          "UnitPrice": 40
         },
         {
          "Country": "France",
          "CustomerID": 12682,
          "Description": "POSTAGE",
          "InvoiceDate": "2011-02-02T09:06:00",
          "InvoiceNo": 542922,
          "Quantity": 2,
          "StockCode": "POST",
          "UnitPrice": 18
         },
         {
          "Country": "United Kingdom",
          "CustomerID": 13199,
          "Description": "Manual",
          "InvoiceDate": "2011-02-02T14:17:00",
          "InvoiceNo": 543017,
          "Quantity": 1,
          "StockCode": "M",
          "UnitPrice": 15
         },
         {
          "Country": "Austria",
          "CustomerID": 12414,
          "Description": "POSTAGE",
          "InvoiceDate": "2011-02-02T14:51:00",
          "InvoiceNo": 543027,
          "Quantity": 1,
          "StockCode": "POST",
          "UnitPrice": 40
         },
         {
          "Country": "France",
          "CustomerID": 12437,
          "Description": "POSTAGE",
          "InvoiceDate": "2011-02-02T15:22:00",
          "InvoiceNo": 543030,
          "Quantity": 1,
          "StockCode": "POST",
          "UnitPrice": 18
         },
         {
          "Country": "Norway",
          "CustomerID": 12350,
          "Description": "POSTAGE",
          "InvoiceDate": "2011-02-02T16:01:00",
          "InvoiceNo": 543037,
          "Quantity": 1,
          "StockCode": "POST",
          "UnitPrice": 40
         },
         {
          "Country": "Germany",
          "CustomerID": 12600,
          "Description": "POSTAGE",
          "InvoiceDate": "2011-02-03T09:58:00",
          "InvoiceNo": 543048,
          "Quantity": 3,
          "StockCode": "POST",
          "UnitPrice": 18
         },
         {
          "Country": "Spain",
          "CustomerID": 12502,
          "Description": "POSTAGE",
          "InvoiceDate": "2011-02-03T10:41:00",
          "InvoiceNo": 543055,
          "Quantity": 4,
          "StockCode": "POST",
          "UnitPrice": 28
         },
         {
          "Country": "Germany",
          "CustomerID": 12471,
          "Description": "POSTAGE",
          "InvoiceDate": "2011-02-03T10:47:00",
          "InvoiceNo": 543056,
          "Quantity": 6,
          "StockCode": "POST",
          "UnitPrice": 18
         },
         {
          "Country": "Belgium",
          "CustomerID": 12464,
          "Description": "POSTAGE",
          "InvoiceDate": "2011-02-03T13:30:00",
          "InvoiceNo": 543117,
          "Quantity": 3,
          "StockCode": "POST",
          "UnitPrice": 15
         },
         {
          "Country": "Germany",
          "CustomerID": 12662,
          "Description": "POSTAGE",
          "InvoiceDate": "2011-02-03T13:58:00",
          "InvoiceNo": 543121,
          "Quantity": 2,
          "StockCode": "POST",
          "UnitPrice": 18
         },
         {
          "Country": "United Kingdom",
          "CustomerID": 15885,
          "Description": "Manual",
          "InvoiceDate": "2011-02-03T15:28:00",
          "InvoiceNo": 543134,
          "Quantity": 1,
          "StockCode": "M",
          "UnitPrice": 15
         },
         {
          "Country": "Switzerland",
          "CustomerID": 12410,
          "Description": "POSTAGE",
          "InvoiceDate": "2011-02-04T10:38:00",
          "InvoiceNo": 543180,
          "Quantity": 4,
          "StockCode": "POST",
          "UnitPrice": 40
         },
         {
          "Country": "France",
          "CustomerID": 12567,
          "Description": "POSTAGE",
          "InvoiceDate": "2011-02-04T11:45:00",
          "InvoiceNo": 543188,
          "Quantity": 6,
          "StockCode": "POST",
          "UnitPrice": 18
         },
         {
          "Country": "Netherlands",
          "CustomerID": 14646,
          "Description": "POSTAGE",
          "InvoiceDate": "2011-02-08T09:41:00",
          "InvoiceNo": 543387,
          "Quantity": 10,
          "StockCode": "POST",
          "UnitPrice": 15
         },
         {
          "Country": "France",
          "CustomerID": 12599,
          "Description": "POSTAGE",
          "InvoiceDate": "2011-02-08T13:28:00",
          "InvoiceNo": 543459,
          "Quantity": 2,
          "StockCode": "POST",
          "UnitPrice": 18
         },
         {
          "Country": "France",
          "CustomerID": 12721,
          "Description": "POSTAGE",
          "InvoiceDate": "2011-02-09T10:11:00",
          "InvoiceNo": 543484,
          "Quantity": 3,
          "StockCode": "POST",
          "UnitPrice": 18
         },
         {
          "Country": "Germany",
          "CustomerID": 12720,
          "Description": "POSTAGE",
          "InvoiceDate": "2011-02-09T10:41:00",
          "InvoiceNo": 543492,
          "Quantity": 1,
          "StockCode": "POST",
          "UnitPrice": 18
         },
         {
          "Country": "Belgium",
          "CustomerID": 12401,
          "Description": "POSTAGE",
          "InvoiceDate": "2011-02-09T13:50:00",
          "InvoiceNo": 543537,
          "Quantity": 1,
          "StockCode": "POST",
          "UnitPrice": 15
         },
         {
          "Country": "Spain",
          "CustomerID": 12462,
          "Description": "POSTAGE",
          "InvoiceDate": "2011-02-09T14:44:00",
          "InvoiceNo": 543541,
          "Quantity": 6,
          "StockCode": "POST",
          "UnitPrice": 28
         },
         {
          "Country": "United Kingdom",
          "CustomerID": 17843,
          "Description": "Manual",
          "InvoiceDate": "2011-02-09T15:33:00",
          "InvoiceNo": 543543,
          "Quantity": 1,
          "StockCode": "M",
          "UnitPrice": 2.95
         },
         {
          "Country": "United Kingdom",
          "CustomerID": 17843,
          "Description": "Manual",
          "InvoiceDate": "2011-02-09T15:33:00",
          "InvoiceNo": 543543,
          "Quantity": 24,
          "StockCode": "M",
          "UnitPrice": 0.2
         },
         {
          "Country": "Germany",
          "CustomerID": 12601,
          "Description": "POSTAGE",
          "InvoiceDate": "2011-02-10T09:43:00",
          "InvoiceNo": 543550,
          "Quantity": 1,
          "StockCode": "POST",
          "UnitPrice": 18
         },
         {
          "Country": "France",
          "CustomerID": 12583,
          "Description": "POSTAGE",
          "InvoiceDate": "2011-02-10T15:38:00",
          "InvoiceNo": 543625,
          "Quantity": 2,
          "StockCode": "POST",
          "UnitPrice": 18
         },
         {
          "Country": "Belgium",
          "CustomerID": 12395,
          "Description": "POSTAGE",
          "InvoiceDate": "2011-02-11T12:16:00",
          "InvoiceNo": 543733,
          "Quantity": 1,
          "StockCode": "POST",
          "UnitPrice": 15
         },
         {
          "Country": "Spain",
          "CustomerID": 12507,
          "Description": "POSTAGE",
          "InvoiceDate": "2011-02-14T09:24:00",
          "InvoiceNo": 543822,
          "Quantity": 3,
          "StockCode": "POST",
          "UnitPrice": 28
         },
         {
          "Country": "Germany",
          "CustomerID": 12476,
          "Description": "POSTAGE",
          "InvoiceDate": "2011-02-14T10:24:00",
          "InvoiceNo": 543833,
          "Quantity": 1,
          "StockCode": "POST",
          "UnitPrice": 18
         },
         {
          "Country": "Germany",
          "CustomerID": 12621,
          "Description": "POSTAGE",
          "InvoiceDate": "2011-02-14T12:11:00",
          "InvoiceNo": 543900,
          "Quantity": 3,
          "StockCode": "POST",
          "UnitPrice": 18
         },
         {
          "Country": "France",
          "CustomerID": 12616,
          "Description": "POSTAGE",
          "InvoiceDate": "2011-02-15T14:17:00",
          "InvoiceNo": 544069,
          "Quantity": 2,
          "StockCode": "POST",
          "UnitPrice": 18
         },
         {
          "Country": "United Kingdom",
          "CustomerID": 17530,
          "Description": "Manual",
          "InvoiceDate": "2011-02-15T17:02:00",
          "InvoiceNo": 544087,
          "Quantity": 1,
          "StockCode": "M",
          "UnitPrice": 3.75
         },
         {
          "Country": "United Kingdom",
          "CustomerID": 17530,
          "Description": "Manual",
          "InvoiceDate": "2011-02-15T17:02:00",
          "InvoiceNo": 544087,
          "Quantity": 2,
          "StockCode": "M",
          "UnitPrice": 0.42
         },
         {
          "Country": "France",
          "CustomerID": 12727,
          "Description": "POSTAGE",
          "InvoiceDate": "2011-02-16T11:45:00",
          "InvoiceNo": 544115,
          "Quantity": 5,
          "StockCode": "POST",
          "UnitPrice": 18
         },
         {
          "Country": "Denmark",
          "CustomerID": 12372,
          "Description": "POSTAGE",
          "InvoiceDate": "2011-02-16T12:46:00",
          "InvoiceNo": 544157,
          "Quantity": 2,
          "StockCode": "POST",
          "UnitPrice": 18
         },
         {
          "Country": "Belgium",
          "CustomerID": 12431,
          "Description": "POSTAGE",
          "InvoiceDate": "2011-02-17T08:23:00",
          "InvoiceNo": 544193,
          "Quantity": 5,
          "StockCode": "POST",
          "UnitPrice": 15
         },
         {
          "Country": "France",
          "CustomerID": 12494,
          "Description": "POSTAGE",
          "InvoiceDate": "2011-02-17T10:08:00",
          "InvoiceNo": 544200,
          "Quantity": 2,
          "StockCode": "POST",
          "UnitPrice": 18
         },
         {
          "Country": "Belgium",
          "CustomerID": 12362,
          "Description": "POSTAGE",
          "InvoiceDate": "2011-02-17T10:30:00",
          "InvoiceNo": 544203,
          "Quantity": 3,
          "StockCode": "POST",
          "UnitPrice": 15
         },
         {
          "Country": "Germany",
          "CustomerID": 12500,
          "Description": "POSTAGE",
          "InvoiceDate": "2011-02-17T12:23:00",
          "InvoiceNo": 544281,
          "Quantity": 1,
          "StockCode": "POST",
          "UnitPrice": 18
         },
         {
          "Country": "Germany",
          "CustomerID": 12654,
          "Description": "POSTAGE",
          "InvoiceDate": "2011-02-17T13:16:00",
          "InvoiceNo": 544302,
          "Quantity": 1,
          "StockCode": "POST",
          "UnitPrice": 18
         },
         {
          "Country": "Cyprus",
          "CustomerID": 12455,
          "Description": "POSTAGE",
          "InvoiceDate": "2011-02-17T17:05:00",
          "InvoiceNo": 544331,
          "Quantity": 1,
          "StockCode": "POST",
          "UnitPrice": 15
         },
         {
          "Country": "France",
          "CustomerID": 12714,
          "Description": "POSTAGE",
          "InvoiceDate": "2011-02-18T10:53:00",
          "InvoiceNo": 544355,
          "Quantity": 5,
          "StockCode": "POST",
          "UnitPrice": 18
         },
         {
          "Country": "Italy",
          "CustomerID": 12594,
          "Description": "POSTAGE",
          "InvoiceDate": "2011-02-18T12:28:00",
          "InvoiceNo": 544399,
          "Quantity": 1,
          "StockCode": "POST",
          "UnitPrice": 28
         },
         {
          "Country": "United Kingdom",
          "CustomerID": 14606,
          "Description": "Manual",
          "InvoiceDate": "2011-02-18T13:26:00",
          "InvoiceNo": 544407,
          "Quantity": 1,
          "StockCode": "M",
          "UnitPrice": 15
         },
         {
          "Country": "United Kingdom",
          "CustomerID": 17323,
          "Description": "Manual",
          "InvoiceDate": "2011-02-20T14:38:00",
          "InvoiceNo": 544464,
          "Quantity": 4,
          "StockCode": "M",
          "UnitPrice": 0.85
         },
         {
          "Country": "Belgium",
          "CustomerID": 12423,
          "Description": "POSTAGE",
          "InvoiceDate": "2011-02-21T09:52:00",
          "InvoiceNo": 544474,
          "Quantity": 1,
          "StockCode": "POST",
          "UnitPrice": 15
         },
         {
          "Country": "Germany",
          "CustomerID": 12524,
          "Description": "POSTAGE",
          "InvoiceDate": "2011-02-21T10:53:00",
          "InvoiceNo": 544483,
          "Quantity": 5,
          "StockCode": "POST",
          "UnitPrice": 18
         },
         {
          "Country": "Portugal",
          "CustomerID": 12766,
          "Description": "POSTAGE",
          "InvoiceDate": "2011-02-21T11:42:00",
          "InvoiceNo": 544495,
          "Quantity": 6,
          "StockCode": "POST",
          "UnitPrice": 28
         },
         {
          "Country": "Germany",
          "CustomerID": 12621,
          "Description": "POSTAGE",
          "InvoiceDate": "2011-02-21T13:40:00",
          "InvoiceNo": 544573,
          "Quantity": 5,
          "StockCode": "POST",
          "UnitPrice": 18
         },
         {
          "Country": "Cyprus",
          "CustomerID": 12365,
          "Description": "Manual",
          "InvoiceDate": "2011-02-21T14:04:00",
          "InvoiceNo": 544578,
          "Quantity": 1,
          "StockCode": "M",
          "UnitPrice": 320.69
         },
         {
          "Country": "France",
          "CustomerID": 12523,
          "Description": "POSTAGE",
          "InvoiceDate": "2011-02-21T14:58:00",
          "InvoiceNo": 544585,
          "Quantity": 1,
          "StockCode": "POST",
          "UnitPrice": 18
         },
         {
          "Country": "United Kingdom",
          "CustomerID": 13421,
          "Description": "Manual",
          "InvoiceDate": "2011-02-22T15:46:00",
          "InvoiceNo": 544673,
          "Quantity": 25,
          "StockCode": "M",
          "UnitPrice": 0.42
         },
         {
          "Country": "Germany",
          "CustomerID": 12471,
          "Description": "POSTAGE",
          "InvoiceDate": "2011-02-23T15:53:00",
          "InvoiceNo": 544811,
          "Quantity": 3,
          "StockCode": "POST",
          "UnitPrice": 18
         },
         {
          "Country": "France",
          "CustomerID": 12437,
          "Description": "POSTAGE",
          "InvoiceDate": "2011-02-23T16:44:00",
          "InvoiceNo": 544817,
          "Quantity": 2,
          "StockCode": "POST",
          "UnitPrice": 18
         },
         {
          "Country": "United Kingdom",
          "CustomerID": 12748,
          "Description": "Manual",
          "InvoiceDate": "2011-02-23T17:15:00",
          "InvoiceNo": 544819,
          "Quantity": 6,
          "StockCode": "M",
          "UnitPrice": 5
         },
         {
          "Country": "Finland",
          "CustomerID": 12582,
          "Description": "POSTAGE",
          "InvoiceDate": "2011-02-24T11:42:00",
          "InvoiceNo": 544886,
          "Quantity": 1,
          "StockCode": "POST",
          "UnitPrice": 40
         },
         {
          "Country": "Germany",
          "CustomerID": 12633,
          "Description": "POSTAGE",
          "InvoiceDate": "2011-02-25T08:44:00",
          "InvoiceNo": 544933,
          "Quantity": 6,
          "StockCode": "POST",
          "UnitPrice": 18
         },
         {
          "Country": "Germany",
          "CustomerID": 12474,
          "Description": "POSTAGE",
          "InvoiceDate": "2011-02-25T11:53:00",
          "InvoiceNo": 544996,
          "Quantity": 2,
          "StockCode": "POST",
          "UnitPrice": 18
         },
         {
          "Country": "Belgium",
          "CustomerID": 12361,
          "Description": "POSTAGE",
          "InvoiceDate": "2011-02-25T13:51:00",
          "InvoiceNo": 545017,
          "Quantity": 1,
          "StockCode": "POST",
          "UnitPrice": 15
         },
         {
          "Country": "Switzerland",
          "CustomerID": 13493,
          "Description": "POSTAGE",
          "InvoiceDate": "2011-02-25T16:42:00",
          "InvoiceNo": 545034,
          "Quantity": 1,
          "StockCode": "POST",
          "UnitPrice": 40
         },
         {
          "Country": "France",
          "CustomerID": 12599,
          "Description": "POSTAGE",
          "InvoiceDate": "2011-02-27T11:58:00",
          "InvoiceNo": 545051,
          "Quantity": 1,
          "StockCode": "POST",
          "UnitPrice": 18
         },
         {
          "Country": "Switzerland",
          "CustomerID": 12458,
          "Description": "POSTAGE",
          "InvoiceDate": "2011-02-28T10:55:00",
          "InvoiceNo": 545084,
          "Quantity": 2,
          "StockCode": "POST",
          "UnitPrice": 40
         },
         {
          "Country": "France",
          "CustomerID": 12678,
          "Description": "POSTAGE",
          "InvoiceDate": "2011-02-28T11:43:00",
          "InvoiceNo": 545086,
          "Quantity": 1,
          "StockCode": "POST",
          "UnitPrice": 18
         },
         {
          "Country": "France",
          "CustomerID": 12598,
          "Description": "POSTAGE",
          "InvoiceDate": "2011-02-28T11:58:00",
          "InvoiceNo": 545105,
          "Quantity": 6,
          "StockCode": "POST",
          "UnitPrice": 18
         },
         {
          "Country": "Belgium",
          "CustomerID": 12464,
          "Description": "POSTAGE",
          "InvoiceDate": "2011-02-28T12:08:00",
          "InvoiceNo": 545140,
          "Quantity": 2,
          "StockCode": "POST",
          "UnitPrice": 15
         },
         {
          "Country": "France",
          "CustomerID": 12728,
          "Description": "POSTAGE",
          "InvoiceDate": "2011-02-28T14:42:00",
          "InvoiceNo": 545180,
          "Quantity": 1,
          "StockCode": "POST",
          "UnitPrice": 18
         },
         {
          "Country": "France",
          "CustomerID": 12509,
          "Description": "POSTAGE",
          "InvoiceDate": "2011-02-28T14:45:00",
          "InvoiceNo": 545181,
          "Quantity": 1,
          "StockCode": "POST",
          "UnitPrice": 18
         },
         {
          "Country": "United Kingdom",
          "CustomerID": 14046,
          "Description": "Manual",
          "InvoiceDate": "2011-02-28T14:48:00",
          "InvoiceNo": 545182,
          "Quantity": 17,
          "StockCode": "M",
          "UnitPrice": 0.2
         },
         {
          "Country": "Portugal",
          "CustomerID": 12811,
          "Description": "POSTAGE",
          "InvoiceDate": "2011-02-28T15:39:00",
          "InvoiceNo": 545191,
          "Quantity": 1,
          "StockCode": "POST",
          "UnitPrice": 28
         },
         {
          "Country": "France",
          "CustomerID": 12683,
          "Description": "POSTAGE",
          "InvoiceDate": "2011-03-01T10:31:00",
          "InvoiceNo": 545235,
          "Quantity": 2,
          "StockCode": "POST",
          "UnitPrice": 18
         },
         {
          "Country": "France",
          "CustomerID": 12679,
          "Description": "POSTAGE",
          "InvoiceDate": "2011-03-01T12:26:00",
          "InvoiceNo": 545301,
          "Quantity": 4,
          "StockCode": "POST",
          "UnitPrice": 18
         },
         {
          "Country": "Belgium",
          "CustomerID": 12866,
          "Description": "POSTAGE",
          "InvoiceDate": "2011-03-01T14:11:00",
          "InvoiceNo": 545314,
          "Quantity": 4,
          "StockCode": "POST",
          "UnitPrice": 15
         },
         {
          "Country": "Norway",
          "CustomerID": 12352,
          "Description": "POSTAGE",
          "InvoiceDate": "2011-03-01T14:57:00",
          "InvoiceNo": 545323,
          "Quantity": 1,
          "StockCode": "POST",
          "UnitPrice": 40
         },
         {
          "Country": "Norway",
          "CustomerID": 12352,
          "Description": "Manual",
          "InvoiceDate": "2011-03-01T15:52:00",
          "InvoiceNo": 545332,
          "Quantity": 1,
          "StockCode": "M",
          "UnitPrice": 376.5
         },
         {
          "Country": "Norway",
          "CustomerID": 12352,
          "Description": "Manual",
          "InvoiceDate": "2011-03-01T15:52:00",
          "InvoiceNo": 545332,
          "Quantity": 1,
          "StockCode": "M",
          "UnitPrice": 280.05
         },
         {
          "Country": "Norway",
          "CustomerID": 12352,
          "Description": "Manual",
          "InvoiceDate": "2011-03-01T15:52:00",
          "InvoiceNo": 545332,
          "Quantity": 1,
          "StockCode": "M",
          "UnitPrice": 183.75
         },
         {
          "Country": "Finland",
          "CustomerID": 12428,
          "Description": "Manual",
          "InvoiceDate": "2011-03-01T16:53:00",
          "InvoiceNo": 545336,
          "Quantity": 2,
          "StockCode": "M",
          "UnitPrice": 275.6
         },
         {
          "Country": "France",
          "CustomerID": 12727,
          "Description": "POSTAGE",
          "InvoiceDate": "2011-03-03T12:06:00",
          "InvoiceNo": 545515,
          "Quantity": 3,
          "StockCode": "POST",
          "UnitPrice": 18
         },
         {
          "Country": "France",
          "CustomerID": 12727,
          "Description": "POSTAGE",
          "InvoiceDate": "2011-03-03T12:20:00",
          "InvoiceNo": 545517,
          "Quantity": 1,
          "StockCode": "POST",
          "UnitPrice": 18
         },
         {
          "Country": "Germany",
          "CustomerID": 12524,
          "Description": "POSTAGE",
          "InvoiceDate": "2011-03-03T14:04:00",
          "InvoiceNo": 545533,
          "Quantity": 2,
          "StockCode": "POST",
          "UnitPrice": 18
         },
         {
          "Country": "Belgium",
          "CustomerID": 12417,
          "Description": "POSTAGE",
          "InvoiceDate": "2011-03-03T14:12:00",
          "InvoiceNo": 545536,
          "Quantity": 3,
          "StockCode": "POST",
          "UnitPrice": 15
         },
         {
          "Country": "Germany",
          "CustomerID": 12500,
          "Description": "POSTAGE",
          "InvoiceDate": "2011-03-03T15:30:00",
          "InvoiceNo": 545557,
          "Quantity": 1,
          "StockCode": "POST",
          "UnitPrice": 18
         },
         {
          "Country": "Austria",
          "CustomerID": 12817,
          "Description": "POSTAGE",
          "InvoiceDate": "2011-03-03T16:28:00",
          "InvoiceNo": 545570,
          "Quantity": 1,
          "StockCode": "POST",
          "UnitPrice": 40
         },
         {
          "Country": "France",
          "CustomerID": 12553,
          "Description": "POSTAGE",
          "InvoiceDate": "2011-03-04T09:08:00",
          "InvoiceNo": 545583,
          "Quantity": 2,
          "StockCode": "POST",
          "UnitPrice": 18
         },
         {
          "Country": "Spain",
          "CustomerID": 12541,
          "Description": "POSTAGE",
          "InvoiceDate": "2011-03-04T09:32:00",
          "InvoiceNo": 545585,
          "Quantity": 1,
          "StockCode": "POST",
          "UnitPrice": 28
         },
         {
          "Country": "United Kingdom",
          "CustomerID": 14570,
          "Description": "Manual",
          "InvoiceDate": "2011-03-04T10:39:00",
          "InvoiceNo": 545595,
          "Quantity": 1,
          "StockCode": "M",
          "UnitPrice": 0.85
         },
         {
          "Country": "Spain",
          "CustomerID": 12547,
          "Description": "POSTAGE",
          "InvoiceDate": "2011-03-04T12:46:00",
          "InvoiceNo": 545647,
          "Quantity": 1,
          "StockCode": "POST",
          "UnitPrice": 28
         },
         {
          "Country": "Italy",
          "CustomerID": 12584,
          "Description": "POSTAGE",
          "InvoiceDate": "2011-03-04T15:15:00",
          "InvoiceNo": 545664,
          "Quantity": 3,
          "StockCode": "POST",
          "UnitPrice": 28
         },
         {
          "Country": "Germany",
          "CustomerID": 12712,
          "Description": "POSTAGE",
          "InvoiceDate": "2011-03-07T09:10:00",
          "InvoiceNo": 545706,
          "Quantity": 1,
          "StockCode": "POST",
          "UnitPrice": 18
         },
         {
          "Country": "Germany",
          "CustomerID": 12708,
          "Description": "POSTAGE",
          "InvoiceDate": "2011-03-07T09:49:00",
          "InvoiceNo": 545709,
          "Quantity": 1,
          "StockCode": "POST",
          "UnitPrice": 18
         },
         {
          "Country": "United Kingdom",
          "CustomerID": 15291,
          "Description": "Manual",
          "InvoiceDate": "2011-03-07T16:14:00",
          "InvoiceNo": 545889,
          "Quantity": 1,
          "StockCode": "M",
          "UnitPrice": 45
         },
         {
          "Country": "United Kingdom",
          "CustomerID": 15834,
          "Description": "Manual",
          "InvoiceDate": "2011-03-07T17:52:00",
          "InvoiceNo": 545901,
          "Quantity": 2,
          "StockCode": "M",
          "UnitPrice": 1.25
         },
         {
          "Country": "Germany",
          "CustomerID": 12528,
          "Description": "POSTAGE",
          "InvoiceDate": "2011-03-08T11:46:00",
          "InvoiceNo": 545916,
          "Quantity": 2,
          "StockCode": "POST",
          "UnitPrice": 18
         },
         {
          "Country": "Germany",
          "CustomerID": 12662,
          "Description": "POSTAGE",
          "InvoiceDate": "2011-03-08T12:52:00",
          "InvoiceNo": 545988,
          "Quantity": 1,
          "StockCode": "POST",
          "UnitPrice": 18
         },
         {
          "Country": "Germany",
          "CustomerID": 12623,
          "Description": "POSTAGE",
          "InvoiceDate": "2011-03-08T13:50:00",
          "InvoiceNo": 545994,
          "Quantity": 2,
          "StockCode": "POST",
          "UnitPrice": 18
         },
         {
          "Country": "United Kingdom",
          "CustomerID": 15023,
          "Description": "Manual",
          "InvoiceDate": "2011-03-08T13:54:00",
          "InvoiceNo": 545995,
          "Quantity": 6,
          "StockCode": "M",
          "UnitPrice": 2.1
         },
         {
          "Country": "Netherlands",
          "CustomerID": 12759,
          "Description": "POSTAGE",
          "InvoiceDate": "2011-03-09T08:09:00",
          "InvoiceNo": 546027,
          "Quantity": 2,
          "StockCode": "POST",
          "UnitPrice": 15
         },
         {
          "Country": "United Kingdom",
          "CustomerID": 12924,
          "Description": "Manual",
          "InvoiceDate": "2011-03-09T09:50:00",
          "InvoiceNo": 546035,
          "Quantity": 1,
          "StockCode": "M",
          "UnitPrice": 7.95
         },
         {
          "Country": "United Kingdom",
          "CustomerID": 16771,
          "Description": "Manual",
          "InvoiceDate": "2011-03-09T13:56:00",
          "InvoiceNo": 546117,
          "Quantity": 12,
          "StockCode": "M",
          "UnitPrice": 1
         },
         {
          "Country": "Switzerland",
          "CustomerID": 13493,
          "Description": "POSTAGE",
          "InvoiceDate": "2011-03-09T15:35:00",
          "InvoiceNo": 546134,
          "Quantity": 2,
          "StockCode": "POST",
          "UnitPrice": 40
         },
         {
          "Country": "EIRE",
          "CustomerID": 14911,
          "Description": "Manual",
          "InvoiceDate": "2011-03-11T10:19:00",
          "InvoiceNo": 546328,
          "Quantity": 1,
          "StockCode": "M",
          "UnitPrice": 1687.17
         },
         {
          "Country": "EIRE",
          "CustomerID": 14911,
          "Description": "Manual",
          "InvoiceDate": "2011-03-11T10:22:00",
          "InvoiceNo": 546329,
          "Quantity": 1,
          "StockCode": "M",
          "UnitPrice": 1687.17
         },
         {
          "Country": "Germany",
          "CustomerID": 12520,
          "Description": "POSTAGE",
          "InvoiceDate": "2011-03-11T11:35:00",
          "InvoiceNo": 546365,
          "Quantity": 5,
          "StockCode": "POST",
          "UnitPrice": 18
         },
         {
          "Country": "France",
          "CustomerID": 12583,
          "Description": "POSTAGE",
          "InvoiceDate": "2011-03-11T12:00:00",
          "InvoiceNo": 546373,
          "Quantity": 2,
          "StockCode": "POST",
          "UnitPrice": 18
         },
         {
          "Country": "United Kingdom",
          "CustomerID": 17194,
          "Description": "Manual",
          "InvoiceDate": "2011-03-11T12:05:00",
          "InvoiceNo": 546374,
          "Quantity": 1,
          "StockCode": "M",
          "UnitPrice": 10
         },
         {
          "Country": "United Kingdom",
          "CustomerID": 17315,
          "Description": "Manual",
          "InvoiceDate": "2011-03-13T10:57:00",
          "InvoiceNo": 546418,
          "Quantity": 24,
          "StockCode": "M",
          "UnitPrice": 0.42
         },
         {
          "Country": "United Kingdom",
          "CustomerID": 13708,
          "Description": "Manual",
          "InvoiceDate": "2011-03-13T13:46:00",
          "InvoiceNo": 546426,
          "Quantity": 1,
          "StockCode": "M",
          "UnitPrice": 2
         },
         {
          "Country": "France",
          "CustomerID": 12681,
          "Description": "POSTAGE",
          "InvoiceDate": "2011-03-13T14:55:00",
          "InvoiceNo": 546428,
          "Quantity": 2,
          "StockCode": "POST",
          "UnitPrice": 18
         },
         {
          "Country": "Netherlands",
          "CustomerID": 12778,
          "Description": "POSTAGE",
          "InvoiceDate": "2011-03-14T08:37:00",
          "InvoiceNo": 546433,
          "Quantity": 1,
          "StockCode": "POST",
          "UnitPrice": 15
         },
         {
          "Country": "Belgium",
          "CustomerID": 12383,
          "Description": "POSTAGE",
          "InvoiceDate": "2011-03-14T08:41:00",
          "InvoiceNo": 546434,
          "Quantity": 4,
          "StockCode": "POST",
          "UnitPrice": 18
         },
         {
          "Country": "France",
          "CustomerID": 12682,
          "Description": "POSTAGE",
          "InvoiceDate": "2011-03-14T11:38:00",
          "InvoiceNo": 546479,
          "Quantity": 3,
          "StockCode": "POST",
          "UnitPrice": 18
         },
         {
          "Country": "United Kingdom",
          "CustomerID": 17841,
          "Description": "Manual",
          "InvoiceDate": "2011-03-14T15:40:00",
          "InvoiceNo": 546543,
          "Quantity": 1,
          "StockCode": "M",
          "UnitPrice": 0.85
         },
         {
          "Country": "France",
          "CustomerID": 12681,
          "Description": "POSTAGE",
          "InvoiceDate": "2011-03-15T16:39:00",
          "InvoiceNo": 546678,
          "Quantity": 3,
          "StockCode": "POST",
          "UnitPrice": 18
         },
         {
          "Country": "United Kingdom",
          "CustomerID": 12849,
          "Description": "Manual",
          "InvoiceDate": "2011-03-16T12:26:00",
          "InvoiceNo": 546742,
          "Quantity": 12,
          "StockCode": "M",
          "UnitPrice": 0.42
         },
         {
          "Country": "United Kingdom",
          "CustomerID": 12849,
          "Description": "Manual",
          "InvoiceDate": "2011-03-16T12:26:00",
          "InvoiceNo": 546742,
          "Quantity": 6,
          "StockCode": "M",
          "UnitPrice": 2.1
         },
         {
          "Country": "Spain",
          "CustomerID": 12502,
          "Description": "POSTAGE",
          "InvoiceDate": "2011-03-16T13:29:00",
          "InvoiceNo": 546755,
          "Quantity": 5,
          "StockCode": "POST",
          "UnitPrice": 28
         },
         {
          "Country": "Germany",
          "CustomerID": 12712,
          "Description": "POSTAGE",
          "InvoiceDate": "2011-03-16T13:58:00",
          "InvoiceNo": 546759,
          "Quantity": 2,
          "StockCode": "POST",
          "UnitPrice": 18
         },
         {
          "Country": "Spain",
          "CustomerID": 12597,
          "Description": "POSTAGE",
          "InvoiceDate": "2011-03-16T14:00:00",
          "InvoiceNo": 546760,
          "Quantity": 3,
          "StockCode": "POST",
          "UnitPrice": 28
         },
         {
          "Country": "France",
          "CustomerID": 12437,
          "Description": "POSTAGE",
          "InvoiceDate": "2011-03-16T14:37:00",
          "InvoiceNo": 546765,
          "Quantity": 1,
          "StockCode": "POST",
          "UnitPrice": 18
         },
         {
          "Country": "Germany",
          "CustomerID": 12472,
          "Description": "POSTAGE",
          "InvoiceDate": "2011-03-17T12:40:00",
          "InvoiceNo": 546843,
          "Quantity": 2,
          "StockCode": "POST",
          "UnitPrice": 18
         },
         {
          "Country": "Germany",
          "CustomerID": 12480,
          "Description": "POSTAGE",
          "InvoiceDate": "2011-03-17T13:23:00",
          "InvoiceNo": 546851,
          "Quantity": 7,
          "StockCode": "POST",
          "UnitPrice": 18
         },
         {
          "Country": "United Kingdom",
          "CustomerID": 14462,
          "Description": "Manual",
          "InvoiceDate": "2011-03-17T15:47:00",
          "InvoiceNo": 546866,
          "Quantity": 2,
          "StockCode": "M",
          "UnitPrice": 2.5
         },
         {
          "Country": "Germany",
          "CustomerID": 12500,
          "Description": "POSTAGE",
          "InvoiceDate": "2011-03-18T09:55:00",
          "InvoiceNo": 546919,
          "Quantity": 1,
          "StockCode": "POST",
          "UnitPrice": 18
         },
         {
          "Country": "Germany",
          "CustomerID": 12471,
          "Description": "POSTAGE",
          "InvoiceDate": "2011-03-18T09:55:00",
          "InvoiceNo": 546920,
          "Quantity": 8,
          "StockCode": "POST",
          "UnitPrice": 18
         },
         {
          "Country": "Germany",
          "CustomerID": 12647,
          "Description": "POSTAGE",
          "InvoiceDate": "2011-03-18T10:09:00",
          "InvoiceNo": 546925,
          "Quantity": 3,
          "StockCode": "POST",
          "UnitPrice": 18
         },
         {
          "Country": "United Kingdom",
          "CustomerID": 16511,
          "Description": "Manual",
          "InvoiceDate": "2011-03-18T11:24:00",
          "InvoiceNo": 546950,
          "Quantity": 4,
          "StockCode": "M",
          "UnitPrice": 0.5
         },
         {
          "Country": "Germany",
          "CustomerID": 12474,
          "Description": "POSTAGE",
          "InvoiceDate": "2011-03-18T14:20:00",
          "InvoiceNo": 547005,
          "Quantity": 4,
          "StockCode": "POST",
          "UnitPrice": 18
         },
         {
          "Country": "Belgium",
          "CustomerID": 12407,
          "Description": "POSTAGE",
          "InvoiceDate": "2011-03-20T13:21:00",
          "InvoiceNo": 547061,
          "Quantity": 1,
          "StockCode": "POST",
          "UnitPrice": 15
         },
         {
          "Country": "Germany",
          "CustomerID": 12693,
          "Description": "POSTAGE",
          "InvoiceDate": "2011-03-20T13:59:00",
          "InvoiceNo": 547071,
          "Quantity": 2,
          "StockCode": "POST",
          "UnitPrice": 18
         },
         {
          "Country": "Germany",
          "CustomerID": 12600,
          "Description": "POSTAGE",
          "InvoiceDate": "2011-03-20T15:41:00",
          "InvoiceNo": 547085,
          "Quantity": 1,
          "StockCode": "POST",
          "UnitPrice": 18
         },
         {
          "Country": "Finland",
          "CustomerID": 12428,
          "Description": "POSTAGE",
          "InvoiceDate": "2011-03-20T15:46:00",
          "InvoiceNo": 547086,
          "Quantity": 3,
          "StockCode": "POST",
          "UnitPrice": 40
         },
         {
          "Country": "France",
          "CustomerID": 12726,
          "Description": "POSTAGE",
          "InvoiceDate": "2011-03-20T15:58:00",
          "InvoiceNo": 547087,
          "Quantity": 1,
          "StockCode": "POST",
          "UnitPrice": 18
         },
         {
          "Country": "Belgium",
          "CustomerID": 12423,
          "Description": "POSTAGE",
          "InvoiceDate": "2011-03-21T11:46:00",
          "InvoiceNo": 547109,
          "Quantity": 2,
          "StockCode": "POST",
          "UnitPrice": 15
         },
         {
          "Country": "France",
          "CustomerID": 12681,
          "Description": "POSTAGE",
          "InvoiceDate": "2011-03-22T11:28:00",
          "InvoiceNo": 547327,
          "Quantity": 3,
          "StockCode": "POST",
          "UnitPrice": 18
         },
         {
          "Country": "Netherlands",
          "CustomerID": 12775,
          "Description": "POSTAGE",
          "InvoiceDate": "2011-03-22T12:36:00",
          "InvoiceNo": 547365,
          "Quantity": 1,
          "StockCode": "POST",
          "UnitPrice": 15
         },
         {
          "Country": "Germany",
          "CustomerID": 12720,
          "Description": "POSTAGE",
          "InvoiceDate": "2011-03-22T15:13:00",
          "InvoiceNo": 547379,
          "Quantity": 6,
          "StockCode": "POST",
          "UnitPrice": 18
         },
         {
          "Country": "Germany",
          "CustomerID": 12613,
          "Description": "POSTAGE",
          "InvoiceDate": "2011-03-22T15:42:00",
          "InvoiceNo": 547383,
          "Quantity": 3,
          "StockCode": "POST",
          "UnitPrice": 18
         },
         {
          "Country": "Germany",
          "CustomerID": 12613,
          "Description": "POSTAGE",
          "InvoiceDate": "2011-03-22T15:46:00",
          "InvoiceNo": 547384,
          "Quantity": 1,
          "StockCode": "POST",
          "UnitPrice": 18
         },
         {
          "Country": "Norway",
          "CustomerID": 12352,
          "Description": "POSTAGE",
          "InvoiceDate": "2011-03-22T16:08:00",
          "InvoiceNo": 547390,
          "Quantity": 1,
          "StockCode": "POST",
          "UnitPrice": 40
         },
         {
          "Country": "Belgium",
          "CustomerID": 12399,
          "Description": "POSTAGE",
          "InvoiceDate": "2011-03-23T09:42:00",
          "InvoiceNo": 547412,
          "Quantity": 1,
          "StockCode": "POST",
          "UnitPrice": 15
         },
         {
          "Country": "Portugal",
          "CustomerID": 12811,
          "Description": "POSTAGE",
          "InvoiceDate": "2011-03-23T10:55:00",
          "InvoiceNo": 547444,
          "Quantity": 1,
          "StockCode": "POST",
          "UnitPrice": 1
         },
         {
          "Country": "France",
          "CustomerID": 12604,
          "Description": "POSTAGE",
          "InvoiceDate": "2011-03-23T12:06:00",
          "InvoiceNo": 547492,
          "Quantity": 1,
          "StockCode": "POST",
          "UnitPrice": 18
         },
         {
          "Country": "Austria",
          "CustomerID": 12818,
          "Description": "POSTAGE",
          "InvoiceDate": "2011-03-23T12:06:00",
          "InvoiceNo": 547493,
          "Quantity": 9,
          "StockCode": "POST",
          "UnitPrice": 40
         },
         {
          "Country": "France",
          "CustomerID": 12683,
          "Description": "POSTAGE",
          "InvoiceDate": "2011-03-23T13:33:00",
          "InvoiceNo": 547504,
          "Quantity": 8,
          "StockCode": "POST",
          "UnitPrice": 18
         },
         {
          "Country": "Belgium",
          "CustomerID": 12395,
          "Description": "POSTAGE",
          "InvoiceDate": "2011-03-23T14:33:00",
          "InvoiceNo": 547517,
          "Quantity": 3,
          "StockCode": "POST",
          "UnitPrice": 15
         },
         {
          "Country": "France",
          "CustomerID": 12564,
          "Description": "POSTAGE",
          "InvoiceDate": "2011-03-23T14:55:00",
          "InvoiceNo": 547520,
          "Quantity": 3,
          "StockCode": "POST",
          "UnitPrice": 18
         },
         {
          "Country": "Portugal",
          "CustomerID": 12811,
          "Description": "POSTAGE",
          "InvoiceDate": "2011-03-24T09:42:00",
          "InvoiceNo": 547566,
          "Quantity": 1,
          "StockCode": "POST",
          "UnitPrice": 27
         },
         {
          "Country": "Sweden",
          "CustomerID": 12676,
          "Description": "POSTAGE",
          "InvoiceDate": "2011-03-24T11:40:00",
          "InvoiceNo": 547645,
          "Quantity": 1,
          "StockCode": "POST",
          "UnitPrice": 40
         },
         {
          "Country": "Belgium",
          "CustomerID": 12408,
          "Description": "POSTAGE",
          "InvoiceDate": "2011-03-24T14:46:00",
          "InvoiceNo": 547684,
          "Quantity": 5,
          "StockCode": "POST",
          "UnitPrice": 15
         },
         {
          "Country": "Spain",
          "CustomerID": 12540,
          "Description": "POSTAGE",
          "InvoiceDate": "2011-03-24T17:10:00",
          "InvoiceNo": 547703,
          "Quantity": 8,
          "StockCode": "POST",
          "UnitPrice": 28
         },
         {
          "Country": "Germany",
          "CustomerID": 12520,
          "Description": "POSTAGE",
          "InvoiceDate": "2011-03-25T08:50:00",
          "InvoiceNo": 547715,
          "Quantity": 2,
          "StockCode": "POST",
          "UnitPrice": 18
         },
         {
          "Country": "France",
          "CustomerID": 12553,
          "Description": "POSTAGE",
          "InvoiceDate": "2011-03-25T10:19:00",
          "InvoiceNo": 547722,
          "Quantity": 3,
          "StockCode": "POST",
          "UnitPrice": 18
         },
         {
          "Country": "Spain",
          "CustomerID": 12545,
          "Description": "POSTAGE",
          "InvoiceDate": "2011-03-25T12:04:00",
          "InvoiceNo": 547790,
          "Quantity": 3,
          "StockCode": "POST",
          "UnitPrice": 28
         },
         {
          "Country": "Netherlands",
          "CustomerID": 14646,
          "Description": "POSTAGE",
          "InvoiceDate": "2011-03-25T12:34:00",
          "InvoiceNo": 547796,
          "Quantity": 9,
          "StockCode": "POST",
          "UnitPrice": 15
         },
         {
          "Country": "Switzerland",
          "CustomerID": 13520,
          "Description": "POSTAGE",
          "InvoiceDate": "2011-03-25T14:19:00",
          "InvoiceNo": 547815,
          "Quantity": 1,
          "StockCode": "POST",
          "UnitPrice": 40
         },
         {
          "Country": "Germany",
          "CustomerID": 12621,
          "Description": "POSTAGE",
          "InvoiceDate": "2011-03-25T14:50:00",
          "InvoiceNo": 547821,
          "Quantity": 4,
          "StockCode": "POST",
          "UnitPrice": 18
         },
         {
          "Country": "Germany",
          "CustomerID": 12668,
          "Description": "POSTAGE",
          "InvoiceDate": "2011-03-25T14:53:00",
          "InvoiceNo": 547822,
          "Quantity": 16,
          "StockCode": "POST",
          "UnitPrice": 18
         },
         {
          "Country": "Netherlands",
          "CustomerID": 12778,
          "Description": "POSTAGE",
          "InvoiceDate": "2011-03-25T15:01:00",
          "InvoiceNo": 547825,
          "Quantity": 1,
          "StockCode": "POST",
          "UnitPrice": 15
         },
         {
          "Country": "France",
          "CustomerID": 12728,
          "Description": "POSTAGE",
          "InvoiceDate": "2011-03-27T13:07:00",
          "InvoiceNo": 547863,
          "Quantity": 2,
          "StockCode": "POST",
          "UnitPrice": 18
         },
         {
          "Country": "United Kingdom",
          "CustomerID": 13240,
          "Description": "Manual",
          "InvoiceDate": "2011-03-27T15:33:00",
          "InvoiceNo": 547873,
          "Quantity": 1,
          "StockCode": "M",
          "UnitPrice": 14.95
         },
         {
          "Country": "France",
          "CustomerID": 12669,
          "Description": "POSTAGE",
          "InvoiceDate": "2011-03-28T10:15:00",
          "InvoiceNo": 547892,
          "Quantity": 6,
          "StockCode": "POST",
          "UnitPrice": 18
         },
         {
          "Country": "Portugal",
          "CustomerID": 12792,
          "Description": "POSTAGE",
          "InvoiceDate": "2011-03-28T11:36:00",
          "InvoiceNo": 547897,
          "Quantity": 2,
          "StockCode": "POST",
          "UnitPrice": 28
         },
         {
          "Country": "United Kingdom",
          "CustomerID": 14410,
          "Description": "Manual",
          "InvoiceDate": "2011-03-28T12:13:00",
          "InvoiceNo": 547906,
          "Quantity": 2,
          "StockCode": "M",
          "UnitPrice": 0.5
         },
         {
          "Country": "Italy",
          "CustomerID": 12594,
          "Description": "POSTAGE",
          "InvoiceDate": "2011-03-28T12:35:00",
          "InvoiceNo": 547914,
          "Quantity": 1,
          "StockCode": "POST",
          "UnitPrice": 18
         },
         {
          "Country": "Germany",
          "CustomerID": 12481,
          "Description": "POSTAGE",
          "InvoiceDate": "2011-03-28T13:57:00",
          "InvoiceNo": 547925,
          "Quantity": 4,
          "StockCode": "POST",
          "UnitPrice": 18
         },
         {
          "Country": "Italy",
          "CustomerID": 12594,
          "Description": "POSTAGE",
          "InvoiceDate": "2011-03-28T14:01:00",
          "InvoiceNo": 547931,
          "Quantity": 1,
          "StockCode": "POST",
          "UnitPrice": 28
         },
         {
          "Country": "Germany",
          "CustomerID": 12474,
          "Description": "POSTAGE",
          "InvoiceDate": "2011-03-28T14:07:00",
          "InvoiceNo": 547934,
          "Quantity": 1,
          "StockCode": "POST",
          "UnitPrice": 18
         },
         {
          "Country": "United Kingdom",
          "CustomerID": 16692,
          "Description": "POSTAGE",
          "InvoiceDate": "2011-03-28T14:46:00",
          "InvoiceNo": 547941,
          "Quantity": 1,
          "StockCode": "POST",
          "UnitPrice": 150
         },
         {
          "Country": "Switzerland",
          "CustomerID": 12456,
          "Description": "POSTAGE",
          "InvoiceDate": "2011-03-30T09:12:00",
          "InvoiceNo": 548212,
          "Quantity": 4,
          "StockCode": "POST",
          "UnitPrice": 40
         },
         {
          "Country": "Germany",
          "CustomerID": 12709,
          "Description": "POSTAGE",
          "InvoiceDate": "2011-03-30T12:54:00",
          "InvoiceNo": 548320,
          "Quantity": 2,
          "StockCode": "POST",
          "UnitPrice": 18
         },
         {
          "Country": "United Kingdom",
          "CustomerID": 16788,
          "Description": "Manual",
          "InvoiceDate": "2011-03-30T13:05:00",
          "InvoiceNo": 548327,
          "Quantity": 1,
          "StockCode": "M",
          "UnitPrice": 1.65
         },
         {
          "Country": "Finland",
          "CustomerID": 12428,
          "Description": "POSTAGE",
          "InvoiceDate": "2011-03-30T15:48:00",
          "InvoiceNo": 548363,
          "Quantity": 10,
          "StockCode": "POST",
          "UnitPrice": 40
         },
         {
          "Country": "Germany",
          "CustomerID": 12601,
          "Description": "POSTAGE",
          "InvoiceDate": "2011-03-31T10:38:00",
          "InvoiceNo": 548412,
          "Quantity": 1,
          "StockCode": "POST",
          "UnitPrice": 18
         },
         {
          "Country": "United Kingdom",
          "CustomerID": 14527,
          "Description": "Manual",
          "InvoiceDate": "2011-03-31T12:08:00",
          "InvoiceNo": 548461,
          "Quantity": 2,
          "StockCode": "M",
          "UnitPrice": 0.5
         },
         {
          "Country": "Portugal",
          "CustomerID": 12782,
          "Description": "POSTAGE",
          "InvoiceDate": "2011-03-31T12:36:00",
          "InvoiceNo": 548470,
          "Quantity": 2,
          "StockCode": "POST",
          "UnitPrice": 28
         },
         {
          "Country": "United Kingdom",
          "CustomerID": 14543,
          "Description": "Manual",
          "InvoiceDate": "2011-04-01T10:43:00",
          "InvoiceNo": 548568,
          "Quantity": 1,
          "StockCode": "M",
          "UnitPrice": 12.75
         },
         {
          "Country": "United Kingdom",
          "CustomerID": 14543,
          "Description": "Manual",
          "InvoiceDate": "2011-04-01T10:43:00",
          "InvoiceNo": 548568,
          "Quantity": 2,
          "StockCode": "M",
          "UnitPrice": 10.95
         },
         {
          "Country": "United Kingdom",
          "CustomerID": 16960,
          "Description": "Manual",
          "InvoiceDate": "2011-04-01T11:54:00",
          "InvoiceNo": 548621,
          "Quantity": 3,
          "StockCode": "M",
          "UnitPrice": 0.65
         },
         {
          "Country": "United Kingdom",
          "CustomerID": 13184,
          "Description": "Manual",
          "InvoiceDate": "2011-04-01T12:24:00",
          "InvoiceNo": 548631,
          "Quantity": 1,
          "StockCode": "M",
          "UnitPrice": 1
         },
         {
          "Country": "Germany",
          "CustomerID": 12569,
          "Description": "POSTAGE",
          "InvoiceDate": "2011-04-01T13:47:00",
          "InvoiceNo": 548654,
          "Quantity": 7,
          "StockCode": "POST",
          "UnitPrice": 18
         },
         {
          "Country": "Australia",
          "CustomerID": 12415,
          "Description": "POSTAGE",
          "InvoiceDate": "2011-04-01T14:28:00",
          "InvoiceNo": 548661,
          "Quantity": 1,
          "StockCode": "POST",
          "UnitPrice": 350
         },
         {
          "Country": "France",
          "CustomerID": 12678,
          "Description": "POSTAGE",
          "InvoiceDate": "2011-04-04T09:08:00",
          "InvoiceNo": 548725,
          "Quantity": 1,
          "StockCode": "POST",
          "UnitPrice": 134
         },
         {
          "Country": "France",
          "CustomerID": 12682,
          "Description": "POSTAGE",
          "InvoiceDate": "2011-04-04T11:18:00",
          "InvoiceNo": 548737,
          "Quantity": 4,
          "StockCode": "POST",
          "UnitPrice": 18
         },
         {
          "Country": "Germany",
          "CustomerID": 12471,
          "Description": "POSTAGE",
          "InvoiceDate": "2011-04-04T12:10:00",
          "InvoiceNo": 548745,
          "Quantity": 3,
          "StockCode": "POST",
          "UnitPrice": 18
         },
         {
          "Country": "Singapore",
          "CustomerID": 12744,
          "Description": "Manual",
          "InvoiceDate": "2011-04-04T13:03:00",
          "InvoiceNo": 548813,
          "Quantity": 1,
          "StockCode": "M",
          "UnitPrice": 162.6
         },
         {
          "Country": "Singapore",
          "CustomerID": 12744,
          "Description": "Manual",
          "InvoiceDate": "2011-04-04T13:03:00",
          "InvoiceNo": 548813,
          "Quantity": 1,
          "StockCode": "M",
          "UnitPrice": 2382.92
         },
         {
          "Country": "Singapore",
          "CustomerID": 12744,
          "Description": "Manual",
          "InvoiceDate": "2011-04-04T13:03:00",
          "InvoiceNo": 548813,
          "Quantity": 1,
          "StockCode": "M",
          "UnitPrice": 239.3
         },
         {
          "Country": "Singapore",
          "CustomerID": 12744,
          "Description": "Manual",
          "InvoiceDate": "2011-04-04T13:03:00",
          "InvoiceNo": 548813,
          "Quantity": 1,
          "StockCode": "M",
          "UnitPrice": 1252.95
         },
         {
          "Country": "Singapore",
          "CustomerID": 12744,
          "Description": "Manual",
          "InvoiceDate": "2011-04-04T13:04:00",
          "InvoiceNo": 548820,
          "Quantity": 1,
          "StockCode": "M",
          "UnitPrice": 2053.07
         },
         {
          "Country": "United Kingdom",
          "CustomerID": 13263,
          "Description": "Manual",
          "InvoiceDate": "2011-04-04T13:38:00",
          "InvoiceNo": 548860,
          "Quantity": 1,
          "StockCode": "M",
          "UnitPrice": 2
         },
         {
          "Country": "France",
          "CustomerID": 12669,
          "Description": "Manual",
          "InvoiceDate": "2011-04-05T09:45:00",
          "InvoiceNo": 548913,
          "Quantity": 1,
          "StockCode": "M",
          "UnitPrice": 1136.3
         },
         {
          "Country": "Finland",
          "CustomerID": 12348,
          "Description": "POSTAGE",
          "InvoiceDate": "2011-04-05T10:47:00",
          "InvoiceNo": 548955,
          "Quantity": 1,
          "StockCode": "POST",
          "UnitPrice": 40
         },
         {
          "Country": "Germany",
          "CustomerID": 12580,
          "Description": "POSTAGE",
          "InvoiceDate": "2011-04-07T10:24:00",
          "InvoiceNo": 549193,
          "Quantity": 2,
          "StockCode": "POST",
          "UnitPrice": 18
         },
         {
          "Country": "United Kingdom",
          "CustomerID": 15005,
          "Description": "Manual",
          "InvoiceDate": "2011-04-07T11:59:00",
          "InvoiceNo": 549245,
          "Quantity": 2,
          "StockCode": "M",
          "UnitPrice": 0.85
         },
         {
          "Country": "Belgium",
          "CustomerID": 12423,
          "Description": "POSTAGE",
          "InvoiceDate": "2011-04-07T12:04:00",
          "InvoiceNo": 549249,
          "Quantity": 2,
          "StockCode": "POST",
          "UnitPrice": 15
         },
         {
          "Country": "France",
          "CustomerID": 12721,
          "Description": "POSTAGE",
          "InvoiceDate": "2011-04-07T13:07:00",
          "InvoiceNo": 549274,
          "Quantity": 3,
          "StockCode": "POST",
          "UnitPrice": 18
         },
         {
          "Country": "Greece",
          "CustomerID": 12717,
          "Description": "POSTAGE",
          "InvoiceDate": "2011-04-08T10:32:00",
          "InvoiceNo": 549325,
          "Quantity": 2,
          "StockCode": "POST",
          "UnitPrice": 50
         },
         {
          "Country": "Germany",
          "CustomerID": 12647,
          "Description": "POSTAGE",
          "InvoiceDate": "2011-04-08T12:30:00",
          "InvoiceNo": 549434,
          "Quantity": 4,
          "StockCode": "POST",
          "UnitPrice": 18
         },
         {
          "Country": "United Kingdom",
          "CustomerID": 17940,
          "Description": "Manual",
          "InvoiceDate": "2011-04-08T14:27:00",
          "InvoiceNo": 549468,
          "Quantity": 1,
          "StockCode": "M",
          "UnitPrice": 1867.86
         },
         {
          "Country": "Belgium",
          "CustomerID": 12447,
          "Description": "POSTAGE",
          "InvoiceDate": "2011-04-10T13:25:00",
          "InvoiceNo": 549559,
          "Quantity": 3,
          "StockCode": "POST",
          "UnitPrice": 15
         },
         {
          "Country": "Finland",
          "CustomerID": 12428,
          "Description": "POSTAGE",
          "InvoiceDate": "2011-04-11T10:04:00",
          "InvoiceNo": 549588,
          "Quantity": 3,
          "StockCode": "POST",
          "UnitPrice": 40
         },
         {
          "Country": "Germany",
          "CustomerID": 12701,
          "Description": "POSTAGE",
          "InvoiceDate": "2011-04-11T13:02:00",
          "InvoiceNo": 549680,
          "Quantity": 2,
          "StockCode": "POST",
          "UnitPrice": 18
         },
         {
          "Country": "Spain",
          "CustomerID": 12596,
          "Description": "POSTAGE",
          "InvoiceDate": "2011-04-11T13:22:00",
          "InvoiceNo": 549682,
          "Quantity": 2,
          "StockCode": "POST",
          "UnitPrice": 28
         },
         {
          "Country": "United Kingdom",
          "CustomerID": 15971,
          "Description": "POSTAGE",
          "InvoiceDate": "2011-04-11T13:40:00",
          "InvoiceNo": 549689,
          "Quantity": 1,
          "StockCode": "POST",
          "UnitPrice": 4.95
         },
         {
          "Country": "United Kingdom",
          "CustomerID": 15867,
          "Description": "Manual",
          "InvoiceDate": "2011-04-11T16:35:00",
          "InvoiceNo": 549730,
          "Quantity": 1,
          "StockCode": "M",
          "UnitPrice": 1.5
         },
         {
          "Country": "United Kingdom",
          "CustomerID": 15935,
          "Description": "Manual",
          "InvoiceDate": "2011-04-12T09:35:00",
          "InvoiceNo": 549739,
          "Quantity": 1,
          "StockCode": "M",
          "UnitPrice": 308.82
         },
         {
          "Country": "Belgium",
          "CustomerID": 12463,
          "Description": "POSTAGE",
          "InvoiceDate": "2011-04-12T12:47:00",
          "InvoiceNo": 549825,
          "Quantity": 2,
          "StockCode": "POST",
          "UnitPrice": 18
         },
         {
          "Country": "United Kingdom",
          "CustomerID": 16348,
          "Description": "Manual",
          "InvoiceDate": "2011-04-13T15:49:00",
          "InvoiceNo": 549981,
          "Quantity": 6,
          "StockCode": "M",
          "UnitPrice": 0.39
         },
         {
          "Country": "United Kingdom",
          "CustomerID": 13221,
          "Description": "Manual",
          "InvoiceDate": "2011-04-13T16:58:00",
          "InvoiceNo": 549989,
          "Quantity": 1,
          "StockCode": "M",
          "UnitPrice": 2.55
         },
         {
          "Country": "Germany",
          "CustomerID": 12709,
          "Description": "POSTAGE",
          "InvoiceDate": "2011-04-14T09:30:00",
          "InvoiceNo": 550002,
          "Quantity": 1,
          "StockCode": "POST",
          "UnitPrice": 18
         },
         {
          "Country": "Germany",
          "CustomerID": 12569,
          "Description": "POSTAGE",
          "InvoiceDate": "2011-04-14T09:56:00",
          "InvoiceNo": 550004,
          "Quantity": 4,
          "StockCode": "POST",
          "UnitPrice": 18
         },
         {
          "Country": "France",
          "CustomerID": 12637,
          "Description": "POSTAGE",
          "InvoiceDate": "2011-04-14T14:15:00",
          "InvoiceNo": 550145,
          "Quantity": 3,
          "StockCode": "POST",
          "UnitPrice": 18
         },
         {
          "Country": "Germany",
          "CustomerID": 12569,
          "Description": "POSTAGE",
          "InvoiceDate": "2011-04-14T16:23:00",
          "InvoiceNo": 550162,
          "Quantity": 2,
          "StockCode": "POST",
          "UnitPrice": 18
         },
         {
          "Country": "Germany",
          "CustomerID": 12662,
          "Description": "POSTAGE",
          "InvoiceDate": "2011-04-14T17:25:00",
          "InvoiceNo": 550178,
          "Quantity": 2,
          "StockCode": "POST",
          "UnitPrice": 18
         },
         {
          "Country": "Germany",
          "CustomerID": 13811,
          "Description": "POSTAGE",
          "InvoiceDate": "2011-04-14T18:40:00",
          "InvoiceNo": 550187,
          "Quantity": 2,
          "StockCode": "POST",
          "UnitPrice": 18
         },
         {
          "Country": "Switzerland",
          "CustomerID": 12457,
          "Description": "POSTAGE",
          "InvoiceDate": "2011-04-14T18:57:00",
          "InvoiceNo": 550188,
          "Quantity": 3,
          "StockCode": "POST",
          "UnitPrice": 40
         },
         {
          "Country": "Finland",
          "CustomerID": 12582,
          "Description": "POSTAGE",
          "InvoiceDate": "2011-04-15T08:45:00",
          "InvoiceNo": 550192,
          "Quantity": 3,
          "StockCode": "POST",
          "UnitPrice": 40
         },
         {
          "Country": "Sweden",
          "CustomerID": 12639,
          "Description": "POSTAGE",
          "InvoiceDate": "2011-04-15T12:48:00",
          "InvoiceNo": 550277,
          "Quantity": 3,
          "StockCode": "POST",
          "UnitPrice": 40
         },
         {
          "Country": "Switzerland",
          "CustomerID": 12457,
          "Description": "POSTAGE",
          "InvoiceDate": "2011-04-15T13:48:00",
          "InvoiceNo": 550281,
          "Quantity": 1,
          "StockCode": "POST",
          "UnitPrice": 40
         },
         {
          "Country": "Belgium",
          "CustomerID": 12383,
          "Description": "POSTAGE",
          "InvoiceDate": "2011-04-15T14:10:00",
          "InvoiceNo": 550284,
          "Quantity": 1,
          "StockCode": "POST",
          "UnitPrice": 15
         },
         {
          "Country": "France",
          "CustomerID": 12681,
          "Description": "POSTAGE",
          "InvoiceDate": "2011-04-17T11:21:00",
          "InvoiceNo": 550313,
          "Quantity": 2,
          "StockCode": "POST",
          "UnitPrice": 18
         },
         {
          "Country": "Germany",
          "CustomerID": 13811,
          "Description": "Manual",
          "InvoiceDate": "2011-04-18T10:28:00",
          "InvoiceNo": 550354,
          "Quantity": 1,
          "StockCode": "M",
          "UnitPrice": 222.75
         },
         {
          "Country": "Belgium",
          "CustomerID": 12407,
          "Description": "POSTAGE",
          "InvoiceDate": "2011-04-18T12:25:00",
          "InvoiceNo": 550440,
          "Quantity": 2,
          "StockCode": "POST",
          "UnitPrice": 15
         },
         {
          "Country": "United Kingdom",
          "CustomerID": 16399,
          "Description": "Manual",
          "InvoiceDate": "2011-04-18T13:46:00",
          "InvoiceNo": 550469,
          "Quantity": 18,
          "StockCode": "M",
          "UnitPrice": 0.1
         },
         {
          "Country": "United Kingdom",
          "CustomerID": 16729,
          "Description": "Manual",
          "InvoiceDate": "2011-04-18T14:27:00",
          "InvoiceNo": 550488,
          "Quantity": 4,
          "StockCode": "M",
          "UnitPrice": 0.83
         },
         {
          "Country": "United Kingdom",
          "CustomerID": 16928,
          "Description": "Manual",
          "InvoiceDate": "2011-04-18T16:37:00",
          "InvoiceNo": 550513,
          "Quantity": 1,
          "StockCode": "M",
          "UnitPrice": 7.95
         },
         {
          "Country": "Germany",
          "CustomerID": 12476,
          "Description": "POSTAGE",
          "InvoiceDate": "2011-04-19T10:48:00",
          "InvoiceNo": 550527,
          "Quantity": 11,
          "StockCode": "POST",
          "UnitPrice": 18
         },
         {
          "Country": "Germany",
          "CustomerID": 12585,
          "Description": "POSTAGE",
          "InvoiceDate": "2011-04-19T13:39:00",
          "InvoiceNo": 550620,
          "Quantity": 6,
          "StockCode": "POST",
          "UnitPrice": 18
         },
         {
          "Country": "Germany",
          "CustomerID": 12619,
          "Description": "POSTAGE",
          "InvoiceDate": "2011-04-19T14:02:00",
          "InvoiceNo": 550625,
          "Quantity": 2,
          "StockCode": "POST",
          "UnitPrice": 18
         },
         {
          "Country": "United Kingdom",
          "CustomerID": 17449,
          "Description": "Manual",
          "InvoiceDate": "2011-04-19T14:57:00",
          "InvoiceNo": 550633,
          "Quantity": 1,
          "StockCode": "M",
          "UnitPrice": 3
         },
         {
          "Country": "France",
          "CustomerID": 12656,
          "Description": "POSTAGE",
          "InvoiceDate": "2011-04-20T09:20:00",
          "InvoiceNo": 550661,
          "Quantity": 4,
          "StockCode": "POST",
          "UnitPrice": 18
         },
         {
          "Country": "Germany",
          "CustomerID": 12530,
          "Description": "POSTAGE",
          "InvoiceDate": "2011-04-20T09:31:00",
          "InvoiceNo": 550665,
          "Quantity": 2,
          "StockCode": "POST",
          "UnitPrice": 18
         },
         {
          "Country": "France",
          "CustomerID": 12670,
          "Description": "POSTAGE",
          "InvoiceDate": "2011-04-21T10:16:00",
          "InvoiceNo": 550827,
          "Quantity": 3,
          "StockCode": "POST",
          "UnitPrice": 18
         },
         {
          "Country": "Switzerland",
          "CustomerID": 13505,
          "Description": "POSTAGE",
          "InvoiceDate": "2011-04-21T12:07:00",
          "InvoiceNo": 550899,
          "Quantity": 4,
          "StockCode": "POST",
          "UnitPrice": 40
         },
         {
          "Country": "Finland",
          "CustomerID": 12664,
          "Description": "POSTAGE",
          "InvoiceDate": "2011-04-21T14:33:00",
          "InvoiceNo": 550924,
          "Quantity": 1,
          "StockCode": "POST",
          "UnitPrice": 40
         },
         {
          "Country": "Germany",
          "CustomerID": 12708,
          "Description": "POSTAGE",
          "InvoiceDate": "2011-04-21T15:52:00",
          "InvoiceNo": 550946,
          "Quantity": 1,
          "StockCode": "POST",
          "UnitPrice": 18
         },
         {
          "Country": "United Kingdom",
          "CustomerID": 18283,
          "Description": "Manual",
          "InvoiceDate": "2011-04-21T16:37:00",
          "InvoiceNo": 550957,
          "Quantity": 1,
          "StockCode": "M",
          "UnitPrice": 1.95
         },
         {
          "Country": "Germany",
          "CustomerID": 12622,
          "Description": "POSTAGE",
          "InvoiceDate": "2011-04-21T16:39:00",
          "InvoiceNo": 550960,
          "Quantity": 1,
          "StockCode": "POST",
          "UnitPrice": 18
         },
         {
          "Country": "Austria",
          "CustomerID": 12414,
          "Description": "POSTAGE",
          "InvoiceDate": "2011-04-26T09:12:00",
          "InvoiceNo": 550998,
          "Quantity": 1,
          "StockCode": "POST",
          "UnitPrice": 40
         },
         {
          "Country": "European Community",
          "CustomerID": 15108,
          "Description": "POSTAGE",
          "InvoiceDate": "2011-04-26T10:54:00",
          "InvoiceNo": 551013,
          "Quantity": 2,
          "StockCode": "POST",
          "UnitPrice": 18
         },
         {
          "Country": "United Kingdom",
          "CustomerID": 17975,
          "Description": "Manual",
          "InvoiceDate": "2011-04-26T11:09:00",
          "InvoiceNo": 551016,
          "Quantity": 2,
          "StockCode": "M",
          "UnitPrice": 1.65
         },
         {
          "Country": "Austria",
          "CustomerID": 12429,
          "Description": "POSTAGE",
          "InvoiceDate": "2011-04-26T11:44:00",
          "InvoiceNo": 551054,
          "Quantity": 2,
          "StockCode": "POST",
          "UnitPrice": 28
         },
         {
          "Country": "Germany",
          "CustomerID": 12621,
          "Description": "POSTAGE",
          "InvoiceDate": "2011-04-27T12:02:00",
          "InvoiceNo": 551258,
          "Quantity": 8,
          "StockCode": "POST",
          "UnitPrice": 18
         },
         {
          "Country": "United Kingdom",
          "CustomerID": 16965,
          "Description": "Manual",
          "InvoiceDate": "2011-04-27T12:08:00",
          "InvoiceNo": 551268,
          "Quantity": 48,
          "StockCode": "M",
          "UnitPrice": 0.19
         },
         {
          "Country": "United Kingdom",
          "CustomerID": 15891,
          "Description": "Manual",
          "InvoiceDate": "2011-04-27T12:35:00",
          "InvoiceNo": 551270,
          "Quantity": 1,
          "StockCode": "M",
          "UnitPrice": 2.55
         },
         {
          "Country": "United Kingdom",
          "CustomerID": 13637,
          "Description": "Manual",
          "InvoiceDate": "2011-04-27T13:06:00",
          "InvoiceNo": 551277,
          "Quantity": 1,
          "StockCode": "M",
          "UnitPrice": 1.25
         },
         {
          "Country": "Sweden",
          "CustomerID": 12483,
          "Description": "POSTAGE",
          "InvoiceDate": "2011-04-27T13:13:00",
          "InvoiceNo": 551278,
          "Quantity": 1,
          "StockCode": "POST",
          "UnitPrice": 40
         },
         {
          "Country": "Netherlands",
          "CustomerID": 14646,
          "Description": "POSTAGE",
          "InvoiceDate": "2011-04-28T09:03:00",
          "InvoiceNo": 551345,
          "Quantity": 6,
          "StockCode": "POST",
          "UnitPrice": 15
         },
         {
          "Country": "Belgium",
          "CustomerID": 12362,
          "Description": "POSTAGE",
          "InvoiceDate": "2011-04-28T09:12:00",
          "InvoiceNo": 551346,
          "Quantity": 3,
          "StockCode": "POST",
          "UnitPrice": 15
         },
         {
          "Country": "France",
          "CustomerID": 12437,
          "Description": "POSTAGE",
          "InvoiceDate": "2011-04-28T11:45:00",
          "InvoiceNo": 551389,
          "Quantity": 1,
          "StockCode": "POST",
          "UnitPrice": 18
         },
         {
          "Country": "Spain",
          "CustomerID": 12417,
          "Description": "POSTAGE",
          "InvoiceDate": "2011-04-28T13:09:00",
          "InvoiceNo": 551398,
          "Quantity": 3,
          "StockCode": "POST",
          "UnitPrice": 28
         },
         {
          "Country": "United Kingdom",
          "CustomerID": 12748,
          "Description": "Manual",
          "InvoiceDate": "2011-04-28T13:51:00",
          "InvoiceNo": 551419,
          "Quantity": 1,
          "StockCode": "M",
          "UnitPrice": 400
         },
         {
          "Country": "Germany",
          "CustomerID": 12600,
          "Description": "POSTAGE",
          "InvoiceDate": "2011-04-28T16:20:00",
          "InvoiceNo": 551467,
          "Quantity": 1,
          "StockCode": "POST",
          "UnitPrice": 18
         },
         {
          "Country": "Germany",
          "CustomerID": 12524,
          "Description": "POSTAGE",
          "InvoiceDate": "2011-05-01T13:18:00",
          "InvoiceNo": 551529,
          "Quantity": 8,
          "StockCode": "POST",
          "UnitPrice": 18
         },
         {
          "Country": "France",
          "CustomerID": 12683,
          "Description": "POSTAGE",
          "InvoiceDate": "2011-05-03T09:33:00",
          "InvoiceNo": 551544,
          "Quantity": 4,
          "StockCode": "POST",
          "UnitPrice": 18
         },
         {
          "Country": "France",
          "CustomerID": 12598,
          "Description": "POSTAGE",
          "InvoiceDate": "2011-05-03T10:09:00",
          "InvoiceNo": 551552,
          "Quantity": 2,
          "StockCode": "POST",
          "UnitPrice": 18
         },
         {
          "Country": "France",
          "CustomerID": 12643,
          "Description": "POSTAGE",
          "InvoiceDate": "2011-05-03T12:02:00",
          "InvoiceNo": 551649,
          "Quantity": 2,
          "StockCode": "POST",
          "UnitPrice": 20
         },
         {
          "Country": "France",
          "CustomerID": 12643,
          "Description": "POSTAGE",
          "InvoiceDate": "2011-05-03T12:03:00",
          "InvoiceNo": 551652,
          "Quantity": 2,
          "StockCode": "POST",
          "UnitPrice": 1
         },
         {
          "Country": "United Kingdom",
          "CustomerID": 16029,
          "Description": "POSTAGE",
          "InvoiceDate": "2011-05-03T13:46:00",
          "InvoiceNo": 551697,
          "Quantity": 1,
          "StockCode": "POST",
          "UnitPrice": 8142.75
         },
         {
          "Country": "United Kingdom",
          "CustomerID": 16806,
          "Description": "Manual",
          "InvoiceDate": "2011-05-03T15:15:00",
          "InvoiceNo": 551714,
          "Quantity": 1,
          "StockCode": "M",
          "UnitPrice": 25.95
         },
         {
          "Country": "Germany",
          "CustomerID": 12569,
          "Description": "POSTAGE",
          "InvoiceDate": "2011-05-04T11:57:00",
          "InvoiceNo": 551818,
          "Quantity": 4,
          "StockCode": "POST",
          "UnitPrice": 18
         },
         {
          "Country": "Germany",
          "CustomerID": 12645,
          "Description": "POSTAGE",
          "InvoiceDate": "2011-05-04T12:11:00",
          "InvoiceNo": 551820,
          "Quantity": 2,
          "StockCode": "POST",
          "UnitPrice": 18
         },
         {
          "Country": "Spain",
          "CustomerID": 12540,
          "Description": "POSTAGE",
          "InvoiceDate": "2011-05-04T16:29:00",
          "InvoiceNo": 551868,
          "Quantity": 8,
          "StockCode": "POST",
          "UnitPrice": 28
         },
         {
          "Country": "Germany",
          "CustomerID": 12569,
          "Description": "POSTAGE",
          "InvoiceDate": "2011-05-05T09:23:00",
          "InvoiceNo": 551886,
          "Quantity": 1,
          "StockCode": "POST",
          "UnitPrice": 18
         },
         {
          "Country": "France",
          "CustomerID": 12593,
          "Description": "POSTAGE",
          "InvoiceDate": "2011-05-05T09:29:00",
          "InvoiceNo": 551887,
          "Quantity": 2,
          "StockCode": "POST",
          "UnitPrice": 18
         },
         {
          "Country": "United Kingdom",
          "CustomerID": 15023,
          "Description": "Manual",
          "InvoiceDate": "2011-05-05T13:56:00",
          "InvoiceNo": 551982,
          "Quantity": 3,
          "StockCode": "M",
          "UnitPrice": 2.1
         },
         {
          "Country": "Belgium",
          "CustomerID": 12395,
          "Description": "POSTAGE",
          "InvoiceDate": "2011-05-05T14:38:00",
          "InvoiceNo": 551985,
          "Quantity": 1,
          "StockCode": "POST",
          "UnitPrice": 15
         },
         {
          "Country": "Germany",
          "CustomerID": 12476,
          "Description": "POSTAGE",
          "InvoiceDate": "2011-05-05T17:13:00",
          "InvoiceNo": 552008,
          "Quantity": 4,
          "StockCode": "POST",
          "UnitPrice": 18
         },
         {
          "Country": "Spain",
          "CustomerID": 12502,
          "Description": "POSTAGE",
          "InvoiceDate": "2011-05-06T08:19:00",
          "InvoiceNo": 552040,
          "Quantity": 4,
          "StockCode": "POST",
          "UnitPrice": 28
         },
         {
          "Country": "Belgium",
          "CustomerID": 12394,
          "Description": "POSTAGE",
          "InvoiceDate": "2011-05-06T14:01:00",
          "InvoiceNo": 552188,
          "Quantity": 2,
          "StockCode": "POST",
          "UnitPrice": 15
         },
         {
          "Country": "Austria",
          "CustomerID": 12414,
          "Description": "POSTAGE",
          "InvoiceDate": "2011-05-06T14:51:00",
          "InvoiceNo": 552202,
          "Quantity": 1,
          "StockCode": "POST",
          "UnitPrice": 40
         },
         {
          "Country": "United Kingdom",
          "CustomerID": 15796,
          "Description": "Manual",
          "InvoiceDate": "2011-05-08T11:13:00",
          "InvoiceNo": 552259,
          "Quantity": 1,
          "StockCode": "M",
          "UnitPrice": 1
         },
         {
          "Country": "France",
          "CustomerID": 12700,
          "Description": "POSTAGE",
          "InvoiceDate": "2011-05-08T16:10:00",
          "InvoiceNo": 552315,
          "Quantity": 6,
          "StockCode": "POST",
          "UnitPrice": 18
         },
         {
          "Country": "France",
          "CustomerID": 12490,
          "Description": "POSTAGE",
          "InvoiceDate": "2011-05-09T09:47:00",
          "InvoiceNo": 552325,
          "Quantity": 2,
          "StockCode": "POST",
          "UnitPrice": 18
         },
         {
          "Country": "Germany",
          "CustomerID": 12621,
          "Description": "POSTAGE",
          "InvoiceDate": "2011-05-09T11:34:00",
          "InvoiceNo": 552337,
          "Quantity": 3,
          "StockCode": "POST",
          "UnitPrice": 18
         },
         {
          "Country": "France",
          "CustomerID": 12726,
          "Description": "POSTAGE",
          "InvoiceDate": "2011-05-09T15:12:00",
          "InvoiceNo": 552464,
          "Quantity": 1,
          "StockCode": "POST",
          "UnitPrice": 18
         },
         {
          "Country": "Belgium",
          "CustomerID": 12399,
          "Description": "POSTAGE",
          "InvoiceDate": "2011-05-10T10:22:00",
          "InvoiceNo": 552543,
          "Quantity": 2,
          "StockCode": "POST",
          "UnitPrice": 15
         },
         {
          "Country": "United Kingdom",
          "CustomerID": 15674,
          "Description": "Manual",
          "InvoiceDate": "2011-05-10T10:39:00",
          "InvoiceNo": 552549,
          "Quantity": 1,
          "StockCode": "M",
          "UnitPrice": 334.71
         },
         {
          "Country": "France",
          "CustomerID": 12684,
          "Description": "POSTAGE",
          "InvoiceDate": "2011-05-10T12:55:00",
          "InvoiceNo": 552631,
          "Quantity": 2,
          "StockCode": "POST",
          "UnitPrice": 18
         },
         {
          "Country": "Germany",
          "CustomerID": 12592,
          "Description": "POSTAGE",
          "InvoiceDate": "2011-05-10T13:44:00",
          "InvoiceNo": 552649,
          "Quantity": 1,
          "StockCode": "POST",
          "UnitPrice": 18
         },
         {
          "Country": "Germany",
          "CustomerID": 12712,
          "Description": "POSTAGE",
          "InvoiceDate": "2011-05-10T14:46:00",
          "InvoiceNo": 552656,
          "Quantity": 3,
          "StockCode": "POST",
          "UnitPrice": 18
         },
         {
          "Country": "Denmark",
          "CustomerID": 12372,
          "Description": "POSTAGE",
          "InvoiceDate": "2011-05-11T10:43:00",
          "InvoiceNo": 552731,
          "Quantity": 2,
          "StockCode": "POST",
          "UnitPrice": 18
         },
         {
          "Country": "Germany",
          "CustomerID": 12649,
          "Description": "POSTAGE",
          "InvoiceDate": "2011-05-11T14:37:00",
          "InvoiceNo": 552844,
          "Quantity": 2,
          "StockCode": "POST",
          "UnitPrice": 18
         },
         {
          "Country": "Netherlands",
          "CustomerID": 14646,
          "Description": "POSTAGE",
          "InvoiceDate": "2011-05-11T14:37:00",
          "InvoiceNo": 552845,
          "Quantity": 6,
          "StockCode": "POST",
          "UnitPrice": 15
         },
         {
          "Country": "Netherlands",
          "CustomerID": 14646,
          "Description": "POSTAGE",
          "InvoiceDate": "2011-05-11T14:38:00",
          "InvoiceNo": 552846,
          "Quantity": 1,
          "StockCode": "POST",
          "UnitPrice": 18
         },
         {
          "Country": "Germany",
          "CustomerID": 12693,
          "Description": "POSTAGE",
          "InvoiceDate": "2011-05-12T08:52:00",
          "InvoiceNo": 552871,
          "Quantity": 2,
          "StockCode": "POST",
          "UnitPrice": 18
         },
         {
          "Country": "Germany",
          "CustomerID": 12621,
          "Description": "POSTAGE",
          "InvoiceDate": "2011-05-12T09:40:00",
          "InvoiceNo": 552874,
          "Quantity": 7,
          "StockCode": "POST",
          "UnitPrice": 18
         },
         {
          "Country": "Germany",
          "CustomerID": 12625,
          "Description": "POSTAGE",
          "InvoiceDate": "2011-05-12T09:54:00",
          "InvoiceNo": 552878,
          "Quantity": 8,
          "StockCode": "POST",
          "UnitPrice": 18
         },
         {
          "Country": "Belgium",
          "CustomerID": 12395,
          "Description": "POSTAGE",
          "InvoiceDate": "2011-05-12T10:15:00",
          "InvoiceNo": 552884,
          "Quantity": 1,
          "StockCode": "POST",
          "UnitPrice": 15
         },
         {
          "Country": "France",
          "CustomerID": 12683,
          "Description": "POSTAGE",
          "InvoiceDate": "2011-05-12T11:50:00",
          "InvoiceNo": 552946,
          "Quantity": 1,
          "StockCode": "POST",
          "UnitPrice": 18
         },
         {
          "Country": "Germany",
          "CustomerID": 12590,
          "Description": "POSTAGE",
          "InvoiceDate": "2011-05-12T14:52:00",
          "InvoiceNo": 552980,
          "Quantity": 1,
          "StockCode": "POST",
          "UnitPrice": 523
         },
         {
          "Country": "United Kingdom",
          "CustomerID": 13263,
          "Description": "Manual",
          "InvoiceDate": "2011-05-12T15:26:00",
          "InvoiceNo": 553002,
          "Quantity": 2,
          "StockCode": "M",
          "UnitPrice": 1.95
         },
         {
          "Country": "Portugal",
          "CustomerID": 12757,
          "Description": "Manual",
          "InvoiceDate": "2011-05-12T19:02:00",
          "InvoiceNo": 553018,
          "Quantity": 1,
          "StockCode": "M",
          "UnitPrice": 557.72
         },
         {
          "Country": "United Kingdom",
          "CustomerID": 17337,
          "Description": "Manual",
          "InvoiceDate": "2011-05-12T20:13:00",
          "InvoiceNo": 553035,
          "Quantity": 1,
          "StockCode": "M",
          "UnitPrice": 1.45
         },
         {
          "Country": "Germany",
          "CustomerID": 12471,
          "Description": "POSTAGE",
          "InvoiceDate": "2011-05-13T08:10:00",
          "InvoiceNo": 553037,
          "Quantity": 4,
          "StockCode": "POST",
          "UnitPrice": 18
         },
         {
          "Country": "France",
          "CustomerID": 12682,
          "Description": "POSTAGE",
          "InvoiceDate": "2011-05-13T09:24:00",
          "InvoiceNo": 553044,
          "Quantity": 2,
          "StockCode": "POST",
          "UnitPrice": 18
         },
         {
          "Country": "France",
          "CustomerID": 12681,
          "Description": "POSTAGE",
          "InvoiceDate": "2011-05-13T15:48:00",
          "InvoiceNo": 553161,
          "Quantity": 1,
          "StockCode": "POST",
          "UnitPrice": 18
         },
         {
          "Country": "United Kingdom",
          "CustomerID": 15033,
          "Description": "Manual",
          "InvoiceDate": "2011-05-15T13:14:00",
          "InvoiceNo": 553189,
          "Quantity": 2,
          "StockCode": "M",
          "UnitPrice": 1.65
         },
         {
          "Country": "France",
          "CustomerID": 12599,
          "Description": "POSTAGE",
          "InvoiceDate": "2011-05-15T13:45:00",
          "InvoiceNo": 553195,
          "Quantity": 1,
          "StockCode": "POST",
          "UnitPrice": 18
         },
         {
          "Country": "France",
          "CustomerID": 12674,
          "Description": "POSTAGE",
          "InvoiceDate": "2011-05-16T09:10:00",
          "InvoiceNo": 553208,
          "Quantity": 2,
          "StockCode": "POST",
          "UnitPrice": 18
         },
         {
          "Country": "France",
          "CustomerID": 12682,
          "Description": "POSTAGE",
          "InvoiceDate": "2011-05-16T12:04:00",
          "InvoiceNo": 553316,
          "Quantity": 1,
          "StockCode": "POST",
          "UnitPrice": 18
         },
         {
          "Country": "France",
          "CustomerID": 12684,
          "Description": "Manual",
          "InvoiceDate": "2011-05-16T14:17:00",
          "InvoiceNo": 553357,
          "Quantity": 2,
          "StockCode": "M",
          "UnitPrice": 15
         },
         {
          "Country": "France",
          "CustomerID": 12714,
          "Description": "POSTAGE",
          "InvoiceDate": "2011-05-17T09:28:00",
          "InvoiceNo": 553411,
          "Quantity": 3,
          "StockCode": "POST",
          "UnitPrice": 18
         },
         {
          "Country": "Belgium",
          "CustomerID": 12463,
          "Description": "POSTAGE",
          "InvoiceDate": "2011-05-17T10:02:00",
          "InvoiceNo": 553415,
          "Quantity": 2,
          "StockCode": "POST",
          "UnitPrice": 18
         },
         {
          "Country": "Germany",
          "CustomerID": 12474,
          "Description": "POSTAGE",
          "InvoiceDate": "2011-05-17T15:48:00",
          "InvoiceNo": 553547,
          "Quantity": 4,
          "StockCode": "POST",
          "UnitPrice": 18
         },
         {
          "Country": "Channel Islands",
          "CustomerID": 14931,
          "Description": "Manual",
          "InvoiceDate": "2011-05-17T17:12:00",
          "InvoiceNo": 553559,
          "Quantity": 1,
          "StockCode": "M",
          "UnitPrice": 293
         },
         {
          "Country": "France",
          "CustomerID": 12690,
          "Description": "POSTAGE",
          "InvoiceDate": "2011-05-18T09:09:00",
          "InvoiceNo": 553566,
          "Quantity": 3,
          "StockCode": "POST",
          "UnitPrice": 18
         },
         {
          "Country": "France",
          "CustomerID": 12437,
          "Description": "POSTAGE",
          "InvoiceDate": "2011-05-18T10:34:00",
          "InvoiceNo": 553577,
          "Quantity": 2,
          "StockCode": "POST",
          "UnitPrice": 18
         },
         {
          "Country": "France",
          "CustomerID": 12679,
          "Description": "POSTAGE",
          "InvoiceDate": "2011-05-18T12:18:00",
          "InvoiceNo": 553666,
          "Quantity": 2,
          "StockCode": "POST",
          "UnitPrice": 18
         },
         {
          "Country": "Sweden",
          "CustomerID": 12483,
          "Description": "POSTAGE",
          "InvoiceDate": "2011-05-18T12:50:00",
          "InvoiceNo": 553674,
          "Quantity": 1,
          "StockCode": "POST",
          "UnitPrice": 40
         },
         {
          "Country": "Netherlands",
          "CustomerID": 14646,
          "Description": "POSTAGE",
          "InvoiceDate": "2011-05-18T13:20:00",
          "InvoiceNo": 553682,
          "Quantity": 4,
          "StockCode": "POST",
          "UnitPrice": 15
         },
         {
          "Country": "Germany",
          "CustomerID": 12481,
          "Description": "POSTAGE",
          "InvoiceDate": "2011-05-19T08:26:00",
          "InvoiceNo": 553731,
          "Quantity": 4,
          "StockCode": "POST",
          "UnitPrice": 18
         },
         {
          "Country": "Germany",
          "CustomerID": 12520,
          "Description": "POSTAGE",
          "InvoiceDate": "2011-05-19T09:37:00",
          "InvoiceNo": 553741,
          "Quantity": 3,
          "StockCode": "POST",
          "UnitPrice": 18
         },
         {
          "Country": "Germany",
          "CustomerID": 12524,
          "Description": "POSTAGE",
          "InvoiceDate": "2011-05-19T12:24:00",
          "InvoiceNo": 553842,
          "Quantity": 2,
          "StockCode": "POST",
          "UnitPrice": 18
         },
         {
          "Country": "France",
          "CustomerID": 12553,
          "Description": "POSTAGE",
          "InvoiceDate": "2011-05-19T12:29:00",
          "InvoiceNo": 553843,
          "Quantity": 2,
          "StockCode": "POST",
          "UnitPrice": 18
         },
         {
          "Country": "Germany",
          "CustomerID": 12600,
          "Description": "POSTAGE",
          "InvoiceDate": "2011-05-19T15:36:00",
          "InvoiceNo": 553884,
          "Quantity": 1,
          "StockCode": "POST",
          "UnitPrice": 18
         },
         {
          "Country": "Germany",
          "CustomerID": 12601,
          "Description": "POSTAGE",
          "InvoiceDate": "2011-05-19T15:41:00",
          "InvoiceNo": 553885,
          "Quantity": 1,
          "StockCode": "POST",
          "UnitPrice": 18
         },
         {
          "Country": "France",
          "CustomerID": 12656,
          "Description": "POSTAGE",
          "InvoiceDate": "2011-05-20T11:34:00",
          "InvoiceNo": 553997,
          "Quantity": 9,
          "StockCode": "POST",
          "UnitPrice": 18
         },
         {
          "Country": "Netherlands",
          "CustomerID": 12775,
          "Description": "POSTAGE",
          "InvoiceDate": "2011-05-20T14:23:00",
          "InvoiceNo": 554038,
          "Quantity": 2,
          "StockCode": "POST",
          "UnitPrice": 15
         },
         {
          "Country": "France",
          "CustomerID": 12567,
          "Description": "POSTAGE",
          "InvoiceDate": "2011-05-22T13:01:00",
          "InvoiceNo": 554097,
          "Quantity": 5,
          "StockCode": "POST",
          "UnitPrice": 18
         },
         {
          "Country": "Germany",
          "CustomerID": 12705,
          "Description": "POSTAGE",
          "InvoiceDate": "2011-05-22T14:03:00",
          "InvoiceNo": 554104,
          "Quantity": 4,
          "StockCode": "POST",
          "UnitPrice": 18
         },
         {
          "Country": "Germany",
          "CustomerID": 12710,
          "Description": "POSTAGE",
          "InvoiceDate": "2011-05-22T14:05:00",
          "InvoiceNo": 554106,
          "Quantity": 4,
          "StockCode": "POST",
          "UnitPrice": 18
         },
         {
          "Country": "France",
          "CustomerID": 12682,
          "Description": "POSTAGE",
          "InvoiceDate": "2011-05-22T14:33:00",
          "InvoiceNo": 554109,
          "Quantity": 2,
          "StockCode": "POST",
          "UnitPrice": 18
         },
         {
          "Country": "Austria",
          "CustomerID": 12360,
          "Description": "POSTAGE",
          "InvoiceDate": "2011-05-23T09:43:00",
          "InvoiceNo": 554132,
          "Quantity": 4,
          "StockCode": "POST",
          "UnitPrice": 40
         },
         {
          "Country": "France",
          "CustomerID": 12583,
          "Description": "POSTAGE",
          "InvoiceDate": "2011-05-23T09:48:00",
          "InvoiceNo": 554134,
          "Quantity": 2,
          "StockCode": "POST",
          "UnitPrice": 18
         },
         {
          "Country": "Germany",
          "CustomerID": 12708,
          "Description": "POSTAGE",
          "InvoiceDate": "2011-05-23T10:13:00",
          "InvoiceNo": 554137,
          "Quantity": 2,
          "StockCode": "POST",
          "UnitPrice": 18
         },
         {
          "Country": "Belgium",
          "CustomerID": 12423,
          "Description": "POSTAGE",
          "InvoiceDate": "2011-05-23T10:48:00",
          "InvoiceNo": 554147,
          "Quantity": 2,
          "StockCode": "POST",
          "UnitPrice": 15
         },
         {
          "Country": "Portugal",
          "CustomerID": 12757,
          "Description": "Manual",
          "InvoiceDate": "2011-05-23T11:26:00",
          "InvoiceNo": 554155,
          "Quantity": 1,
          "StockCode": "M",
          "UnitPrice": 1241.98
         },
         {
          "Country": "Belgium",
          "CustomerID": 12464,
          "Description": "POSTAGE",
          "InvoiceDate": "2011-05-23T11:48:00",
          "InvoiceNo": 554159,
          "Quantity": 2,
          "StockCode": "POST",
          "UnitPrice": 15
         },
         {
          "Country": "Portugal",
          "CustomerID": 12757,
          "Description": "Manual",
          "InvoiceDate": "2011-05-23T14:46:00",
          "InvoiceNo": 554301,
          "Quantity": 1,
          "StockCode": "M",
          "UnitPrice": 1241.98
         },
         {
          "Country": "Portugal",
          "CustomerID": 12757,
          "Description": "Manual",
          "InvoiceDate": "2011-05-23T14:58:00",
          "InvoiceNo": 554305,
          "Quantity": 1,
          "StockCode": "M",
          "UnitPrice": 557.72
         },
         {
          "Country": "Germany",
          "CustomerID": 12712,
          "Description": "POSTAGE",
          "InvoiceDate": "2011-05-23T15:38:00",
          "InvoiceNo": 554324,
          "Quantity": 1,
          "StockCode": "POST",
          "UnitPrice": 18
         },
         {
          "Country": "Germany",
          "CustomerID": 12621,
          "Description": "POSTAGE",
          "InvoiceDate": "2011-05-23T15:38:00",
          "InvoiceNo": 554325,
          "Quantity": 3,
          "StockCode": "POST",
          "UnitPrice": 18
         },
         {
          "Country": "France",
          "CustomerID": 12670,
          "Description": "POSTAGE",
          "InvoiceDate": "2011-05-24T09:25:00",
          "InvoiceNo": 554356,
          "Quantity": 2,
          "StockCode": "POST",
          "UnitPrice": 18
         },
         {
          "Country": "Germany",
          "CustomerID": 12647,
          "Description": "POSTAGE",
          "InvoiceDate": "2011-05-24T10:19:00",
          "InvoiceNo": 554363,
          "Quantity": 2,
          "StockCode": "POST",
          "UnitPrice": 18
         },
         {
          "Country": "France",
          "CustomerID": 12437,
          "Description": "POSTAGE",
          "InvoiceDate": "2011-05-25T10:08:00",
          "InvoiceNo": 554555,
          "Quantity": 2,
          "StockCode": "POST",
          "UnitPrice": 18
         },
         {
          "Country": "France",
          "CustomerID": 12562,
          "Description": "POSTAGE",
          "InvoiceDate": "2011-05-25T12:44:00",
          "InvoiceNo": 554648,
          "Quantity": 3,
          "StockCode": "POST",
          "UnitPrice": 18
         },
         {
          "Country": "France",
          "CustomerID": 12681,
          "Description": "POSTAGE",
          "InvoiceDate": "2011-05-25T12:54:00",
          "InvoiceNo": 554650,
          "Quantity": 3,
          "StockCode": "POST",
          "UnitPrice": 18
         },
         {
          "Country": "Poland",
          "CustomerID": 12815,
          "Description": "POSTAGE",
          "InvoiceDate": "2011-05-25T13:34:00",
          "InvoiceNo": 554654,
          "Quantity": 3,
          "StockCode": "POST",
          "UnitPrice": 40
         },
         {
          "Country": "Germany",
          "CustomerID": 12613,
          "Description": "POSTAGE",
          "InvoiceDate": "2011-05-26T09:17:00",
          "InvoiceNo": 554699,
          "Quantity": 3,
          "StockCode": "POST",
          "UnitPrice": 18
         },
         {
          "Country": "Germany",
          "CustomerID": 12654,
          "Description": "POSTAGE",
          "InvoiceDate": "2011-05-26T10:41:00",
          "InvoiceNo": 554711,
          "Quantity": 1,
          "StockCode": "POST",
          "UnitPrice": 18
         },
         {
          "Country": "Spain",
          "CustomerID": 12547,
          "Description": "POSTAGE",
          "InvoiceDate": "2011-05-26T12:38:00",
          "InvoiceNo": 554792,
          "Quantity": 1,
          "StockCode": "POST",
          "UnitPrice": 28
         },
         {
          "Country": "Germany",
          "CustomerID": 12720,
          "Description": "POSTAGE",
          "InvoiceDate": "2011-05-26T12:41:00",
          "InvoiceNo": 554794,
          "Quantity": 2,
          "StockCode": "POST",
          "UnitPrice": 18
         },
         {
          "Country": "France",
          "CustomerID": 12684,
          "Description": "POSTAGE",
          "InvoiceDate": "2011-05-26T17:16:00",
          "InvoiceNo": 554840,
          "Quantity": 2,
          "StockCode": "POST",
          "UnitPrice": 18
         },
         {
          "Country": "Germany",
          "CustomerID": 12633,
          "Description": "POSTAGE",
          "InvoiceDate": "2011-05-27T10:29:00",
          "InvoiceNo": 554861,
          "Quantity": 5,
          "StockCode": "POST",
          "UnitPrice": 18
         },
         {
          "Country": "United Kingdom",
          "CustomerID": 12748,
          "Description": "POSTAGE",
          "InvoiceDate": "2011-05-27T12:54:00",
          "InvoiceNo": 554924,
          "Quantity": 1,
          "StockCode": "POST",
          "UnitPrice": 4
         },
         {
          "Country": "United Kingdom",
          "CustomerID": 13232,
          "Description": "Manual",
          "InvoiceDate": "2011-05-27T13:26:00",
          "InvoiceNo": 554933,
          "Quantity": 2,
          "StockCode": "M",
          "UnitPrice": 0.3
         },
         {
          "Country": "Belgium",
          "CustomerID": 12876,
          "Description": "POSTAGE",
          "InvoiceDate": "2011-05-27T13:34:00",
          "InvoiceNo": 554938,
          "Quantity": 4,
          "StockCode": "POST",
          "UnitPrice": 15
         },
         {
          "Country": "France",
          "CustomerID": 12494,
          "Description": "POSTAGE",
          "InvoiceDate": "2011-05-27T13:49:00",
          "InvoiceNo": 554940,
          "Quantity": 2,
          "StockCode": "POST",
          "UnitPrice": 18
         },
         {
          "Country": "Germany",
          "CustomerID": 12426,
          "Description": "POSTAGE",
          "InvoiceDate": "2011-05-29T12:26:00",
          "InvoiceNo": 554985,
          "Quantity": 4,
          "StockCode": "POST",
          "UnitPrice": 18
         },
         {
          "Country": "Netherlands",
          "CustomerID": 12787,
          "Description": "POSTAGE",
          "InvoiceDate": "2011-05-31T09:36:00",
          "InvoiceNo": 555003,
          "Quantity": 1,
          "StockCode": "POST",
          "UnitPrice": 15
         },
         {
          "Country": "Spain",
          "CustomerID": 12540,
          "Description": "POSTAGE",
          "InvoiceDate": "2011-05-31T13:32:00",
          "InvoiceNo": 555095,
          "Quantity": 7,
          "StockCode": "POST",
          "UnitPrice": 28
         },
         {
          "Country": "France",
          "CustomerID": 12682,
          "Description": "POSTAGE",
          "InvoiceDate": "2011-05-31T13:32:00",
          "InvoiceNo": 555096,
          "Quantity": 3,
          "StockCode": "POST",
          "UnitPrice": 18
         },
         {
          "Country": "Netherlands",
          "CustomerID": 12790,
          "Description": "POSTAGE",
          "InvoiceDate": "2011-05-31T14:14:00",
          "InvoiceNo": 555106,
          "Quantity": 2,
          "StockCode": "POST",
          "UnitPrice": 15
         },
         {
          "Country": "United Kingdom",
          "CustomerID": 17841,
          "Description": "Manual",
          "InvoiceDate": "2011-05-31T14:34:00",
          "InvoiceNo": 555110,
          "Quantity": 2,
          "StockCode": "M",
          "UnitPrice": 1.65
         },
         {
          "Country": "Switzerland",
          "CustomerID": 13505,
          "Description": "POSTAGE",
          "InvoiceDate": "2011-05-31T15:41:00",
          "InvoiceNo": 555147,
          "Quantity": 4,
          "StockCode": "POST",
          "UnitPrice": 40
         },
         {
          "Country": "Belgium",
          "CustomerID": 12423,
          "Description": "POSTAGE",
          "InvoiceDate": "2011-06-01T09:26:00",
          "InvoiceNo": 555161,
          "Quantity": 1,
          "StockCode": "POST",
          "UnitPrice": 15
         },
         {
          "Country": "Germany",
          "CustomerID": 12473,
          "Description": "POSTAGE",
          "InvoiceDate": "2011-06-01T10:15:00",
          "InvoiceNo": 555162,
          "Quantity": 4,
          "StockCode": "POST",
          "UnitPrice": 18
         },
         {
          "Country": "United Kingdom",
          "CustomerID": 17757,
          "Description": "Manual",
          "InvoiceDate": "2011-06-01T16:03:00",
          "InvoiceNo": 555264,
          "Quantity": 1,
          "StockCode": "M",
          "UnitPrice": 3.95
         },
         {
          "Country": "Sweden",
          "CustomerID": 12676,
          "Description": "POSTAGE",
          "InvoiceDate": "2011-06-02T18:06:00",
          "InvoiceNo": 555403,
          "Quantity": 1,
          "StockCode": "POST",
          "UnitPrice": 40
         },
         {
          "Country": "Netherlands",
          "CustomerID": 12775,
          "Description": "POSTAGE",
          "InvoiceDate": "2011-06-03T07:48:00",
          "InvoiceNo": 555407,
          "Quantity": 1,
          "StockCode": "POST",
          "UnitPrice": 15
         },
         {
          "Country": "Germany",
          "CustomerID": 12601,
          "Description": "POSTAGE",
          "InvoiceDate": "2011-06-03T10:17:00",
          "InvoiceNo": 555417,
          "Quantity": 1,
          "StockCode": "POST",
          "UnitPrice": 18
         },
         {
          "Country": "Spain",
          "CustomerID": 12455,
          "Description": "POSTAGE",
          "InvoiceDate": "2011-06-03T11:33:00",
          "InvoiceNo": 555470,
          "Quantity": 1,
          "StockCode": "POST",
          "UnitPrice": 28
         },
         {
          "Country": "Germany",
          "CustomerID": 12468,
          "Description": "POSTAGE",
          "InvoiceDate": "2011-06-05T11:36:00",
          "InvoiceNo": 555523,
          "Quantity": 2,
          "StockCode": "POST",
          "UnitPrice": 18
         },
         {
          "Country": "France",
          "CustomerID": 12678,
          "Description": "POSTAGE",
          "InvoiceDate": "2011-06-05T11:53:00",
          "InvoiceNo": 555531,
          "Quantity": 11,
          "StockCode": "POST",
          "UnitPrice": 18
         },
         {
          "Country": "France",
          "CustomerID": 12681,
          "Description": "POSTAGE",
          "InvoiceDate": "2011-06-05T13:13:00",
          "InvoiceNo": 555547,
          "Quantity": 4,
          "StockCode": "POST",
          "UnitPrice": 18
         },
         {
          "Country": "Germany",
          "CustomerID": 12662,
          "Description": "POSTAGE",
          "InvoiceDate": "2011-06-05T13:45:00",
          "InvoiceNo": 555553,
          "Quantity": 2,
          "StockCode": "POST",
          "UnitPrice": 18
         },
         {
          "Country": "France",
          "CustomerID": 12727,
          "Description": "POSTAGE",
          "InvoiceDate": "2011-06-05T15:29:00",
          "InvoiceNo": 555569,
          "Quantity": 5,
          "StockCode": "POST",
          "UnitPrice": 18
         },
         {
          "Country": "Belgium",
          "CustomerID": 12449,
          "Description": "POSTAGE",
          "InvoiceDate": "2011-06-05T15:37:00",
          "InvoiceNo": 555572,
          "Quantity": 6,
          "StockCode": "POST",
          "UnitPrice": 15
         },
         {
          "Country": "Belgium",
          "CustomerID": 12417,
          "Description": "POSTAGE",
          "InvoiceDate": "2011-06-05T15:46:00",
          "InvoiceNo": 555574,
          "Quantity": 3,
          "StockCode": "POST",
          "UnitPrice": 15
         },
         {
          "Country": "Netherlands",
          "CustomerID": 12802,
          "Description": "POSTAGE",
          "InvoiceDate": "2011-06-06T09:36:00",
          "InvoiceNo": 555589,
          "Quantity": 2,
          "StockCode": "POST",
          "UnitPrice": 15
         },
         {
          "Country": "United Kingdom",
          "CustomerID": 14623,
          "Description": "Manual",
          "InvoiceDate": "2011-06-06T13:46:00",
          "InvoiceNo": 555648,
          "Quantity": 12,
          "StockCode": "M",
          "UnitPrice": 0.39
         },
         {
          "Country": "Germany",
          "CustomerID": 12609,
          "Description": "POSTAGE",
          "InvoiceDate": "2011-06-06T15:31:00",
          "InvoiceNo": 555719,
          "Quantity": 5,
          "StockCode": "POST",
          "UnitPrice": 18
         },
         {
          "Country": "European Community",
          "CustomerID": 15108,
          "Description": "POSTAGE",
          "InvoiceDate": "2011-06-06T16:01:00",
          "InvoiceNo": 555721,
          "Quantity": 3,
          "StockCode": "POST",
          "UnitPrice": 15
         },
         {
          "Country": "Spain",
          "CustomerID": 12540,
          "Description": "POSTAGE",
          "InvoiceDate": "2011-06-06T16:23:00",
          "InvoiceNo": 555726,
          "Quantity": 2,
          "StockCode": "POST",
          "UnitPrice": 28
         },
         {
          "Country": "Belgium",
          "CustomerID": 12380,
          "Description": "POSTAGE",
          "InvoiceDate": "2011-06-07T09:49:00",
          "InvoiceNo": 555739,
          "Quantity": 3,
          "StockCode": "POST",
          "UnitPrice": 15
         },
         {
          "Country": "United Kingdom",
          "CustomerID": 13050,
          "Description": "Manual",
          "InvoiceDate": "2011-06-07T13:37:00",
          "InvoiceNo": 555851,
          "Quantity": 1,
          "StockCode": "M",
          "UnitPrice": 3.75
         },
         {
          "Country": "Belgium",
          "CustomerID": 12383,
          "Description": "POSTAGE",
          "InvoiceDate": "2011-06-08T08:02:00",
          "InvoiceNo": 555928,
          "Quantity": 2,
          "StockCode": "POST",
          "UnitPrice": 15
         },
         {
          "Country": "Malta",
          "CustomerID": 17828,
          "Description": "POSTAGE",
          "InvoiceDate": "2011-06-08T08:31:00",
          "InvoiceNo": 555931,
          "Quantity": 4,
          "StockCode": "POST",
          "UnitPrice": 40
         },
         {
          "Country": "France",
          "CustomerID": 12683,
          "Description": "POSTAGE",
          "InvoiceDate": "2011-06-08T09:39:00",
          "InvoiceNo": 555937,
          "Quantity": 3,
          "StockCode": "POST",
          "UnitPrice": 18
         },
         {
          "Country": "France",
          "CustomerID": 12726,
          "Description": "POSTAGE",
          "InvoiceDate": "2011-06-08T10:10:00",
          "InvoiceNo": 555941,
          "Quantity": 1,
          "StockCode": "POST",
          "UnitPrice": 18
         },
         {
          "Country": "Switzerland",
          "CustomerID": 13520,
          "Description": "POSTAGE",
          "InvoiceDate": "2011-06-08T10:15:00",
          "InvoiceNo": 555943,
          "Quantity": 3,
          "StockCode": "POST",
          "UnitPrice": 40
         },
         {
          "Country": "United Kingdom",
          "CustomerID": 17873,
          "Description": "Manual",
          "InvoiceDate": "2011-06-08T14:51:00",
          "InvoiceNo": 556070,
          "Quantity": 1,
          "StockCode": "M",
          "UnitPrice": 129.38
         },
         {
          "Country": "Germany",
          "CustomerID": 12569,
          "Description": "POSTAGE",
          "InvoiceDate": "2011-06-09T09:36:00",
          "InvoiceNo": 556114,
          "Quantity": 1,
          "StockCode": "POST",
          "UnitPrice": 18
         },
         {
          "Country": "Germany",
          "CustomerID": 13811,
          "Description": "POSTAGE",
          "InvoiceDate": "2011-06-09T09:54:00",
          "InvoiceNo": 556118,
          "Quantity": 2,
          "StockCode": "POST",
          "UnitPrice": 18
         },
         {
          "Country": "Sweden",
          "CustomerID": 12483,
          "Description": "POSTAGE",
          "InvoiceDate": "2011-06-09T12:20:00",
          "InvoiceNo": 556194,
          "Quantity": 2,
          "StockCode": "POST",
          "UnitPrice": 18
         },
         {
          "Country": "Belgium",
          "CustomerID": 12399,
          "Description": "POSTAGE",
          "InvoiceDate": "2011-06-09T13:09:00",
          "InvoiceNo": 556203,
          "Quantity": 1,
          "StockCode": "POST",
          "UnitPrice": 15
         },
         {
          "Country": "United Kingdom",
          "CustomerID": 17522,
          "Description": "Manual",
          "InvoiceDate": "2011-06-09T14:23:00",
          "InvoiceNo": 556222,
          "Quantity": 12,
          "StockCode": "M",
          "UnitPrice": 0.38
         },
         {
          "Country": "Netherlands",
          "CustomerID": 12778,
          "Description": "POSTAGE",
          "InvoiceDate": "2011-06-09T15:29:00",
          "InvoiceNo": 556235,
          "Quantity": 1,
          "StockCode": "POST",
          "UnitPrice": 15
         },
         {
          "Country": "Spain",
          "CustomerID": 12597,
          "Description": "POSTAGE",
          "InvoiceDate": "2011-06-09T16:04:00",
          "InvoiceNo": 556241,
          "Quantity": 8,
          "StockCode": "POST",
          "UnitPrice": 28
         },
         {
          "Country": "France",
          "CustomerID": 12694,
          "Description": "POSTAGE",
          "InvoiceDate": "2011-06-09T17:48:00",
          "InvoiceNo": 556258,
          "Quantity": 3,
          "StockCode": "POST",
          "UnitPrice": 18
         },
         {
          "Country": "France",
          "CustomerID": 12721,
          "Description": "POSTAGE",
          "InvoiceDate": "2011-06-09T17:53:00",
          "InvoiceNo": 556259,
          "Quantity": 4,
          "StockCode": "POST",
          "UnitPrice": 18
         },
         {
          "Country": "France",
          "CustomerID": 12643,
          "Description": "POSTAGE",
          "InvoiceDate": "2011-06-10T10:38:00",
          "InvoiceNo": 556305,
          "Quantity": 4,
          "StockCode": "POST",
          "UnitPrice": 18
         },
         {
          "Country": "Germany",
          "CustomerID": 12712,
          "Description": "POSTAGE",
          "InvoiceDate": "2011-06-10T15:28:00",
          "InvoiceNo": 556443,
          "Quantity": 4,
          "StockCode": "POST",
          "UnitPrice": 18
         },
         {
          "Country": "France",
          "CustomerID": 12583,
          "Description": "POSTAGE",
          "InvoiceDate": "2011-06-12T10:47:00",
          "InvoiceNo": 556463,
          "Quantity": 2,
          "StockCode": "POST",
          "UnitPrice": 18
         },
         {
          "Country": "Germany",
          "CustomerID": 12516,
          "Description": "POSTAGE",
          "InvoiceDate": "2011-06-12T11:37:00",
          "InvoiceNo": 556469,
          "Quantity": 3,
          "StockCode": "POST",
          "UnitPrice": 18
         },
         {
          "Country": "France",
          "CustomerID": 12567,
          "Description": "POSTAGE",
          "InvoiceDate": "2011-06-13T09:55:00",
          "InvoiceNo": 556507,
          "Quantity": 8,
          "StockCode": "POST",
          "UnitPrice": 18
         },
         {
          "Country": "Germany",
          "CustomerID": 12708,
          "Description": "POSTAGE",
          "InvoiceDate": "2011-06-13T10:33:00",
          "InvoiceNo": 556509,
          "Quantity": 2,
          "StockCode": "POST",
          "UnitPrice": 18
         },
         {
          "Country": "Germany",
          "CustomerID": 12481,
          "Description": "POSTAGE",
          "InvoiceDate": "2011-06-13T10:52:00",
          "InvoiceNo": 556517,
          "Quantity": 5,
          "StockCode": "POST",
          "UnitPrice": 18
         },
         {
          "Country": "United Kingdom",
          "CustomerID": 16794,
          "Description": "POSTAGE",
          "InvoiceDate": "2011-06-13T10:54:00",
          "InvoiceNo": 556519,
          "Quantity": 1,
          "StockCode": "POST",
          "UnitPrice": 2.02
         },
         {
          "Country": "France",
          "CustomerID": 12732,
          "Description": "POSTAGE",
          "InvoiceDate": "2011-06-13T11:33:00",
          "InvoiceNo": 556526,
          "Quantity": 1,
          "StockCode": "POST",
          "UnitPrice": 18
         },
         {
          "Country": "United Kingdom",
          "CustomerID": 16205,
          "Description": "Manual",
          "InvoiceDate": "2011-06-13T11:33:00",
          "InvoiceNo": 556527,
          "Quantity": 4,
          "StockCode": "M",
          "UnitPrice": 1.65
         },
         {
          "Country": "France",
          "CustomerID": 12714,
          "Description": "POSTAGE",
          "InvoiceDate": "2011-06-13T11:41:00",
          "InvoiceNo": 556529,
          "Quantity": 4,
          "StockCode": "POST",
          "UnitPrice": 18
         },
         {
          "Country": "United Kingdom",
          "CustomerID": 14667,
          "Description": "Manual",
          "InvoiceDate": "2011-06-13T13:32:00",
          "InvoiceNo": 556573,
          "Quantity": 1,
          "StockCode": "M",
          "UnitPrice": 4.25
         },
         {
          "Country": "Germany",
          "CustomerID": 12472,
          "Description": "POSTAGE",
          "InvoiceDate": "2011-06-13T14:13:00",
          "InvoiceNo": 556578,
          "Quantity": 7,
          "StockCode": "POST",
          "UnitPrice": 18
         },
         {
          "Country": "United Kingdom",
          "CustomerID": 17841,
          "Description": "Manual",
          "InvoiceDate": "2011-06-13T16:33:00",
          "InvoiceNo": 556671,
          "Quantity": 1,
          "StockCode": "M",
          "UnitPrice": 2.5
         },
         {
          "Country": "United Kingdom",
          "CustomerID": 14461,
          "Description": "Manual",
          "InvoiceDate": "2011-06-14T13:15:00",
          "InvoiceNo": 556784,
          "Quantity": 1,
          "StockCode": "M",
          "UnitPrice": 0.39
         },
         {
          "Country": "France",
          "CustomerID": 12437,
          "Description": "POSTAGE",
          "InvoiceDate": "2011-06-15T09:01:00",
          "InvoiceNo": 556816,
          "Quantity": 3,
          "StockCode": "POST",
          "UnitPrice": 18
         },
         {
          "Country": "France",
          "CustomerID": 12682,
          "Description": "POSTAGE",
          "InvoiceDate": "2011-06-15T10:21:00",
          "InvoiceNo": 556819,
          "Quantity": 4,
          "StockCode": "POST",
          "UnitPrice": 18
         },
         {
          "Country": "Portugal",
          "CustomerID": 12809,
          "Description": "POSTAGE",
          "InvoiceDate": "2011-06-15T10:51:00",
          "InvoiceNo": 556829,
          "Quantity": 3,
          "StockCode": "POST",
          "UnitPrice": 28
         },
         {
          "Country": "France",
          "CustomerID": 12624,
          "Description": "POSTAGE",
          "InvoiceDate": "2011-06-15T12:34:00",
          "InvoiceNo": 556886,
          "Quantity": 2,
          "StockCode": "POST",
          "UnitPrice": 18
         },
         {
          "Country": "Spain",
          "CustomerID": 12484,
          "Description": "POSTAGE",
          "InvoiceDate": "2011-06-16T11:30:00",
          "InvoiceNo": 557007,
          "Quantity": 7,
          "StockCode": "POST",
          "UnitPrice": 28
         },
         {
          "Country": "Poland",
          "CustomerID": 12816,
          "Description": "POSTAGE",
          "InvoiceDate": "2011-06-16T13:24:00",
          "InvoiceNo": 557027,
          "Quantity": 2,
          "StockCode": "POST",
          "UnitPrice": 40
         },
         {
          "Country": "Germany",
          "CustomerID": 12621,
          "Description": "POSTAGE",
          "InvoiceDate": "2011-06-16T14:45:00",
          "InvoiceNo": 557055,
          "Quantity": 2,
          "StockCode": "POST",
          "UnitPrice": 18
         },
         {
          "Country": "France",
          "CustomerID": 12562,
          "Description": "POSTAGE",
          "InvoiceDate": "2011-06-16T15:22:00",
          "InvoiceNo": 557069,
          "Quantity": 3,
          "StockCode": "POST",
          "UnitPrice": 18
         },
         {
          "Country": "Belgium",
          "CustomerID": 12408,
          "Description": "POSTAGE",
          "InvoiceDate": "2011-06-17T10:51:00",
          "InvoiceNo": 557147,
          "Quantity": 4,
          "StockCode": "POST",
          "UnitPrice": 15
         },
         {
          "Country": "Belgium",
          "CustomerID": 12463,
          "Description": "POSTAGE",
          "InvoiceDate": "2011-06-17T14:28:00",
          "InvoiceNo": 557232,
          "Quantity": 2,
          "StockCode": "POST",
          "UnitPrice": 18
         },
         {
          "Country": "France",
          "CustomerID": 12724,
          "Description": "POSTAGE",
          "InvoiceDate": "2011-06-19T13:37:00",
          "InvoiceNo": 557295,
          "Quantity": 1,
          "StockCode": "POST",
          "UnitPrice": 18
         },
         {
          "Country": "Spain",
          "CustomerID": 12421,
          "Description": "POSTAGE",
          "InvoiceDate": "2011-06-19T13:54:00",
          "InvoiceNo": 557297,
          "Quantity": 2,
          "StockCode": "POST",
          "UnitPrice": 28
         },
         {
          "Country": "Spain",
          "CustomerID": 12541,
          "Description": "POSTAGE",
          "InvoiceDate": "2011-06-19T15:59:00",
          "InvoiceNo": 557314,
          "Quantity": 1,
          "StockCode": "POST",
          "UnitPrice": 28
         },
         {
          "Country": "Denmark",
          "CustomerID": 12429,
          "Description": "POSTAGE",
          "InvoiceDate": "2011-06-20T12:14:00",
          "InvoiceNo": 557427,
          "Quantity": 9,
          "StockCode": "POST",
          "UnitPrice": 18
         },
         {
          "Country": "Germany",
          "CustomerID": 13815,
          "Description": "POSTAGE",
          "InvoiceDate": "2011-06-20T13:08:00",
          "InvoiceNo": 557466,
          "Quantity": 11,
          "StockCode": "POST",
          "UnitPrice": 18
         },
         {
          "Country": "France",
          "CustomerID": 12643,
          "Description": "POSTAGE",
          "InvoiceDate": "2011-06-20T14:17:00",
          "InvoiceNo": 557483,
          "Quantity": 1,
          "StockCode": "POST",
          "UnitPrice": 18
         },
         {
          "Country": "France",
          "CustomerID": 12490,
          "Description": "POSTAGE",
          "InvoiceDate": "2011-06-20T14:58:00",
          "InvoiceNo": 557489,
          "Quantity": 3,
          "StockCode": "POST",
          "UnitPrice": 18
         },
         {
          "Country": "Netherlands",
          "CustomerID": 12759,
          "Description": "POSTAGE",
          "InvoiceDate": "2011-06-21T09:26:00",
          "InvoiceNo": 557525,
          "Quantity": 3,
          "StockCode": "POST",
          "UnitPrice": 15
         },
         {
          "Country": "Germany",
          "CustomerID": 12474,
          "Description": "POSTAGE",
          "InvoiceDate": "2011-06-21T10:46:00",
          "InvoiceNo": 557569,
          "Quantity": 2,
          "StockCode": "POST",
          "UnitPrice": 18
         },
         {
          "Country": "France",
          "CustomerID": 12583,
          "Description": "POSTAGE",
          "InvoiceDate": "2011-06-21T14:30:00",
          "InvoiceNo": 557627,
          "Quantity": 1,
          "StockCode": "POST",
          "UnitPrice": 18
         },
         {
          "Country": "France",
          "CustomerID": 12674,
          "Description": "POSTAGE",
          "InvoiceDate": "2011-06-22T09:43:00",
          "InvoiceNo": 557669,
          "Quantity": 2,
          "StockCode": "POST",
          "UnitPrice": 18
         },
         {
          "Country": "France",
          "CustomerID": 12684,
          "Description": "POSTAGE",
          "InvoiceDate": "2011-06-22T11:20:00",
          "InvoiceNo": 557734,
          "Quantity": 2,
          "StockCode": "POST",
          "UnitPrice": 18
         },
         {
          "Country": "Norway",
          "CustomerID": 12432,
          "Description": "POSTAGE",
          "InvoiceDate": "2011-06-22T13:12:00",
          "InvoiceNo": 557754,
          "Quantity": 1,
          "StockCode": "POST",
          "UnitPrice": 700
         },
         {
          "Country": "Belgium",
          "CustomerID": 12379,
          "Description": "POSTAGE",
          "InvoiceDate": "2011-06-22T16:32:00",
          "InvoiceNo": 557789,
          "Quantity": 3,
          "StockCode": "POST",
          "UnitPrice": 15
         },
         {
          "Country": "Finland",
          "CustomerID": 12704,
          "Description": "POSTAGE",
          "InvoiceDate": "2011-06-23T10:20:00",
          "InvoiceNo": 557803,
          "Quantity": 1,
          "StockCode": "POST",
          "UnitPrice": 40
         },
         {
          "Country": "Germany",
          "CustomerID": 12720,
          "Description": "POSTAGE",
          "InvoiceDate": "2011-06-23T10:56:00",
          "InvoiceNo": 557850,
          "Quantity": 2,
          "StockCode": "POST",
          "UnitPrice": 18
         },
         {
          "Country": "United Kingdom",
          "CustomerID": 17759,
          "Description": "Manual",
          "InvoiceDate": "2011-06-23T13:35:00",
          "InvoiceNo": 557884,
          "Quantity": 1,
          "StockCode": "M",
          "UnitPrice": 1.25
         },
         {
          "Country": "Belgium",
          "CustomerID": 12465,
          "Description": "POSTAGE",
          "InvoiceDate": "2011-06-23T13:37:00",
          "InvoiceNo": 557885,
          "Quantity": 2,
          "StockCode": "POST",
          "UnitPrice": 15
         },
         {
          "Country": "Denmark",
          "CustomerID": 12412,
          "Description": "POSTAGE",
          "InvoiceDate": "2011-06-23T13:51:00",
          "InvoiceNo": 557889,
          "Quantity": 2,
          "StockCode": "POST",
          "UnitPrice": 18
         },
         {
          "Country": "Sweden",
          "CustomerID": 12697,
          "Description": "POSTAGE",
          "InvoiceDate": "2011-06-23T15:44:00",
          "InvoiceNo": 557939,
          "Quantity": 2,
          "StockCode": "POST",
          "UnitPrice": 40
         },
         {
          "Country": "Germany",
          "CustomerID": 12500,
          "Description": "POSTAGE",
          "InvoiceDate": "2011-06-24T10:16:00",
          "InvoiceNo": 557972,
          "Quantity": 2,
          "StockCode": "POST",
          "UnitPrice": 18
         },
         {
          "Country": "Switzerland",
          "CustomerID": 12422,
          "Description": "POSTAGE",
          "InvoiceDate": "2011-06-24T13:20:00",
          "InvoiceNo": 558041,
          "Quantity": 3,
          "StockCode": "POST",
          "UnitPrice": 40
         },
         {
          "Country": "France",
          "CustomerID": 12615,
          "Description": "POSTAGE",
          "InvoiceDate": "2011-06-24T13:35:00",
          "InvoiceNo": 558045,
          "Quantity": 3,
          "StockCode": "POST",
          "UnitPrice": 18
         },
         {
          "Country": "Switzerland",
          "CustomerID": 13505,
          "Description": "POSTAGE",
          "InvoiceDate": "2011-06-26T12:36:00",
          "InvoiceNo": 558089,
          "Quantity": 3,
          "StockCode": "POST",
          "UnitPrice": 40
         },
         {
          "Country": "Spain",
          "CustomerID": 12548,
          "Description": "POSTAGE",
          "InvoiceDate": "2011-06-26T15:35:00",
          "InvoiceNo": 558108,
          "Quantity": 1,
          "StockCode": "POST",
          "UnitPrice": 28
         },
         {
          "Country": "France",
          "CustomerID": 12493,
          "Description": "POSTAGE",
          "InvoiceDate": "2011-06-27T10:17:00",
          "InvoiceNo": 558124,
          "Quantity": 1,
          "StockCode": "POST",
          "UnitPrice": 18
         },
         {
          "Country": "France",
          "CustomerID": 12599,
          "Description": "POSTAGE",
          "InvoiceDate": "2011-06-28T13:11:00",
          "InvoiceNo": 558334,
          "Quantity": 1,
          "StockCode": "POST",
          "UnitPrice": 18
         },
         {
          "Country": "United Kingdom",
          "CustomerID": 15299,
          "Description": "Manual",
          "InvoiceDate": "2011-06-28T17:01:00",
          "InvoiceNo": 558381,
          "Quantity": 1,
          "StockCode": "M",
          "UnitPrice": 600
         },
         {
          "Country": "United Kingdom",
          "CustomerID": 13263,
          "Description": "Manual",
          "InvoiceDate": "2011-06-29T15:03:00",
          "InvoiceNo": 558461,
          "Quantity": 2,
          "StockCode": "M",
          "UnitPrice": 1.95
         },
         {
          "Country": "United Kingdom",
          "CustomerID": 17837,
          "Description": "Manual",
          "InvoiceDate": "2011-06-29T16:44:00",
          "InvoiceNo": 558479,
          "Quantity": 2,
          "StockCode": "M",
          "UnitPrice": 2.95
         },
         {
          "Country": "Germany",
          "CustomerID": 12524,
          "Description": "POSTAGE",
          "InvoiceDate": "2011-06-30T15:30:00",
          "InvoiceNo": 558608,
          "Quantity": 1,
          "StockCode": "POST",
          "UnitPrice": 18
         },
         {
          "Country": "Belgium",
          "CustomerID": 12395,
          "Description": "POSTAGE",
          "InvoiceDate": "2011-06-30T16:52:00",
          "InvoiceNo": 558623,
          "Quantity": 1,
          "StockCode": "POST",
          "UnitPrice": 15
         },
         {
          "Country": "Germany",
          "CustomerID": 12569,
          "Description": "POSTAGE",
          "InvoiceDate": "2011-06-30T17:34:00",
          "InvoiceNo": 558626,
          "Quantity": 1,
          "StockCode": "POST",
          "UnitPrice": 18
         },
         {
          "Country": "Germany",
          "CustomerID": 12626,
          "Description": "POSTAGE",
          "InvoiceDate": "2011-06-30T17:59:00",
          "InvoiceNo": 558628,
          "Quantity": 5,
          "StockCode": "POST",
          "UnitPrice": 18
         },
         {
          "Country": "United Kingdom",
          "CustomerID": 17800,
          "Description": "Manual",
          "InvoiceDate": "2011-07-01T10:58:00",
          "InvoiceNo": 558679,
          "Quantity": 1,
          "StockCode": "M",
          "UnitPrice": 1
         },
         {
          "Country": "France",
          "CustomerID": 12598,
          "Description": "POSTAGE",
          "InvoiceDate": "2011-07-01T11:43:00",
          "InvoiceNo": 558687,
          "Quantity": 1,
          "StockCode": "POST",
          "UnitPrice": 18
         },
         {
          "Country": "France",
          "CustomerID": 12494,
          "Description": "POSTAGE",
          "InvoiceDate": "2011-07-01T12:17:00",
          "InvoiceNo": 558699,
          "Quantity": 1,
          "StockCode": "POST",
          "UnitPrice": 18
         },
         {
          "Country": "Germany",
          "CustomerID": 12710,
          "Description": "POSTAGE",
          "InvoiceDate": "2011-07-01T13:22:00",
          "InvoiceNo": 558717,
          "Quantity": 1,
          "StockCode": "POST",
          "UnitPrice": 18
         },
         {
          "Country": "France",
          "CustomerID": 12682,
          "Description": "POSTAGE",
          "InvoiceDate": "2011-07-04T11:42:00",
          "InvoiceNo": 558813,
          "Quantity": 3,
          "StockCode": "POST",
          "UnitPrice": 18
         },
         {
          "Country": "Germany",
          "CustomerID": 12471,
          "Description": "Manual",
          "InvoiceDate": "2011-07-04T11:59:00",
          "InvoiceNo": 558841,
          "Quantity": 1,
          "StockCode": "M",
          "UnitPrice": 30
         },
         {
          "Country": "United Kingdom",
          "CustomerID": 13301,
          "Description": "Manual",
          "InvoiceDate": "2011-07-04T13:35:00",
          "InvoiceNo": 558875,
          "Quantity": 2,
          "StockCode": "M",
          "UnitPrice": 8.95
         },
         {
          "Country": "Germany",
          "CustomerID": 12619,
          "Description": "Manual",
          "InvoiceDate": "2011-07-04T15:54:00",
          "InvoiceNo": 558895,
          "Quantity": 1,
          "StockCode": "M",
          "UnitPrice": 389.68
         },
         {
          "Country": "Finland",
          "CustomerID": 12428,
          "Description": "POSTAGE",
          "InvoiceDate": "2011-07-05T12:23:00",
          "InvoiceNo": 559004,
          "Quantity": 4,
          "StockCode": "POST",
          "UnitPrice": 40
         },
         {
          "Country": "Belgium",
          "CustomerID": 12407,
          "Description": "POSTAGE",
          "InvoiceDate": "2011-07-06T09:49:00",
          "InvoiceNo": 559058,
          "Quantity": 6,
          "StockCode": "POST",
          "UnitPrice": 15
         },
         {
          "Country": "United Kingdom",
          "CustomerID": 15889,
          "Description": "Manual",
          "InvoiceDate": "2011-07-06T11:10:00",
          "InvoiceNo": 559106,
          "Quantity": 2,
          "StockCode": "M",
          "UnitPrice": 7.95
         },
         {
          "Country": "United Kingdom",
          "CustomerID": 15334,
          "Description": "Manual",
          "InvoiceDate": "2011-07-06T11:22:00",
          "InvoiceNo": 559107,
          "Quantity": 1,
          "StockCode": "M",
          "UnitPrice": 2.95
         },
         {
          "Country": "France",
          "CustomerID": 12700,
          "Description": "POSTAGE",
          "InvoiceDate": "2011-07-06T13:14:00",
          "InvoiceNo": 559134,
          "Quantity": 5,
          "StockCode": "POST",
          "UnitPrice": 18
         },
         {
          "Country": "Spain",
          "CustomerID": 12455,
          "Description": "POSTAGE",
          "InvoiceDate": "2011-07-06T13:18:00",
          "InvoiceNo": 559135,
          "Quantity": 1,
          "StockCode": "POST",
          "UnitPrice": 28
         },
         {
          "Country": "Spain",
          "CustomerID": 12540,
          "Description": "POSTAGE",
          "InvoiceDate": "2011-07-07T10:03:00",
          "InvoiceNo": 559173,
          "Quantity": 2,
          "StockCode": "POST",
          "UnitPrice": 28
         },
         {
          "Country": "Belgium",
          "CustomerID": 12362,
          "Description": "POSTAGE",
          "InvoiceDate": "2011-07-07T12:32:00",
          "InvoiceNo": 559295,
          "Quantity": 2,
          "StockCode": "POST",
          "UnitPrice": 15
         },
         {
          "Country": "Germany",
          "CustomerID": 12471,
          "Description": "POSTAGE",
          "InvoiceDate": "2011-07-07T12:38:00",
          "InvoiceNo": 559298,
          "Quantity": 6,
          "StockCode": "POST",
          "UnitPrice": 18
         },
         {
          "Country": "Germany",
          "CustomerID": 12647,
          "Description": "POSTAGE",
          "InvoiceDate": "2011-07-07T13:54:00",
          "InvoiceNo": 559316,
          "Quantity": 1,
          "StockCode": "POST",
          "UnitPrice": 18
         },
         {
          "Country": "Germany",
          "CustomerID": 12635,
          "Description": "POSTAGE",
          "InvoiceDate": "2011-07-08T08:43:00",
          "InvoiceNo": 559362,
          "Quantity": 3,
          "StockCode": "POST",
          "UnitPrice": 18
         },
         {
          "Country": "France",
          "CustomerID": 12681,
          "Description": "POSTAGE",
          "InvoiceDate": "2011-07-08T11:36:00",
          "InvoiceNo": 559418,
          "Quantity": 3,
          "StockCode": "POST",
          "UnitPrice": 18
         },
         {
          "Country": "Germany",
          "CustomerID": 12648,
          "Description": "POSTAGE",
          "InvoiceDate": "2011-07-08T11:55:00",
          "InvoiceNo": 559421,
          "Quantity": 1,
          "StockCode": "POST",
          "UnitPrice": 18
         },
         {
          "Country": "France",
          "CustomerID": 12553,
          "Description": "POSTAGE",
          "InvoiceDate": "2011-07-08T12:00:00",
          "InvoiceNo": 559422,
          "Quantity": 2,
          "StockCode": "POST",
          "UnitPrice": 18
         },
         {
          "Country": "France",
          "CustomerID": 12583,
          "Description": "POSTAGE",
          "InvoiceDate": "2011-07-08T12:22:00",
          "InvoiceNo": 559441,
          "Quantity": 2,
          "StockCode": "POST",
          "UnitPrice": 18
         },
         {
          "Country": "United Kingdom",
          "CustomerID": 15920,
          "Description": "Manual",
          "InvoiceDate": "2011-07-08T15:16:00",
          "InvoiceNo": 559504,
          "Quantity": 2,
          "StockCode": "M",
          "UnitPrice": 0.79
         },
         {
          "Country": "United Kingdom",
          "CustomerID": 15920,
          "Description": "Manual",
          "InvoiceDate": "2011-07-08T15:31:00",
          "InvoiceNo": 559511,
          "Quantity": 3,
          "StockCode": "M",
          "UnitPrice": 0.79
         },
         {
          "Country": "United Kingdom",
          "CustomerID": 17841,
          "Description": "Manual",
          "InvoiceDate": "2011-07-10T12:16:00",
          "InvoiceNo": 559535,
          "Quantity": 1,
          "StockCode": "M",
          "UnitPrice": 3.75
         },
         {
          "Country": "United Kingdom",
          "CustomerID": 17841,
          "Description": "Manual",
          "InvoiceDate": "2011-07-10T12:16:00",
          "InvoiceNo": 559535,
          "Quantity": 1,
          "StockCode": "M",
          "UnitPrice": 0.85
         },
         {
          "Country": "United Kingdom",
          "CustomerID": 16283,
          "Description": "Manual",
          "InvoiceDate": "2011-07-10T12:17:00",
          "InvoiceNo": 559536,
          "Quantity": 2,
          "StockCode": "M",
          "UnitPrice": 0.85
         },
         {
          "Country": "France",
          "CustomerID": 12681,
          "Description": "POSTAGE",
          "InvoiceDate": "2011-07-11T11:39:00",
          "InvoiceNo": 559607,
          "Quantity": 5,
          "StockCode": "POST",
          "UnitPrice": 18
         },
         {
          "Country": "United Kingdom",
          "CustomerID": 14796,
          "Description": "Manual",
          "InvoiceDate": "2011-07-11T14:04:00",
          "InvoiceNo": 559672,
          "Quantity": 4,
          "StockCode": "M",
          "UnitPrice": 0.39
         },
         {
          "Country": "United Kingdom",
          "CustomerID": 15856,
          "Description": "Manual",
          "InvoiceDate": "2011-07-11T14:16:00",
          "InvoiceNo": 559674,
          "Quantity": 3,
          "StockCode": "M",
          "UnitPrice": 0.42
         },
         {
          "Country": "Greece",
          "CustomerID": 12717,
          "Description": "POSTAGE",
          "InvoiceDate": "2011-07-11T14:47:00",
          "InvoiceNo": 559680,
          "Quantity": 2,
          "StockCode": "POST",
          "UnitPrice": 50
         },
         {
          "Country": "France",
          "CustomerID": 12599,
          "Description": "POSTAGE",
          "InvoiceDate": "2011-07-11T15:22:00",
          "InvoiceNo": 559685,
          "Quantity": 1,
          "StockCode": "POST",
          "UnitPrice": 18
         },
         {
          "Country": "France",
          "CustomerID": 12682,
          "Description": "POSTAGE",
          "InvoiceDate": "2011-07-12T08:52:00",
          "InvoiceNo": 559699,
          "Quantity": 1,
          "StockCode": "POST",
          "UnitPrice": 18
         },
         {
          "Country": "France",
          "CustomerID": 12669,
          "Description": "POSTAGE",
          "InvoiceDate": "2011-07-12T09:54:00",
          "InvoiceNo": 559704,
          "Quantity": 4,
          "StockCode": "POST",
          "UnitPrice": 18
         },
         {
          "Country": "Austria",
          "CustomerID": 12358,
          "Description": "POSTAGE",
          "InvoiceDate": "2011-07-12T10:04:00",
          "InvoiceNo": 559707,
          "Quantity": 2,
          "StockCode": "POST",
          "UnitPrice": 40
         },
         {
          "Country": "Germany",
          "CustomerID": 12474,
          "Description": "POSTAGE",
          "InvoiceDate": "2011-07-12T10:25:00",
          "InvoiceNo": 559710,
          "Quantity": 1,
          "StockCode": "POST",
          "UnitPrice": 18
         },
         {
          "Country": "France",
          "CustomerID": 12682,
          "Description": "POSTAGE",
          "InvoiceDate": "2011-07-12T16:58:00",
          "InvoiceNo": 559819,
          "Quantity": 1,
          "StockCode": "POST",
          "UnitPrice": 18
         },
         {
          "Country": "United Kingdom",
          "CustomerID": 13509,
          "Description": "POSTAGE",
          "InvoiceDate": "2011-07-13T10:08:00",
          "InvoiceNo": 559835,
          "Quantity": 1,
          "StockCode": "POST",
          "UnitPrice": 15
         },
         {
          "Country": "Portugal",
          "CustomerID": 12782,
          "Description": "POSTAGE",
          "InvoiceDate": "2011-07-13T10:30:00",
          "InvoiceNo": 559862,
          "Quantity": 4,
          "StockCode": "POST",
          "UnitPrice": 28
         },
         {
          "Country": "France",
          "CustomerID": 12678,
          "Description": "POSTAGE",
          "InvoiceDate": "2011-07-13T11:48:00",
          "InvoiceNo": 559889,
          "Quantity": 1,
          "StockCode": "POST",
          "UnitPrice": 145
         },
         {
          "Country": "Belgium",
          "CustomerID": 12464,
          "Description": "POSTAGE",
          "InvoiceDate": "2011-07-13T11:58:00",
          "InvoiceNo": 559890,
          "Quantity": 1,
          "StockCode": "POST",
          "UnitPrice": 15
         },
         {
          "Country": "Germany",
          "CustomerID": 12528,
          "Description": "POSTAGE",
          "InvoiceDate": "2011-07-13T12:24:00",
          "InvoiceNo": 559899,
          "Quantity": 3,
          "StockCode": "POST",
          "UnitPrice": 18
         },
         {
          "Country": "Finland",
          "CustomerID": 12405,
          "Description": "POSTAGE",
          "InvoiceDate": "2011-07-14T08:52:00",
          "InvoiceNo": 559928,
          "Quantity": 8,
          "StockCode": "POST",
          "UnitPrice": 40
         },
         {
          "Country": "United Kingdom",
          "CustomerID": 17396,
          "Description": "Manual",
          "InvoiceDate": "2011-07-14T10:24:00",
          "InvoiceNo": 559945,
          "Quantity": 1,
          "StockCode": "M",
          "UnitPrice": 18
         },
         {
          "Country": "Germany",
          "CustomerID": 12619,
          "Description": "POSTAGE",
          "InvoiceDate": "2011-07-14T12:12:00",
          "InvoiceNo": 559987,
          "Quantity": 5,
          "StockCode": "POST",
          "UnitPrice": 18
         },
         {
          "Country": "United Kingdom",
          "CustomerID": 15402,
          "Description": "Manual",
          "InvoiceDate": "2011-07-14T12:17:00",
          "InvoiceNo": 559988,
          "Quantity": 1,
          "StockCode": "M",
          "UnitPrice": 0.42
         },
         {
          "Country": "Poland",
          "CustomerID": 12815,
          "Description": "POSTAGE",
          "InvoiceDate": "2011-07-15T10:21:00",
          "InvoiceNo": 560119,
          "Quantity": 2,
          "StockCode": "POST",
          "UnitPrice": 40
         },
         {
          "Country": "Canada",
          "CustomerID": 17444,
          "Description": "POSTAGE",
          "InvoiceDate": "2011-07-15T12:05:00",
          "InvoiceNo": 560187,
          "Quantity": 1,
          "StockCode": "POST",
          "UnitPrice": 550.94
         },
         {
          "Country": "Germany",
          "CustomerID": 12712,
          "Description": "POSTAGE",
          "InvoiceDate": "2011-07-15T13:10:00",
          "InvoiceNo": 560202,
          "Quantity": 4,
          "StockCode": "POST",
          "UnitPrice": 18
         },
         {
          "Country": "United Kingdom",
          "CustomerID": 15004,
          "Description": "Manual",
          "InvoiceDate": "2011-07-15T14:05:00",
          "InvoiceNo": 560209,
          "Quantity": 1,
          "StockCode": "M",
          "UnitPrice": 0.39
         },
         {
          "Country": "Germany",
          "CustomerID": 12621,
          "Description": "POSTAGE",
          "InvoiceDate": "2011-07-15T14:34:00",
          "InvoiceNo": 560211,
          "Quantity": 3,
          "StockCode": "POST",
          "UnitPrice": 18
         },
         {
          "Country": "United Kingdom",
          "CustomerID": 17750,
          "Description": "Manual",
          "InvoiceDate": "2011-07-15T17:29:00",
          "InvoiceNo": 560228,
          "Quantity": 10,
          "StockCode": "M",
          "UnitPrice": 0.85
         },
         {
          "Country": "Germany",
          "CustomerID": 12600,
          "Description": "POSTAGE",
          "InvoiceDate": "2011-07-17T10:53:00",
          "InvoiceNo": 560230,
          "Quantity": 2,
          "StockCode": "POST",
          "UnitPrice": 18
         },
         {
          "Country": "France",
          "CustomerID": 12691,
          "Description": "POSTAGE",
          "InvoiceDate": "2011-07-17T14:56:00",
          "InvoiceNo": 560272,
          "Quantity": 1,
          "StockCode": "POST",
          "UnitPrice": 18
         },
         {
          "Country": "France",
          "CustomerID": 12589,
          "Description": "POSTAGE",
          "InvoiceDate": "2011-07-18T12:05:00",
          "InvoiceNo": 560363,
          "Quantity": 1,
          "StockCode": "POST",
          "UnitPrice": 18
         },
         {
          "Country": "United Kingdom",
          "CustomerID": 13564,
          "Description": "Manual",
          "InvoiceDate": "2011-07-18T14:33:00",
          "InvoiceNo": 560413,
          "Quantity": 1,
          "StockCode": "M",
          "UnitPrice": 550.64
         },
         {
          "Country": "France",
          "CustomerID": 12682,
          "Description": "POSTAGE",
          "InvoiceDate": "2011-07-19T09:51:00",
          "InvoiceNo": 560452,
          "Quantity": 1,
          "StockCode": "POST",
          "UnitPrice": 18
         },
         {
          "Country": "Germany",
          "CustomerID": 12569,
          "Description": "POSTAGE",
          "InvoiceDate": "2011-07-19T12:38:00",
          "InvoiceNo": 560545,
          "Quantity": 1,
          "StockCode": "POST",
          "UnitPrice": 18
         },
         {
          "Country": "Finland",
          "CustomerID": 12664,
          "Description": "POSTAGE",
          "InvoiceDate": "2011-07-19T12:43:00",
          "InvoiceNo": 560549,
          "Quantity": 2,
          "StockCode": "POST",
          "UnitPrice": 40
         },
         {
          "Country": "Germany",
          "CustomerID": 12662,
          "Description": "POSTAGE",
          "InvoiceDate": "2011-07-19T13:45:00",
          "InvoiceNo": 560566,
          "Quantity": 2,
          "StockCode": "POST",
          "UnitPrice": 18
         },
         {
          "Country": "Germany",
          "CustomerID": 12480,
          "Description": "POSTAGE",
          "InvoiceDate": "2011-07-19T14:04:00",
          "InvoiceNo": 560569,
          "Quantity": 3,
          "StockCode": "POST",
          "UnitPrice": 18
         },
         {
          "Country": "United Kingdom",
          "CustomerID": 15867,
          "Description": "Manual",
          "InvoiceDate": "2011-07-19T15:13:00",
          "InvoiceNo": 560579,
          "Quantity": 12,
          "StockCode": "M",
          "UnitPrice": 0.42
         },
         {
          "Country": "Spain",
          "CustomerID": 12510,
          "Description": "POSTAGE",
          "InvoiceDate": "2011-07-20T10:15:00",
          "InvoiceNo": 560607,
          "Quantity": 3,
          "StockCode": "POST",
          "UnitPrice": 28
         },
         {
          "Country": "Germany",
          "CustomerID": 12521,
          "Description": "POSTAGE",
          "InvoiceDate": "2011-07-20T10:51:00",
          "InvoiceNo": 560635,
          "Quantity": 3,
          "StockCode": "POST",
          "UnitPrice": 18
         },
         {
          "Country": "United Kingdom",
          "CustomerID": 15802,
          "Description": "Manual",
          "InvoiceDate": "2011-07-20T11:38:00",
          "InvoiceNo": 560651,
          "Quantity": 1,
          "StockCode": "M",
          "UnitPrice": 451.42
         },
         {
          "Country": "Netherlands",
          "CustomerID": 14646,
          "Description": "POSTAGE",
          "InvoiceDate": "2011-07-20T12:51:00",
          "InvoiceNo": 560710,
          "Quantity": 1,
          "StockCode": "POST",
          "UnitPrice": 15
         },
         {
          "Country": "Germany",
          "CustomerID": 12520,
          "Description": "POSTAGE",
          "InvoiceDate": "2011-07-20T14:38:00",
          "InvoiceNo": 560728,
          "Quantity": 2,
          "StockCode": "POST",
          "UnitPrice": 18
         },
         {
          "Country": "European Community",
          "CustomerID": 15108,
          "Description": "POSTAGE",
          "InvoiceDate": "2011-07-21T10:24:00",
          "InvoiceNo": 560783,
          "Quantity": 4,
          "StockCode": "POST",
          "UnitPrice": 15
         },
         {
          "Country": "Germany",
          "CustomerID": 12626,
          "Description": "POSTAGE",
          "InvoiceDate": "2011-07-21T15:14:00",
          "InvoiceNo": 560876,
          "Quantity": 6,
          "StockCode": "POST",
          "UnitPrice": 18
         },
         {
          "Country": "Germany",
          "CustomerID": 12476,
          "Description": "POSTAGE",
          "InvoiceDate": "2011-07-21T17:39:00",
          "InvoiceNo": 560901,
          "Quantity": 7,
          "StockCode": "POST",
          "UnitPrice": 18
         },
         {
          "Country": "Norway",
          "CustomerID": 12438,
          "Description": "POSTAGE",
          "InvoiceDate": "2011-07-22T13:29:00",
          "InvoiceNo": 560991,
          "Quantity": 3,
          "StockCode": "POST",
          "UnitPrice": 40
         },
         {
          "Country": "Germany",
          "CustomerID": 12627,
          "Description": "POSTAGE",
          "InvoiceDate": "2011-07-22T13:59:00",
          "InvoiceNo": 560997,
          "Quantity": 4,
          "StockCode": "POST",
          "UnitPrice": 18
         },
         {
          "Country": "France",
          "CustomerID": 12490,
          "Description": "POSTAGE",
          "InvoiceDate": "2011-07-24T11:25:00",
          "InvoiceNo": 561029,
          "Quantity": 2,
          "StockCode": "POST",
          "UnitPrice": 18
         },
         {
          "Country": "Germany",
          "CustomerID": 12472,
          "Description": "POSTAGE",
          "InvoiceDate": "2011-07-24T11:55:00",
          "InvoiceNo": 561037,
          "Quantity": 3,
          "StockCode": "POST",
          "UnitPrice": 18
         },
         {
          "Country": "United Kingdom",
          "CustomerID": 17935,
          "Description": "POSTAGE",
          "InvoiceDate": "2011-07-24T13:18:00",
          "InvoiceNo": 561057,
          "Quantity": 1,
          "StockCode": "POST",
          "UnitPrice": 2.9
         },
         {
          "Country": "Spain",
          "CustomerID": 12540,
          "Description": "POSTAGE",
          "InvoiceDate": "2011-07-25T10:01:00",
          "InvoiceNo": 561093,
          "Quantity": 6,
          "StockCode": "POST",
          "UnitPrice": 28
         },
         {
          "Country": "Germany",
          "CustomerID": 12474,
          "Description": "POSTAGE",
          "InvoiceDate": "2011-07-25T10:04:00",
          "InvoiceNo": 561094,
          "Quantity": 2,
          "StockCode": "POST",
          "UnitPrice": 18
         },
         {
          "Country": "Denmark",
          "CustomerID": 12412,
          "Description": "POSTAGE",
          "InvoiceDate": "2011-07-25T11:17:00",
          "InvoiceNo": 561102,
          "Quantity": 1,
          "StockCode": "POST",
          "UnitPrice": 18
         },
         {
          "Country": "Switzerland",
          "CustomerID": 13520,
          "Description": "POSTAGE",
          "InvoiceDate": "2011-07-25T12:22:00",
          "InvoiceNo": 561116,
          "Quantity": 5,
          "StockCode": "POST",
          "UnitPrice": 40
         },
         {
          "Country": "United Kingdom",
          "CustomerID": 14606,
          "Description": "POSTAGE",
          "InvoiceDate": "2011-07-25T17:04:00",
          "InvoiceNo": 561216,
          "Quantity": 8,
          "StockCode": "POST",
          "UnitPrice": 15
         },
         {
          "Country": "United Kingdom",
          "CustomerID": 14866,
          "Description": "POSTAGE",
          "InvoiceDate": "2011-07-26T16:00:00",
          "InvoiceNo": 561368,
          "Quantity": 1,
          "StockCode": "POST",
          "UnitPrice": 36.5
         },
         {
          "Country": "Germany",
          "CustomerID": 12709,
          "Description": "POSTAGE",
          "InvoiceDate": "2011-07-27T13:00:00",
          "InvoiceNo": 561468,
          "Quantity": 5,
          "StockCode": "POST",
          "UnitPrice": 18
         },
         {
          "Country": "France",
          "CustomerID": 12523,
          "Description": "POSTAGE",
          "InvoiceDate": "2011-07-27T13:14:00",
          "InvoiceNo": 561470,
          "Quantity": 1,
          "StockCode": "POST",
          "UnitPrice": 18
         },
         {
          "Country": "Belgium",
          "CustomerID": 12397,
          "Description": "POSTAGE",
          "InvoiceDate": "2011-07-27T14:21:00",
          "InvoiceNo": 561507,
          "Quantity": 7,
          "StockCode": "POST",
          "UnitPrice": 15
         },
         {
          "Country": "Germany",
          "CustomerID": 13813,
          "Description": "POSTAGE",
          "InvoiceDate": "2011-07-28T10:33:00",
          "InvoiceNo": 561583,
          "Quantity": 3,
          "StockCode": "POST",
          "UnitPrice": 18
         },
         {
          "Country": "Belgium",
          "CustomerID": 12407,
          "Description": "POSTAGE",
          "InvoiceDate": "2011-07-28T16:28:00",
          "InvoiceNo": 561662,
          "Quantity": 2,
          "StockCode": "POST",
          "UnitPrice": 15
         },
         {
          "Country": "Spain",
          "CustomerID": 12507,
          "Description": "POSTAGE",
          "InvoiceDate": "2011-07-28T17:09:00",
          "InvoiceNo": 561669,
          "Quantity": 6,
          "StockCode": "POST",
          "UnitPrice": 28
         },
         {
          "Country": "France",
          "CustomerID": 12716,
          "Description": "POSTAGE",
          "InvoiceDate": "2011-07-29T13:28:00",
          "InvoiceNo": 561795,
          "Quantity": 3,
          "StockCode": "POST",
          "UnitPrice": 18
         },
         {
          "Country": "United Kingdom",
          "CustomerID": 15532,
          "Description": "Manual",
          "InvoiceDate": "2011-07-31T13:13:00",
          "InvoiceNo": 561885,
          "Quantity": 2,
          "StockCode": "M",
          "UnitPrice": 4.95
         },
         {
          "Country": "Sweden",
          "CustomerID": 12697,
          "Description": "POSTAGE",
          "InvoiceDate": "2011-07-31T14:17:00",
          "InvoiceNo": 561890,
          "Quantity": 2,
          "StockCode": "POST",
          "UnitPrice": 40
         },
         {
          "Country": "United Kingdom",
          "CustomerID": 14456,
          "Description": "Manual",
          "InvoiceDate": "2011-07-31T15:00:00",
          "InvoiceNo": 561894,
          "Quantity": 1,
          "StockCode": "M",
          "UnitPrice": 0.08
         },
         {
          "Country": "United Kingdom",
          "CustomerID": 14456,
          "Description": "Manual",
          "InvoiceDate": "2011-07-31T15:00:00",
          "InvoiceNo": 561894,
          "Quantity": 36,
          "StockCode": "M",
          "UnitPrice": 0.08
         },
         {
          "Country": "Switzerland",
          "CustomerID": 12456,
          "Description": "POSTAGE",
          "InvoiceDate": "2011-07-31T15:25:00",
          "InvoiceNo": 561898,
          "Quantity": 7,
          "StockCode": "POST",
          "UnitPrice": 40
         },
         {
          "Country": "Sweden",
          "CustomerID": 17404,
          "Description": "Manual",
          "InvoiceDate": "2011-07-31T15:50:00",
          "InvoiceNo": 561902,
          "Quantity": 1,
          "StockCode": "M",
          "UnitPrice": 30
         },
         {
          "Country": "Germany",
          "CustomerID": 12534,
          "Description": "POSTAGE",
          "InvoiceDate": "2011-08-01T10:26:00",
          "InvoiceNo": 561911,
          "Quantity": 6,
          "StockCode": "POST",
          "UnitPrice": 18
         },
         {
          "Country": "United Kingdom",
          "CustomerID": 15581,
          "Description": "Manual",
          "InvoiceDate": "2011-08-01T11:44:00",
          "InvoiceNo": 561916,
          "Quantity": 1,
          "StockCode": "M",
          "UnitPrice": 250
         },
         {
          "Country": "Belgium",
          "CustomerID": 12449,
          "Description": "POSTAGE",
          "InvoiceDate": "2011-08-02T09:14:00",
          "InvoiceNo": 562034,
          "Quantity": 6,
          "StockCode": "POST",
          "UnitPrice": 15
         },
         {
          "Country": "Germany",
          "CustomerID": 12627,
          "Description": "POSTAGE",
          "InvoiceDate": "2011-08-02T09:29:00",
          "InvoiceNo": 562035,
          "Quantity": 2,
          "StockCode": "POST",
          "UnitPrice": 18
         },
         {
          "Country": "United Kingdom",
          "CustomerID": 13023,
          "Description": "POSTAGE",
          "InvoiceDate": "2011-08-02T09:34:00",
          "InvoiceNo": 562037,
          "Quantity": 3,
          "StockCode": "POST",
          "UnitPrice": 15
         },
         {
          "Country": "Germany",
          "CustomerID": 12633,
          "Description": "POSTAGE",
          "InvoiceDate": "2011-08-02T09:35:00",
          "InvoiceNo": 562038,
          "Quantity": 1,
          "StockCode": "POST",
          "UnitPrice": 18
         },
         {
          "Country": "United Kingdom",
          "CustomerID": 17788,
          "Description": "POSTAGE",
          "InvoiceDate": "2011-08-02T10:38:00",
          "InvoiceNo": 562047,
          "Quantity": 1,
          "StockCode": "POST",
          "UnitPrice": 4.95
         },
         {
          "Country": "France",
          "CustomerID": 12643,
          "Description": "POSTAGE",
          "InvoiceDate": "2011-08-03T12:56:00",
          "InvoiceNo": 562207,
          "Quantity": 9,
          "StockCode": "POST",
          "UnitPrice": 15
         },
         {
          "Country": "Spain",
          "CustomerID": 12502,
          "Description": "POSTAGE",
          "InvoiceDate": "2011-08-04T09:55:00",
          "InvoiceNo": 562273,
          "Quantity": 6,
          "StockCode": "POST",
          "UnitPrice": 28
         },
         {
          "Country": "Finland",
          "CustomerID": 12704,
          "Description": "POSTAGE",
          "InvoiceDate": "2011-08-04T10:00:00",
          "InvoiceNo": 562274,
          "Quantity": 2,
          "StockCode": "POST",
          "UnitPrice": 40
         },
         {
          "Country": "France",
          "CustomerID": 12689,
          "Description": "POSTAGE",
          "InvoiceDate": "2011-08-04T10:04:00",
          "InvoiceNo": 562275,
          "Quantity": 2,
          "StockCode": "POST",
          "UnitPrice": 18
         },
         {
          "Country": "Spain",
          "CustomerID": 12455,
          "Description": "POSTAGE",
          "InvoiceDate": "2011-08-04T11:07:00",
          "InvoiceNo": 562287,
          "Quantity": 1,
          "StockCode": "POST",
          "UnitPrice": 28
         },
         {
          "Country": "United Kingdom",
          "CustomerID": 13263,
          "Description": "Manual",
          "InvoiceDate": "2011-08-04T12:22:00",
          "InvoiceNo": 562347,
          "Quantity": 1,
          "StockCode": "M",
          "UnitPrice": 0.42
         },
         {
          "Country": "Germany",
          "CustomerID": 12626,
          "Description": "POSTAGE",
          "InvoiceDate": "2011-08-04T14:20:00",
          "InvoiceNo": 562370,
          "Quantity": 4,
          "StockCode": "POST",
          "UnitPrice": 18
         },
         {
          "Country": "Germany",
          "CustomerID": 12693,
          "Description": "POSTAGE",
          "InvoiceDate": "2011-08-04T17:51:00",
          "InvoiceNo": 562435,
          "Quantity": 2,
          "StockCode": "POST",
          "UnitPrice": 18
         },
         {
          "Country": "Belgium",
          "CustomerID": 12417,
          "Description": "POSTAGE",
          "InvoiceDate": "2011-08-04T18:51:00",
          "InvoiceNo": 562445,
          "Quantity": 3,
          "StockCode": "POST",
          "UnitPrice": 18
         },
         {
          "Country": "France",
          "CustomerID": 12562,
          "Description": "POSTAGE",
          "InvoiceDate": "2011-08-05T08:40:00",
          "InvoiceNo": 562450,
          "Quantity": 3,
          "StockCode": "POST",
          "UnitPrice": 18
         },
         {
          "Country": "United Kingdom",
          "CustomerID": 17841,
          "Description": "Manual",
          "InvoiceDate": "2011-08-05T11:19:00",
          "InvoiceNo": 562460,
          "Quantity": 6,
          "StockCode": "M",
          "UnitPrice": 0.85
         },
         {
          "Country": "France",
          "CustomerID": 12599,
          "Description": "POSTAGE",
          "InvoiceDate": "2011-08-05T12:38:00",
          "InvoiceNo": 562520,
          "Quantity": 1,
          "StockCode": "POST",
          "UnitPrice": 18
         },
         {
          "Country": "Germany",
          "CustomerID": 12647,
          "Description": "POSTAGE",
          "InvoiceDate": "2011-08-05T13:49:00",
          "InvoiceNo": 562527,
          "Quantity": 2,
          "StockCode": "POST",
          "UnitPrice": 18
         },
         {
          "Country": "Italy",
          "CustomerID": 12610,
          "Description": "POSTAGE",
          "InvoiceDate": "2011-08-05T13:52:00",
          "InvoiceNo": 562528,
          "Quantity": 4,
          "StockCode": "POST",
          "UnitPrice": 28
         },
         {
          "Country": "Germany",
          "CustomerID": 12517,
          "Description": "POSTAGE",
          "InvoiceDate": "2011-08-05T15:02:00",
          "InvoiceNo": 562537,
          "Quantity": 5,
          "StockCode": "POST",
          "UnitPrice": 18
         },
         {
          "Country": "Sweden",
          "CustomerID": 12676,
          "Description": "POSTAGE",
          "InvoiceDate": "2011-08-08T10:01:00",
          "InvoiceNo": 562600,
          "Quantity": 1,
          "StockCode": "POST",
          "UnitPrice": 40
         },
         {
          "Country": "Germany",
          "CustomerID": 12530,
          "Description": "POSTAGE",
          "InvoiceDate": "2011-08-08T10:59:00",
          "InvoiceNo": 562605,
          "Quantity": 2,
          "StockCode": "POST",
          "UnitPrice": 18
         },
         {
          "Country": "Sweden",
          "CustomerID": 17404,
          "Description": "POSTAGE",
          "InvoiceDate": "2011-08-08T13:12:00",
          "InvoiceNo": 562650,
          "Quantity": 2,
          "StockCode": "POST",
          "UnitPrice": 40
         },
         {
          "Country": "Germany",
          "CustomerID": 12569,
          "Description": "POSTAGE",
          "InvoiceDate": "2011-08-09T10:05:00",
          "InvoiceNo": 562729,
          "Quantity": 1,
          "StockCode": "POST",
          "UnitPrice": 18
         },
         {
          "Country": "United Kingdom",
          "CustomerID": 15581,
          "Description": "Manual",
          "InvoiceDate": "2011-08-09T13:44:00",
          "InvoiceNo": 562787,
          "Quantity": 1,
          "StockCode": "M",
          "UnitPrice": 208.34
         },
         {
          "Country": "Norway",
          "CustomerID": 12444,
          "Description": "POSTAGE",
          "InvoiceDate": "2011-08-10T08:41:00",
          "InvoiceNo": 562844,
          "Quantity": 7,
          "StockCode": "POST",
          "UnitPrice": 40
         },
         {
          "Country": "Denmark",
          "CustomerID": 13919,
          "Description": "POSTAGE",
          "InvoiceDate": "2011-08-10T10:15:00",
          "InvoiceNo": 562853,
          "Quantity": 1,
          "StockCode": "POST",
          "UnitPrice": 18
         },
         {
          "Country": "Switzerland",
          "CustomerID": 12384,
          "Description": "POSTAGE",
          "InvoiceDate": "2011-08-10T11:23:00",
          "InvoiceNo": 562882,
          "Quantity": 2,
          "StockCode": "POST",
          "UnitPrice": 40
         },
         {
          "Country": "United Kingdom",
          "CustomerID": 15581,
          "Description": "Manual",
          "InvoiceDate": "2011-08-11T09:38:00",
          "InvoiceNo": 562946,
          "Quantity": 1,
          "StockCode": "M",
          "UnitPrice": 2500
         },
         {
          "Country": "Finland",
          "CustomerID": 12428,
          "Description": "POSTAGE",
          "InvoiceDate": "2011-08-11T12:58:00",
          "InvoiceNo": 563020,
          "Quantity": 3,
          "StockCode": "POST",
          "UnitPrice": 40
         },
         {
          "Country": "Belgium",
          "CustomerID": 12362,
          "Description": "POSTAGE",
          "InvoiceDate": "2011-08-11T15:02:00",
          "InvoiceNo": 563037,
          "Quantity": 3,
          "StockCode": "POST",
          "UnitPrice": 15
         },
         {
          "Country": "Norway",
          "CustomerID": 12381,
          "Description": "POSTAGE",
          "InvoiceDate": "2011-08-12T09:57:00",
          "InvoiceNo": 563100,
          "Quantity": 6,
          "StockCode": "POST",
          "UnitPrice": 40
         },
         {
          "Country": "United Kingdom",
          "CustomerID": 14534,
          "Description": "Manual",
          "InvoiceDate": "2011-08-12T11:22:00",
          "InvoiceNo": 563137,
          "Quantity": 1,
          "StockCode": "M",
          "UnitPrice": 1.65
         },
         {
          "Country": "Belgium",
          "CustomerID": 12399,
          "Description": "POSTAGE",
          "InvoiceDate": "2011-08-12T13:15:00",
          "InvoiceNo": 563172,
          "Quantity": 1,
          "StockCode": "POST",
          "UnitPrice": 15
         },
         {
          "Country": "France",
          "CustomerID": 12682,
          "Description": "POSTAGE",
          "InvoiceDate": "2011-08-12T15:22:00",
          "InvoiceNo": 563189,
          "Quantity": 2,
          "StockCode": "POST",
          "UnitPrice": 18
         },
         {
          "Country": "France",
          "CustomerID": 12656,
          "Description": "POSTAGE",
          "InvoiceDate": "2011-08-15T12:53:00",
          "InvoiceNo": 563288,
          "Quantity": 4,
          "StockCode": "POST",
          "UnitPrice": 18
         },
         {
          "Country": "Germany",
          "CustomerID": 12619,
          "Description": "POSTAGE",
          "InvoiceDate": "2011-08-15T13:22:00",
          "InvoiceNo": 563345,
          "Quantity": 2,
          "StockCode": "POST",
          "UnitPrice": 18
         },
         {
          "Country": "Germany",
          "CustomerID": 12569,
          "Description": "POSTAGE",
          "InvoiceDate": "2011-08-16T10:02:00",
          "InvoiceNo": 563373,
          "Quantity": 2,
          "StockCode": "POST",
          "UnitPrice": 18
         },
         {
          "Country": "United Kingdom",
          "CustomerID": 14407,
          "Description": "POSTAGE",
          "InvoiceDate": "2011-08-16T10:52:00",
          "InvoiceNo": 563383,
          "Quantity": 1,
          "StockCode": "POST",
          "UnitPrice": 15
         },
         {
          "Country": "Sweden",
          "CustomerID": 12641,
          "Description": "POSTAGE",
          "InvoiceDate": "2011-08-16T13:26:00",
          "InvoiceNo": 563443,
          "Quantity": 1,
          "StockCode": "POST",
          "UnitPrice": 40
         },
         {
          "Country": "Spain",
          "CustomerID": 12421,
          "Description": "POSTAGE",
          "InvoiceDate": "2011-08-17T10:56:00",
          "InvoiceNo": 563518,
          "Quantity": 2,
          "StockCode": "POST",
          "UnitPrice": 28
         },
         {
          "Country": "Germany",
          "CustomerID": 12473,
          "Description": "POSTAGE",
          "InvoiceDate": "2011-08-17T12:04:00",
          "InvoiceNo": 563540,
          "Quantity": 5,
          "StockCode": "POST",
          "UnitPrice": 18
         },
         {
          "Country": "Germany",
          "CustomerID": 12528,
          "Description": "POSTAGE",
          "InvoiceDate": "2011-08-17T12:30:00",
          "InvoiceNo": 563548,
          "Quantity": 3,
          "StockCode": "POST",
          "UnitPrice": 18
         },
         {
          "Country": "United Kingdom",
          "CustomerID": 17338,
          "Description": "Manual",
          "InvoiceDate": "2011-08-17T14:22:00",
          "InvoiceNo": 563565,
          "Quantity": 12,
          "StockCode": "M",
          "UnitPrice": 0.42
         },
         {
          "Country": "United Kingdom",
          "CustomerID": 12748,
          "Description": "Manual",
          "InvoiceDate": "2011-08-17T15:06:00",
          "InvoiceNo": 563576,
          "Quantity": 1,
          "StockCode": "M",
          "UnitPrice": 8.49
         },
         {
          "Country": "France",
          "CustomerID": 12729,
          "Description": "POSTAGE",
          "InvoiceDate": "2011-08-18T11:40:00",
          "InvoiceNo": 563662,
          "Quantity": 2,
          "StockCode": "POST",
          "UnitPrice": 18
         },
         {
          "Country": "United Kingdom",
          "CustomerID": 17243,
          "Description": "Manual",
          "InvoiceDate": "2011-08-18T13:01:00",
          "InvoiceNo": 563692,
          "Quantity": 4,
          "StockCode": "M",
          "UnitPrice": 2.1
         },
         {
          "Country": "France",
          "CustomerID": 12680,
          "Description": "POSTAGE",
          "InvoiceDate": "2011-08-18T15:44:00",
          "InvoiceNo": 563712,
          "Quantity": 2,
          "StockCode": "POST",
          "UnitPrice": 18
         },
         {
          "Country": "Austria",
          "CustomerID": 12360,
          "Description": "POSTAGE",
          "InvoiceDate": "2011-08-19T10:10:00",
          "InvoiceNo": 563749,
          "Quantity": 2,
          "StockCode": "POST",
          "UnitPrice": 40
         },
         {
          "Country": "France",
          "CustomerID": 12513,
          "Description": "POSTAGE",
          "InvoiceDate": "2011-08-19T10:51:00",
          "InvoiceNo": 563753,
          "Quantity": 3,
          "StockCode": "POST",
          "UnitPrice": 18
         },
         {
          "Country": "Germany",
          "CustomerID": 12600,
          "Description": "POSTAGE",
          "InvoiceDate": "2011-08-19T11:23:00",
          "InvoiceNo": 563776,
          "Quantity": 2,
          "StockCode": "POST",
          "UnitPrice": 18
         },
         {
          "Country": "Germany",
          "CustomerID": 12626,
          "Description": "POSTAGE",
          "InvoiceDate": "2011-08-19T11:46:00",
          "InvoiceNo": 563808,
          "Quantity": 2,
          "StockCode": "POST",
          "UnitPrice": 18
         },
         {
          "Country": "Belgium",
          "CustomerID": 12395,
          "Description": "POSTAGE",
          "InvoiceDate": "2011-08-19T15:18:00",
          "InvoiceNo": 563852,
          "Quantity": 2,
          "StockCode": "POST",
          "UnitPrice": 15
         },
         {
          "Country": "Germany",
          "CustomerID": 12560,
          "Description": "POSTAGE",
          "InvoiceDate": "2011-08-19T15:22:00",
          "InvoiceNo": 563853,
          "Quantity": 8,
          "StockCode": "POST",
          "UnitPrice": 18
         },
         {
          "Country": "Belgium",
          "CustomerID": 12364,
          "Description": "POSTAGE",
          "InvoiceDate": "2011-08-19T15:24:00",
          "InvoiceNo": 563854,
          "Quantity": 3,
          "StockCode": "POST",
          "UnitPrice": 15
         },
         {
          "Country": "France",
          "CustomerID": 12523,
          "Description": "POSTAGE",
          "InvoiceDate": "2011-08-21T10:44:00",
          "InvoiceNo": 563897,
          "Quantity": 1,
          "StockCode": "POST",
          "UnitPrice": 18
         },
         {
          "Country": "Germany",
          "CustomerID": 12518,
          "Description": "POSTAGE",
          "InvoiceDate": "2011-08-21T13:18:00",
          "InvoiceNo": 563914,
          "Quantity": 2,
          "StockCode": "POST",
          "UnitPrice": 18
         },
         {
          "Country": "France",
          "CustomerID": 12553,
          "Description": "POSTAGE",
          "InvoiceDate": "2011-08-21T14:42:00",
          "InvoiceNo": 563926,
          "Quantity": 2,
          "StockCode": "POST",
          "UnitPrice": 18
         },
         {
          "Country": "Malta",
          "CustomerID": 17828,
          "Description": "POSTAGE",
          "InvoiceDate": "2011-08-22T09:03:00",
          "InvoiceNo": 563936,
          "Quantity": 1,
          "StockCode": "POST",
          "UnitPrice": 40
         },
         {
          "Country": "Germany",
          "CustomerID": 12471,
          "Description": "POSTAGE",
          "InvoiceDate": "2011-08-22T10:39:00",
          "InvoiceNo": 563950,
          "Quantity": 7,
          "StockCode": "POST",
          "UnitPrice": 18
         },
         {
          "Country": "Germany",
          "CustomerID": 12645,
          "Description": "POSTAGE",
          "InvoiceDate": "2011-08-22T12:40:00",
          "InvoiceNo": 564039,
          "Quantity": 2,
          "StockCode": "POST",
          "UnitPrice": 18
         },
         {
          "Country": "Germany",
          "CustomerID": 12627,
          "Description": "POSTAGE",
          "InvoiceDate": "2011-08-23T08:51:00",
          "InvoiceNo": 564082,
          "Quantity": 4,
          "StockCode": "POST",
          "UnitPrice": 18
         },
         {
          "Country": "Germany",
          "CustomerID": 12621,
          "Description": "POSTAGE",
          "InvoiceDate": "2011-08-23T11:47:00",
          "InvoiceNo": 564140,
          "Quantity": 2,
          "StockCode": "POST",
          "UnitPrice": 18
         },
         {
          "Country": "France",
          "CustomerID": 12567,
          "Description": "POSTAGE",
          "InvoiceDate": "2011-08-23T14:23:00",
          "InvoiceNo": 564173,
          "Quantity": 4,
          "StockCode": "POST",
          "UnitPrice": 18
         },
         {
          "Country": "United Kingdom",
          "CustomerID": 17315,
          "Description": "POSTAGE",
          "InvoiceDate": "2011-08-23T16:56:00",
          "InvoiceNo": 564196,
          "Quantity": 1,
          "StockCode": "POST",
          "UnitPrice": 15
         },
         {
          "Country": "Spain",
          "CustomerID": 12540,
          "Description": "POSTAGE",
          "InvoiceDate": "2011-08-24T08:09:00",
          "InvoiceNo": 564201,
          "Quantity": 2,
          "StockCode": "POST",
          "UnitPrice": 28
         },
         {
          "Country": "Germany",
          "CustomerID": 12642,
          "Description": "POSTAGE",
          "InvoiceDate": "2011-08-24T09:23:00",
          "InvoiceNo": 564216,
          "Quantity": 2,
          "StockCode": "POST",
          "UnitPrice": 18
         },
         {
          "Country": "France",
          "CustomerID": 12523,
          "Description": "POSTAGE",
          "InvoiceDate": "2011-08-24T10:13:00",
          "InvoiceNo": 564226,
          "Quantity": 2,
          "StockCode": "POST",
          "UnitPrice": 18
         },
         {
          "Country": "United Kingdom",
          "CustomerID": 17865,
          "Description": "Manual",
          "InvoiceDate": "2011-08-24T12:32:00",
          "InvoiceNo": 564307,
          "Quantity": 1,
          "StockCode": "M",
          "UnitPrice": 2.1
         },
         {
          "Country": "Germany",
          "CustomerID": 12662,
          "Description": "POSTAGE",
          "InvoiceDate": "2011-08-24T13:42:00",
          "InvoiceNo": 564328,
          "Quantity": 2,
          "StockCode": "POST",
          "UnitPrice": 18
         },
         {
          "Country": "Germany",
          "CustomerID": 12569,
          "Description": "POSTAGE",
          "InvoiceDate": "2011-08-24T13:55:00",
          "InvoiceNo": 564329,
          "Quantity": 2,
          "StockCode": "POST",
          "UnitPrice": 18
         },
         {
          "Country": "Germany",
          "CustomerID": 12649,
          "Description": "POSTAGE",
          "InvoiceDate": "2011-08-24T14:40:00",
          "InvoiceNo": 564337,
          "Quantity": 1,
          "StockCode": "POST",
          "UnitPrice": 18
         },
         {
          "Country": "Germany",
          "CustomerID": 12471,
          "Description": "POSTAGE",
          "InvoiceDate": "2011-08-24T16:13:00",
          "InvoiceNo": 564360,
          "Quantity": 3,
          "StockCode": "POST",
          "UnitPrice": 18
         },
         {
          "Country": "Germany",
          "CustomerID": 12712,
          "Description": "POSTAGE",
          "InvoiceDate": "2011-08-25T09:18:00",
          "InvoiceNo": 564367,
          "Quantity": 1,
          "StockCode": "POST",
          "UnitPrice": 18
         },
         {
          "Country": "France",
          "CustomerID": 12714,
          "Description": "POSTAGE",
          "InvoiceDate": "2011-08-25T09:55:00",
          "InvoiceNo": 564372,
          "Quantity": 6,
          "StockCode": "POST",
          "UnitPrice": 18
         },
         {
          "Country": "Belgium",
          "CustomerID": 12417,
          "Description": "POSTAGE",
          "InvoiceDate": "2011-08-25T10:26:00",
          "InvoiceNo": 564378,
          "Quantity": 3,
          "StockCode": "POST",
          "UnitPrice": 15
         },
         {
          "Country": "France",
          "CustomerID": 12583,
          "Description": "POSTAGE",
          "InvoiceDate": "2011-08-25T12:26:00",
          "InvoiceNo": 564471,
          "Quantity": 1,
          "StockCode": "POST",
          "UnitPrice": 18
         },
         {
          "Country": "Germany",
          "CustomerID": 12500,
          "Description": "POSTAGE",
          "InvoiceDate": "2011-08-25T12:50:00",
          "InvoiceNo": 564475,
          "Quantity": 1,
          "StockCode": "POST",
          "UnitPrice": 18
         },
         {
          "Country": "Italy",
          "CustomerID": 12610,
          "Description": "POSTAGE",
          "InvoiceDate": "2011-08-25T12:57:00",
          "InvoiceNo": 564476,
          "Quantity": 1,
          "StockCode": "POST",
          "UnitPrice": 40
         },
         {
          "Country": "France",
          "CustomerID": 12682,
          "Description": "POSTAGE",
          "InvoiceDate": "2011-08-25T13:12:00",
          "InvoiceNo": 564479,
          "Quantity": 2,
          "StockCode": "POST",
          "UnitPrice": 18
         },
         {
          "Country": "Belgium",
          "CustomerID": 12464,
          "Description": "POSTAGE",
          "InvoiceDate": "2011-08-25T13:33:00",
          "InvoiceNo": 564481,
          "Quantity": 3,
          "StockCode": "POST",
          "UnitPrice": 15
         },
         {
          "Country": "France",
          "CustomerID": 12624,
          "Description": "POSTAGE",
          "InvoiceDate": "2011-08-25T15:04:00",
          "InvoiceNo": 564531,
          "Quantity": 2,
          "StockCode": "POST",
          "UnitPrice": 18
         },
         {
          "Country": "Sweden",
          "CustomerID": 12715,
          "Description": "POSTAGE",
          "InvoiceDate": "2011-08-25T15:22:00",
          "InvoiceNo": 564539,
          "Quantity": 2,
          "StockCode": "POST",
          "UnitPrice": 40
         },
         {
          "Country": "Finland",
          "CustomerID": 12704,
          "Description": "POSTAGE",
          "InvoiceDate": "2011-08-26T08:59:00",
          "InvoiceNo": 564558,
          "Quantity": 2,
          "StockCode": "POST",
          "UnitPrice": 40
         },
         {
          "Country": "Germany",
          "CustomerID": 13812,
          "Description": "POSTAGE",
          "InvoiceDate": "2011-08-26T12:54:00",
          "InvoiceNo": 564638,
          "Quantity": 1,
          "StockCode": "POST",
          "UnitPrice": 18
         },
         {
          "Country": "United Kingdom",
          "CustomerID": 15611,
          "Description": "POSTAGE",
          "InvoiceDate": "2011-08-26T14:13:00",
          "InvoiceNo": 564649,
          "Quantity": 1,
          "StockCode": "POST",
          "UnitPrice": 15
         },
         {
          "Country": "Germany",
          "CustomerID": 12492,
          "Description": "POSTAGE",
          "InvoiceDate": "2011-08-26T14:51:00",
          "InvoiceNo": 564666,
          "Quantity": 1,
          "StockCode": "POST",
          "UnitPrice": 18
         },
         {
          "Country": "France",
          "CustomerID": 12683,
          "Description": "POSTAGE",
          "InvoiceDate": "2011-08-26T15:44:00",
          "InvoiceNo": 564670,
          "Quantity": 6,
          "StockCode": "POST",
          "UnitPrice": 18
         },
         {
          "Country": "Germany",
          "CustomerID": 12708,
          "Description": "POSTAGE",
          "InvoiceDate": "2011-08-30T08:15:00",
          "InvoiceNo": 564749,
          "Quantity": 2,
          "StockCode": "POST",
          "UnitPrice": 18
         },
         {
          "Country": "United Kingdom",
          "CustomerID": 14096,
          "Description": "DOTCOM POSTAGE",
          "InvoiceDate": "2011-08-30T10:49:00",
          "InvoiceNo": 564764,
          "Quantity": 1,
          "StockCode": "DOT",
          "UnitPrice": 11.17
         },
         {
          "Country": "Poland",
          "CustomerID": 12814,
          "Description": "POSTAGE",
          "InvoiceDate": "2011-08-30T12:11:00",
          "InvoiceNo": 564819,
          "Quantity": 1,
          "StockCode": "POST",
          "UnitPrice": 40
         },
         {
          "Country": "Belgium",
          "CustomerID": 12423,
          "Description": "POSTAGE",
          "InvoiceDate": "2011-08-31T08:55:00",
          "InvoiceNo": 564853,
          "Quantity": 3,
          "StockCode": "POST",
          "UnitPrice": 15
         },
         {
          "Country": "Spain",
          "CustomerID": 12484,
          "Description": "POSTAGE",
          "InvoiceDate": "2011-08-31T09:44:00",
          "InvoiceNo": 564858,
          "Quantity": 5,
          "StockCode": "POST",
          "UnitPrice": 28
         },
         {
          "Country": "United Kingdom",
          "CustomerID": 17315,
          "Description": "POSTAGE",
          "InvoiceDate": "2011-08-31T10:21:00",
          "InvoiceNo": 564861,
          "Quantity": 1,
          "StockCode": "POST",
          "UnitPrice": 15
         },
         {
          "Country": "France",
          "CustomerID": 12678,
          "Description": "POSTAGE",
          "InvoiceDate": "2011-08-31T10:24:00",
          "InvoiceNo": 564862,
          "Quantity": 1,
          "StockCode": "POST",
          "UnitPrice": 145
         },
         {
          "Country": "France",
          "CustomerID": 12682,
          "Description": "POSTAGE",
          "InvoiceDate": "2011-08-31T12:18:00",
          "InvoiceNo": 564906,
          "Quantity": 2,
          "StockCode": "POST",
          "UnitPrice": 18
         },
         {
          "Country": "France",
          "CustomerID": 12490,
          "Description": "POSTAGE",
          "InvoiceDate": "2011-08-31T12:33:00",
          "InvoiceNo": 564912,
          "Quantity": 3,
          "StockCode": "POST",
          "UnitPrice": 18
         },
         {
          "Country": "Germany",
          "CustomerID": 12621,
          "Description": "POSTAGE",
          "InvoiceDate": "2011-08-31T15:30:00",
          "InvoiceNo": 564972,
          "Quantity": 6,
          "StockCode": "POST",
          "UnitPrice": 18
         },
         {
          "Country": "United Kingdom",
          "CustomerID": 17949,
          "Description": "Manual",
          "InvoiceDate": "2011-09-01T11:56:00",
          "InvoiceNo": 565123,
          "Quantity": 96,
          "StockCode": "M",
          "UnitPrice": 5
         },
         {
          "Country": "Norway",
          "CustomerID": 12436,
          "Description": "POSTAGE",
          "InvoiceDate": "2011-09-01T12:09:00",
          "InvoiceNo": 565124,
          "Quantity": 2,
          "StockCode": "POST",
          "UnitPrice": 40
         },
         {
          "Country": "United Kingdom",
          "CustomerID": 17750,
          "Description": "Manual",
          "InvoiceDate": "2011-09-01T17:09:00",
          "InvoiceNo": 565210,
          "Quantity": 41,
          "StockCode": "M",
          "UnitPrice": 0.19
         },
         {
          "Country": "France",
          "CustomerID": 12670,
          "Description": "POSTAGE",
          "InvoiceDate": "2011-09-02T09:51:00",
          "InvoiceNo": 565239,
          "Quantity": 3,
          "StockCode": "POST",
          "UnitPrice": 18
         },
         {
          "Country": "Belgium",
          "CustomerID": 12408,
          "Description": "POSTAGE",
          "InvoiceDate": "2011-09-02T10:27:00",
          "InvoiceNo": 565246,
          "Quantity": 4,
          "StockCode": "POST",
          "UnitPrice": 15
         },
         {
          "Country": "Germany",
          "CustomerID": 12474,
          "Description": "POSTAGE",
          "InvoiceDate": "2011-09-02T10:53:00",
          "InvoiceNo": 565261,
          "Quantity": 2,
          "StockCode": "POST",
          "UnitPrice": 18
         },
         {
          "Country": "Sweden",
          "CustomerID": 12483,
          "Description": "POSTAGE",
          "InvoiceDate": "2011-09-02T11:42:00",
          "InvoiceNo": 565287,
          "Quantity": 1,
          "StockCode": "POST",
          "UnitPrice": 18
         },
         {
          "Country": "France",
          "CustomerID": 12437,
          "Description": "POSTAGE",
          "InvoiceDate": "2011-09-02T13:14:00",
          "InvoiceNo": 565321,
          "Quantity": 2,
          "StockCode": "POST",
          "UnitPrice": 18
         },
         {
          "Country": "Finland",
          "CustomerID": 12375,
          "Description": "POSTAGE",
          "InvoiceDate": "2011-09-02T14:23:00",
          "InvoiceNo": 565333,
          "Quantity": 1,
          "StockCode": "POST",
          "UnitPrice": 40
         },
         {
          "Country": "United Kingdom",
          "CustomerID": 18087,
          "Description": "Manual",
          "InvoiceDate": "2011-09-02T15:12:00",
          "InvoiceNo": 565377,
          "Quantity": 1,
          "StockCode": "M",
          "UnitPrice": 852.8
         },
         {
          "Country": "United Kingdom",
          "CustomerID": 14096,
          "Description": "DOTCOM POSTAGE",
          "InvoiceDate": "2011-09-02T15:45:00",
          "InvoiceNo": 565383,
          "Quantity": 1,
          "StockCode": "DOT",
          "UnitPrice": 16.46
         },
         {
          "Country": "Germany",
          "CustomerID": 12710,
          "Description": "POSTAGE",
          "InvoiceDate": "2011-09-04T12:00:00",
          "InvoiceNo": 565416,
          "Quantity": 2,
          "StockCode": "POST",
          "UnitPrice": 18
         },
         {
          "Country": "Germany",
          "CustomerID": 12569,
          "Description": "POSTAGE",
          "InvoiceDate": "2011-09-04T12:23:00",
          "InvoiceNo": 565423,
          "Quantity": 1,
          "StockCode": "POST",
          "UnitPrice": 18
         },
         {
          "Country": "Germany",
          "CustomerID": 12627,
          "Description": "POSTAGE",
          "InvoiceDate": "2011-09-04T14:09:00",
          "InvoiceNo": 565442,
          "Quantity": 3,
          "StockCode": "POST",
          "UnitPrice": 18
         },
         {
          "Country": "France",
          "CustomerID": 12567,
          "Description": "POSTAGE",
          "InvoiceDate": "2011-09-04T14:22:00",
          "InvoiceNo": 565443,
          "Quantity": 3,
          "StockCode": "POST",
          "UnitPrice": 18
         },
         {
          "Country": "Spain",
          "CustomerID": 12502,
          "Description": "POSTAGE",
          "InvoiceDate": "2011-09-05T11:52:00",
          "InvoiceNo": 565519,
          "Quantity": 7,
          "StockCode": "POST",
          "UnitPrice": 28
         },
         {
          "Country": "United Kingdom",
          "CustomerID": 18283,
          "Description": "Manual",
          "InvoiceDate": "2011-09-05T12:35:00",
          "InvoiceNo": 565579,
          "Quantity": 1,
          "StockCode": "M",
          "UnitPrice": 4
         },
         {
          "Country": "Poland",
          "CustomerID": 12816,
          "Description": "POSTAGE",
          "InvoiceDate": "2011-09-05T12:41:00",
          "InvoiceNo": 565583,
          "Quantity": 1,
          "StockCode": "POST",
          "UnitPrice": 40
         },
         {
          "Country": "France",
          "CustomerID": 12727,
          "Description": "POSTAGE",
          "InvoiceDate": "2011-09-05T13:38:00",
          "InvoiceNo": 565587,
          "Quantity": 6,
          "StockCode": "POST",
          "UnitPrice": 18
         },
         {
          "Country": "France",
          "CustomerID": 12616,
          "Description": "POSTAGE",
          "InvoiceDate": "2011-09-05T15:17:00",
          "InvoiceNo": 565612,
          "Quantity": 2,
          "StockCode": "POST",
          "UnitPrice": 18
         },
         {
          "Country": "Germany",
          "CustomerID": 12720,
          "Description": "POSTAGE",
          "InvoiceDate": "2011-09-06T13:46:00",
          "InvoiceNo": 565759,
          "Quantity": 3,
          "StockCode": "POST",
          "UnitPrice": 18
         },
         {
          "Country": "Germany",
          "CustomerID": 12526,
          "Description": "POSTAGE",
          "InvoiceDate": "2011-09-06T14:19:00",
          "InvoiceNo": 565765,
          "Quantity": 2,
          "StockCode": "POST",
          "UnitPrice": 18
         },
         {
          "Country": "Germany",
          "CustomerID": 12569,
          "Description": "POSTAGE",
          "InvoiceDate": "2011-09-06T14:53:00",
          "InvoiceNo": 565777,
          "Quantity": 1,
          "StockCode": "POST",
          "UnitPrice": 18
         },
         {
          "Country": "Switzerland",
          "CustomerID": 12461,
          "Description": "POSTAGE",
          "InvoiceDate": "2011-09-06T16:57:00",
          "InvoiceNo": 565785,
          "Quantity": 5,
          "StockCode": "POST",
          "UnitPrice": 40
         },
         {
          "Country": "France",
          "CustomerID": 12685,
          "Description": "POSTAGE",
          "InvoiceDate": "2011-09-07T10:28:00",
          "InvoiceNo": 565801,
          "Quantity": 3,
          "StockCode": "POST",
          "UnitPrice": 18
         },
         {
          "Country": "France",
          "CustomerID": 12490,
          "Description": "POSTAGE",
          "InvoiceDate": "2011-09-07T13:22:00",
          "InvoiceNo": 565854,
          "Quantity": 4,
          "StockCode": "POST",
          "UnitPrice": 18
         },
         {
          "Country": "United Kingdom",
          "CustomerID": 16828,
          "Description": "POSTAGE",
          "InvoiceDate": "2011-09-07T15:10:00",
          "InvoiceNo": 565870,
          "Quantity": 1,
          "StockCode": "POST",
          "UnitPrice": 15
         },
         {
          "Country": "France",
          "CustomerID": 12685,
          "Description": "POSTAGE",
          "InvoiceDate": "2011-09-08T10:32:00",
          "InvoiceNo": 565930,
          "Quantity": 5,
          "StockCode": "POST",
          "UnitPrice": 18
         },
         {
          "Country": "France",
          "CustomerID": 12683,
          "Description": "POSTAGE",
          "InvoiceDate": "2011-09-08T10:35:00",
          "InvoiceNo": 565931,
          "Quantity": 2,
          "StockCode": "POST",
          "UnitPrice": 18
         },
         {
          "Country": "United Kingdom",
          "CustomerID": 15885,
          "Description": "POSTAGE",
          "InvoiceDate": "2011-09-08T10:43:00",
          "InvoiceNo": 565933,
          "Quantity": 1,
          "StockCode": "POST",
          "UnitPrice": 15
         },
         {
          "Country": "Spain",
          "CustomerID": 12540,
          "Description": "POSTAGE",
          "InvoiceDate": "2011-09-08T13:38:00",
          "InvoiceNo": 566040,
          "Quantity": 2,
          "StockCode": "POST",
          "UnitPrice": 28
         },
         {
          "Country": "Germany",
          "CustomerID": 12592,
          "Description": "POSTAGE",
          "InvoiceDate": "2011-09-08T15:04:00",
          "InvoiceNo": 566054,
          "Quantity": 1,
          "StockCode": "POST",
          "UnitPrice": 18
         },
         {
          "Country": "Germany",
          "CustomerID": 12569,
          "Description": "POSTAGE",
          "InvoiceDate": "2011-09-08T15:22:00",
          "InvoiceNo": 566059,
          "Quantity": 1,
          "StockCode": "POST",
          "UnitPrice": 18
         },
         {
          "Country": "Belgium",
          "CustomerID": 12449,
          "Description": "POSTAGE",
          "InvoiceDate": "2011-09-09T09:13:00",
          "InvoiceNo": 566076,
          "Quantity": 11,
          "StockCode": "POST",
          "UnitPrice": 15
         },
         {
          "Country": "United Kingdom",
          "CustomerID": 15187,
          "Description": "POSTAGE",
          "InvoiceDate": "2011-09-09T10:05:00",
          "InvoiceNo": 566080,
          "Quantity": 1,
          "StockCode": "POST",
          "UnitPrice": 15
         },
         {
          "Country": "France",
          "CustomerID": 12674,
          "Description": "POSTAGE",
          "InvoiceDate": "2011-09-09T10:51:00",
          "InvoiceNo": 566115,
          "Quantity": 1,
          "StockCode": "POST",
          "UnitPrice": 18
         },
         {
          "Country": "Netherlands",
          "CustomerID": 12787,
          "Description": "POSTAGE",
          "InvoiceDate": "2011-09-09T12:24:00",
          "InvoiceNo": 566173,
          "Quantity": 1,
          "StockCode": "POST",
          "UnitPrice": 15
         },
         {
          "Country": "United Kingdom",
          "CustomerID": 14096,
          "Description": "DOTCOM POSTAGE",
          "InvoiceDate": "2011-09-09T15:17:00",
          "InvoiceNo": 566217,
          "Quantity": 1,
          "StockCode": "DOT",
          "UnitPrice": 13.16
         },
         {
          "Country": "Germany",
          "CustomerID": 12635,
          "Description": "POSTAGE",
          "InvoiceDate": "2011-09-11T11:04:00",
          "InvoiceNo": 566233,
          "Quantity": 7,
          "StockCode": "POST",
          "UnitPrice": 18
         },
         {
          "Country": "France",
          "CustomerID": 12680,
          "Description": "POSTAGE",
          "InvoiceDate": "2011-09-11T12:27:00",
          "InvoiceNo": 566256,
          "Quantity": 1,
          "StockCode": "POST",
          "UnitPrice": 18
         },
         {
          "Country": "Germany",
          "CustomerID": 12647,
          "Description": "POSTAGE",
          "InvoiceDate": "2011-09-11T13:32:00",
          "InvoiceNo": 566267,
          "Quantity": 3,
          "StockCode": "POST",
          "UnitPrice": 18
         },
         {
          "Country": "Germany",
          "CustomerID": 13813,
          "Description": "POSTAGE",
          "InvoiceDate": "2011-09-11T13:38:00",
          "InvoiceNo": 566268,
          "Quantity": 3,
          "StockCode": "POST",
          "UnitPrice": 18
         },
         {
          "Country": "France",
          "CustomerID": 12679,
          "Description": "POSTAGE",
          "InvoiceDate": "2011-09-13T10:34:00",
          "InvoiceNo": 566492,
          "Quantity": 1,
          "StockCode": "POST",
          "UnitPrice": 18
         },
         {
          "Country": "United Kingdom",
          "CustomerID": 17365,
          "Description": "Manual",
          "InvoiceDate": "2011-09-13T12:18:00",
          "InvoiceNo": 566562,
          "Quantity": 12,
          "StockCode": "M",
          "UnitPrice": 0.42
         },
         {
          "Country": "United Kingdom",
          "CustomerID": 14096,
          "Description": "DOTCOM POSTAGE",
          "InvoiceDate": "2011-09-13T12:32:00",
          "InvoiceNo": 566566,
          "Quantity": 1,
          "StockCode": "DOT",
          "UnitPrice": 85.58
         },
         {
          "Country": "Germany",
          "CustomerID": 12619,
          "Description": "POSTAGE",
          "InvoiceDate": "2011-09-13T14:23:00",
          "InvoiceNo": 566586,
          "Quantity": 1,
          "StockCode": "POST",
          "UnitPrice": 18
         },
         {
          "Country": "Finland",
          "CustomerID": 12664,
          "Description": "POSTAGE",
          "InvoiceDate": "2011-09-13T15:35:00",
          "InvoiceNo": 566598,
          "Quantity": 1,
          "StockCode": "POST",
          "UnitPrice": 40
         },
         {
          "Country": "France",
          "CustomerID": 12726,
          "Description": "POSTAGE",
          "InvoiceDate": "2011-09-14T14:19:00",
          "InvoiceNo": 566736,
          "Quantity": 2,
          "StockCode": "POST",
          "UnitPrice": 18
         },
         {
          "Country": "Germany",
          "CustomerID": 12566,
          "Description": "POSTAGE",
          "InvoiceDate": "2011-09-14T14:30:00",
          "InvoiceNo": 566739,
          "Quantity": 3,
          "StockCode": "POST",
          "UnitPrice": 18
         },
         {
          "Country": "Norway",
          "CustomerID": 12444,
          "Description": "POSTAGE",
          "InvoiceDate": "2011-09-15T09:43:00",
          "InvoiceNo": 566773,
          "Quantity": 2,
          "StockCode": "POST",
          "UnitPrice": 40
         },
         {
          "Country": "United Kingdom",
          "CustomerID": 14735,
          "Description": "POSTAGE",
          "InvoiceDate": "2011-09-15T12:53:00",
          "InvoiceNo": 566865,
          "Quantity": 1,
          "StockCode": "POST",
          "UnitPrice": 15
         },
         {
          "Country": "Switzerland",
          "CustomerID": 12457,
          "Description": "POSTAGE",
          "InvoiceDate": "2011-09-15T14:25:00",
          "InvoiceNo": 566916,
          "Quantity": 4,
          "StockCode": "POST",
          "UnitPrice": 40
         },
         {
          "Country": "France",
          "CustomerID": 12722,
          "Description": "POSTAGE",
          "InvoiceDate": "2011-09-15T14:50:00",
          "InvoiceNo": 566918,
          "Quantity": 1,
          "StockCode": "POST",
          "UnitPrice": 18
         },
         {
          "Country": "United Kingdom",
          "CustomerID": 17846,
          "Description": "Manual",
          "InvoiceDate": "2011-09-15T15:20:00",
          "InvoiceNo": 566927,
          "Quantity": 1,
          "StockCode": "M",
          "UnitPrice": 2033.1
         },
         {
          "Country": "Germany",
          "CustomerID": 12471,
          "Description": "POSTAGE",
          "InvoiceDate": "2011-09-16T10:39:00",
          "InvoiceNo": 566984,
          "Quantity": 3,
          "StockCode": "POST",
          "UnitPrice": 18
         },
         {
          "Country": "Germany",
          "CustomerID": 12476,
          "Description": "POSTAGE",
          "InvoiceDate": "2011-09-16T10:56:00",
          "InvoiceNo": 566987,
          "Quantity": 4,
          "StockCode": "POST",
          "UnitPrice": 18
         },
         {
          "Country": "Germany",
          "CustomerID": 12600,
          "Description": "POSTAGE",
          "InvoiceDate": "2011-09-16T14:20:00",
          "InvoiceNo": 567134,
          "Quantity": 1,
          "StockCode": "POST",
          "UnitPrice": 18
         },
         {
          "Country": "United Kingdom",
          "CustomerID": 14769,
          "Description": "Manual",
          "InvoiceDate": "2011-09-18T15:32:00",
          "InvoiceNo": 567183,
          "Quantity": 1,
          "StockCode": "M",
          "UnitPrice": 1.65
         },
         {
          "Country": "France",
          "CustomerID": 12562,
          "Description": "POSTAGE",
          "InvoiceDate": "2011-09-19T09:15:00",
          "InvoiceNo": 567191,
          "Quantity": 3,
          "StockCode": "POST",
          "UnitPrice": 18
         },
         {
          "Country": "Belgium",
          "CustomerID": 12379,
          "Description": "POSTAGE",
          "InvoiceDate": "2011-09-19T10:09:00",
          "InvoiceNo": 567196,
          "Quantity": 2,
          "StockCode": "POST",
          "UnitPrice": 15
         },
         {
          "Country": "France",
          "CustomerID": 12640,
          "Description": "POSTAGE",
          "InvoiceDate": "2011-09-19T12:01:00",
          "InvoiceNo": 567293,
          "Quantity": 5,
          "StockCode": "POST",
          "UnitPrice": 18
         },
         {
          "Country": "France",
          "CustomerID": 12682,
          "Description": "POSTAGE",
          "InvoiceDate": "2011-09-19T12:19:00",
          "InvoiceNo": 567296,
          "Quantity": 1,
          "StockCode": "POST",
          "UnitPrice": 18
         },
         {
          "Country": "Germany",
          "CustomerID": 12497,
          "Description": "POSTAGE",
          "InvoiceDate": "2011-09-19T12:29:00",
          "InvoiceNo": 567298,
          "Quantity": 5,
          "StockCode": "POST",
          "UnitPrice": 18
         },
         {
          "Country": "France",
          "CustomerID": 12724,
          "Description": "POSTAGE",
          "InvoiceDate": "2011-09-19T12:36:00",
          "InvoiceNo": 567300,
          "Quantity": 3,
          "StockCode": "POST",
          "UnitPrice": 18
         },
         {
          "Country": "Germany",
          "CustomerID": 12621,
          "Description": "POSTAGE",
          "InvoiceDate": "2011-09-19T13:28:00",
          "InvoiceNo": 567305,
          "Quantity": 2,
          "StockCode": "POST",
          "UnitPrice": 18
         },
         {
          "Country": "Germany",
          "CustomerID": 12621,
          "Description": "POSTAGE",
          "InvoiceDate": "2011-09-19T14:56:00",
          "InvoiceNo": 567336,
          "Quantity": 4,
          "StockCode": "POST",
          "UnitPrice": 18
         },
         {
          "Country": "Spain",
          "CustomerID": 12540,
          "Description": "POSTAGE",
          "InvoiceDate": "2011-09-19T15:02:00",
          "InvoiceNo": 567340,
          "Quantity": 4,
          "StockCode": "POST",
          "UnitPrice": 28
         },
         {
          "Country": "United Kingdom",
          "CustomerID": 16235,
          "Description": "POSTAGE",
          "InvoiceDate": "2011-09-19T15:04:00",
          "InvoiceNo": 567342,
          "Quantity": 1,
          "StockCode": "POST",
          "UnitPrice": 10
         },
         {
          "Country": "United Kingdom",
          "CustomerID": 16369,
          "Description": "Manual",
          "InvoiceDate": "2011-09-20T11:16:00",
          "InvoiceNo": 567424,
          "Quantity": 2,
          "StockCode": "M",
          "UnitPrice": 0.19
         },
         {
          "Country": "United Kingdom",
          "CustomerID": 16369,
          "Description": "Manual",
          "InvoiceDate": "2011-09-20T11:16:00",
          "InvoiceNo": 567424,
          "Quantity": 2,
          "StockCode": "M",
          "UnitPrice": 0.85
         },
         {
          "Country": "United Kingdom",
          "CustomerID": 15888,
          "Description": "Manual",
          "InvoiceDate": "2011-09-20T12:30:00",
          "InvoiceNo": 567460,
          "Quantity": 3,
          "StockCode": "M",
          "UnitPrice": 0.19
         },
         {
          "Country": "United Kingdom",
          "CustomerID": 15888,
          "Description": "Manual",
          "InvoiceDate": "2011-09-20T12:30:00",
          "InvoiceNo": 567460,
          "Quantity": 6,
          "StockCode": "M",
          "UnitPrice": 0.85
         },
         {
          "Country": "United Kingdom",
          "CustomerID": 14446,
          "Description": "Manual",
          "InvoiceDate": "2011-09-20T12:35:00",
          "InvoiceNo": 567462,
          "Quantity": 60,
          "StockCode": "M",
          "UnitPrice": 0.08
         },
         {
          "Country": "United Kingdom",
          "CustomerID": 15026,
          "Description": "Manual",
          "InvoiceDate": "2011-09-20T13:52:00",
          "InvoiceNo": 567485,
          "Quantity": 60,
          "StockCode": "M",
          "UnitPrice": 0.08
         },
         {
          "Country": "Norway",
          "CustomerID": 12352,
          "Description": "POSTAGE",
          "InvoiceDate": "2011-09-20T14:34:00",
          "InvoiceNo": 567505,
          "Quantity": 2,
          "StockCode": "POST",
          "UnitPrice": 40
         },
         {
          "Country": "Belgium",
          "CustomerID": 12390,
          "Description": "POSTAGE",
          "InvoiceDate": "2011-09-21T09:33:00",
          "InvoiceNo": 567530,
          "Quantity": 3,
          "StockCode": "POST",
          "UnitPrice": 15
         },
         {
          "Country": "France",
          "CustomerID": 12583,
          "Description": "POSTAGE",
          "InvoiceDate": "2011-09-21T10:40:00",
          "InvoiceNo": 567552,
          "Quantity": 3,
          "StockCode": "POST",
          "UnitPrice": 18
         },
         {
          "Country": "Germany",
          "CustomerID": 12701,
          "Description": "POSTAGE",
          "InvoiceDate": "2011-09-21T10:47:00",
          "InvoiceNo": 567578,
          "Quantity": 2,
          "StockCode": "POST",
          "UnitPrice": 18
         },
         {
          "Country": "France",
          "CustomerID": 12721,
          "Description": "POSTAGE",
          "InvoiceDate": "2011-09-21T12:26:00",
          "InvoiceNo": 567618,
          "Quantity": 1,
          "StockCode": "POST",
          "UnitPrice": 18
         },
         {
          "Country": "Spain",
          "CustomerID": 12550,
          "Description": "POSTAGE",
          "InvoiceDate": "2011-09-21T14:35:00",
          "InvoiceNo": 567653,
          "Quantity": 5,
          "StockCode": "POST",
          "UnitPrice": 28
         },
         {
          "Country": "United Kingdom",
          "CustomerID": 14096,
          "Description": "DOTCOM POSTAGE",
          "InvoiceDate": "2011-09-21T14:40:00",
          "InvoiceNo": 567656,
          "Quantity": 1,
          "StockCode": "DOT",
          "UnitPrice": 878.55
         },
         {
          "Country": "Germany",
          "CustomerID": 12520,
          "Description": "POSTAGE",
          "InvoiceDate": "2011-09-21T15:23:00",
          "InvoiceNo": 567666,
          "Quantity": 4,
          "StockCode": "POST",
          "UnitPrice": 18
         },
         {
          "Country": "France",
          "CustomerID": 12678,
          "Description": "POSTAGE",
          "InvoiceDate": "2011-09-22T10:52:00",
          "InvoiceNo": 567756,
          "Quantity": 3,
          "StockCode": "POST",
          "UnitPrice": 18
         },
         {
          "Country": "France",
          "CustomerID": 12657,
          "Description": "POSTAGE",
          "InvoiceDate": "2011-09-22T11:40:00",
          "InvoiceNo": 567793,
          "Quantity": 4,
          "StockCode": "POST",
          "UnitPrice": 18
         },
         {
          "Country": "Netherlands",
          "CustomerID": 14646,
          "Description": "POSTAGE",
          "InvoiceDate": "2011-09-22T11:44:00",
          "InvoiceNo": 567795,
          "Quantity": 6,
          "StockCode": "POST",
          "UnitPrice": 15
         },
         {
          "Country": "United Arab Emirates",
          "CustomerID": 12739,
          "Description": "POSTAGE",
          "InvoiceDate": "2011-09-22T13:00:00",
          "InvoiceNo": 567824,
          "Quantity": 1,
          "StockCode": "POST",
          "UnitPrice": 37.5
         },
         {
          "Country": "United Kingdom",
          "CustomerID": 16669,
          "Description": "Manual",
          "InvoiceDate": "2011-09-22T14:13:00",
          "InvoiceNo": 567866,
          "Quantity": 5,
          "StockCode": "M",
          "UnitPrice": 0.8
         },
         {
          "Country": "United Kingdom",
          "CustomerID": 16669,
          "Description": "Manual",
          "InvoiceDate": "2011-09-22T14:18:00",
          "InvoiceNo": 567869,
          "Quantity": 5,
          "StockCode": "M",
          "UnitPrice": 0.08
         },
         {
          "Country": "Belgium",
          "CustomerID": 12364,
          "Description": "POSTAGE",
          "InvoiceDate": "2011-09-22T16:07:00",
          "InvoiceNo": 567897,
          "Quantity": 1,
          "StockCode": "POST",
          "UnitPrice": 15
         },
         {
          "Country": "Germany",
          "CustomerID": 12609,
          "Description": "POSTAGE",
          "InvoiceDate": "2011-09-22T16:34:00",
          "InvoiceNo": 567904,
          "Quantity": 2,
          "StockCode": "POST",
          "UnitPrice": 18
         },
         {
          "Country": "France",
          "CustomerID": 12437,
          "Description": "POSTAGE",
          "InvoiceDate": "2011-09-22T16:58:00",
          "InvoiceNo": 567910,
          "Quantity": 1,
          "StockCode": "POST",
          "UnitPrice": 18
         },
         {
          "Country": "United Kingdom",
          "CustomerID": 15555,
          "Description": "Manual",
          "InvoiceDate": "2011-09-22T17:07:00",
          "InvoiceNo": 567912,
          "Quantity": 29,
          "StockCode": "M",
          "UnitPrice": 0.06
         },
         {
          "Country": "Germany",
          "CustomerID": 12647,
          "Description": "POSTAGE",
          "InvoiceDate": "2011-09-22T17:14:00",
          "InvoiceNo": 567914,
          "Quantity": 1,
          "StockCode": "POST",
          "UnitPrice": 18
         },
         {
          "Country": "France",
          "CustomerID": 12579,
          "Description": "POSTAGE",
          "InvoiceDate": "2011-09-22T17:15:00",
          "InvoiceNo": 567915,
          "Quantity": 3,
          "StockCode": "POST",
          "UnitPrice": 18
         },
         {
          "Country": "Germany",
          "CustomerID": 12471,
          "Description": "POSTAGE",
          "InvoiceDate": "2011-09-22T17:25:00",
          "InvoiceNo": 567924,
          "Quantity": 1,
          "StockCode": "POST",
          "UnitPrice": 18
         },
         {
          "Country": "Belgium",
          "CustomerID": 12380,
          "Description": "POSTAGE",
          "InvoiceDate": "2011-09-22T17:31:00",
          "InvoiceNo": 567928,
          "Quantity": 3,
          "StockCode": "POST",
          "UnitPrice": 18
         },
         {
          "Country": "Finland",
          "CustomerID": 12704,
          "Description": "POSTAGE",
          "InvoiceDate": "2011-09-22T18:14:00",
          "InvoiceNo": 567938,
          "Quantity": 2,
          "StockCode": "POST",
          "UnitPrice": 40
         },
         {
          "Country": "Germany",
          "CustomerID": 12619,
          "Description": "POSTAGE",
          "InvoiceDate": "2011-09-23T09:00:00",
          "InvoiceNo": 567958,
          "Quantity": 2,
          "StockCode": "POST",
          "UnitPrice": 18
         },
         {
          "Country": "Germany",
          "CustomerID": 12516,
          "Description": "POSTAGE",
          "InvoiceDate": "2011-09-23T09:13:00",
          "InvoiceNo": 567959,
          "Quantity": 4,
          "StockCode": "POST",
          "UnitPrice": 18
         },
         {
          "Country": "Spain",
          "CustomerID": 12546,
          "Description": "POSTAGE",
          "InvoiceDate": "2011-09-23T09:44:00",
          "InvoiceNo": 567968,
          "Quantity": 3,
          "StockCode": "POST",
          "UnitPrice": 28
         },
         {
          "Country": "Spain",
          "CustomerID": 12540,
          "Description": "POSTAGE",
          "InvoiceDate": "2011-09-23T11:35:00",
          "InvoiceNo": 568001,
          "Quantity": 1,
          "StockCode": "POST",
          "UnitPrice": 28
         },
         {
          "Country": "France",
          "CustomerID": 12681,
          "Description": "POSTAGE",
          "InvoiceDate": "2011-09-23T12:09:00",
          "InvoiceNo": 568040,
          "Quantity": 4,
          "StockCode": "POST",
          "UnitPrice": 18
         },
         {
          "Country": "United Kingdom",
          "CustomerID": 15901,
          "Description": "Manual",
          "InvoiceDate": "2011-09-23T12:38:00",
          "InvoiceNo": 568050,
          "Quantity": 1,
          "StockCode": "M",
          "UnitPrice": 1.5
         },
         {
          "Country": "United Kingdom",
          "CustomerID": 15901,
          "Description": "Manual",
          "InvoiceDate": "2011-09-23T12:38:00",
          "InvoiceNo": 568050,
          "Quantity": 6,
          "StockCode": "M",
          "UnitPrice": 0.08
         },
         {
          "Country": "Germany",
          "CustomerID": 12705,
          "Description": "POSTAGE",
          "InvoiceDate": "2011-09-23T12:55:00",
          "InvoiceNo": 568056,
          "Quantity": 5,
          "StockCode": "POST",
          "UnitPrice": 18
         },
         {
          "Country": "Germany",
          "CustomerID": 12518,
          "Description": "POSTAGE",
          "InvoiceDate": "2011-09-23T15:45:00",
          "InvoiceNo": 568103,
          "Quantity": 3,
          "StockCode": "POST",
          "UnitPrice": 18
         },
         {
          "Country": "United Kingdom",
          "CustomerID": 15549,
          "Description": "Manual",
          "InvoiceDate": "2011-09-23T16:22:00",
          "InvoiceNo": 568132,
          "Quantity": 3,
          "StockCode": "M",
          "UnitPrice": 1.25
         },
         {
          "Country": "Finland",
          "CustomerID": 12348,
          "Description": "POSTAGE",
          "InvoiceDate": "2011-09-25T13:13:00",
          "InvoiceNo": 568172,
          "Quantity": 1,
          "StockCode": "POST",
          "UnitPrice": 40
         },
         {
          "Country": "France",
          "CustomerID": 12685,
          "Description": "POSTAGE",
          "InvoiceDate": "2011-09-25T13:25:00",
          "InvoiceNo": 568176,
          "Quantity": 1,
          "StockCode": "POST",
          "UnitPrice": 18
         },
         {
          "Country": "Spain",
          "CustomerID": 12545,
          "Description": "POSTAGE",
          "InvoiceDate": "2011-09-25T13:39:00",
          "InvoiceNo": 568179,
          "Quantity": 3,
          "StockCode": "POST",
          "UnitPrice": 28
         },
         {
          "Country": "Portugal",
          "CustomerID": 12783,
          "Description": "POSTAGE",
          "InvoiceDate": "2011-09-25T15:35:00",
          "InvoiceNo": 568208,
          "Quantity": 2,
          "StockCode": "POST",
          "UnitPrice": 28
         },
         {
          "Country": "Denmark",
          "CustomerID": 12412,
          "Description": "POSTAGE",
          "InvoiceDate": "2011-09-26T10:16:00",
          "InvoiceNo": 568223,
          "Quantity": 2,
          "StockCode": "POST",
          "UnitPrice": 15
         },
         {
          "Country": "United Kingdom",
          "CustomerID": 14096,
          "Description": "DOTCOM POSTAGE",
          "InvoiceDate": "2011-09-26T15:28:00",
          "InvoiceNo": 568346,
          "Quantity": 1,
          "StockCode": "DOT",
          "UnitPrice": 688.08
         },
         {
          "Country": "Germany",
          "CustomerID": 12612,
          "Description": "POSTAGE",
          "InvoiceDate": "2011-09-26T15:35:00",
          "InvoiceNo": 568350,
          "Quantity": 2,
          "StockCode": "POST",
          "UnitPrice": 18
         },
         {
          "Country": "United Kingdom",
          "CustomerID": 14543,
          "Description": "POSTAGE",
          "InvoiceDate": "2011-09-27T10:26:00",
          "InvoiceNo": 568398,
          "Quantity": 1,
          "StockCode": "POST",
          "UnitPrice": 5
         },
         {
          "Country": "Germany",
          "CustomerID": 12517,
          "Description": "POSTAGE",
          "InvoiceDate": "2011-09-27T11:50:00",
          "InvoiceNo": 568472,
          "Quantity": 2,
          "StockCode": "POST",
          "UnitPrice": 18
         },
         {
          "Country": "France",
          "CustomerID": 12680,
          "Description": "POSTAGE",
          "InvoiceDate": "2011-09-27T12:53:00",
          "InvoiceNo": 568518,
          "Quantity": 1,
          "StockCode": "POST",
          "UnitPrice": 18
         },
         {
          "Country": "Spain",
          "CustomerID": 12455,
          "Description": "POSTAGE",
          "InvoiceDate": "2011-09-27T15:31:00",
          "InvoiceNo": 568554,
          "Quantity": 1,
          "StockCode": "POST",
          "UnitPrice": 28
         },
         {
          "Country": "France",
          "CustomerID": 12656,
          "Description": "POSTAGE",
          "InvoiceDate": "2011-09-28T11:38:00",
          "InvoiceNo": 568645,
          "Quantity": 3,
          "StockCode": "POST",
          "UnitPrice": 18
         },
         {
          "Country": "Switzerland",
          "CustomerID": 13505,
          "Description": "POSTAGE",
          "InvoiceDate": "2011-09-28T11:56:00",
          "InvoiceNo": 568650,
          "Quantity": 8,
          "StockCode": "POST",
          "UnitPrice": 40
         },
         {
          "Country": "Belgium",
          "CustomerID": 12362,
          "Description": "POSTAGE",
          "InvoiceDate": "2011-09-28T12:04:00",
          "InvoiceNo": 568651,
          "Quantity": 4,
          "StockCode": "POST",
          "UnitPrice": 15
         },
         {
          "Country": "Germany",
          "CustomerID": 12708,
          "Description": "POSTAGE",
          "InvoiceDate": "2011-09-28T13:30:00",
          "InvoiceNo": 568674,
          "Quantity": 2,
          "StockCode": "POST",
          "UnitPrice": 18
         },
         {
          "Country": "Norway",
          "CustomerID": 12352,
          "Description": "POSTAGE",
          "InvoiceDate": "2011-09-28T14:58:00",
          "InvoiceNo": 568699,
          "Quantity": 1,
          "StockCode": "POST",
          "UnitPrice": 40
         },
         {
          "Country": "United Kingdom",
          "CustomerID": 12748,
          "Description": "Manual",
          "InvoiceDate": "2011-09-28T15:21:00",
          "InvoiceNo": 568703,
          "Quantity": 183,
          "StockCode": "M",
          "UnitPrice": 0.08
         },
         {
          "Country": "France",
          "CustomerID": 12615,
          "Description": "POSTAGE",
          "InvoiceDate": "2011-09-29T10:23:00",
          "InvoiceNo": 568798,
          "Quantity": 3,
          "StockCode": "POST",
          "UnitPrice": 18
         },
         {
          "Country": "Denmark",
          "CustomerID": 12372,
          "Description": "POSTAGE",
          "InvoiceDate": "2011-09-29T12:12:00",
          "InvoiceNo": 568872,
          "Quantity": 2,
          "StockCode": "POST",
          "UnitPrice": 15
         },
         {
          "Country": "Switzerland",
          "CustomerID": 12458,
          "Description": "POSTAGE",
          "InvoiceDate": "2011-09-29T15:25:00",
          "InvoiceNo": 568950,
          "Quantity": 2,
          "StockCode": "POST",
          "UnitPrice": 40
         },
         {
          "Country": "France",
          "CustomerID": 12728,
          "Description": "POSTAGE",
          "InvoiceDate": "2011-09-29T15:31:00",
          "InvoiceNo": 568953,
          "Quantity": 1,
          "StockCode": "POST",
          "UnitPrice": 18
         },
         {
          "Country": "France",
          "CustomerID": 12718,
          "Description": "POSTAGE",
          "InvoiceDate": "2011-09-29T16:38:00",
          "InvoiceNo": 568988,
          "Quantity": 2,
          "StockCode": "POST",
          "UnitPrice": 18
         },
         {
          "Country": "France",
          "CustomerID": 12598,
          "Description": "POSTAGE",
          "InvoiceDate": "2011-09-29T16:52:00",
          "InvoiceNo": 568994,
          "Quantity": 2,
          "StockCode": "POST",
          "UnitPrice": 18
         },
         {
          "Country": "Germany",
          "CustomerID": 12703,
          "Description": "POSTAGE",
          "InvoiceDate": "2011-09-29T17:52:00",
          "InvoiceNo": 569001,
          "Quantity": 1,
          "StockCode": "POST",
          "UnitPrice": 18
         },
         {
          "Country": "Germany",
          "CustomerID": 13813,
          "Description": "POSTAGE",
          "InvoiceDate": "2011-09-30T09:22:00",
          "InvoiceNo": 569017,
          "Quantity": 2,
          "StockCode": "POST",
          "UnitPrice": 18
         },
         {
          "Country": "Sweden",
          "CustomerID": 12676,
          "Description": "POSTAGE",
          "InvoiceDate": "2011-09-30T09:25:00",
          "InvoiceNo": 569018,
          "Quantity": 1,
          "StockCode": "POST",
          "UnitPrice": 40
         },
         {
          "Country": "United Kingdom",
          "CustomerID": 15611,
          "Description": "POSTAGE",
          "InvoiceDate": "2011-09-30T10:40:00",
          "InvoiceNo": 569033,
          "Quantity": 1,
          "StockCode": "POST",
          "UnitPrice": 6
         },
         {
          "Country": "United Kingdom",
          "CustomerID": 13764,
          "Description": "Manual",
          "InvoiceDate": "2011-09-30T12:03:00",
          "InvoiceNo": 569089,
          "Quantity": 3,
          "StockCode": "M",
          "UnitPrice": 1
         },
         {
          "Country": "France",
          "CustomerID": 12583,
          "Description": "POSTAGE",
          "InvoiceDate": "2011-09-30T12:58:00",
          "InvoiceNo": 569120,
          "Quantity": 2,
          "StockCode": "POST",
          "UnitPrice": 18
         },
         {
          "Country": "France",
          "CustomerID": 12694,
          "Description": "POSTAGE",
          "InvoiceDate": "2011-09-30T13:06:00",
          "InvoiceNo": 569122,
          "Quantity": 3,
          "StockCode": "POST",
          "UnitPrice": 18
         },
         {
          "Country": "United Kingdom",
          "CustomerID": 14096,
          "Description": "DOTCOM POSTAGE",
          "InvoiceDate": "2011-10-03T09:57:00",
          "InvoiceNo": 569246,
          "Quantity": 1,
          "StockCode": "DOT",
          "UnitPrice": 490.25
         },
         {
          "Country": "France",
          "CustomerID": 12637,
          "Description": "POSTAGE",
          "InvoiceDate": "2011-10-03T13:46:00",
          "InvoiceNo": 569332,
          "Quantity": 2,
          "StockCode": "POST",
          "UnitPrice": 18
         },
         {
          "Country": "United Kingdom",
          "CustomerID": 14653,
          "Description": "Manual",
          "InvoiceDate": "2011-10-03T14:59:00",
          "InvoiceNo": 569360,
          "Quantity": 1,
          "StockCode": "M",
          "UnitPrice": 9.95
         },
         {
          "Country": "United Kingdom",
          "CustomerID": 13167,
          "Description": "Manual",
          "InvoiceDate": "2011-10-03T15:10:00",
          "InvoiceNo": 569364,
          "Quantity": 12,
          "StockCode": "M",
          "UnitPrice": 1
         },
         {
          "Country": "United Kingdom",
          "CustomerID": 15502,
          "Description": "Manual",
          "InvoiceDate": "2011-10-03T16:44:00",
          "InvoiceNo": 569382,
          "Quantity": 1,
          "StockCode": "M",
          "UnitPrice": 3155.95
         },
         {
          "Country": "United Kingdom",
          "CustomerID": 15502,
          "Description": "Manual",
          "InvoiceDate": "2011-10-03T16:51:00",
          "InvoiceNo": 569389,
          "Quantity": 1,
          "StockCode": "M",
          "UnitPrice": 152.78
         },
         {
          "Country": "United Kingdom",
          "CustomerID": 15502,
          "Description": "Manual",
          "InvoiceDate": "2011-10-03T16:51:00",
          "InvoiceNo": 569389,
          "Quantity": 1,
          "StockCode": "M",
          "UnitPrice": 32.22
         },
         {
          "Country": "United Kingdom",
          "CustomerID": 15502,
          "Description": "Manual",
          "InvoiceDate": "2011-10-03T16:51:00",
          "InvoiceNo": 569389,
          "Quantity": 1,
          "StockCode": "M",
          "UnitPrice": 120
         },
         {
          "Country": "France",
          "CustomerID": 12413,
          "Description": "POSTAGE",
          "InvoiceDate": "2011-10-04T09:00:00",
          "InvoiceNo": 569402,
          "Quantity": 1,
          "StockCode": "POST",
          "UnitPrice": 18
         },
         {
          "Country": "Belgium",
          "CustomerID": 12395,
          "Description": "POSTAGE",
          "InvoiceDate": "2011-10-04T13:45:00",
          "InvoiceNo": 569496,
          "Quantity": 2,
          "StockCode": "POST",
          "UnitPrice": 15
         },
         {
          "Country": "Finland",
          "CustomerID": 12664,
          "Description": "POSTAGE",
          "InvoiceDate": "2011-10-04T14:41:00",
          "InvoiceNo": 569522,
          "Quantity": 1,
          "StockCode": "POST",
          "UnitPrice": 40
         },
         {
          "Country": "United Kingdom",
          "CustomerID": 17957,
          "Description": "Manual",
          "InvoiceDate": "2011-10-04T14:58:00",
          "InvoiceNo": 569530,
          "Quantity": 12,
          "StockCode": "M",
          "UnitPrice": 0.08
         },
         {
          "Country": "United Kingdom",
          "CustomerID": 16374,
          "Description": "Manual",
          "InvoiceDate": "2011-10-04T15:21:00",
          "InvoiceNo": 569533,
          "Quantity": 1,
          "StockCode": "M",
          "UnitPrice": 7.95
         },
         {
          "Country": "Germany",
          "CustomerID": 12720,
          "Description": "POSTAGE",
          "InvoiceDate": "2011-10-05T09:43:00",
          "InvoiceNo": 569562,
          "Quantity": 3,
          "StockCode": "POST",
          "UnitPrice": 18
         },
         {
          "Country": "Germany",
          "CustomerID": 12481,
          "Description": "POSTAGE",
          "InvoiceDate": "2011-10-05T09:46:00",
          "InvoiceNo": 569563,
          "Quantity": 8,
          "StockCode": "POST",
          "UnitPrice": 18
         },
         {
          "Country": "France",
          "CustomerID": 12700,
          "Description": "POSTAGE",
          "InvoiceDate": "2011-10-05T09:57:00",
          "InvoiceNo": 569568,
          "Quantity": 5,
          "StockCode": "POST",
          "UnitPrice": 18
         },
         {
          "Country": "Germany",
          "CustomerID": 12471,
          "Description": "POSTAGE",
          "InvoiceDate": "2011-10-05T12:24:00",
          "InvoiceNo": 569639,
          "Quantity": 1,
          "StockCode": "POST",
          "UnitPrice": 240
         },
         {
          "Country": "Netherlands",
          "CustomerID": 12789,
          "Description": "POSTAGE",
          "InvoiceDate": "2011-10-05T13:34:00",
          "InvoiceNo": 569665,
          "Quantity": 1,
          "StockCode": "POST",
          "UnitPrice": 15
         },
         {
          "Country": "France",
          "CustomerID": 12719,
          "Description": "POSTAGE",
          "InvoiceDate": "2011-10-05T14:50:00",
          "InvoiceNo": 569686,
          "Quantity": 2,
          "StockCode": "POST",
          "UnitPrice": 18
         },
         {
          "Country": "Netherlands",
          "CustomerID": 14646,
          "Description": "POSTAGE",
          "InvoiceDate": "2011-10-06T09:10:00",
          "InvoiceNo": 569719,
          "Quantity": 8,
          "StockCode": "POST",
          "UnitPrice": 15
         },
         {
          "Country": "Germany",
          "CustomerID": 12628,
          "Description": "POSTAGE",
          "InvoiceDate": "2011-10-06T09:28:00",
          "InvoiceNo": 569721,
          "Quantity": 1,
          "StockCode": "POST",
          "UnitPrice": 18
         },
         {
          "Country": "Germany",
          "CustomerID": 12500,
          "Description": "POSTAGE",
          "InvoiceDate": "2011-10-06T09:37:00",
          "InvoiceNo": 569727,
          "Quantity": 2,
          "StockCode": "POST",
          "UnitPrice": 18
         },
         {
          "Country": "Netherlands",
          "CustomerID": 14646,
          "Description": "POSTAGE",
          "InvoiceDate": "2011-10-06T10:34:00",
          "InvoiceNo": 569735,
          "Quantity": 2,
          "StockCode": "POST",
          "UnitPrice": 15
         },
         {
          "Country": "Germany",
          "CustomerID": 12626,
          "Description": "POSTAGE",
          "InvoiceDate": "2011-10-06T13:30:00",
          "InvoiceNo": 569844,
          "Quantity": 7,
          "StockCode": "POST",
          "UnitPrice": 18
         },
         {
          "Country": "Germany",
          "CustomerID": 13812,
          "Description": "POSTAGE",
          "InvoiceDate": "2011-10-06T14:37:00",
          "InvoiceNo": 569860,
          "Quantity": 1,
          "StockCode": "POST",
          "UnitPrice": 18
         },
         {
          "Country": "Germany",
          "CustomerID": 13816,
          "Description": "POSTAGE",
          "InvoiceDate": "2011-10-06T14:37:00",
          "InvoiceNo": 569861,
          "Quantity": 3,
          "StockCode": "POST",
          "UnitPrice": 18
         },
         {
          "Country": "Portugal",
          "CustomerID": 12757,
          "Description": "Manual",
          "InvoiceDate": "2011-10-06T14:50:00",
          "InvoiceNo": 569866,
          "Quantity": 2,
          "StockCode": "M",
          "UnitPrice": 1.25
         },
         {
          "Country": "Germany",
          "CustomerID": 12569,
          "Description": "POSTAGE",
          "InvoiceDate": "2011-10-06T14:54:00",
          "InvoiceNo": 569867,
          "Quantity": 2,
          "StockCode": "POST",
          "UnitPrice": 18
         },
         {
          "Country": "Germany",
          "CustomerID": 12627,
          "Description": "POSTAGE",
          "InvoiceDate": "2011-10-06T15:51:00",
          "InvoiceNo": 569893,
          "Quantity": 6,
          "StockCode": "POST",
          "UnitPrice": 18
         },
         {
          "Country": "United Kingdom",
          "CustomerID": 12923,
          "Description": "Manual",
          "InvoiceDate": "2011-10-06T16:20:00",
          "InvoiceNo": 569901,
          "Quantity": 1,
          "StockCode": "M",
          "UnitPrice": 1.25
         },
         {
          "Country": "United Kingdom",
          "CustomerID": 13023,
          "Description": "POSTAGE",
          "InvoiceDate": "2011-10-06T16:27:00",
          "InvoiceNo": 569904,
          "Quantity": 3,
          "StockCode": "POST",
          "UnitPrice": 15
         },
         {
          "Country": "Germany",
          "CustomerID": 12569,
          "Description": "POSTAGE",
          "InvoiceDate": "2011-10-06T16:41:00",
          "InvoiceNo": 569907,
          "Quantity": 1,
          "StockCode": "POST",
          "UnitPrice": 18
         },
         {
          "Country": "Denmark",
          "CustomerID": 12394,
          "Description": "POSTAGE",
          "InvoiceDate": "2011-10-07T08:08:00",
          "InvoiceNo": 569997,
          "Quantity": 9,
          "StockCode": "POST",
          "UnitPrice": 18
         },
         {
          "Country": "Spain",
          "CustomerID": 12540,
          "Description": "POSTAGE",
          "InvoiceDate": "2011-10-07T08:12:00",
          "InvoiceNo": 569998,
          "Quantity": 2,
          "StockCode": "POST",
          "UnitPrice": 28
         },
         {
          "Country": "Germany",
          "CustomerID": 12519,
          "Description": "POSTAGE",
          "InvoiceDate": "2011-10-07T09:26:00",
          "InvoiceNo": 570007,
          "Quantity": 3,
          "StockCode": "POST",
          "UnitPrice": 18
         },
         {
          "Country": "France",
          "CustomerID": 12684,
          "Description": "POSTAGE",
          "InvoiceDate": "2011-10-07T10:18:00",
          "InvoiceNo": 570020,
          "Quantity": 1,
          "StockCode": "POST",
          "UnitPrice": 18
         },
         {
          "Country": "Czech Republic",
          "CustomerID": 12781,
          "Description": "POSTAGE",
          "InvoiceDate": "2011-10-07T10:37:00",
          "InvoiceNo": 570026,
          "Quantity": 1,
          "StockCode": "POST",
          "UnitPrice": 40
         },
         {
          "Country": "Germany",
          "CustomerID": 12524,
          "Description": "POSTAGE",
          "InvoiceDate": "2011-10-07T11:19:00",
          "InvoiceNo": 570082,
          "Quantity": 7,
          "StockCode": "POST",
          "UnitPrice": 18
         },
         {
          "Country": "Germany",
          "CustomerID": 12528,
          "Description": "POSTAGE",
          "InvoiceDate": "2011-10-07T11:57:00",
          "InvoiceNo": 570095,
          "Quantity": 2,
          "StockCode": "POST",
          "UnitPrice": 18
         },
         {
          "Country": "Germany",
          "CustomerID": 12492,
          "Description": "POSTAGE",
          "InvoiceDate": "2011-10-07T15:15:00",
          "InvoiceNo": 570189,
          "Quantity": 1,
          "StockCode": "POST",
          "UnitPrice": 18
         },
         {
          "Country": "Netherlands",
          "CustomerID": 12778,
          "Description": "POSTAGE",
          "InvoiceDate": "2011-10-07T15:23:00",
          "InvoiceNo": 570191,
          "Quantity": 1,
          "StockCode": "POST",
          "UnitPrice": 15
         },
         {
          "Country": "France",
          "CustomerID": 12682,
          "Description": "POSTAGE",
          "InvoiceDate": "2011-10-10T10:13:00",
          "InvoiceNo": 570267,
          "Quantity": 1,
          "StockCode": "POST",
          "UnitPrice": 18
         },
         {
          "Country": "United Kingdom",
          "CustomerID": 18126,
          "Description": "Manual",
          "InvoiceDate": "2011-10-10T12:19:00",
          "InvoiceNo": 570333,
          "Quantity": 6,
          "StockCode": "M",
          "UnitPrice": 0.39
         },
         {
          "Country": "France",
          "CustomerID": 12682,
          "Description": "POSTAGE",
          "InvoiceDate": "2011-10-10T13:03:00",
          "InvoiceNo": 570409,
          "Quantity": 2,
          "StockCode": "POST",
          "UnitPrice": 18
         },
         {
          "Country": "Belgium",
          "CustomerID": 12431,
          "Description": "POSTAGE",
          "InvoiceDate": "2011-10-10T14:49:00",
          "InvoiceNo": 570446,
          "Quantity": 2,
          "StockCode": "POST",
          "UnitPrice": 15
         },
         {
          "Country": "United Kingdom",
          "CustomerID": 13224,
          "Description": "Manual",
          "InvoiceDate": "2011-10-10T14:55:00",
          "InvoiceNo": 570448,
          "Quantity": 3,
          "StockCode": "M",
          "UnitPrice": 1
         },
         {
          "Country": "Germany",
          "CustomerID": 12427,
          "Description": "POSTAGE",
          "InvoiceDate": "2011-10-10T15:15:00",
          "InvoiceNo": 570452,
          "Quantity": 2,
          "StockCode": "POST",
          "UnitPrice": 18
         },
         {
          "Country": "United Kingdom",
          "CustomerID": 17589,
          "Description": "Manual",
          "InvoiceDate": "2011-10-10T16:58:00",
          "InvoiceNo": 570479,
          "Quantity": 1,
          "StockCode": "M",
          "UnitPrice": 1.25
         },
         {
          "Country": "United Kingdom",
          "CustomerID": 14096,
          "Description": "DOTCOM POSTAGE",
          "InvoiceDate": "2011-10-10T17:12:00",
          "InvoiceNo": 570488,
          "Quantity": 1,
          "StockCode": "DOT",
          "UnitPrice": 635.01
         },
         {
          "Country": "Portugal",
          "CustomerID": 12772,
          "Description": "POSTAGE",
          "InvoiceDate": "2011-10-11T09:19:00",
          "InvoiceNo": 570499,
          "Quantity": 5,
          "StockCode": "POST",
          "UnitPrice": 28
         },
         {
          "Country": "Germany",
          "CustomerID": 12530,
          "Description": "POSTAGE",
          "InvoiceDate": "2011-10-11T12:34:00",
          "InvoiceNo": 570637,
          "Quantity": 2,
          "StockCode": "POST",
          "UnitPrice": 18
         },
         {
          "Country": "Germany",
          "CustomerID": 12474,
          "Description": "POSTAGE",
          "InvoiceDate": "2011-10-11T12:38:00",
          "InvoiceNo": 570640,
          "Quantity": 2,
          "StockCode": "POST",
          "UnitPrice": 18
         },
         {
          "Country": "Denmark",
          "CustomerID": 13919,
          "Description": "POSTAGE",
          "InvoiceDate": "2011-10-11T14:24:00",
          "InvoiceNo": 570666,
          "Quantity": 1,
          "StockCode": "POST",
          "UnitPrice": 18
         },
         {
          "Country": "Belgium",
          "CustomerID": 12362,
          "Description": "POSTAGE",
          "InvoiceDate": "2011-10-11T14:33:00",
          "InvoiceNo": 570667,
          "Quantity": 2,
          "StockCode": "POST",
          "UnitPrice": 15
         },
         {
          "Country": "Norway",
          "CustomerID": 12381,
          "Description": "POSTAGE",
          "InvoiceDate": "2011-10-11T15:45:00",
          "InvoiceNo": 570681,
          "Quantity": 1,
          "StockCode": "POST",
          "UnitPrice": 6
         },
         {
          "Country": "United Kingdom",
          "CustomerID": 13208,
          "Description": "Manual",
          "InvoiceDate": "2011-10-11T16:25:00",
          "InvoiceNo": 570685,
          "Quantity": 18,
          "StockCode": "M",
          "UnitPrice": 1
         },
         {
          "Country": "United Kingdom",
          "CustomerID": 13208,
          "Description": "Manual",
          "InvoiceDate": "2011-10-12T09:54:00",
          "InvoiceNo": 570705,
          "Quantity": 18,
          "StockCode": "M",
          "UnitPrice": 0.36
         },
         {
          "Country": "Switzerland",
          "CustomerID": 13520,
          "Description": "POSTAGE",
          "InvoiceDate": "2011-10-12T10:20:00",
          "InvoiceNo": 570714,
          "Quantity": 2,
          "StockCode": "POST",
          "UnitPrice": 40
         },
         {
          "Country": "Germany",
          "CustomerID": 12518,
          "Description": "POSTAGE",
          "InvoiceDate": "2011-10-12T10:36:00",
          "InvoiceNo": 570718,
          "Quantity": 2,
          "StockCode": "POST",
          "UnitPrice": 18
         },
         {
          "Country": "Norway",
          "CustomerID": 12381,
          "Description": "POSTAGE",
          "InvoiceDate": "2011-10-12T11:30:00",
          "InvoiceNo": 570725,
          "Quantity": 1,
          "StockCode": "POST",
          "UnitPrice": 4.5
         },
         {
          "Country": "Germany",
          "CustomerID": 12633,
          "Description": "POSTAGE",
          "InvoiceDate": "2011-10-12T11:40:00",
          "InvoiceNo": 570754,
          "Quantity": 1,
          "StockCode": "POST",
          "UnitPrice": 18
         },
         {
          "Country": "Finland",
          "CustomerID": 12664,
          "Description": "POSTAGE",
          "InvoiceDate": "2011-10-12T11:43:00",
          "InvoiceNo": 570769,
          "Quantity": 2,
          "StockCode": "POST",
          "UnitPrice": 18
         },
         {
          "Country": "Germany",
          "CustomerID": 12569,
          "Description": "POSTAGE",
          "InvoiceDate": "2011-10-12T11:49:00",
          "InvoiceNo": 570784,
          "Quantity": 1,
          "StockCode": "POST",
          "UnitPrice": 18
         },
         {
          "Country": "Norway",
          "CustomerID": 12444,
          "Description": "POSTAGE",
          "InvoiceDate": "2011-10-12T12:08:00",
          "InvoiceNo": 570793,
          "Quantity": 8,
          "StockCode": "POST",
          "UnitPrice": 40
         },
         {
          "Country": "France",
          "CustomerID": 12679,
          "Description": "POSTAGE",
          "InvoiceDate": "2011-10-12T12:30:00",
          "InvoiceNo": 570798,
          "Quantity": 2,
          "StockCode": "POST",
          "UnitPrice": 18
         },
         {
          "Country": "France",
          "CustomerID": 12691,
          "Description": "POSTAGE",
          "InvoiceDate": "2011-10-12T12:54:00",
          "InvoiceNo": 570823,
          "Quantity": 1,
          "StockCode": "POST",
          "UnitPrice": 18
         },
         {
          "Country": "France",
          "CustomerID": 12553,
          "Description": "POSTAGE",
          "InvoiceDate": "2011-10-12T14:18:00",
          "InvoiceNo": 570841,
          "Quantity": 2,
          "StockCode": "POST",
          "UnitPrice": 18
         },
         {
          "Country": "France",
          "CustomerID": 12583,
          "Description": "POSTAGE",
          "InvoiceDate": "2011-10-12T14:46:00",
          "InvoiceNo": 570851,
          "Quantity": 1,
          "StockCode": "POST",
          "UnitPrice": 18
         },
         {
          "Country": "Finland",
          "CustomerID": 12667,
          "Description": "POSTAGE",
          "InvoiceDate": "2011-10-12T17:00:00",
          "InvoiceNo": 570875,
          "Quantity": 4,
          "StockCode": "POST",
          "UnitPrice": 40
         },
         {
          "Country": "France",
          "CustomerID": 12685,
          "Description": "POSTAGE",
          "InvoiceDate": "2011-10-13T08:42:00",
          "InvoiceNo": 570879,
          "Quantity": 2,
          "StockCode": "POST",
          "UnitPrice": 18
         },
         {
          "Country": "Germany",
          "CustomerID": 12498,
          "Description": "POSTAGE",
          "InvoiceDate": "2011-10-13T09:30:00",
          "InvoiceNo": 570881,
          "Quantity": 2,
          "StockCode": "POST",
          "UnitPrice": 18
         },
         {
          "Country": "Belgium",
          "CustomerID": 12876,
          "Description": "POSTAGE",
          "InvoiceDate": "2011-10-13T12:26:00",
          "InvoiceNo": 571030,
          "Quantity": 7,
          "StockCode": "POST",
          "UnitPrice": 15
         },
         {
          "Country": "Finland",
          "CustomerID": 12631,
          "Description": "POSTAGE",
          "InvoiceDate": "2011-10-13T13:53:00",
          "InvoiceNo": 571053,
          "Quantity": 4,
          "StockCode": "POST",
          "UnitPrice": 40
         },
         {
          "Country": "Germany",
          "CustomerID": 12613,
          "Description": "POSTAGE",
          "InvoiceDate": "2011-10-13T14:59:00",
          "InvoiceNo": 571065,
          "Quantity": 7,
          "StockCode": "POST",
          "UnitPrice": 18
         },
         {
          "Country": "United Kingdom",
          "CustomerID": 14976,
          "Description": "Manual",
          "InvoiceDate": "2011-10-13T16:14:00",
          "InvoiceNo": 571106,
          "Quantity": 1,
          "StockCode": "M",
          "UnitPrice": 1
         },
         {
          "Country": "United Kingdom",
          "CustomerID": 14976,
          "Description": "POSTAGE",
          "InvoiceDate": "2011-10-13T16:37:00",
          "InvoiceNo": 571111,
          "Quantity": 1,
          "StockCode": "POST",
          "UnitPrice": 15
         },
         {
          "Country": "United Kingdom",
          "CustomerID": 15482,
          "Description": "Manual",
          "InvoiceDate": "2011-10-14T10:42:00",
          "InvoiceNo": 571179,
          "Quantity": 1,
          "StockCode": "M",
          "UnitPrice": 40
         },
         {
          "Country": "Belgium",
          "CustomerID": 12380,
          "Description": "POSTAGE",
          "InvoiceDate": "2011-10-14T11:39:00",
          "InvoiceNo": 571187,
          "Quantity": 3,
          "StockCode": "POST",
          "UnitPrice": 18
         },
         {
          "Country": "Portugal",
          "CustomerID": 12783,
          "Description": "POSTAGE",
          "InvoiceDate": "2011-10-14T11:42:00",
          "InvoiceNo": 571188,
          "Quantity": 4,
          "StockCode": "POST",
          "UnitPrice": 28
         },
         {
          "Country": "United Kingdom",
          "CustomerID": 17771,
          "Description": "Manual",
          "InvoiceDate": "2011-10-14T11:43:00",
          "InvoiceNo": 571190,
          "Quantity": 4,
          "StockCode": "M",
          "UnitPrice": 0.12
         },
         {
          "Country": "Sweden",
          "CustomerID": 17404,
          "Description": "POSTAGE",
          "InvoiceDate": "2011-10-14T11:44:00",
          "InvoiceNo": 571191,
          "Quantity": 1,
          "StockCode": "POST",
          "UnitPrice": 15
         },
         {
          "Country": "Germany",
          "CustomerID": 13810,
          "Description": "POSTAGE",
          "InvoiceDate": "2011-10-14T12:57:00",
          "InvoiceNo": 571215,
          "Quantity": 3,
          "StockCode": "POST",
          "UnitPrice": 18
         },
         {
          "Country": "Germany",
          "CustomerID": 13810,
          "Description": "Manual",
          "InvoiceDate": "2011-10-14T13:36:00",
          "InvoiceNo": 571223,
          "Quantity": 1,
          "StockCode": "M",
          "UnitPrice": 599.5
         },
         {
          "Country": "France",
          "CustomerID": 12562,
          "Description": "POSTAGE",
          "InvoiceDate": "2011-10-14T14:55:00",
          "InvoiceNo": 571240,
          "Quantity": 2,
          "StockCode": "POST",
          "UnitPrice": 18
         },
         {
          "Country": "United Kingdom",
          "CustomerID": 15113,
          "Description": "Manual",
          "InvoiceDate": "2011-10-16T15:27:00",
          "InvoiceNo": 571289,
          "Quantity": 1,
          "StockCode": "M",
          "UnitPrice": 0.39
         },
         {
          "Country": "Germany",
          "CustomerID": 12526,
          "Description": "POSTAGE",
          "InvoiceDate": "2011-10-17T09:37:00",
          "InvoiceNo": 571304,
          "Quantity": 4,
          "StockCode": "POST",
          "UnitPrice": 18
         },
         {
          "Country": "Germany",
          "CustomerID": 12475,
          "Description": "POSTAGE",
          "InvoiceDate": "2011-10-17T10:10:00",
          "InvoiceNo": 571308,
          "Quantity": 3,
          "StockCode": "POST",
          "UnitPrice": 18
         },
         {
          "Country": "Germany",
          "CustomerID": 12474,
          "Description": "POSTAGE",
          "InvoiceDate": "2011-10-17T10:42:00",
          "InvoiceNo": 571312,
          "Quantity": 4,
          "StockCode": "POST",
          "UnitPrice": 18
         },
         {
          "Country": "Portugal",
          "CustomerID": 12783,
          "Description": "Manual",
          "InvoiceDate": "2011-10-17T11:08:00",
          "InvoiceNo": 571324,
          "Quantity": 1,
          "StockCode": "M",
          "UnitPrice": 283.02
         },
         {
          "Country": "Portugal",
          "CustomerID": 12783,
          "Description": "Manual",
          "InvoiceDate": "2011-10-17T11:11:00",
          "InvoiceNo": 571326,
          "Quantity": 1,
          "StockCode": "M",
          "UnitPrice": 339.02
         },
         {
          "Country": "Germany",
          "CustomerID": 12473,
          "Description": "POSTAGE",
          "InvoiceDate": "2011-10-17T11:27:00",
          "InvoiceNo": 571328,
          "Quantity": 7,
          "StockCode": "POST",
          "UnitPrice": 18
         },
         {
          "Country": "United Kingdom",
          "CustomerID": 14096,
          "Description": "DOTCOM POSTAGE",
          "InvoiceDate": "2011-10-17T13:31:00",
          "InvoiceNo": 571441,
          "Quantity": 1,
          "StockCode": "DOT",
          "UnitPrice": 743.62
         },
         {
          "Country": "Belgium",
          "CustomerID": 12463,
          "Description": "POSTAGE",
          "InvoiceDate": "2011-10-17T13:44:00",
          "InvoiceNo": 571445,
          "Quantity": 2,
          "StockCode": "POST",
          "UnitPrice": 18
         },
         {
          "Country": "United Kingdom",
          "CustomerID": 14830,
          "Description": "Manual",
          "InvoiceDate": "2011-10-17T14:29:00",
          "InvoiceNo": 571465,
          "Quantity": 1,
          "StockCode": "M",
          "UnitPrice": 0.85
         },
         {
          "Country": "Germany",
          "CustomerID": 12662,
          "Description": "POSTAGE",
          "InvoiceDate": "2011-10-18T09:24:00",
          "InvoiceNo": 571556,
          "Quantity": 2,
          "StockCode": "POST",
          "UnitPrice": 18
         },
         {
          "Country": "Germany",
          "CustomerID": 12621,
          "Description": "POSTAGE",
          "InvoiceDate": "2011-10-18T12:48:00",
          "InvoiceNo": 571658,
          "Quantity": 3,
          "StockCode": "POST",
          "UnitPrice": 18
         },
         {
          "Country": "Spain",
          "CustomerID": 12540,
          "Description": "POSTAGE",
          "InvoiceDate": "2011-10-18T12:59:00",
          "InvoiceNo": 571665,
          "Quantity": 3,
          "StockCode": "POST",
          "UnitPrice": 28
         },
         {
          "Country": "Netherlands",
          "CustomerID": 12759,
          "Description": "POSTAGE",
          "InvoiceDate": "2011-10-18T14:49:00",
          "InvoiceNo": 571697,
          "Quantity": 3,
          "StockCode": "POST",
          "UnitPrice": 15
         },
         {
          "Country": "Austria",
          "CustomerID": 12360,
          "Description": "POSTAGE",
          "InvoiceDate": "2011-10-18T15:22:00",
          "InvoiceNo": 571705,
          "Quantity": 3,
          "StockCode": "POST",
          "UnitPrice": 40
         },
         {
          "Country": "Germany",
          "CustomerID": 12572,
          "Description": "POSTAGE",
          "InvoiceDate": "2011-10-19T08:20:00",
          "InvoiceNo": 571724,
          "Quantity": 3,
          "StockCode": "POST",
          "UnitPrice": 18
         },
         {
          "Country": "Germany",
          "CustomerID": 12500,
          "Description": "POSTAGE",
          "InvoiceDate": "2011-10-19T09:43:00",
          "InvoiceNo": 571729,
          "Quantity": 1,
          "StockCode": "POST",
          "UnitPrice": 18
         },
         {
          "Country": "Singapore",
          "CustomerID": 12744,
          "Description": "Manual",
          "InvoiceDate": "2011-10-19T11:18:00",
          "InvoiceNo": 571751,
          "Quantity": 1,
          "StockCode": "M",
          "UnitPrice": 3949.32
         },
         {
          "Country": "Singapore",
          "CustomerID": 12744,
          "Description": "Manual",
          "InvoiceDate": "2011-10-19T11:18:00",
          "InvoiceNo": 571751,
          "Quantity": 1,
          "StockCode": "M",
          "UnitPrice": 2118.74
         },
         {
          "Country": "Germany",
          "CustomerID": 12472,
          "Description": "POSTAGE",
          "InvoiceDate": "2011-10-19T11:49:00",
          "InvoiceNo": 571824,
          "Quantity": 6,
          "StockCode": "POST",
          "UnitPrice": 18
         },
         {
          "Country": "Spain",
          "CustomerID": 12596,
          "Description": "POSTAGE",
          "InvoiceDate": "2011-10-19T13:02:00",
          "InvoiceNo": 571851,
          "Quantity": 4,
          "StockCode": "POST",
          "UnitPrice": 28
         },
         {
          "Country": "United Kingdom",
          "CustomerID": 14704,
          "Description": "Manual",
          "InvoiceDate": "2011-10-19T13:58:00",
          "InvoiceNo": 571883,
          "Quantity": 6,
          "StockCode": "M",
          "UnitPrice": 0.39
         },
         {
          "Country": "Germany",
          "CustomerID": 12522,
          "Description": "POSTAGE",
          "InvoiceDate": "2011-10-19T14:41:00",
          "InvoiceNo": 571904,
          "Quantity": 1,
          "StockCode": "POST",
          "UnitPrice": 18
         },
         {
          "Country": "United Kingdom",
          "CustomerID": 15006,
          "Description": "Manual",
          "InvoiceDate": "2011-10-19T15:08:00",
          "InvoiceNo": 571909,
          "Quantity": 1,
          "StockCode": "M",
          "UnitPrice": 4.95
         },
         {
          "Country": "France",
          "CustomerID": 12685,
          "Description": "POSTAGE",
          "InvoiceDate": "2011-10-19T16:24:00",
          "InvoiceNo": 571923,
          "Quantity": 2,
          "StockCode": "POST",
          "UnitPrice": 18
         },
         {
          "Country": "Germany",
          "CustomerID": 12642,
          "Description": "POSTAGE",
          "InvoiceDate": "2011-10-20T12:31:00",
          "InvoiceNo": 572054,
          "Quantity": 2,
          "StockCode": "POST",
          "UnitPrice": 18
         },
         {
          "Country": "United Kingdom",
          "CustomerID": 17402,
          "Description": "POSTAGE",
          "InvoiceDate": "2011-10-20T12:40:00",
          "InvoiceNo": 572056,
          "Quantity": 1,
          "StockCode": "POST",
          "UnitPrice": 35
         },
         {
          "Country": "Germany",
          "CustomerID": 12569,
          "Description": "POSTAGE",
          "InvoiceDate": "2011-10-20T12:52:00",
          "InvoiceNo": 572060,
          "Quantity": 1,
          "StockCode": "POST",
          "UnitPrice": 18
         },
         {
          "Country": "Germany",
          "CustomerID": 12474,
          "Description": "POSTAGE",
          "InvoiceDate": "2011-10-20T12:53:00",
          "InvoiceNo": 572061,
          "Quantity": 2,
          "StockCode": "POST",
          "UnitPrice": 18
         },
         {
          "Country": "France",
          "CustomerID": 12683,
          "Description": "POSTAGE",
          "InvoiceDate": "2011-10-20T14:30:00",
          "InvoiceNo": 572087,
          "Quantity": 6,
          "StockCode": "POST",
          "UnitPrice": 18
         },
         {
          "Country": "United Kingdom",
          "CustomerID": 17571,
          "Description": "Manual",
          "InvoiceDate": "2011-10-20T15:57:00",
          "InvoiceNo": 572103,
          "Quantity": 1,
          "StockCode": "M",
          "UnitPrice": 1.25
         },
         {
          "Country": "Belgium",
          "CustomerID": 12407,
          "Description": "POSTAGE",
          "InvoiceDate": "2011-10-21T10:11:00",
          "InvoiceNo": 572133,
          "Quantity": 2,
          "StockCode": "POST",
          "UnitPrice": 18
         },
         {
          "Country": "Denmark",
          "CustomerID": 12403,
          "Description": "POSTAGE",
          "InvoiceDate": "2011-10-21T10:51:00",
          "InvoiceNo": 572184,
          "Quantity": 2,
          "StockCode": "POST",
          "UnitPrice": 18
         },
         {
          "Country": "Netherlands",
          "CustomerID": 14646,
          "Description": "POSTAGE",
          "InvoiceDate": "2011-10-21T14:41:00",
          "InvoiceNo": 572233,
          "Quantity": 7,
          "StockCode": "POST",
          "UnitPrice": 15
         },
         {
          "Country": "Germany",
          "CustomerID": 12712,
          "Description": "POSTAGE",
          "InvoiceDate": "2011-10-21T15:20:00",
          "InvoiceNo": 572241,
          "Quantity": 1,
          "StockCode": "POST",
          "UnitPrice": 18
         },
         {
          "Country": "United Kingdom",
          "CustomerID": 12748,
          "Description": "Manual",
          "InvoiceDate": "2011-10-23T13:02:00",
          "InvoiceNo": 572293,
          "Quantity": 1,
          "StockCode": "M",
          "UnitPrice": 50
         },
         {
          "Country": "United Kingdom",
          "CustomerID": 17836,
          "Description": "Manual",
          "InvoiceDate": "2011-10-23T16:13:00",
          "InvoiceNo": 572316,
          "Quantity": 1,
          "StockCode": "M",
          "UnitPrice": 0.38
         },
         {
          "Country": "United Kingdom",
          "CustomerID": 14607,
          "Description": "Manual",
          "InvoiceDate": "2011-10-24T10:43:00",
          "InvoiceNo": 572344,
          "Quantity": 456,
          "StockCode": "M",
          "UnitPrice": 1.5
         },
         {
          "Country": "United Kingdom",
          "CustomerID": 14607,
          "Description": "Manual",
          "InvoiceDate": "2011-10-24T10:43:00",
          "InvoiceNo": 572344,
          "Quantity": 48,
          "StockCode": "M",
          "UnitPrice": 1.5
         },
         {
          "Country": "United Kingdom",
          "CustomerID": 14607,
          "Description": "Manual",
          "InvoiceDate": "2011-10-24T10:43:00",
          "InvoiceNo": 572344,
          "Quantity": 48,
          "StockCode": "M",
          "UnitPrice": 1.5
         },
         {
          "Country": "United Kingdom",
          "CustomerID": 14607,
          "Description": "Manual",
          "InvoiceDate": "2011-10-24T10:43:00",
          "InvoiceNo": 572344,
          "Quantity": 48,
          "StockCode": "M",
          "UnitPrice": 1.5
         },
         {
          "Country": "United Kingdom",
          "CustomerID": 14607,
          "Description": "Manual",
          "InvoiceDate": "2011-10-24T10:43:00",
          "InvoiceNo": 572344,
          "Quantity": 48,
          "StockCode": "M",
          "UnitPrice": 1.5
         },
         {
          "Country": "United Kingdom",
          "CustomerID": 14607,
          "Description": "Manual",
          "InvoiceDate": "2011-10-24T10:43:00",
          "InvoiceNo": 572344,
          "Quantity": 48,
          "StockCode": "M",
          "UnitPrice": 1.5
         },
         {
          "Country": "United Kingdom",
          "CustomerID": 14607,
          "Description": "Manual",
          "InvoiceDate": "2011-10-24T10:43:00",
          "InvoiceNo": 572344,
          "Quantity": 48,
          "StockCode": "M",
          "UnitPrice": 1.5
         },
         {
          "Country": "United Kingdom",
          "CustomerID": 16742,
          "Description": "Manual",
          "InvoiceDate": "2011-10-24T12:02:00",
          "InvoiceNo": 572423,
          "Quantity": 1,
          "StockCode": "M",
          "UnitPrice": 464.9
         },
         {
          "Country": "Spain",
          "CustomerID": 12546,
          "Description": "POSTAGE",
          "InvoiceDate": "2011-10-24T12:09:00",
          "InvoiceNo": 572442,
          "Quantity": 2,
          "StockCode": "POST",
          "UnitPrice": 28
         },
         {
          "Country": "United Kingdom",
          "CustomerID": 14096,
          "Description": "DOTCOM POSTAGE",
          "InvoiceDate": "2011-10-24T17:07:00",
          "InvoiceNo": 572552,
          "Quantity": 1,
          "StockCode": "DOT",
          "UnitPrice": 638.3
         },
         {
          "Country": "Germany",
          "CustomerID": 12476,
          "Description": "POSTAGE",
          "InvoiceDate": "2011-10-25T08:45:00",
          "InvoiceNo": 572560,
          "Quantity": 8,
          "StockCode": "POST",
          "UnitPrice": 18
         },
         {
          "Country": "Switzerland",
          "CustomerID": 12398,
          "Description": "POSTAGE",
          "InvoiceDate": "2011-10-25T10:27:00",
          "InvoiceNo": 572567,
          "Quantity": 5,
          "StockCode": "POST",
          "UnitPrice": 40
         },
         {
          "Country": "United Kingdom",
          "CustomerID": 14607,
          "Description": "Manual",
          "InvoiceDate": "2011-10-25T12:22:00",
          "InvoiceNo": 572656,
          "Quantity": 288,
          "StockCode": "M",
          "UnitPrice": 1.5
         },
         {
          "Country": "United Kingdom",
          "CustomerID": 17928,
          "Description": "Manual",
          "InvoiceDate": "2011-10-25T13:52:00",
          "InvoiceNo": 572682,
          "Quantity": 72,
          "StockCode": "M",
          "UnitPrice": 0.39
         },
         {
          "Country": "United Kingdom",
          "CustomerID": 17857,
          "Description": "Manual",
          "InvoiceDate": "2011-10-25T14:23:00",
          "InvoiceNo": 572696,
          "Quantity": 1,
          "StockCode": "M",
          "UnitPrice": 250
         },
         {
          "Country": "Switzerland",
          "CustomerID": 12371,
          "Description": "POSTAGE",
          "InvoiceDate": "2011-10-26T10:16:00",
          "InvoiceNo": 572770,
          "Quantity": 9,
          "StockCode": "POST",
          "UnitPrice": 40
         },
         {
          "Country": "United Kingdom",
          "CustomerID": 16454,
          "Description": "Manual",
          "InvoiceDate": "2011-10-26T11:40:00",
          "InvoiceNo": 572832,
          "Quantity": 1,
          "StockCode": "M",
          "UnitPrice": 1
         },
         {
          "Country": "Spain",
          "CustomerID": 12448,
          "Description": "POSTAGE",
          "InvoiceDate": "2011-10-26T13:46:00",
          "InvoiceNo": 572886,
          "Quantity": 3,
          "StockCode": "POST",
          "UnitPrice": 28
         },
         {
          "Country": "Belgium",
          "CustomerID": 12362,
          "Description": "POSTAGE",
          "InvoiceDate": "2011-10-26T13:47:00",
          "InvoiceNo": 572887,
          "Quantity": 4,
          "StockCode": "POST",
          "UnitPrice": 15
         },
         {
          "Country": "Germany",
          "CustomerID": 12569,
          "Description": "POSTAGE",
          "InvoiceDate": "2011-10-26T14:39:00",
          "InvoiceNo": 572894,
          "Quantity": 1,
          "StockCode": "POST",
          "UnitPrice": 18
         },
         {
          "Country": "Germany",
          "CustomerID": 12569,
          "Description": "POSTAGE",
          "InvoiceDate": "2011-10-26T14:39:00",
          "InvoiceNo": 572895,
          "Quantity": 1,
          "StockCode": "POST",
          "UnitPrice": 18
         },
         {
          "Country": "Switzerland",
          "CustomerID": 12456,
          "Description": "POSTAGE",
          "InvoiceDate": "2011-10-26T14:41:00",
          "InvoiceNo": 572896,
          "Quantity": 4,
          "StockCode": "POST",
          "UnitPrice": 40
         },
         {
          "Country": "Italy",
          "CustomerID": 12610,
          "Description": "POSTAGE",
          "InvoiceDate": "2011-10-27T10:18:00",
          "InvoiceNo": 572934,
          "Quantity": 4,
          "StockCode": "POST",
          "UnitPrice": 40
         },
         {
          "Country": "Finland",
          "CustomerID": 12630,
          "Description": "POSTAGE",
          "InvoiceDate": "2011-10-27T10:41:00",
          "InvoiceNo": 572964,
          "Quantity": 3,
          "StockCode": "POST",
          "UnitPrice": 40
         },
         {
          "Country": "France",
          "CustomerID": 12681,
          "Description": "POSTAGE",
          "InvoiceDate": "2011-10-27T10:51:00",
          "InvoiceNo": 572986,
          "Quantity": 3,
          "StockCode": "POST",
          "UnitPrice": 18
         },
         {
          "Country": "France",
          "CustomerID": 12681,
          "Description": "POSTAGE",
          "InvoiceDate": "2011-10-27T10:57:00",
          "InvoiceNo": 572992,
          "Quantity": 2,
          "StockCode": "POST",
          "UnitPrice": 18
         },
         {
          "Country": "France",
          "CustomerID": 12437,
          "Description": "POSTAGE",
          "InvoiceDate": "2011-10-27T13:44:00",
          "InvoiceNo": 573036,
          "Quantity": 2,
          "StockCode": "POST",
          "UnitPrice": 18
         },
         {
          "Country": "France",
          "CustomerID": 12536,
          "Description": "Manual",
          "InvoiceDate": "2011-10-27T14:13:00",
          "InvoiceNo": 573077,
          "Quantity": 1,
          "StockCode": "M",
          "UnitPrice": 4161.06
         },
         {
          "Country": "France",
          "CustomerID": 12536,
          "Description": "Manual",
          "InvoiceDate": "2011-10-27T14:20:00",
          "InvoiceNo": 573080,
          "Quantity": 1,
          "StockCode": "M",
          "UnitPrice": 4161.06
         },
         {
          "Country": "Germany",
          "CustomerID": 12626,
          "Description": "POSTAGE",
          "InvoiceDate": "2011-10-27T15:05:00",
          "InvoiceNo": 573106,
          "Quantity": 1,
          "StockCode": "POST",
          "UnitPrice": 18
         },
         {
          "Country": "Norway",
          "CustomerID": 12430,
          "Description": "POSTAGE",
          "InvoiceDate": "2011-10-27T15:09:00",
          "InvoiceNo": 573108,
          "Quantity": 1,
          "StockCode": "POST",
          "UnitPrice": 40
         },
         {
          "Country": "Germany",
          "CustomerID": 12709,
          "Description": "POSTAGE",
          "InvoiceDate": "2011-10-27T17:00:00",
          "InvoiceNo": 573136,
          "Quantity": 2,
          "StockCode": "POST",
          "UnitPrice": 18
         },
         {
          "Country": "France",
          "CustomerID": 12678,
          "Description": "POSTAGE",
          "InvoiceDate": "2011-10-28T07:39:00",
          "InvoiceNo": 573153,
          "Quantity": 3,
          "StockCode": "POST",
          "UnitPrice": 145
         },
         {
          "Country": "Belgium",
          "CustomerID": 12362,
          "Description": "POSTAGE",
          "InvoiceDate": "2011-10-28T10:10:00",
          "InvoiceNo": 573173,
          "Quantity": 4,
          "StockCode": "POST",
          "UnitPrice": 15
         },
         {
          "Country": "Germany",
          "CustomerID": 13812,
          "Description": "POSTAGE",
          "InvoiceDate": "2011-10-28T14:27:00",
          "InvoiceNo": 573284,
          "Quantity": 1,
          "StockCode": "POST",
          "UnitPrice": 18
         },
         {
          "Country": "Germany",
          "CustomerID": 12705,
          "Description": "POSTAGE",
          "InvoiceDate": "2011-10-28T14:44:00",
          "InvoiceNo": 573289,
          "Quantity": 4,
          "StockCode": "POST",
          "UnitPrice": 18
         },
         {
          "Country": "United Kingdom",
          "CustomerID": 14071,
          "Description": "Manual",
          "InvoiceDate": "2011-10-28T16:45:00",
          "InvoiceNo": 573311,
          "Quantity": 8,
          "StockCode": "M",
          "UnitPrice": 0.39
         },
         {
          "Country": "United Kingdom",
          "CustomerID": 16601,
          "Description": "Manual",
          "InvoiceDate": "2011-10-30T11:09:00",
          "InvoiceNo": 573328,
          "Quantity": 3,
          "StockCode": "M",
          "UnitPrice": 0.39
         },
         {
          "Country": "Sweden",
          "CustomerID": 12483,
          "Description": "POSTAGE",
          "InvoiceDate": "2011-10-30T11:34:00",
          "InvoiceNo": 573333,
          "Quantity": 2,
          "StockCode": "POST",
          "UnitPrice": 40
         },
         {
          "Country": "United Kingdom",
          "CustomerID": 14159,
          "Description": "Manual",
          "InvoiceDate": "2011-10-30T11:55:00",
          "InvoiceNo": 573340,
          "Quantity": 3,
          "StockCode": "M",
          "UnitPrice": 0.79
         },
         {
          "Country": "United Kingdom",
          "CustomerID": 17609,
          "Description": "Manual",
          "InvoiceDate": "2011-10-30T12:14:00",
          "InvoiceNo": 573345,
          "Quantity": 25,
          "StockCode": "M",
          "UnitPrice": 0.2
         },
         {
          "Country": "Spain",
          "CustomerID": 12597,
          "Description": "POSTAGE",
          "InvoiceDate": "2011-10-30T13:06:00",
          "InvoiceNo": 573362,
          "Quantity": 10,
          "StockCode": "POST",
          "UnitPrice": 28
         },
         {
          "Country": "Belgium",
          "CustomerID": 12364,
          "Description": "POSTAGE",
          "InvoiceDate": "2011-10-30T15:43:00",
          "InvoiceNo": 573401,
          "Quantity": 2,
          "StockCode": "POST",
          "UnitPrice": 15
         },
         {
          "Country": "France",
          "CustomerID": 12494,
          "Description": "POSTAGE",
          "InvoiceDate": "2011-10-30T15:44:00",
          "InvoiceNo": 573402,
          "Quantity": 1,
          "StockCode": "POST",
          "UnitPrice": 18
         },
         {
          "Country": "Germany",
          "CustomerID": 12581,
          "Description": "POSTAGE",
          "InvoiceDate": "2011-10-31T08:56:00",
          "InvoiceNo": 573417,
          "Quantity": 1,
          "StockCode": "POST",
          "UnitPrice": 18
         },
         {
          "Country": "Germany",
          "CustomerID": 13813,
          "Description": "POSTAGE",
          "InvoiceDate": "2011-10-31T10:38:00",
          "InvoiceNo": 573430,
          "Quantity": 3,
          "StockCode": "POST",
          "UnitPrice": 18
         },
         {
          "Country": "United Kingdom",
          "CustomerID": 14096,
          "Description": "DOTCOM POSTAGE",
          "InvoiceDate": "2011-10-31T14:09:00",
          "InvoiceNo": 573576,
          "Quantity": 1,
          "StockCode": "DOT",
          "UnitPrice": 901.58
         },
         {
          "Country": "Finland",
          "CustomerID": 12588,
          "Description": "POSTAGE",
          "InvoiceDate": "2011-10-31T15:01:00",
          "InvoiceNo": 573588,
          "Quantity": 1,
          "StockCode": "POST",
          "UnitPrice": 40
         },
         {
          "Country": "Germany",
          "CustomerID": 12522,
          "Description": "POSTAGE",
          "InvoiceDate": "2011-10-31T15:30:00",
          "InvoiceNo": 573629,
          "Quantity": 1,
          "StockCode": "POST",
          "UnitPrice": 18
         },
         {
          "Country": "Belgium",
          "CustomerID": 12417,
          "Description": "POSTAGE",
          "InvoiceDate": "2011-10-31T16:02:00",
          "InvoiceNo": 573656,
          "Quantity": 3,
          "StockCode": "POST",
          "UnitPrice": 15
         },
         {
          "Country": "Italy",
          "CustomerID": 12552,
          "Description": "POSTAGE",
          "InvoiceDate": "2011-11-01T10:02:00",
          "InvoiceNo": 573768,
          "Quantity": 3,
          "StockCode": "POST",
          "UnitPrice": 40
         },
         {
          "Country": "France",
          "CustomerID": 12674,
          "Description": "POSTAGE",
          "InvoiceDate": "2011-11-01T12:12:00",
          "InvoiceNo": 573867,
          "Quantity": 2,
          "StockCode": "POST",
          "UnitPrice": 18
         },
         {
          "Country": "France",
          "CustomerID": 12491,
          "Description": "POSTAGE",
          "InvoiceDate": "2011-11-01T12:18:00",
          "InvoiceNo": 573868,
          "Quantity": 2,
          "StockCode": "POST",
          "UnitPrice": 18
         },
         {
          "Country": "France",
          "CustomerID": 12682,
          "Description": "POSTAGE",
          "InvoiceDate": "2011-11-01T13:56:00",
          "InvoiceNo": 573891,
          "Quantity": 5,
          "StockCode": "POST",
          "UnitPrice": 18
         },
         {
          "Country": "France",
          "CustomerID": 12490,
          "Description": "POSTAGE",
          "InvoiceDate": "2011-11-02T14:51:00",
          "InvoiceNo": 574068,
          "Quantity": 3,
          "StockCode": "POST",
          "UnitPrice": 18
         },
         {
          "Country": "Germany",
          "CustomerID": 12654,
          "Description": "POSTAGE",
          "InvoiceDate": "2011-11-02T14:57:00",
          "InvoiceNo": 574071,
          "Quantity": 1,
          "StockCode": "POST",
          "UnitPrice": 18
         },
         {
          "Country": "Germany",
          "CustomerID": 12471,
          "Description": "POSTAGE",
          "InvoiceDate": "2011-11-03T09:56:00",
          "InvoiceNo": 574097,
          "Quantity": 5,
          "StockCode": "POST",
          "UnitPrice": 18
         },
         {
          "Country": "France",
          "CustomerID": 12615,
          "Description": "POSTAGE",
          "InvoiceDate": "2011-11-03T10:45:00",
          "InvoiceNo": 574104,
          "Quantity": 3,
          "StockCode": "POST",
          "UnitPrice": 18
         },
         {
          "Country": "France",
          "CustomerID": 12437,
          "Description": "POSTAGE",
          "InvoiceDate": "2011-11-03T13:24:00",
          "InvoiceNo": 574252,
          "Quantity": 2,
          "StockCode": "POST",
          "UnitPrice": 18
         },
         {
          "Country": "Germany",
          "CustomerID": 12569,
          "Description": "POSTAGE",
          "InvoiceDate": "2011-11-03T13:44:00",
          "InvoiceNo": 574255,
          "Quantity": 1,
          "StockCode": "POST",
          "UnitPrice": 18
         },
         {
          "Country": "Norway",
          "CustomerID": 12352,
          "Description": "POSTAGE",
          "InvoiceDate": "2011-11-03T14:37:00",
          "InvoiceNo": 574275,
          "Quantity": 2,
          "StockCode": "POST",
          "UnitPrice": 40
         },
         {
          "Country": "United Kingdom",
          "CustomerID": 17857,
          "Description": "Manual",
          "InvoiceDate": "2011-11-03T14:42:00",
          "InvoiceNo": 574277,
          "Quantity": 832,
          "StockCode": "M",
          "UnitPrice": 0.25
         },
         {
          "Country": "Spain",
          "CustomerID": 12544,
          "Description": "POSTAGE",
          "InvoiceDate": "2011-11-03T16:15:00",
          "InvoiceNo": 574301,
          "Quantity": 2,
          "StockCode": "POST",
          "UnitPrice": 28
         },
         {
          "Country": "United Kingdom",
          "CustomerID": 17078,
          "Description": "Manual",
          "InvoiceDate": "2011-11-03T18:49:00",
          "InvoiceNo": 574317,
          "Quantity": 6,
          "StockCode": "M",
          "UnitPrice": 0.39
         },
         {
          "Country": "Belgium",
          "CustomerID": 12362,
          "Description": "POSTAGE",
          "InvoiceDate": "2011-11-04T09:07:00",
          "InvoiceNo": 574329,
          "Quantity": 4,
          "StockCode": "POST",
          "UnitPrice": 15
         },
         {
          "Country": "Finland",
          "CustomerID": 12664,
          "Description": "POSTAGE",
          "InvoiceDate": "2011-11-04T09:24:00",
          "InvoiceNo": 574332,
          "Quantity": 3,
          "StockCode": "POST",
          "UnitPrice": 18
         },
         {
          "Country": "Belgium",
          "CustomerID": 12397,
          "Description": "POSTAGE",
          "InvoiceDate": "2011-11-04T09:52:00",
          "InvoiceNo": 574336,
          "Quantity": 6,
          "StockCode": "POST",
          "UnitPrice": 15
         },
         {
          "Country": "Finland",
          "CustomerID": 12704,
          "Description": "POSTAGE",
          "InvoiceDate": "2011-11-04T11:40:00",
          "InvoiceNo": 574442,
          "Quantity": 5,
          "StockCode": "POST",
          "UnitPrice": 40
         },
         {
          "Country": "United Kingdom",
          "CustomerID": 17979,
          "Description": "Manual",
          "InvoiceDate": "2011-11-04T12:05:00",
          "InvoiceNo": 574474,
          "Quantity": 4,
          "StockCode": "M",
          "UnitPrice": 0.85
         },
         {
          "Country": "France",
          "CustomerID": 12577,
          "Description": "Manual",
          "InvoiceDate": "2011-11-04T13:24:00",
          "InvoiceNo": 574506,
          "Quantity": 1,
          "StockCode": "M",
          "UnitPrice": 3.95
         },
         {
          "Country": "Germany",
          "CustomerID": 12619,
          "Description": "POSTAGE",
          "InvoiceDate": "2011-11-06T11:30:00",
          "InvoiceNo": 574653,
          "Quantity": 2,
          "StockCode": "POST",
          "UnitPrice": 18
         },
         {
          "Country": "Germany",
          "CustomerID": 12645,
          "Description": "POSTAGE",
          "InvoiceDate": "2011-11-06T12:38:00",
          "InvoiceNo": 574679,
          "Quantity": 3,
          "StockCode": "POST",
          "UnitPrice": 18
         },
         {
          "Country": "Sweden",
          "CustomerID": 12638,
          "Description": "POSTAGE",
          "InvoiceDate": "2011-11-06T13:11:00",
          "InvoiceNo": 574690,
          "Quantity": 4,
          "StockCode": "POST",
          "UnitPrice": 40
         },
         {
          "Country": "Norway",
          "CustomerID": 12381,
          "Description": "POSTAGE",
          "InvoiceDate": "2011-11-06T13:36:00",
          "InvoiceNo": 574694,
          "Quantity": 2,
          "StockCode": "POST",
          "UnitPrice": 40
         },
         {
          "Country": "Germany",
          "CustomerID": 12628,
          "Description": "POSTAGE",
          "InvoiceDate": "2011-11-06T14:26:00",
          "InvoiceNo": 574713,
          "Quantity": 1,
          "StockCode": "POST",
          "UnitPrice": 18
         },
         {
          "Country": "United Kingdom",
          "CustomerID": 14502,
          "Description": "Manual",
          "InvoiceDate": "2011-11-06T14:45:00",
          "InvoiceNo": 574722,
          "Quantity": 16,
          "StockCode": "M",
          "UnitPrice": 0.19
         },
         {
          "Country": "United Kingdom",
          "CustomerID": 15993,
          "Description": "Manual",
          "InvoiceDate": "2011-11-06T16:13:00",
          "InvoiceNo": 574741,
          "Quantity": 6,
          "StockCode": "M",
          "UnitPrice": 1.45
         },
         {
          "Country": "Spain",
          "CustomerID": 12484,
          "Description": "POSTAGE",
          "InvoiceDate": "2011-11-07T11:37:00",
          "InvoiceNo": 574838,
          "Quantity": 5,
          "StockCode": "POST",
          "UnitPrice": 28
         },
         {
          "Country": "Portugal",
          "CustomerID": 12783,
          "Description": "POSTAGE",
          "InvoiceDate": "2011-11-07T11:57:00",
          "InvoiceNo": 574844,
          "Quantity": 1,
          "StockCode": "POST",
          "UnitPrice": 28
         },
         {
          "Country": "Belgium",
          "CustomerID": 12408,
          "Description": "POSTAGE",
          "InvoiceDate": "2011-11-07T12:27:00",
          "InvoiceNo": 574862,
          "Quantity": 5,
          "StockCode": "POST",
          "UnitPrice": 15
         },
         {
          "Country": "Germany",
          "CustomerID": 12708,
          "Description": "POSTAGE",
          "InvoiceDate": "2011-11-07T12:44:00",
          "InvoiceNo": 574869,
          "Quantity": 1,
          "StockCode": "POST",
          "UnitPrice": 18
         },
         {
          "Country": "Germany",
          "CustomerID": 12472,
          "Description": "POSTAGE",
          "InvoiceDate": "2011-11-07T14:01:00",
          "InvoiceNo": 574885,
          "Quantity": 1,
          "StockCode": "POST",
          "UnitPrice": 18
         },
         {
          "Country": "United Kingdom",
          "CustomerID": 15573,
          "Description": "Manual",
          "InvoiceDate": "2011-11-08T11:38:00",
          "InvoiceNo": 575034,
          "Quantity": 1,
          "StockCode": "M",
          "UnitPrice": 7.95
         },
         {
          "Country": "United Kingdom",
          "CustomerID": 13047,
          "Description": "Manual",
          "InvoiceDate": "2011-11-08T12:06:00",
          "InvoiceNo": 575043,
          "Quantity": 1,
          "StockCode": "M",
          "UnitPrice": 4.95
         },
         {
          "Country": "France",
          "CustomerID": 12721,
          "Description": "POSTAGE",
          "InvoiceDate": "2011-11-08T12:13:00",
          "InvoiceNo": 575049,
          "Quantity": 3,
          "StockCode": "POST",
          "UnitPrice": 18
         },
         {
          "Country": "United Kingdom",
          "CustomerID": 14071,
          "Description": "Manual",
          "InvoiceDate": "2011-11-08T12:25:00",
          "InvoiceNo": 575059,
          "Quantity": 30,
          "StockCode": "M",
          "UnitPrice": 0.39
         },
         {
          "Country": "France",
          "CustomerID": 12583,
          "Description": "POSTAGE",
          "InvoiceDate": "2011-11-08T12:45:00",
          "InvoiceNo": 575067,
          "Quantity": 2,
          "StockCode": "POST",
          "UnitPrice": 18
         },
         {
          "Country": "Spain",
          "CustomerID": 12540,
          "Description": "POSTAGE",
          "InvoiceDate": "2011-11-08T15:38:00",
          "InvoiceNo": 575144,
          "Quantity": 3,
          "StockCode": "POST",
          "UnitPrice": 28
         },
         {
          "Country": "Belgium",
          "CustomerID": 12395,
          "Description": "POSTAGE",
          "InvoiceDate": "2011-11-08T16:12:00",
          "InvoiceNo": 575151,
          "Quantity": 1,
          "StockCode": "POST",
          "UnitPrice": 15
         },
         {
          "Country": "Belgium",
          "CustomerID": 12395,
          "Description": "POSTAGE",
          "InvoiceDate": "2011-11-08T16:15:00",
          "InvoiceNo": 575154,
          "Quantity": 2,
          "StockCode": "POST",
          "UnitPrice": 18
         },
         {
          "Country": "France",
          "CustomerID": 12681,
          "Description": "POSTAGE",
          "InvoiceDate": "2011-11-09T09:34:00",
          "InvoiceNo": 575193,
          "Quantity": 5,
          "StockCode": "POST",
          "UnitPrice": 18
         },
         {
          "Country": "United Kingdom",
          "CustomerID": 17841,
          "Description": "Manual",
          "InvoiceDate": "2011-11-09T12:38:00",
          "InvoiceNo": 575304,
          "Quantity": 1,
          "StockCode": "M",
          "UnitPrice": 1.25
         },
         {
          "Country": "France",
          "CustomerID": 12532,
          "Description": "POSTAGE",
          "InvoiceDate": "2011-11-09T13:47:00",
          "InvoiceNo": 575326,
          "Quantity": 2,
          "StockCode": "POST",
          "UnitPrice": 18
         },
         {
          "Country": "United Kingdom",
          "CustomerID": 17857,
          "Description": "Manual",
          "InvoiceDate": "2011-11-09T13:48:00",
          "InvoiceNo": 575328,
          "Quantity": 1200,
          "StockCode": "M",
          "UnitPrice": 0.25
         },
         {
          "Country": "Germany",
          "CustomerID": 12504,
          "Description": "POSTAGE",
          "InvoiceDate": "2011-11-09T14:56:00",
          "InvoiceNo": 575352,
          "Quantity": 3,
          "StockCode": "POST",
          "UnitPrice": 18
         },
         {
          "Country": "Germany",
          "CustomerID": 12708,
          "Description": "POSTAGE",
          "InvoiceDate": "2011-11-10T09:52:00",
          "InvoiceNo": 575498,
          "Quantity": 1,
          "StockCode": "POST",
          "UnitPrice": 18
         },
         {
          "Country": "Spain",
          "CustomerID": 12541,
          "Description": "POSTAGE",
          "InvoiceDate": "2011-11-10T10:40:00",
          "InvoiceNo": 575514,
          "Quantity": 3,
          "StockCode": "POST",
          "UnitPrice": 28
         },
         {
          "Country": "France",
          "CustomerID": 12682,
          "Description": "POSTAGE",
          "InvoiceDate": "2011-11-10T10:53:00",
          "InvoiceNo": 575519,
          "Quantity": 2,
          "StockCode": "POST",
          "UnitPrice": 18
         },
         {
          "Country": "France",
          "CustomerID": 12659,
          "Description": "POSTAGE",
          "InvoiceDate": "2011-11-10T11:53:00",
          "InvoiceNo": 575581,
          "Quantity": 1,
          "StockCode": "POST",
          "UnitPrice": 18
         },
         {
          "Country": "France",
          "CustomerID": 12682,
          "Description": "POSTAGE",
          "InvoiceDate": "2011-11-10T11:55:00",
          "InvoiceNo": 575584,
          "Quantity": 1,
          "StockCode": "POST",
          "UnitPrice": 18
         },
         {
          "Country": "United Kingdom",
          "CustomerID": 14096,
          "Description": "DOTCOM POSTAGE",
          "InvoiceDate": "2011-11-10T12:37:00",
          "InvoiceNo": 575607,
          "Quantity": 1,
          "StockCode": "DOT",
          "UnitPrice": 908.16
         },
         {
          "Country": "France",
          "CustomerID": 12599,
          "Description": "POSTAGE",
          "InvoiceDate": "2011-11-10T13:34:00",
          "InvoiceNo": 575629,
          "Quantity": 1,
          "StockCode": "POST",
          "UnitPrice": 18
         },
         {
          "Country": "Germany",
          "CustomerID": 12473,
          "Description": "Manual",
          "InvoiceDate": "2011-11-10T13:44:00",
          "InvoiceNo": 575632,
          "Quantity": 1,
          "StockCode": "M",
          "UnitPrice": 40.46
         },
         {
          "Country": "Germany",
          "CustomerID": 12473,
          "Description": "Manual",
          "InvoiceDate": "2011-11-10T13:44:00",
          "InvoiceNo": 575632,
          "Quantity": 1,
          "StockCode": "M",
          "UnitPrice": 424.06
         },
         {
          "Country": "Germany",
          "CustomerID": 12473,
          "Description": "Manual",
          "InvoiceDate": "2011-11-10T13:44:00",
          "InvoiceNo": 575632,
          "Quantity": 1,
          "StockCode": "M",
          "UnitPrice": 549.34
         },
         {
          "Country": "Germany",
          "CustomerID": 12473,
          "Description": "Manual",
          "InvoiceDate": "2011-11-10T13:46:00",
          "InvoiceNo": 575636,
          "Quantity": 1,
          "StockCode": "M",
          "UnitPrice": 40.46
         },
         {
          "Country": "France",
          "CustomerID": 12670,
          "Description": "POSTAGE",
          "InvoiceDate": "2011-11-10T15:03:00",
          "InvoiceNo": 575671,
          "Quantity": 3,
          "StockCode": "POST",
          "UnitPrice": 18
         },
         {
          "Country": "Netherlands",
          "CustomerID": 14646,
          "Description": "POSTAGE",
          "InvoiceDate": "2011-11-10T17:27:00",
          "InvoiceNo": 575709,
          "Quantity": 2,
          "StockCode": "POST",
          "UnitPrice": 15
         },
         {
          "Country": "Germany",
          "CustomerID": 13817,
          "Description": "POSTAGE",
          "InvoiceDate": "2011-11-10T17:49:00",
          "InvoiceNo": 575713,
          "Quantity": 2,
          "StockCode": "POST",
          "UnitPrice": 18
         },
         {
          "Country": "Germany",
          "CustomerID": 12712,
          "Description": "POSTAGE",
          "InvoiceDate": "2011-11-11T08:19:00",
          "InvoiceNo": 575732,
          "Quantity": 2,
          "StockCode": "POST",
          "UnitPrice": 18
         },
         {
          "Country": "Germany",
          "CustomerID": 13810,
          "Description": "POSTAGE",
          "InvoiceDate": "2011-11-11T08:33:00",
          "InvoiceNo": 575733,
          "Quantity": 1,
          "StockCode": "POST",
          "UnitPrice": 18
         },
         {
          "Country": "Switzerland",
          "CustomerID": 12384,
          "Description": "POSTAGE",
          "InvoiceDate": "2011-11-11T08:39:00",
          "InvoiceNo": 575734,
          "Quantity": 2,
          "StockCode": "POST",
          "UnitPrice": 40
         },
         {
          "Country": "Sweden",
          "CustomerID": 12697,
          "Description": "POSTAGE",
          "InvoiceDate": "2011-11-11T08:47:00",
          "InvoiceNo": 575736,
          "Quantity": 1,
          "StockCode": "POST",
          "UnitPrice": 40
         },
         {
          "Country": "France",
          "CustomerID": 12589,
          "Description": "POSTAGE",
          "InvoiceDate": "2011-11-11T10:19:00",
          "InvoiceNo": 575747,
          "Quantity": 3,
          "StockCode": "POST",
          "UnitPrice": 18
         },
         {
          "Country": "Germany",
          "CustomerID": 12600,
          "Description": "POSTAGE",
          "InvoiceDate": "2011-11-11T10:29:00",
          "InvoiceNo": 575750,
          "Quantity": 3,
          "StockCode": "POST",
          "UnitPrice": 18
         },
         {
          "Country": "Germany",
          "CustomerID": 12518,
          "Description": "POSTAGE",
          "InvoiceDate": "2011-11-11T11:18:00",
          "InvoiceNo": 575787,
          "Quantity": 3,
          "StockCode": "POST",
          "UnitPrice": 18
         },
         {
          "Country": "France",
          "CustomerID": 12598,
          "Description": "POSTAGE",
          "InvoiceDate": "2011-11-11T12:07:00",
          "InvoiceNo": 575845,
          "Quantity": 1,
          "StockCode": "POST",
          "UnitPrice": 18
         },
         {
          "Country": "United Kingdom",
          "CustomerID": 14178,
          "Description": "Manual",
          "InvoiceDate": "2011-11-11T12:10:00",
          "InvoiceNo": 575848,
          "Quantity": 1,
          "StockCode": "M",
          "UnitPrice": 10
         },
         {
          "Country": "France",
          "CustomerID": 12726,
          "Description": "POSTAGE",
          "InvoiceDate": "2011-11-11T13:35:00",
          "InvoiceNo": 575880,
          "Quantity": 3,
          "StockCode": "POST",
          "UnitPrice": 18
         },
         {
          "Country": "France",
          "CustomerID": 12685,
          "Description": "POSTAGE",
          "InvoiceDate": "2011-11-11T13:46:00",
          "InvoiceNo": 575884,
          "Quantity": 3,
          "StockCode": "POST",
          "UnitPrice": 18
         },
         {
          "Country": "Germany",
          "CustomerID": 12517,
          "Description": "POSTAGE",
          "InvoiceDate": "2011-11-11T14:04:00",
          "InvoiceNo": 575888,
          "Quantity": 3,
          "StockCode": "POST",
          "UnitPrice": 18
         },
         {
          "Country": "Germany",
          "CustomerID": 12480,
          "Description": "POSTAGE",
          "InvoiceDate": "2011-11-11T14:52:00",
          "InvoiceNo": 575896,
          "Quantity": 8,
          "StockCode": "POST",
          "UnitPrice": 18
         },
         {
          "Country": "United Kingdom",
          "CustomerID": 18014,
          "Description": "Manual",
          "InvoiceDate": "2011-11-11T15:28:00",
          "InvoiceNo": 575904,
          "Quantity": 1,
          "StockCode": "M",
          "UnitPrice": 7.95
         },
         {
          "Country": "France",
          "CustomerID": 12691,
          "Description": "POSTAGE",
          "InvoiceDate": "2011-11-11T16:49:00",
          "InvoiceNo": 575916,
          "Quantity": 1,
          "StockCode": "POST",
          "UnitPrice": 18
         },
         {
          "Country": "United Kingdom",
          "CustomerID": 16015,
          "Description": "Manual",
          "InvoiceDate": "2011-11-13T11:55:00",
          "InvoiceNo": 575952,
          "Quantity": 1,
          "StockCode": "M",
          "UnitPrice": 0.29
         },
         {
          "Country": "Finland",
          "CustomerID": 12428,
          "Description": "POSTAGE",
          "InvoiceDate": "2011-11-14T08:22:00",
          "InvoiceNo": 576082,
          "Quantity": 2,
          "StockCode": "POST",
          "UnitPrice": 40
         },
         {
          "Country": "France",
          "CustomerID": 12689,
          "Description": "POSTAGE",
          "InvoiceDate": "2011-11-14T08:31:00",
          "InvoiceNo": 576087,
          "Quantity": 4,
          "StockCode": "POST",
          "UnitPrice": 18
         },
         {
          "Country": "United Kingdom",
          "CustomerID": 18117,
          "Description": "Manual",
          "InvoiceDate": "2011-11-14T12:47:00",
          "InvoiceNo": 576213,
          "Quantity": 1,
          "StockCode": "M",
          "UnitPrice": 1.25
         },
         {
          "Country": "France",
          "CustomerID": 12490,
          "Description": "POSTAGE",
          "InvoiceDate": "2011-11-14T13:02:00",
          "InvoiceNo": 576222,
          "Quantity": 2,
          "StockCode": "POST",
          "UnitPrice": 18
         },
         {
          "Country": "France",
          "CustomerID": 12553,
          "Description": "POSTAGE",
          "InvoiceDate": "2011-11-14T13:40:00",
          "InvoiceNo": 576245,
          "Quantity": 3,
          "StockCode": "POST",
          "UnitPrice": 18
         },
         {
          "Country": "Portugal",
          "CustomerID": 12762,
          "Description": "POSTAGE",
          "InvoiceDate": "2011-11-14T14:23:00",
          "InvoiceNo": 576269,
          "Quantity": 2,
          "StockCode": "POST",
          "UnitPrice": 28
         },
         {
          "Country": "Germany",
          "CustomerID": 12642,
          "Description": "POSTAGE",
          "InvoiceDate": "2011-11-14T15:03:00",
          "InvoiceNo": 576322,
          "Quantity": 2,
          "StockCode": "POST",
          "UnitPrice": 18
         },
         {
          "Country": "Germany",
          "CustomerID": 12476,
          "Description": "POSTAGE",
          "InvoiceDate": "2011-11-14T15:19:00",
          "InvoiceNo": 576327,
          "Quantity": 2,
          "StockCode": "POST",
          "UnitPrice": 18
         },
         {
          "Country": "United Kingdom",
          "CustomerID": 14096,
          "Description": "DOTCOM POSTAGE",
          "InvoiceDate": "2011-11-14T15:27:00",
          "InvoiceNo": 576339,
          "Quantity": 1,
          "StockCode": "DOT",
          "UnitPrice": 1500.36
         },
         {
          "Country": "Austria",
          "CustomerID": 12374,
          "Description": "POSTAGE",
          "InvoiceDate": "2011-11-14T15:37:00",
          "InvoiceNo": 576345,
          "Quantity": 3,
          "StockCode": "POST",
          "UnitPrice": 40
         },
         {
          "Country": "United Kingdom",
          "CustomerID": 16519,
          "Description": "Manual",
          "InvoiceDate": "2011-11-14T15:41:00",
          "InvoiceNo": 576349,
          "Quantity": 1,
          "StockCode": "M",
          "UnitPrice": 2.1
         },
         {
          "Country": "France",
          "CustomerID": 12640,
          "Description": "POSTAGE",
          "InvoiceDate": "2011-11-15T08:43:00",
          "InvoiceNo": 576373,
          "Quantity": 4,
          "StockCode": "POST",
          "UnitPrice": 18
         },
         {
          "Country": "United Kingdom",
          "CustomerID": 12748,
          "Description": "Manual",
          "InvoiceDate": "2011-11-15T10:05:00",
          "InvoiceNo": 576389,
          "Quantity": 1,
          "StockCode": "M",
          "UnitPrice": 850.5
         },
         {
          "Country": "Germany",
          "CustomerID": 12569,
          "Description": "POSTAGE",
          "InvoiceDate": "2011-11-15T10:13:00",
          "InvoiceNo": 576390,
          "Quantity": 1,
          "StockCode": "POST",
          "UnitPrice": 18
         },
         {
          "Country": "France",
          "CustomerID": 12684,
          "Description": "POSTAGE",
          "InvoiceDate": "2011-11-15T10:50:00",
          "InvoiceNo": 576399,
          "Quantity": 2,
          "StockCode": "POST",
          "UnitPrice": 18
         },
         {
          "Country": "Sweden",
          "CustomerID": 12676,
          "Description": "POSTAGE",
          "InvoiceDate": "2011-11-15T12:25:00",
          "InvoiceNo": 576519,
          "Quantity": 1,
          "StockCode": "POST",
          "UnitPrice": 40
         },
         {
          "Country": "United Kingdom",
          "CustomerID": 14666,
          "Description": "Manual",
          "InvoiceDate": "2011-11-15T12:57:00",
          "InvoiceNo": 576553,
          "Quantity": 6,
          "StockCode": "M",
          "UnitPrice": 2.55
         },
         {
          "Country": "Germany",
          "CustomerID": 12474,
          "Description": "POSTAGE",
          "InvoiceDate": "2011-11-15T15:42:00",
          "InvoiceNo": 576607,
          "Quantity": 4,
          "StockCode": "POST",
          "UnitPrice": 18
         },
         {
          "Country": "Germany",
          "CustomerID": 12621,
          "Description": "POSTAGE",
          "InvoiceDate": "2011-11-16T08:37:00",
          "InvoiceNo": 576629,
          "Quantity": 3,
          "StockCode": "POST",
          "UnitPrice": 18
         },
         {
          "Country": "Germany",
          "CustomerID": 13816,
          "Description": "POSTAGE",
          "InvoiceDate": "2011-11-16T08:38:00",
          "InvoiceNo": 576630,
          "Quantity": 1,
          "StockCode": "POST",
          "UnitPrice": 18
         },
         {
          "Country": "Germany",
          "CustomerID": 12720,
          "Description": "POSTAGE",
          "InvoiceDate": "2011-11-16T11:03:00",
          "InvoiceNo": 576657,
          "Quantity": 3,
          "StockCode": "POST",
          "UnitPrice": 18
         },
         {
          "Country": "Netherlands",
          "CustomerID": 14646,
          "Description": "POSTAGE",
          "InvoiceDate": "2011-11-16T11:41:00",
          "InvoiceNo": 576664,
          "Quantity": 1,
          "StockCode": "POST",
          "UnitPrice": 15
         },
         {
          "Country": "France",
          "CustomerID": 12640,
          "Description": "POSTAGE",
          "InvoiceDate": "2011-11-16T11:52:00",
          "InvoiceNo": 576669,
          "Quantity": 1,
          "StockCode": "POST",
          "UnitPrice": 18
         },
         {
          "Country": "Germany",
          "CustomerID": 13815,
          "Description": "POSTAGE",
          "InvoiceDate": "2011-11-16T13:54:00",
          "InvoiceNo": 576787,
          "Quantity": 4,
          "StockCode": "POST",
          "UnitPrice": 18
         },
         {
          "Country": "Germany",
          "CustomerID": 12569,
          "Description": "POSTAGE",
          "InvoiceDate": "2011-11-16T13:56:00",
          "InvoiceNo": 576789,
          "Quantity": 1,
          "StockCode": "POST",
          "UnitPrice": 18
         },
         {
          "Country": "Germany",
          "CustomerID": 12569,
          "Description": "POSTAGE",
          "InvoiceDate": "2011-11-16T13:59:00",
          "InvoiceNo": 576790,
          "Quantity": 1,
          "StockCode": "POST",
          "UnitPrice": 18
         },
         {
          "Country": "Germany",
          "CustomerID": 12626,
          "Description": "POSTAGE",
          "InvoiceDate": "2011-11-16T16:06:00",
          "InvoiceNo": 576863,
          "Quantity": 2,
          "StockCode": "POST",
          "UnitPrice": 18
         },
         {
          "Country": "Germany",
          "CustomerID": 12500,
          "Description": "POSTAGE",
          "InvoiceDate": "2011-11-16T16:20:00",
          "InvoiceNo": 576869,
          "Quantity": 1,
          "StockCode": "POST",
          "UnitPrice": 18
         },
         {
          "Country": "Germany",
          "CustomerID": 12662,
          "Description": "POSTAGE",
          "InvoiceDate": "2011-11-16T17:25:00",
          "InvoiceNo": 576890,
          "Quantity": 2,
          "StockCode": "POST",
          "UnitPrice": 18
         },
         {
          "Country": "Germany",
          "CustomerID": 12481,
          "Description": "POSTAGE",
          "InvoiceDate": "2011-11-17T08:29:00",
          "InvoiceNo": 576893,
          "Quantity": 1,
          "StockCode": "POST",
          "UnitPrice": 18
         },
         {
          "Country": "France",
          "CustomerID": 12681,
          "Description": "POSTAGE",
          "InvoiceDate": "2011-11-17T08:35:00",
          "InvoiceNo": 576894,
          "Quantity": 2,
          "StockCode": "POST",
          "UnitPrice": 18
         },
         {
          "Country": "Malta",
          "CustomerID": 17828,
          "Description": "POSTAGE",
          "InvoiceDate": "2011-11-17T08:41:00",
          "InvoiceNo": 576897,
          "Quantity": 7,
          "StockCode": "POST",
          "UnitPrice": 65
         },
         {
          "Country": "Italy",
          "CustomerID": 12610,
          "Description": "POSTAGE",
          "InvoiceDate": "2011-11-17T09:34:00",
          "InvoiceNo": 576907,
          "Quantity": 1,
          "StockCode": "POST",
          "UnitPrice": 40
         },
         {
          "Country": "Germany",
          "CustomerID": 12471,
          "Description": "POSTAGE",
          "InvoiceDate": "2011-11-17T09:49:00",
          "InvoiceNo": 576909,
          "Quantity": 8,
          "StockCode": "POST",
          "UnitPrice": 18
         },
         {
          "Country": "France",
          "CustomerID": 12567,
          "Description": "POSTAGE",
          "InvoiceDate": "2011-11-17T11:02:00",
          "InvoiceNo": 576927,
          "Quantity": 6,
          "StockCode": "POST",
          "UnitPrice": 18
         },
         {
          "Country": "France",
          "CustomerID": 12562,
          "Description": "POSTAGE",
          "InvoiceDate": "2011-11-17T11:34:00",
          "InvoiceNo": 576941,
          "Quantity": 5,
          "StockCode": "POST",
          "UnitPrice": 18
         },
         {
          "Country": "Germany",
          "CustomerID": 12647,
          "Description": "POSTAGE",
          "InvoiceDate": "2011-11-17T12:56:00",
          "InvoiceNo": 577027,
          "Quantity": 5,
          "StockCode": "POST",
          "UnitPrice": 18
         },
         {
          "Country": "United Kingdom",
          "CustomerID": 15563,
          "Description": "Manual",
          "InvoiceDate": "2011-11-17T12:59:00",
          "InvoiceNo": 577029,
          "Quantity": 30,
          "StockCode": "M",
          "UnitPrice": 1
         },
         {
          "Country": "Belgium",
          "CustomerID": 12449,
          "Description": "POSTAGE",
          "InvoiceDate": "2011-11-17T13:46:00",
          "InvoiceNo": 577046,
          "Quantity": 7,
          "StockCode": "POST",
          "UnitPrice": 18
         },
         {
          "Country": "United Kingdom",
          "CustomerID": 18122,
          "Description": "Manual",
          "InvoiceDate": "2011-11-17T14:29:00",
          "InvoiceNo": 577058,
          "Quantity": 2,
          "StockCode": "M",
          "UnitPrice": 0.29
         },
         {
          "Country": "Finland",
          "CustomerID": 12704,
          "Description": "POSTAGE",
          "InvoiceDate": "2011-11-17T14:49:00",
          "InvoiceNo": 577067,
          "Quantity": 2,
          "StockCode": "POST",
          "UnitPrice": 40
         },
         {
          "Country": "United Kingdom",
          "CustomerID": 15563,
          "Description": "Manual",
          "InvoiceDate": "2011-11-17T14:50:00",
          "InvoiceNo": 577068,
          "Quantity": 30,
          "StockCode": "M",
          "UnitPrice": 0.3
         },
         {
          "Country": "Belgium",
          "CustomerID": 12464,
          "Description": "POSTAGE",
          "InvoiceDate": "2011-11-17T15:55:00",
          "InvoiceNo": 577087,
          "Quantity": 2,
          "StockCode": "POST",
          "UnitPrice": 15
         },
         {
          "Country": "France",
          "CustomerID": 12681,
          "Description": "POSTAGE",
          "InvoiceDate": "2011-11-17T18:29:00",
          "InvoiceNo": 577121,
          "Quantity": 4,
          "StockCode": "POST",
          "UnitPrice": 18
         },
         {
          "Country": "Spain",
          "CustomerID": 12445,
          "Description": "POSTAGE",
          "InvoiceDate": "2011-11-17T18:43:00",
          "InvoiceNo": 577125,
          "Quantity": 2,
          "StockCode": "POST",
          "UnitPrice": 28
         },
         {
          "Country": "Germany",
          "CustomerID": 12427,
          "Description": "POSTAGE",
          "InvoiceDate": "2011-11-18T08:56:00",
          "InvoiceNo": 577135,
          "Quantity": 2,
          "StockCode": "POST",
          "UnitPrice": 18
         },
         {
          "Country": "France",
          "CustomerID": 14277,
          "Description": "POSTAGE",
          "InvoiceDate": "2011-11-18T09:53:00",
          "InvoiceNo": 577152,
          "Quantity": 2,
          "StockCode": "POST",
          "UnitPrice": 18
         },
         {
          "Country": "Germany",
          "CustomerID": 12603,
          "Description": "POSTAGE",
          "InvoiceDate": "2011-11-18T10:42:00",
          "InvoiceNo": 577168,
          "Quantity": 7,
          "StockCode": "POST",
          "UnitPrice": 18
         },
         {
          "Country": "Italy",
          "CustomerID": 12618,
          "Description": "POSTAGE",
          "InvoiceDate": "2011-11-18T11:10:00",
          "InvoiceNo": 577178,
          "Quantity": 1,
          "StockCode": "POST",
          "UnitPrice": 40
         },
         {
          "Country": "Belgium",
          "CustomerID": 12380,
          "Description": "POSTAGE",
          "InvoiceDate": "2011-11-18T11:27:00",
          "InvoiceNo": 577180,
          "Quantity": 8,
          "StockCode": "POST",
          "UnitPrice": 18
         },
         {
          "Country": "France",
          "CustomerID": 12682,
          "Description": "POSTAGE",
          "InvoiceDate": "2011-11-18T12:46:00",
          "InvoiceNo": 577295,
          "Quantity": 3,
          "StockCode": "POST",
          "UnitPrice": 18
         },
         {
          "Country": "Germany",
          "CustomerID": 12498,
          "Description": "POSTAGE",
          "InvoiceDate": "2011-11-18T12:52:00",
          "InvoiceNo": 577299,
          "Quantity": 1,
          "StockCode": "POST",
          "UnitPrice": 18
         },
         {
          "Country": "Norway",
          "CustomerID": 12444,
          "Description": "POSTAGE",
          "InvoiceDate": "2011-11-18T13:23:00",
          "InvoiceNo": 577314,
          "Quantity": 6,
          "StockCode": "POST",
          "UnitPrice": 40
         },
         {
          "Country": "Italy",
          "CustomerID": 12578,
          "Description": "POSTAGE",
          "InvoiceDate": "2011-11-18T13:30:00",
          "InvoiceNo": 577316,
          "Quantity": 7,
          "StockCode": "POST",
          "UnitPrice": 28
         },
         {
          "Country": "Netherlands",
          "CustomerID": 14646,
          "Description": "POSTAGE",
          "InvoiceDate": "2011-11-18T14:08:00",
          "InvoiceNo": 577326,
          "Quantity": 2,
          "StockCode": "POST",
          "UnitPrice": 15
         },
         {
          "Country": "France",
          "CustomerID": 12437,
          "Description": "POSTAGE",
          "InvoiceDate": "2011-11-18T15:14:00",
          "InvoiceNo": 577344,
          "Quantity": 1,
          "StockCode": "POST",
          "UnitPrice": 18
         },
         {
          "Country": "Germany",
          "CustomerID": 12702,
          "Description": "POSTAGE",
          "InvoiceDate": "2011-11-20T10:36:00",
          "InvoiceNo": 577406,
          "Quantity": 1,
          "StockCode": "POST",
          "UnitPrice": 18
         },
         {
          "Country": "Netherlands",
          "CustomerID": 12778,
          "Description": "POSTAGE",
          "InvoiceDate": "2011-11-20T11:30:00",
          "InvoiceNo": 577474,
          "Quantity": 3,
          "StockCode": "POST",
          "UnitPrice": 18
         },
         {
          "Country": "Spain",
          "CustomerID": 12540,
          "Description": "POSTAGE",
          "InvoiceDate": "2011-11-20T11:31:00",
          "InvoiceNo": 577476,
          "Quantity": 3,
          "StockCode": "POST",
          "UnitPrice": 28
         },
         {
          "Country": "Spain",
          "CustomerID": 12597,
          "Description": "POSTAGE",
          "InvoiceDate": "2011-11-20T13:33:00",
          "InvoiceNo": 577523,
          "Quantity": 1,
          "StockCode": "POST",
          "UnitPrice": 28
         },
         {
          "Country": "Belgium",
          "CustomerID": 12395,
          "Description": "POSTAGE",
          "InvoiceDate": "2011-11-20T15:21:00",
          "InvoiceNo": 577551,
          "Quantity": 2,
          "StockCode": "POST",
          "UnitPrice": 15
         },
         {
          "Country": "Spain",
          "CustomerID": 12462,
          "Description": "POSTAGE",
          "InvoiceDate": "2011-11-21T09:11:00",
          "InvoiceNo": 577606,
          "Quantity": 3,
          "StockCode": "POST",
          "UnitPrice": 28
         },
         {
          "Country": "Italy",
          "CustomerID": 12349,
          "Description": "POSTAGE",
          "InvoiceDate": "2011-11-21T09:51:00",
          "InvoiceNo": 577609,
          "Quantity": 1,
          "StockCode": "POST",
          "UnitPrice": 300
         },
         {
          "Country": "Germany",
          "CustomerID": 12658,
          "Description": "POSTAGE",
          "InvoiceDate": "2011-11-21T10:22:00",
          "InvoiceNo": 577615,
          "Quantity": 3,
          "StockCode": "POST",
          "UnitPrice": 18
         },
         {
          "Country": "Portugal",
          "CustomerID": 12795,
          "Description": "POSTAGE",
          "InvoiceDate": "2011-11-21T10:27:00",
          "InvoiceNo": 577618,
          "Quantity": 4,
          "StockCode": "POST",
          "UnitPrice": 28
         },
         {
          "Country": "France",
          "CustomerID": 12583,
          "Description": "POSTAGE",
          "InvoiceDate": "2011-11-21T11:16:00",
          "InvoiceNo": 577687,
          "Quantity": 3,
          "StockCode": "POST",
          "UnitPrice": 18
         },
         {
          "Country": "United Kingdom",
          "CustomerID": 15645,
          "Description": "Manual",
          "InvoiceDate": "2011-11-21T11:55:00",
          "InvoiceNo": 577695,
          "Quantity": 1,
          "StockCode": "M",
          "UnitPrice": 0.42
         },
         {
          "Country": "United Kingdom",
          "CustomerID": 16712,
          "Description": "Manual",
          "InvoiceDate": "2011-11-21T15:57:00",
          "InvoiceNo": 577773,
          "Quantity": 3,
          "StockCode": "M",
          "UnitPrice": 2.55
         },
         {
          "Country": "France",
          "CustomerID": 12490,
          "Description": "POSTAGE",
          "InvoiceDate": "2011-11-22T11:19:00",
          "InvoiceNo": 577856,
          "Quantity": 4,
          "StockCode": "POST",
          "UnitPrice": 18
         },
         {
          "Country": "United Kingdom",
          "CustomerID": 17073,
          "Description": "Manual",
          "InvoiceDate": "2011-11-22T11:47:00",
          "InvoiceNo": 577893,
          "Quantity": 1,
          "StockCode": "M",
          "UnitPrice": 1.25
         },
         {
          "Country": "United Kingdom",
          "CustomerID": 13268,
          "Description": "Manual",
          "InvoiceDate": "2011-11-22T11:51:00",
          "InvoiceNo": 577906,
          "Quantity": 76,
          "StockCode": "M",
          "UnitPrice": 0.29
         },
         {
          "Country": "United Kingdom",
          "CustomerID": 15525,
          "Description": "Manual",
          "InvoiceDate": "2011-11-22T12:07:00",
          "InvoiceNo": 577938,
          "Quantity": 2,
          "StockCode": "M",
          "UnitPrice": 1.25
         },
         {
          "Country": "United Kingdom",
          "CustomerID": 13569,
          "Description": "Manual",
          "InvoiceDate": "2011-11-22T13:07:00",
          "InvoiceNo": 578017,
          "Quantity": 1,
          "StockCode": "M",
          "UnitPrice": 1.5
         },
         {
          "Country": "France",
          "CustomerID": 12656,
          "Description": "POSTAGE",
          "InvoiceDate": "2011-11-22T13:42:00",
          "InvoiceNo": 578033,
          "Quantity": 4,
          "StockCode": "POST",
          "UnitPrice": 18
         },
         {
          "Country": "Netherlands",
          "CustomerID": 14646,
          "Description": "POSTAGE",
          "InvoiceDate": "2011-11-22T13:47:00",
          "InvoiceNo": 578034,
          "Quantity": 5,
          "StockCode": "POST",
          "UnitPrice": 15
         },
         {
          "Country": "United Kingdom",
          "CustomerID": 16474,
          "Description": "Manual",
          "InvoiceDate": "2011-11-22T14:04:00",
          "InvoiceNo": 578036,
          "Quantity": 2,
          "StockCode": "M",
          "UnitPrice": 0.08
         },
         {
          "Country": "United Kingdom",
          "CustomerID": 17338,
          "Description": "Manual",
          "InvoiceDate": "2011-11-22T14:23:00",
          "InvoiceNo": 578041,
          "Quantity": 3,
          "StockCode": "M",
          "UnitPrice": 1.25
         },
         {
          "Country": "Germany",
          "CustomerID": 12474,
          "Description": "POSTAGE",
          "InvoiceDate": "2011-11-22T14:39:00",
          "InvoiceNo": 578043,
          "Quantity": 2,
          "StockCode": "POST",
          "UnitPrice": 18
         },
         {
          "Country": "United Kingdom",
          "CustomerID": 17857,
          "Description": "Manual",
          "InvoiceDate": "2011-11-22T15:22:00",
          "InvoiceNo": 578060,
          "Quantity": 1600,
          "StockCode": "M",
          "UnitPrice": 0.25
         },
         {
          "Country": "United Kingdom",
          "CustomerID": 17590,
          "Description": "Manual",
          "InvoiceDate": "2011-11-22T16:06:00",
          "InvoiceNo": 578074,
          "Quantity": 1,
          "StockCode": "M",
          "UnitPrice": 1.25
         },
         {
          "Country": "Netherlands",
          "CustomerID": 12775,
          "Description": "POSTAGE",
          "InvoiceDate": "2011-11-22T16:33:00",
          "InvoiceNo": 578082,
          "Quantity": 1,
          "StockCode": "POST",
          "UnitPrice": 15
         },
         {
          "Country": "Belgium",
          "CustomerID": 12465,
          "Description": "POSTAGE",
          "InvoiceDate": "2011-11-22T16:34:00",
          "InvoiceNo": 578084,
          "Quantity": 2,
          "StockCode": "POST",
          "UnitPrice": 15
         },
         {
          "Country": "Sweden",
          "CustomerID": 12483,
          "Description": "POSTAGE",
          "InvoiceDate": "2011-11-22T17:02:00",
          "InvoiceNo": 578089,
          "Quantity": 4,
          "StockCode": "POST",
          "UnitPrice": 40
         },
         {
          "Country": "Switzerland",
          "CustomerID": 12452,
          "Description": "POSTAGE",
          "InvoiceDate": "2011-11-23T08:05:00",
          "InvoiceNo": 578099,
          "Quantity": 2,
          "StockCode": "POST",
          "UnitPrice": 1
         },
         {
          "Country": "Switzerland",
          "CustomerID": 12452,
          "Description": "POSTAGE",
          "InvoiceDate": "2011-11-23T10:28:00",
          "InvoiceNo": 578123,
          "Quantity": 2,
          "StockCode": "POST",
          "UnitPrice": 40
         },
         {
          "Country": "United Kingdom",
          "CustomerID": 16900,
          "Description": "POSTAGE",
          "InvoiceDate": "2011-11-23T10:32:00",
          "InvoiceNo": 578126,
          "Quantity": 1,
          "StockCode": "POST",
          "UnitPrice": 4.95
         },
         {
          "Country": "United Kingdom",
          "CustomerID": 14096,
          "Description": "DOTCOM POSTAGE",
          "InvoiceDate": "2011-11-23T13:39:00",
          "InvoiceNo": 578270,
          "Quantity": 1,
          "StockCode": "DOT",
          "UnitPrice": 1270.06
         },
         {
          "Country": "Germany",
          "CustomerID": 12569,
          "Description": "POSTAGE",
          "InvoiceDate": "2011-11-23T14:39:00",
          "InvoiceNo": 578295,
          "Quantity": 2,
          "StockCode": "POST",
          "UnitPrice": 18
         },
         {
          "Country": "Germany",
          "CustomerID": 12619,
          "Description": "POSTAGE",
          "InvoiceDate": "2011-11-23T14:52:00",
          "InvoiceNo": 578298,
          "Quantity": 3,
          "StockCode": "POST",
          "UnitPrice": 18
         },
         {
          "Country": "Finland",
          "CustomerID": 12664,
          "Description": "POSTAGE",
          "InvoiceDate": "2011-11-23T15:02:00",
          "InvoiceNo": 578300,
          "Quantity": 1,
          "StockCode": "POST",
          "UnitPrice": 40
         },
         {
          "Country": "Germany",
          "CustomerID": 12471,
          "Description": "POSTAGE",
          "InvoiceDate": "2011-11-24T08:50:00",
          "InvoiceNo": 578333,
          "Quantity": 2,
          "StockCode": "POST",
          "UnitPrice": 18
         },
         {
          "Country": "Spain",
          "CustomerID": 12421,
          "Description": "POSTAGE",
          "InvoiceDate": "2011-11-24T09:07:00",
          "InvoiceNo": 578339,
          "Quantity": 1,
          "StockCode": "POST",
          "UnitPrice": 28
         },
         {
          "Country": "France",
          "CustomerID": 12494,
          "Description": "POSTAGE",
          "InvoiceDate": "2011-11-24T09:34:00",
          "InvoiceNo": 578348,
          "Quantity": 2,
          "StockCode": "POST",
          "UnitPrice": 18
         },
         {
          "Country": "Germany",
          "CustomerID": 12705,
          "Description": "POSTAGE",
          "InvoiceDate": "2011-11-24T12:01:00",
          "InvoiceNo": 578425,
          "Quantity": 4,
          "StockCode": "POST",
          "UnitPrice": 18
         },
         {
          "Country": "Portugal",
          "CustomerID": 12757,
          "Description": "POSTAGE",
          "InvoiceDate": "2011-11-24T12:30:00",
          "InvoiceNo": 578463,
          "Quantity": 2,
          "StockCode": "POST",
          "UnitPrice": 28
         },
         {
          "Country": "Germany",
          "CustomerID": 12471,
          "Description": "POSTAGE",
          "InvoiceDate": "2011-11-24T12:36:00",
          "InvoiceNo": 578469,
          "Quantity": 4,
          "StockCode": "POST",
          "UnitPrice": 18
         },
         {
          "Country": "Germany",
          "CustomerID": 12476,
          "Description": "POSTAGE",
          "InvoiceDate": "2011-11-24T12:40:00",
          "InvoiceNo": 578472,
          "Quantity": 9,
          "StockCode": "POST",
          "UnitPrice": 18
         },
         {
          "Country": "Germany",
          "CustomerID": 12705,
          "Description": "POSTAGE",
          "InvoiceDate": "2011-11-24T13:17:00",
          "InvoiceNo": 578509,
          "Quantity": 1,
          "StockCode": "POST",
          "UnitPrice": 18
         },
         {
          "Country": "Germany",
          "CustomerID": 12720,
          "Description": "POSTAGE",
          "InvoiceDate": "2011-11-24T15:02:00",
          "InvoiceNo": 578547,
          "Quantity": 3,
          "StockCode": "POST",
          "UnitPrice": 18
         },
         {
          "Country": "France",
          "CustomerID": 12620,
          "Description": "POSTAGE",
          "InvoiceDate": "2011-11-25T10:20:00",
          "InvoiceNo": 578698,
          "Quantity": 2,
          "StockCode": "POST",
          "UnitPrice": 18
         },
         {
          "Country": "France",
          "CustomerID": 12681,
          "Description": "POSTAGE",
          "InvoiceDate": "2011-11-25T11:33:00",
          "InvoiceNo": 578736,
          "Quantity": 8,
          "StockCode": "POST",
          "UnitPrice": 18
         },
         {
          "Country": "United Kingdom",
          "CustomerID": 12748,
          "Description": "Manual",
          "InvoiceDate": "2011-11-25T11:41:00",
          "InvoiceNo": 578757,
          "Quantity": 2,
          "StockCode": "M",
          "UnitPrice": 0.85
         },
         {
          "Country": "Norway",
          "CustomerID": 12438,
          "Description": "POSTAGE",
          "InvoiceDate": "2011-11-25T13:28:00",
          "InvoiceNo": 578811,
          "Quantity": 8,
          "StockCode": "POST",
          "UnitPrice": 40
         },
         {
          "Country": "France",
          "CustomerID": 12682,
          "Description": "POSTAGE",
          "InvoiceDate": "2011-11-25T15:44:00",
          "InvoiceNo": 578835,
          "Quantity": 1,
          "StockCode": "POST",
          "UnitPrice": 18
         },
         {
          "Country": "United Kingdom",
          "CustomerID": 16024,
          "Description": "Manual",
          "InvoiceDate": "2011-11-27T13:26:00",
          "InvoiceNo": 578941,
          "Quantity": 6,
          "StockCode": "M",
          "UnitPrice": 0.39
         },
         {
          "Country": "United Kingdom",
          "CustomerID": 16024,
          "Description": "Manual",
          "InvoiceDate": "2011-11-27T13:26:00",
          "InvoiceNo": 578941,
          "Quantity": 14,
          "StockCode": "M",
          "UnitPrice": 0.21
         },
         {
          "Country": "United Kingdom",
          "CustomerID": 13991,
          "Description": "Manual",
          "InvoiceDate": "2011-11-27T16:02:00",
          "InvoiceNo": 578996,
          "Quantity": 1,
          "StockCode": "M",
          "UnitPrice": 1
         },
         {
          "Country": "Germany",
          "CustomerID": 12668,
          "Description": "POSTAGE",
          "InvoiceDate": "2011-11-28T10:56:00",
          "InvoiceNo": 579094,
          "Quantity": 8,
          "StockCode": "POST",
          "UnitPrice": 18
         },
         {
          "Country": "Germany",
          "CustomerID": 12479,
          "Description": "POSTAGE",
          "InvoiceDate": "2011-11-28T13:26:00",
          "InvoiceNo": 579152,
          "Quantity": 3,
          "StockCode": "POST",
          "UnitPrice": 18
         },
         {
          "Country": "France",
          "CustomerID": 12660,
          "Description": "POSTAGE",
          "InvoiceDate": "2011-11-28T13:26:00",
          "InvoiceNo": 579153,
          "Quantity": 1,
          "StockCode": "POST",
          "UnitPrice": 18
         },
         {
          "Country": "France",
          "CustomerID": 12657,
          "Description": "POSTAGE",
          "InvoiceDate": "2011-11-28T15:35:00",
          "InvoiceNo": 579190,
          "Quantity": 4,
          "StockCode": "POST",
          "UnitPrice": 18
         },
         {
          "Country": "France",
          "CustomerID": 12657,
          "Description": "POSTAGE",
          "InvoiceDate": "2011-11-28T15:47:00",
          "InvoiceNo": 579193,
          "Quantity": 4,
          "StockCode": "POST",
          "UnitPrice": 18
         },
         {
          "Country": "United Kingdom",
          "CustomerID": 14096,
          "Description": "DOTCOM POSTAGE",
          "InvoiceDate": "2011-11-28T15:54:00",
          "InvoiceNo": 579196,
          "Quantity": 1,
          "StockCode": "DOT",
          "UnitPrice": 1526.76
         },
         {
          "Country": "Switzerland",
          "CustomerID": 12451,
          "Description": "POSTAGE",
          "InvoiceDate": "2011-11-29T08:40:00",
          "InvoiceNo": 579259,
          "Quantity": 1,
          "StockCode": "POST",
          "UnitPrice": 40
         },
         {
          "Country": "Germany",
          "CustomerID": 12654,
          "Description": "POSTAGE",
          "InvoiceDate": "2011-11-29T10:10:00",
          "InvoiceNo": 579276,
          "Quantity": 1,
          "StockCode": "POST",
          "UnitPrice": 18
         },
         {
          "Country": "Finland",
          "CustomerID": 12375,
          "Description": "POSTAGE",
          "InvoiceDate": "2011-11-29T10:36:00",
          "InvoiceNo": 579281,
          "Quantity": 1,
          "StockCode": "POST",
          "UnitPrice": 40
         },
         {
          "Country": "France",
          "CustomerID": 12727,
          "Description": "POSTAGE",
          "InvoiceDate": "2011-11-29T11:46:00",
          "InvoiceNo": 579345,
          "Quantity": 4,
          "StockCode": "POST",
          "UnitPrice": 18
         },
         {
          "Country": "Germany",
          "CustomerID": 12627,
          "Description": "POSTAGE",
          "InvoiceDate": "2011-11-29T12:07:00",
          "InvoiceNo": 579393,
          "Quantity": 3,
          "StockCode": "POST",
          "UnitPrice": 18
         },
         {
          "Country": "Germany",
          "CustomerID": 12471,
          "Description": "POSTAGE",
          "InvoiceDate": "2011-11-29T13:00:00",
          "InvoiceNo": 579416,
          "Quantity": 5,
          "StockCode": "POST",
          "UnitPrice": 18
         },
         {
          "Country": "Belgium",
          "CustomerID": 12464,
          "Description": "POSTAGE",
          "InvoiceDate": "2011-11-29T13:33:00",
          "InvoiceNo": 579441,
          "Quantity": 4,
          "StockCode": "POST",
          "UnitPrice": 15
         },
         {
          "Country": "France",
          "CustomerID": 12670,
          "Description": "POSTAGE",
          "InvoiceDate": "2011-11-29T15:23:00",
          "InvoiceNo": 579492,
          "Quantity": 3,
          "StockCode": "POST",
          "UnitPrice": 18
         },
         {
          "Country": "Netherlands",
          "CustomerID": 12787,
          "Description": "POSTAGE",
          "InvoiceDate": "2011-11-30T08:44:00",
          "InvoiceNo": 579528,
          "Quantity": 1,
          "StockCode": "POST",
          "UnitPrice": 15
         },
         {
          "Country": "France",
          "CustomerID": 12488,
          "Description": "POSTAGE",
          "InvoiceDate": "2011-11-30T08:50:00",
          "InvoiceNo": 579529,
          "Quantity": 3,
          "StockCode": "POST",
          "UnitPrice": 18
         },
         {
          "Country": "Finland",
          "CustomerID": 12630,
          "Description": "POSTAGE",
          "InvoiceDate": "2011-11-30T10:48:00",
          "InvoiceNo": 579550,
          "Quantity": 3,
          "StockCode": "POST",
          "UnitPrice": 40
         },
         {
          "Country": "France",
          "CustomerID": 12682,
          "Description": "POSTAGE",
          "InvoiceDate": "2011-11-30T14:16:00",
          "InvoiceNo": 579708,
          "Quantity": 4,
          "StockCode": "POST",
          "UnitPrice": 18
         },
         {
          "Country": "United Kingdom",
          "CustomerID": 15060,
          "Description": "Manual",
          "InvoiceDate": "2011-11-30T14:17:00",
          "InvoiceNo": 579711,
          "Quantity": 1,
          "StockCode": "M",
          "UnitPrice": 1.25
         },
         {
          "Country": "Germany",
          "CustomerID": 12528,
          "Description": "POSTAGE",
          "InvoiceDate": "2011-11-30T14:40:00",
          "InvoiceNo": 579747,
          "Quantity": 3,
          "StockCode": "POST",
          "UnitPrice": 18
         },
         {
          "Country": "Germany",
          "CustomerID": 12524,
          "Description": "POSTAGE",
          "InvoiceDate": "2011-11-30T15:31:00",
          "InvoiceNo": 579786,
          "Quantity": 2,
          "StockCode": "POST",
          "UnitPrice": 18
         },
         {
          "Country": "Portugal",
          "CustomerID": 12784,
          "Description": "POSTAGE",
          "InvoiceDate": "2011-11-30T15:38:00",
          "InvoiceNo": 579790,
          "Quantity": 2,
          "StockCode": "POST",
          "UnitPrice": 28
         },
         {
          "Country": "France",
          "CustomerID": 12714,
          "Description": "POSTAGE",
          "InvoiceDate": "2011-11-30T15:43:00",
          "InvoiceNo": 579792,
          "Quantity": 5,
          "StockCode": "POST",
          "UnitPrice": 18
         },
         {
          "Country": "France",
          "CustomerID": 12437,
          "Description": "POSTAGE",
          "InvoiceDate": "2011-11-30T16:47:00",
          "InvoiceNo": 579870,
          "Quantity": 2,
          "StockCode": "POST",
          "UnitPrice": 18
         },
         {
          "Country": "Germany",
          "CustomerID": 12569,
          "Description": "POSTAGE",
          "InvoiceDate": "2011-12-01T08:35:00",
          "InvoiceNo": 579901,
          "Quantity": 3,
          "StockCode": "POST",
          "UnitPrice": 18
         },
         {
          "Country": "Germany",
          "CustomerID": 12572,
          "Description": "POSTAGE",
          "InvoiceDate": "2011-12-01T09:20:00",
          "InvoiceNo": 579927,
          "Quantity": 3,
          "StockCode": "POST",
          "UnitPrice": 18
         },
         {
          "Country": "United Kingdom",
          "CustomerID": 14178,
          "Description": "Manual",
          "InvoiceDate": "2011-12-01T12:01:00",
          "InvoiceNo": 580027,
          "Quantity": 1,
          "StockCode": "M",
          "UnitPrice": 10
         },
         {
          "Country": "United Kingdom",
          "CustomerID": 18122,
          "Description": "Manual",
          "InvoiceDate": "2011-12-01T13:08:00",
          "InvoiceNo": 580054,
          "Quantity": 8,
          "StockCode": "M",
          "UnitPrice": 0.08
         },
         {
          "Country": "France",
          "CustomerID": 12553,
          "Description": "POSTAGE",
          "InvoiceDate": "2011-12-01T16:38:00",
          "InvoiceNo": 580120,
          "Quantity": 1,
          "StockCode": "POST",
          "UnitPrice": 18
         },
         {
          "Country": "Finland",
          "CustomerID": 12664,
          "Description": "POSTAGE",
          "InvoiceDate": "2011-12-01T17:07:00",
          "InvoiceNo": 580123,
          "Quantity": 2,
          "StockCode": "POST",
          "UnitPrice": 40
         },
         {
          "Country": "France",
          "CustomerID": 12562,
          "Description": "POSTAGE",
          "InvoiceDate": "2011-12-01T17:20:00",
          "InvoiceNo": 580126,
          "Quantity": 3,
          "StockCode": "POST",
          "UnitPrice": 18
         },
         {
          "Country": "France",
          "CustomerID": 12684,
          "Description": "POSTAGE",
          "InvoiceDate": "2011-12-02T09:53:00",
          "InvoiceNo": 580144,
          "Quantity": 1,
          "StockCode": "POST",
          "UnitPrice": 18
         },
         {
          "Country": "Belgium",
          "CustomerID": 12364,
          "Description": "POSTAGE",
          "InvoiceDate": "2011-12-02T10:22:00",
          "InvoiceNo": 580152,
          "Quantity": 1,
          "StockCode": "POST",
          "UnitPrice": 15
         },
         {
          "Country": "Portugal",
          "CustomerID": 12762,
          "Description": "POSTAGE",
          "InvoiceDate": "2011-12-02T10:23:00",
          "InvoiceNo": 580153,
          "Quantity": 5,
          "StockCode": "POST",
          "UnitPrice": 28
         },
         {
          "Country": "Germany",
          "CustomerID": 12569,
          "Description": "POSTAGE",
          "InvoiceDate": "2011-12-02T10:24:00",
          "InvoiceNo": 580154,
          "Quantity": 1,
          "StockCode": "POST",
          "UnitPrice": 18
         },
         {
          "Country": "France",
          "CustomerID": 12700,
          "Description": "POSTAGE",
          "InvoiceDate": "2011-12-02T10:47:00",
          "InvoiceNo": 580160,
          "Quantity": 7,
          "StockCode": "POST",
          "UnitPrice": 18
         },
         {
          "Country": "Finland",
          "CustomerID": 12587,
          "Description": "POSTAGE",
          "InvoiceDate": "2011-12-02T12:47:00",
          "InvoiceNo": 580265,
          "Quantity": 1,
          "StockCode": "POST",
          "UnitPrice": 40
         },
         {
          "Country": "Finland",
          "CustomerID": 12704,
          "Description": "POSTAGE",
          "InvoiceDate": "2011-12-02T13:15:00",
          "InvoiceNo": 580281,
          "Quantity": 1,
          "StockCode": "POST",
          "UnitPrice": 40
         },
         {
          "Country": "France",
          "CustomerID": 12719,
          "Description": "POSTAGE",
          "InvoiceDate": "2011-12-04T13:45:00",
          "InvoiceNo": 580509,
          "Quantity": 2,
          "StockCode": "POST",
          "UnitPrice": 18
         },
         {
          "Country": "Germany",
          "CustomerID": 12560,
          "Description": "POSTAGE",
          "InvoiceDate": "2011-12-04T13:54:00",
          "InvoiceNo": 580511,
          "Quantity": 4,
          "StockCode": "POST",
          "UnitPrice": 18
         },
         {
          "Country": "Germany",
          "CustomerID": 12673,
          "Description": "POSTAGE",
          "InvoiceDate": "2011-12-04T13:55:00",
          "InvoiceNo": 580512,
          "Quantity": 2,
          "StockCode": "POST",
          "UnitPrice": 18
         },
         {
          "Country": "Germany",
          "CustomerID": 12569,
          "Description": "POSTAGE",
          "InvoiceDate": "2011-12-04T15:47:00",
          "InvoiceNo": 580531,
          "Quantity": 1,
          "StockCode": "POST",
          "UnitPrice": 18
         },
         {
          "Country": "France",
          "CustomerID": 12724,
          "Description": "POSTAGE",
          "InvoiceDate": "2011-12-04T16:02:00",
          "InvoiceNo": 580534,
          "Quantity": 1,
          "StockCode": "POST",
          "UnitPrice": 18
         },
         {
          "Country": "France",
          "CustomerID": 12490,
          "Description": "POSTAGE",
          "InvoiceDate": "2011-12-04T16:07:00",
          "InvoiceNo": 580536,
          "Quantity": 3,
          "StockCode": "POST",
          "UnitPrice": 18
         },
         {
          "Country": "Portugal",
          "CustomerID": 12782,
          "Description": "POSTAGE",
          "InvoiceDate": "2011-12-05T09:16:00",
          "InvoiceNo": 580545,
          "Quantity": 1,
          "StockCode": "POST",
          "UnitPrice": 28
         },
         {
          "Country": "Germany",
          "CustomerID": 12569,
          "Description": "POSTAGE",
          "InvoiceDate": "2011-12-05T09:41:00",
          "InvoiceNo": 580548,
          "Quantity": 1,
          "StockCode": "POST",
          "UnitPrice": 18
         },
         {
          "Country": "United Kingdom",
          "CustomerID": 12748,
          "Description": "Manual",
          "InvoiceDate": "2011-12-05T11:49:00",
          "InvoiceNo": 580611,
          "Quantity": 1,
          "StockCode": "M",
          "UnitPrice": 0.85
         },
         {
          "Country": "Norway",
          "CustomerID": 12381,
          "Description": "POSTAGE",
          "InvoiceDate": "2011-12-05T12:44:00",
          "InvoiceNo": 580638,
          "Quantity": 1,
          "StockCode": "POST",
          "UnitPrice": 40
         },
         {
          "Country": "United Kingdom",
          "CustomerID": 17857,
          "Description": "Manual",
          "InvoiceDate": "2011-12-05T13:11:00",
          "InvoiceNo": 580645,
          "Quantity": 1,
          "StockCode": "M",
          "UnitPrice": 219.5
         },
         {
          "Country": "United Kingdom",
          "CustomerID": 17857,
          "Description": "Manual",
          "InvoiceDate": "2011-12-05T13:13:00",
          "InvoiceNo": 580646,
          "Quantity": 800,
          "StockCode": "M",
          "UnitPrice": 0.25
         },
         {
          "Country": "Germany",
          "CustomerID": 12628,
          "Description": "POSTAGE",
          "InvoiceDate": "2011-12-05T13:15:00",
          "InvoiceNo": 580648,
          "Quantity": 1,
          "StockCode": "POST",
          "UnitPrice": 18
         },
         {
          "Country": "France",
          "CustomerID": 12683,
          "Description": "POSTAGE",
          "InvoiceDate": "2011-12-05T16:28:00",
          "InvoiceNo": 580705,
          "Quantity": 5,
          "StockCode": "POST",
          "UnitPrice": 1
         },
         {
          "Country": "France",
          "CustomerID": 12683,
          "Description": "POSTAGE",
          "InvoiceDate": "2011-12-05T16:31:00",
          "InvoiceNo": 580706,
          "Quantity": 5,
          "StockCode": "POST",
          "UnitPrice": 17
         },
         {
          "Country": "Denmark",
          "CustomerID": 12367,
          "Description": "POSTAGE",
          "InvoiceDate": "2011-12-05T16:48:00",
          "InvoiceNo": 580716,
          "Quantity": 1,
          "StockCode": "POST",
          "UnitPrice": 18
         },
         {
          "Country": "United Kingdom",
          "CustomerID": 14096,
          "Description": "DOTCOM POSTAGE",
          "InvoiceDate": "2011-12-05T17:17:00",
          "InvoiceNo": 580727,
          "Quantity": 1,
          "StockCode": "DOT",
          "UnitPrice": 1599.26
         },
         {
          "Country": "Portugal",
          "CustomerID": 12766,
          "Description": "POSTAGE",
          "InvoiceDate": "2011-12-06T08:46:00",
          "InvoiceNo": 580734,
          "Quantity": 4,
          "StockCode": "POST",
          "UnitPrice": 28
         },
         {
          "Country": "France",
          "CustomerID": 12716,
          "Description": "POSTAGE",
          "InvoiceDate": "2011-12-06T08:55:00",
          "InvoiceNo": 580736,
          "Quantity": 2,
          "StockCode": "POST",
          "UnitPrice": 18
         },
         {
          "Country": "Greece",
          "CustomerID": 12478,
          "Description": "POSTAGE",
          "InvoiceDate": "2011-12-06T09:56:00",
          "InvoiceNo": 580752,
          "Quantity": 3,
          "StockCode": "POST",
          "UnitPrice": 45
         },
         {
          "Country": "France",
          "CustomerID": 12682,
          "Description": "POSTAGE",
          "InvoiceDate": "2011-12-06T10:00:00",
          "InvoiceNo": 580753,
          "Quantity": 3,
          "StockCode": "POST",
          "UnitPrice": 18
         },
         {
          "Country": "France",
          "CustomerID": 12723,
          "Description": "POSTAGE",
          "InvoiceDate": "2011-12-06T10:19:00",
          "InvoiceNo": 580756,
          "Quantity": 1,
          "StockCode": "POST",
          "UnitPrice": 18
         },
         {
          "Country": "United Kingdom",
          "CustomerID": 15907,
          "Description": "Manual",
          "InvoiceDate": "2011-12-06T12:21:00",
          "InvoiceNo": 580884,
          "Quantity": 1,
          "StockCode": "M",
          "UnitPrice": 0.85
         },
         {
          "Country": "Spain",
          "CustomerID": 12442,
          "Description": "POSTAGE",
          "InvoiceDate": "2011-12-06T14:22:00",
          "InvoiceNo": 580955,
          "Quantity": 1,
          "StockCode": "POST",
          "UnitPrice": 28
         },
         {
          "Country": "United Kingdom",
          "CustomerID": 17841,
          "Description": "Manual",
          "InvoiceDate": "2011-12-06T14:23:00",
          "InvoiceNo": 580956,
          "Quantity": 4,
          "StockCode": "M",
          "UnitPrice": 1.25
         },
         {
          "Country": "Belgium",
          "CustomerID": 12417,
          "Description": "POSTAGE",
          "InvoiceDate": "2011-12-06T14:52:00",
          "InvoiceNo": 580965,
          "Quantity": 3,
          "StockCode": "POST",
          "UnitPrice": 15
         },
         {
          "Country": "Belgium",
          "CustomerID": 12362,
          "Description": "POSTAGE",
          "InvoiceDate": "2011-12-06T15:40:00",
          "InvoiceNo": 580979,
          "Quantity": 3,
          "StockCode": "POST",
          "UnitPrice": 18
         },
         {
          "Country": "France",
          "CustomerID": 12650,
          "Description": "POSTAGE",
          "InvoiceDate": "2011-12-06T16:34:00",
          "InvoiceNo": 580986,
          "Quantity": 4,
          "StockCode": "POST",
          "UnitPrice": 18
         },
         {
          "Country": "Germany",
          "CustomerID": 12720,
          "Description": "POSTAGE",
          "InvoiceDate": "2011-12-07T08:03:00",
          "InvoiceNo": 581000,
          "Quantity": 5,
          "StockCode": "POST",
          "UnitPrice": 18
         },
         {
          "Country": "France",
          "CustomerID": 12583,
          "Description": "POSTAGE",
          "InvoiceDate": "2011-12-07T08:07:00",
          "InvoiceNo": 581001,
          "Quantity": 3,
          "StockCode": "POST",
          "UnitPrice": 18
         },
         {
          "Country": "France",
          "CustomerID": 12615,
          "Description": "POSTAGE",
          "InvoiceDate": "2011-12-07T15:02:00",
          "InvoiceNo": 581171,
          "Quantity": 2,
          "StockCode": "POST",
          "UnitPrice": 18
         },
         {
          "Country": "Germany",
          "CustomerID": 12471,
          "Description": "POSTAGE",
          "InvoiceDate": "2011-12-07T15:43:00",
          "InvoiceNo": 581179,
          "Quantity": 1,
          "StockCode": "POST",
          "UnitPrice": 240
         },
         {
          "Country": "Portugal",
          "CustomerID": 12783,
          "Description": "POSTAGE",
          "InvoiceDate": "2011-12-07T15:56:00",
          "InvoiceNo": 581182,
          "Quantity": 4,
          "StockCode": "POST",
          "UnitPrice": 28
         },
         {
          "Country": "Germany",
          "CustomerID": 12569,
          "Description": "POSTAGE",
          "InvoiceDate": "2011-12-07T16:24:00",
          "InvoiceNo": 581183,
          "Quantity": 4,
          "StockCode": "POST",
          "UnitPrice": 18
         },
         {
          "Country": "Germany",
          "CustomerID": 12569,
          "Description": "POSTAGE",
          "InvoiceDate": "2011-12-07T16:24:00",
          "InvoiceNo": 581184,
          "Quantity": 2,
          "StockCode": "POST",
          "UnitPrice": 18
         },
         {
          "Country": "Austria",
          "CustomerID": 12358,
          "Description": "POSTAGE",
          "InvoiceDate": "2011-12-08T10:26:00",
          "InvoiceNo": 581232,
          "Quantity": 4,
          "StockCode": "POST",
          "UnitPrice": 40
         },
         {
          "Country": "Germany",
          "CustomerID": 12621,
          "Description": "POSTAGE",
          "InvoiceDate": "2011-12-08T11:25:00",
          "InvoiceNo": 581266,
          "Quantity": 5,
          "StockCode": "POST",
          "UnitPrice": 18
         },
         {
          "Country": "France",
          "CustomerID": 12437,
          "Description": "POSTAGE",
          "InvoiceDate": "2011-12-08T11:35:00",
          "InvoiceNo": 581279,
          "Quantity": 3,
          "StockCode": "POST",
          "UnitPrice": 18
         },
         {
          "Country": "United Kingdom",
          "CustomerID": 13521,
          "Description": "Manual",
          "InvoiceDate": "2011-12-08T13:50:00",
          "InvoiceNo": 581405,
          "Quantity": 3,
          "StockCode": "M",
          "UnitPrice": 0.42
         },
         {
          "Country": "Belgium",
          "CustomerID": 12423,
          "Description": "POSTAGE",
          "InvoiceDate": "2011-12-09T10:10:00",
          "InvoiceNo": 581493,
          "Quantity": 1,
          "StockCode": "POST",
          "UnitPrice": 15
         },
         {
          "Country": "Germany",
          "CustomerID": 12518,
          "Description": "POSTAGE",
          "InvoiceDate": "2011-12-09T10:13:00",
          "InvoiceNo": 581494,
          "Quantity": 2,
          "StockCode": "POST",
          "UnitPrice": 18
         },
         {
          "Country": "Germany",
          "CustomerID": 12662,
          "Description": "POSTAGE",
          "InvoiceDate": "2011-12-09T11:59:00",
          "InvoiceNo": 581570,
          "Quantity": 1,
          "StockCode": "POST",
          "UnitPrice": 18
         },
         {
          "Country": "Germany",
          "CustomerID": 12526,
          "Description": "POSTAGE",
          "InvoiceDate": "2011-12-09T12:09:00",
          "InvoiceNo": 581574,
          "Quantity": 2,
          "StockCode": "POST",
          "UnitPrice": 18
         },
         {
          "Country": "Germany",
          "CustomerID": 12713,
          "Description": "POSTAGE",
          "InvoiceDate": "2011-12-09T12:16:00",
          "InvoiceNo": 581578,
          "Quantity": 3,
          "StockCode": "POST",
          "UnitPrice": 18
         }
        ]
       },
       "encoding": {
        "color": {
         "field": "StockCode",
         "type": "nominal"
        },
        "x": {
         "field": "InvoiceDate",
         "type": "temporal"
        },
        "y": {
         "field": "UnitPrice",
         "type": "quantitative"
        }
       },
       "height": 500,
       "mark": "line",
       "title": "How price of the most expensive items is changing over time",
       "width": 500
      },
      "image/png": "[encoded data removed]",
      "text/plain": [
       "<VegaLite 3 object>\n",
       "\n",
       "If you see this message, it means the renderer has not been properly enabled\n",
       "for the frontend that you are using. For more information, see\n",
       "https://altair-viz.github.io/user_guide/troubleshooting.html\n"
      ]
     },
     "execution_count": 257,
     "metadata": {},
     "output_type": "execute_result"
    }
   ],
   "source": [
    "chart1"
   ]
  },
  {
   "cell_type": "code",
   "execution_count": null,
   "metadata": {},
   "outputs": [],
   "source": []
  }
 ],
 "metadata": {
  "kernelspec": {
   "display_name": "Python 3",
   "language": "python",
   "name": "python3"
  },
  "language_info": {
   "codemirror_mode": {
    "name": "ipython",
    "version": 3
   },
   "file_extension": ".py",
   "mimetype": "text/x-python",
   "name": "python",
   "nbconvert_exporter": "python",
   "pygments_lexer": "ipython3",
   "version": "3.7.6"
  }
 },
 "nbformat": 4,
 "nbformat_minor": 4
}
